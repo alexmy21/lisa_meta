{
 "cells": [
  {
   "cell_type": "code",
   "execution_count": 1,
   "metadata": {},
   "outputs": [],
   "source": [
    "include(\"src/lisa_store.jl\")\n",
    "using ..Graph\n",
    "using SQLite\n",
    "using DBInterface\n",
    "using MurmurHash3\n",
    "using TextAnalysis\n",
    "using JSON3\n",
    "using PooledArrays\n",
    "using UUIDs\n",
    "using EasyConfig\n",
    "using HDF5\n"
   ]
  },
  {
   "cell_type": "markdown",
   "metadata": {},
   "source": [
    "# Domains and co-domains\n",
    "\n",
    "Here we'll try to reduce ambiguity of tracing tokens from the HllSet presentation.  \n",
    "\n",
    "The consistency of conversion of datasets to HllSets depends on two factors:\n",
    "\n",
    " 1. The $p$ parameter that defines the precision of the conversion through the number of bins;\n",
    " 2. The type of a hash function that we are using.\n",
    "\n",
    "Specifically, the output from hash function depends on the seed values used in initiating of the hash function. Applying different seed values we can control the generated hashes.\n",
    "\n",
    "Here is an idea of the algorithm:\n",
    "\n",
    " 1. We are performing the dataset processing as usual, utilizing standard hash function:\n",
    "\n",
    "$$F_{(std)}: X_{(std)} \\to Y_{(std)}$$\n",
    "\n",
    " 2. Then we are tracing original tokens by applying back processing:\n",
    "\n",
    "$$G_{(std)}: Y_{(std)} \\to X_{(std)}$$\n",
    "\n",
    " 3. Now we can perform the same dataset processing using the same hash function but with different seed values:\n",
    "\n",
    "$$F_{(seed)}: X_{(seed)} \\to Y_{(seed)}$$\n",
    "\n",
    " 4. And we will trace back the results from modified hash function:\n",
    "\n",
    "$$G_{(seed)}: Y_{(seed)} \\to X_{(seed)}$$\n",
    "\n",
    "It is possible, that\n",
    "\n",
    " $$X_{(seed)} \\not= X_{(std)}$$\n",
    "\n",
    "But it is also obvious, that tokens from the original dataset should be in both results.\n",
    "\n",
    "## Standard processing\n"
   ]
  },
  {
   "cell_type": "code",
   "execution_count": 2,
   "metadata": {},
   "outputs": [
    {
     "data": {
      "text/plain": [
       "SQLite.DB(\"lisa_analytics.db\")"
      ]
     },
     "execution_count": 2,
     "metadata": {},
     "output_type": "execute_result"
    }
   ],
   "source": [
    "db = Graph.DB(\"lisa_analytics.db\")\n",
    "db.sqlitedb"
   ]
  },
  {
   "cell_type": "code",
   "execution_count": 3,
   "metadata": {},
   "outputs": [],
   "source": [
    "Store.book_file(db, \"/home/alexmy/JULIA/DEMO/sample/\")"
   ]
  },
  {
   "cell_type": "code",
   "execution_count": 4,
   "metadata": {},
   "outputs": [
    {
     "name": "stdout",
     "output_type": "stream",
     "text": [
      "Processed column: 8\n",
      "Processed column: 15\n"
     ]
    }
   ],
   "source": [
    "uuid = string(uuid4())\n",
    "df = Graph.set_lock!(db, \n",
    "    \"/home/alexmy/JULIA/DEMO/sample\", \n",
    "    \"csv\", \n",
    "    \"book_file\", \n",
    "    \"ingest_csv\", \n",
    "    \"waiting\", \n",
    "    \"waiting\", \n",
    "    uuid; result=true)\n",
    "\n",
    "for row in eachrow(df)\n",
    "    assign = Graph.Assignment(row) \n",
    "    col_uuid = string(uuid4())\n",
    "    Store.ingest_csv_by_column(db, assign, col_uuid; limit=10000, offset=10)\n",
    "end"
   ]
  },
  {
   "cell_type": "code",
   "execution_count": 5,
   "metadata": {},
   "outputs": [
    {
     "data": {
      "text/plain": [
       "Node(3f9526f8d331b9519b8632a11b2d344ab7c647b6; [\"csv_column\"]; props: column_name=\"Vehicle type\", file_sha1=\"0b90b1fee69c77ffa3efe57db7788112ef96dba6\", column_type=\"String\")"
      ]
     },
     "execution_count": 5,
     "metadata": {},
     "output_type": "execute_result"
    }
   ],
   "source": [
    "ds_id = \"3f9526f8d331b9519b8632a11b2d344ab7c647b6\"\n",
    "node = Graph.getnode(db, ds_id, :; table_name=\"t_nodes\")"
   ]
  },
  {
   "cell_type": "code",
   "execution_count": 6,
   "metadata": {},
   "outputs": [
    {
     "name": "stdout",
     "output_type": "stream",
     "text": [
      "Set([\"Taxi\", \"mgw\", \"Taxi/Private\", \"Moped\", \"String\", \"M/cycle\", \"vehicle\", \"and\", \"seats\", \"over\", \"coach\", \"more\", \"Motor\", \"pass\", \"Minibus\", \"horse\", \"motor\", \"under\", \"hire\", \"cycle\", \"Motorcycle\", \"Private\", \"Vehicle\", \"Other\", \"Goods\", \"tonnes\", \"Bus\", \"gross\", \"Van\", \"Ridden\", \"Car\", \"weight\", \"car\", \"passenger\", \"from\", \"type\", \"maximum\", \"Pedal\"])\n"
     ]
    }
   ],
   "source": [
    "result = Graph.gettokens(db, \"3f9526f8d331b9519b8632a11b2d344ab7c647b6\", :)\n",
    "tokens = Store.collect_tokens(db, result)\n",
    "println(tokens)"
   ]
  },
  {
   "cell_type": "markdown",
   "metadata": {},
   "source": [
    "## Processing with seeded hash\n",
    "\n",
    "We'll go through the same steps with the same params except the database.\n",
    " - the db name would be \"db_seed.db\"\n",
    "  "
   ]
  },
  {
   "cell_type": "code",
   "execution_count": 7,
   "metadata": {},
   "outputs": [
    {
     "data": {
      "text/plain": [
       "Graph.DB(\"db_seed.db\") (34 assignments, 0 commits, 174 tokens, 0 nodes, 0 edges25 t_nodes, 23 t_edges)"
      ]
     },
     "execution_count": 7,
     "metadata": {},
     "output_type": "execute_result"
    }
   ],
   "source": [
    "db_seed = Graph.DB(\"db_seed.db\")"
   ]
  },
  {
   "cell_type": "code",
   "execution_count": 8,
   "metadata": {},
   "outputs": [],
   "source": [
    "Store.book_file(db_seed, \"/home/alexmy/JULIA/DEMO/sample/\"; seed=42, P=10)"
   ]
  },
  {
   "cell_type": "code",
   "execution_count": 9,
   "metadata": {},
   "outputs": [
    {
     "name": "stdout",
     "output_type": "stream",
     "text": [
      "Processed column: 8\n",
      "Processed column: 15\n"
     ]
    }
   ],
   "source": [
    "uuid = string(uuid4())\n",
    "df = Graph.set_lock!(db_seed, \n",
    "    \"/home/alexmy/JULIA/DEMO/sample\", \n",
    "    \"csv\", \n",
    "    \"book_file\", \n",
    "    \"ingest_csv\", \n",
    "    \"waiting\", \n",
    "    \"waiting\", \n",
    "    uuid; result=true)\n",
    "\n",
    "for row in eachrow(df)\n",
    "    assign = Graph.Assignment(row) \n",
    "    col_uuid = string(uuid4())\n",
    "    # Important, do not forget to set HllSet precission parameter p to 8\n",
    "    Store.ingest_csv_by_column(db_seed, assign, col_uuid; limit=10000, offset=10, p=10, seed=42)\n",
    "end"
   ]
  },
  {
   "cell_type": "markdown",
   "metadata": {},
   "source": [
    "### We are getting the dataset directly from **nodes** table of the \"db_seed.db\" database.\n",
    "\n",
    "We are utilizing the fact that SHA1 node ID is not affected by changing the hash function for the tokens encoding."
   ]
  },
  {
   "cell_type": "code",
   "execution_count": 10,
   "metadata": {},
   "outputs": [
    {
     "data": {
      "text/plain": [
       "Node(3f9526f8d331b9519b8632a11b2d344ab7c647b6; [\"csv_column\"]; props: column_name=\"Vehicle type\", file_sha1=\"0b90b1fee69c77ffa3efe57db7788112ef96dba6\", column_type=\"String\")"
      ]
     },
     "execution_count": 10,
     "metadata": {},
     "output_type": "execute_result"
    }
   ],
   "source": [
    "ds_id = \"3f9526f8d331b9519b8632a11b2d344ab7c647b6\"\n",
    "node_seed = Graph.getnode(db_seed, ds_id, :; table_name=\"t_nodes\")"
   ]
  },
  {
   "cell_type": "code",
   "execution_count": 11,
   "metadata": {},
   "outputs": [
    {
     "name": "stdout",
     "output_type": "stream",
     "text": [
      "Set([\"Taxi\", \"mgw\", \"Taxi/Private\", \"Moped\", \"String\", \"M/cycle\", \"vehicle\", \"and\", \"seats\", \"over\", \"coach\", \"more\", \"Motor\", \"pass\", \"Minibus\", \"horse\", \"motor\", \"under\", \"hire\", \"cycle\", \"Motorcycle\", \"Private\", \"Vehicle\", \"Other\", \"Goods\", \"tonnes\", \"Bus\", \"gross\", \"Van\", \"Ridden\", \"Car\", \"weight\", \"car\", \"passenger\", \"from\", \"type\", \"maximum\", \"Pedal\"])\n"
     ]
    }
   ],
   "source": [
    "result = Graph.gettokens(db, \"3f9526f8d331b9519b8632a11b2d344ab7c647b6\", :)\n",
    "tokens_seed = Store.collect_tokens(db_seed, result)\n",
    "println(tokens_seed)"
   ]
  },
  {
   "cell_type": "code",
   "execution_count": 12,
   "metadata": {},
   "outputs": [
    {
     "data": {
      "text/plain": [
       "Set{String} with 38 elements:\n",
       "  \"maximum\"\n",
       "  \"Pedal\"\n",
       "  \"Taxi/Private\"\n",
       "  \"Moped\"\n",
       "  \"String\"\n",
       "  \"M/cycle\"\n",
       "  \"over\"\n",
       "  \"and\"\n",
       "  \"seats\"\n",
       "  \"vehicle\"\n",
       "  \"coach\"\n",
       "  \"more\"\n",
       "  \"Motor\"\n",
       "  \"pass\"\n",
       "  \"Minibus\"\n",
       "  \"horse\"\n",
       "  \"motor\"\n",
       "  \"under\"\n",
       "  \"hire\"\n",
       "  \"cycle\"\n",
       "  \"Motorcycle\"\n",
       "  \"Private\"\n",
       "  \"Vehicle\"\n",
       "  \"Other\"\n",
       "  \"Goods\"\n",
       "  ⋮ "
      ]
     },
     "execution_count": 12,
     "metadata": {},
     "output_type": "execute_result"
    }
   ],
   "source": [
    "intersection = intersect(tokens, tokens_seed)"
   ]
  },
  {
   "cell_type": "code",
   "execution_count": 13,
   "metadata": {},
   "outputs": [
    {
     "name": "stdout",
     "output_type": "stream",
     "text": [
      "tokens size: 38;\n",
      "tokens_seed size: 38;\n",
      "intersection size: 38\n"
     ]
    }
   ],
   "source": [
    "println(\"tokens size: \", length(tokens), \n",
    "    \";\\ntokens_seed size: \", length(tokens_seed), \n",
    "    \";\\nintersection size: \", length(intersection))"
   ]
  },
  {
   "cell_type": "markdown",
   "metadata": {},
   "source": [
    "### Lets check how use of a seeded hash affected HllSets"
   ]
  },
  {
   "cell_type": "code",
   "execution_count": 14,
   "metadata": {},
   "outputs": [
    {
     "name": "stdout",
     "output_type": "stream",
     "text": [
      "dataset_std size: 1024;\n",
      "dataset_seed size: 1024\n",
      "hll_std size: 36;\n",
      "hll_seed size: 36\n",
      "hll_intersection size: 1\n"
     ]
    }
   ],
   "source": [
    "hll_std = SetCore.HllSet{10}()\n",
    "hll_seed = SetCore.HllSet{10}()\n",
    "\n",
    "dataset_std = node.dataset\n",
    "dataset_seed = node_seed.dataset\n",
    "\n",
    "println(\"dataset_std size: \", length(dataset_std), \n",
    "    \";\\ndataset_seed size: \", length(dataset_seed))\n",
    "\n",
    "# Restore collect_hll_sets\n",
    "hll_std = SetCore.restore(hll_std, Vector{UInt64}(dataset_std))\n",
    "hll_seed = SetCore.restore(hll_seed, Vector{UInt64}(dataset_seed))\n",
    "\n",
    "println(\"hll_std size: \", SetCore.count(hll_std), \n",
    "    \";\\nhll_seed size: \", SetCore.count(hll_seed))\n",
    "\n",
    "hll_intersection = intersect(hll_std, hll_seed)\n",
    "# SetCore.count(hll_intersection)\n",
    "\n",
    "println(\"hll_intersection size: \", SetCore.count(hll_intersection))"
   ]
  },
  {
   "cell_type": "markdown",
   "metadata": {},
   "source": [
    "### So, we are lucky , we got not empty intersection from two HllSets built using different hash functions. (Or may be not, because $1$ is small and could be within the range of an estimation error)\n",
    "\n",
    "We also can see that the cardinality estimations in our case are not bad. The difference in both case is equal $2$, or about $2.63$%."
   ]
  },
  {
   "cell_type": "markdown",
   "metadata": {},
   "source": [
    "# Applying HllSets for Tabular data structures"
   ]
  },
  {
   "cell_type": "code",
   "execution_count": 15,
   "metadata": {},
   "outputs": [
    {
     "name": "stderr",
     "output_type": "stream",
     "text": [
      "WARNING: replacing module SetCore.\n",
      "WARNING: replacing module Graph.\n",
      "WARNING: replacing module Store.\n"
     ]
    }
   ],
   "source": [
    "include(\"src/lisa_store.jl\")\n",
    "\n",
    "using SQLite\n",
    "using DBInterface\n",
    "using MurmurHash3\n",
    "using TextAnalysis\n",
    "using JSON3\n",
    "using PooledArrays\n",
    "using UUIDs\n",
    "using EasyConfig\n",
    "using SparseArrays"
   ]
  },
  {
   "cell_type": "code",
   "execution_count": 16,
   "metadata": {},
   "outputs": [
    {
     "data": {
      "text/plain": [
       "Graph.DB(\"lisa_analytics.db\") (34 assignments, 0 commits, 174 tokens, 0 nodes, 0 edges125 t_nodes, 123 t_edges)"
      ]
     },
     "execution_count": 16,
     "metadata": {},
     "output_type": "execute_result"
    }
   ],
   "source": [
    "db = Graph.DB(\"lisa_analytics.db\")"
   ]
  },
  {
   "cell_type": "code",
   "execution_count": 17,
   "metadata": {},
   "outputs": [],
   "source": [
    "Store.book_file(db, \"/home/alexmy/JULIA/DEMO/sample/\"; column=false)"
   ]
  },
  {
   "cell_type": "code",
   "execution_count": 18,
   "metadata": {},
   "outputs": [],
   "source": [
    "uuid = string(uuid4())\n",
    "df = Graph.set_lock!(db, \n",
    "    \"/home/alexmy/JULIA/DEMO/sample\", \n",
    "    \"csv\", \n",
    "    \"book_file\", \n",
    "    \"ingest_csv\", \n",
    "    \"waiting\", \n",
    "    \"waiting\", \n",
    "    uuid; result=true)\n",
    "\n",
    "for row in eachrow(df)\n",
    "    assign = Graph.Assignment(row) \n",
    "    col_uuid = string(uuid4())    \n",
    "    Store.ingest_csv_by_row(db, assign; limit=50, offset=10)\n",
    "end"
   ]
  },
  {
   "cell_type": "code",
   "execution_count": 19,
   "metadata": {},
   "outputs": [
    {
     "name": "stdout",
     "output_type": "stream",
     "text": [
      "[2.0, 2.0, 2.0, 1.0, 2.0, 4.0, 3.0, 3.0]\n",
      "[2.0, 2.0, 1.0, 1.0, 2.0, 4.0, 5.0, 4.0]\n",
      "[2.0, 3.0, 2.0, 1.0, 1.0, 4.0, 4.0, 4.0]\n",
      "[2.0, 2.0, 2.0, 1.0, 1.0, 4.0, 4.0, 3.0]\n",
      "[2.0, 2.0, 2.0, 1.0, 2.0, 4.0, 3.0, 3.0]\n",
      "[2.0, 3.0, 2.0, 1.0, 1.0, 4.0, 3.0, 3.0]\n",
      "[2.0, 2.0, 2.0, 1.0, 2.0, 4.0, 3.0, 3.0]\n",
      "[2.0, 3.0, 2.0, 1.0, 2.0, 4.0, 3.0, 3.0]\n",
      "[2.0, 2.0, 1.0, 1.0, 2.0, 4.0, 3.0, 3.0]\n",
      "[2.0, 3.0, 2.0, 1.0, 2.0, 4.0, 4.0, 3.0]\n",
      "[2.0, 3.0, 2.0, 1.0, 2.0, 4.0, 3.0, 4.0]\n",
      "[2.0, 3.0, 2.0, 1.0, 2.0, 4.0, 3.0, 3.0]\n",
      "[2.0, 3.0, 2.0, 1.0, 2.0, 4.0, 3.0, 4.0]\n",
      "[2.0, 3.0, 1.0, 1.0, 2.0, 4.0, 4.0, 3.0]\n",
      "[2.0, 3.0, 1.0, 1.0, 2.0, 4.0, 3.0, 3.0]\n",
      "[2.0, 3.0, 2.0, 1.0, 1.0, 4.0, 4.0, 3.0]\n",
      "[2.0, 3.0, 2.0, 1.0, 2.0, 4.0, 4.0, 3.0]\n",
      "[2.0, 2.0, 1.0, 1.0, 1.0, 4.0, 8.0, 3.0]\n",
      "[2.0, 2.0, 1.0, 1.0, 1.0, 4.0, 3.0, 3.0]\n"
     ]
    }
   ],
   "source": [
    "# Provide csv file sha1 id to extract row and column nodes\n",
    "source_id = \"0b90b1fee69c77ffa3efe57db7788112ef96dba6\"\n",
    "\"\"\"\n",
    "    Here we are going to extract row and column nodes from the csv file.\n",
    "    The resulting matrix will show the cardinality of intersection of row and column nodes.\n",
    "\"\"\"\n",
    "matrix = Store.get_card_matrix(db, source_id)\n",
    "i = 0\n",
    "for row in eachrow(matrix)\n",
    "    i += 1\n",
    "    if i < 20\n",
    "        println(row)\n",
    "    end\n",
    "end"
   ]
  },
  {
   "cell_type": "code",
   "execution_count": 20,
   "metadata": {},
   "outputs": [
    {
     "name": "stdout",
     "output_type": "stream",
     "text": [
      "Main.Graph.Node[Node(966ad5e5d23b8586ac43df4aa4264014ab4d4ce9; [\"132ec1bf601f4f40e08442e1b0dfbf86637718a2_4b925186fe6753be2ed6908976e44e0f7630d40f\"]; props: source=\"132ec1bf601f4f40e08442e1b0dfbf86637718a2\", target=\"4b925186fe6753be2ed6908976e44e0f7630d40f\"), Node(fb67889a1103ac16d991e732d87616e025d655f7; [\"132ec1bf601f4f40e08442e1b0dfbf86637718a2_5c6ad737758c030a92351e80c15650712fa06108\"]; props: source=\"132ec1bf601f4f40e08442e1b0dfbf86637718a2\", target=\"5c6ad737758c030a92351e80c15650712fa06108\"), Node(1a0994d3adeb82d9bdf8aaf490e77d46507e381c; [\"132ec1bf601f4f40e08442e1b0dfbf86637718a2_1d29c5326d2292d8717e189a12ca4bd4cbac8b76\"]; props: source=\"132ec1bf601f4f40e08442e1b0dfbf86637718a2\", target=\"1d29c5326d2292d8717e189a12ca4bd4cbac8b76\"), Node(4a9b66603d1b6446899a1e7fcbbd2bd8378d4e61; [\"132ec1bf601f4f40e08442e1b0dfbf86637718a2_d87927e475744f6280feca8fd040dd42d07dba4a\"]; props: source=\"132ec1bf601f4f40e08442e1b0dfbf86637718a2\", target=\"d87927e475744f6280feca8fd040dd42d07dba4a\"), Node(fcedfac0c38fa4cdd5793d78354e4586207d0538; [\"132ec1bf601f4f40e08442e1b0dfbf86637718a2_4ea0d4a979741fbb57dd4cc9a2c05913a6ee875d\"]; props: source=\"132ec1bf601f4f40e08442e1b0dfbf86637718a2\", target=\"4ea0d4a979741fbb57dd4cc9a2c05913a6ee875d\"), Node(4604369b5140f9b8b90972945596312c45c72d28; [\"132ec1bf601f4f40e08442e1b0dfbf86637718a2_de6012ead358304ae31a499f29d380878219a256\"]; props: source=\"132ec1bf601f4f40e08442e1b0dfbf86637718a2\", target=\"de6012ead358304ae31a499f29d380878219a256\"), Node(260cd0e40a2eb0a69c191ff18df94d88651da104; [\"132ec1bf601f4f40e08442e1b0dfbf86637718a2_3f9526f8d331b9519b8632a11b2d344ab7c647b6\"]; props: source=\"132ec1bf601f4f40e08442e1b0dfbf86637718a2\", target=\"3f9526f8d331b9519b8632a11b2d344ab7c647b6\"), Node(865137ba7faa827ea10259af79256b03fa2789dc; [\"132ec1bf601f4f40e08442e1b0dfbf86637718a2_8e5610e809bad1efe796848a86ecb9e28e1709b9\"]; props: source=\"132ec1bf601f4f40e08442e1b0dfbf86637718a2\", target=\"8e5610e809bad1efe796848a86ecb9e28e1709b9\")]\n",
      "Main.Graph.Node[Node(966ad5e5d23b8586ac43df4aa4264014ab4d4ce9; [\"1cb7bbf7a03334519d3bc77f4e10b40dec325e39_4b925186fe6753be2ed6908976e44e0f7630d40f\"]; props: source=\"1cb7bbf7a03334519d3bc77f4e10b40dec325e39\", target=\"4b925186fe6753be2ed6908976e44e0f7630d40f\"), Node(fb67889a1103ac16d991e732d87616e025d655f7; [\"1cb7bbf7a03334519d3bc77f4e10b40dec325e39_5c6ad737758c030a92351e80c15650712fa06108\"]; props: source=\"1cb7bbf7a03334519d3bc77f4e10b40dec325e39\", target=\"5c6ad737758c030a92351e80c15650712fa06108\"), Node(753387a5f2ded6f4fa60c568de1734edb4a2b81b; [\"1cb7bbf7a03334519d3bc77f4e10b40dec325e39_1d29c5326d2292d8717e189a12ca4bd4cbac8b76\"]; props: source=\"1cb7bbf7a03334519d3bc77f4e10b40dec325e39\", target=\"1d29c5326d2292d8717e189a12ca4bd4cbac8b76\"), Node(4a9b66603d1b6446899a1e7fcbbd2bd8378d4e61; [\"1cb7bbf7a03334519d3bc77f4e10b40dec325e39_d87927e475744f6280feca8fd040dd42d07dba4a\"]; props: source=\"1cb7bbf7a03334519d3bc77f4e10b40dec325e39\", target=\"d87927e475744f6280feca8fd040dd42d07dba4a\"), Node(7741cdcf224c74922a6d810680f4b3219db6c638; [\"1cb7bbf7a03334519d3bc77f4e10b40dec325e39_4ea0d4a979741fbb57dd4cc9a2c05913a6ee875d\"]; props: source=\"1cb7bbf7a03334519d3bc77f4e10b40dec325e39\", target=\"4ea0d4a979741fbb57dd4cc9a2c05913a6ee875d\"), Node(4604369b5140f9b8b90972945596312c45c72d28; [\"1cb7bbf7a03334519d3bc77f4e10b40dec325e39_de6012ead358304ae31a499f29d380878219a256\"]; props: source=\"1cb7bbf7a03334519d3bc77f4e10b40dec325e39\", target=\"de6012ead358304ae31a499f29d380878219a256\"), Node(221ce1fea25773467864b7738c9572a7174708ec; [\"1cb7bbf7a03334519d3bc77f4e10b40dec325e39_3f9526f8d331b9519b8632a11b2d344ab7c647b6\"]; props: source=\"1cb7bbf7a03334519d3bc77f4e10b40dec325e39\", target=\"3f9526f8d331b9519b8632a11b2d344ab7c647b6\"), Node(ec1b0cf4a6fd86242b271777c751f720779797ac; [\"1cb7bbf7a03334519d3bc77f4e10b40dec325e39_8e5610e809bad1efe796848a86ecb9e28e1709b9\"]; props: source=\"1cb7bbf7a03334519d3bc77f4e10b40dec325e39\", target=\"8e5610e809bad1efe796848a86ecb9e28e1709b9\")]\n",
      "Main.Graph.Node[Node(966ad5e5d23b8586ac43df4aa4264014ab4d4ce9; [\"4918ae1b910b28c5334256aaebbf87c99ee9f3c3_4b925186fe6753be2ed6908976e44e0f7630d40f\"]; props: source=\"4918ae1b910b28c5334256aaebbf87c99ee9f3c3\", target=\"4b925186fe6753be2ed6908976e44e0f7630d40f\"), Node(41dc63dfcfc68f6a892df74bdf2ff0ee2c555a36; [\"4918ae1b910b28c5334256aaebbf87c99ee9f3c3_5c6ad737758c030a92351e80c15650712fa06108\"]; props: source=\"4918ae1b910b28c5334256aaebbf87c99ee9f3c3\", target=\"5c6ad737758c030a92351e80c15650712fa06108\"), Node(1a0994d3adeb82d9bdf8aaf490e77d46507e381c; [\"4918ae1b910b28c5334256aaebbf87c99ee9f3c3_1d29c5326d2292d8717e189a12ca4bd4cbac8b76\"]; props: source=\"4918ae1b910b28c5334256aaebbf87c99ee9f3c3\", target=\"1d29c5326d2292d8717e189a12ca4bd4cbac8b76\"), Node(4a9b66603d1b6446899a1e7fcbbd2bd8378d4e61; [\"4918ae1b910b28c5334256aaebbf87c99ee9f3c3_d87927e475744f6280feca8fd040dd42d07dba4a\"]; props: source=\"4918ae1b910b28c5334256aaebbf87c99ee9f3c3\", target=\"d87927e475744f6280feca8fd040dd42d07dba4a\"), Node(d31ad0c23a66c9859a9b791323a7291262fe22c1; [\"4918ae1b910b28c5334256aaebbf87c99ee9f3c3_4ea0d4a979741fbb57dd4cc9a2c05913a6ee875d\"]; props: source=\"4918ae1b910b28c5334256aaebbf87c99ee9f3c3\", target=\"4ea0d4a979741fbb57dd4cc9a2c05913a6ee875d\"), Node(4604369b5140f9b8b90972945596312c45c72d28; [\"4918ae1b910b28c5334256aaebbf87c99ee9f3c3_de6012ead358304ae31a499f29d380878219a256\"]; props: source=\"4918ae1b910b28c5334256aaebbf87c99ee9f3c3\", target=\"de6012ead358304ae31a499f29d380878219a256\"), Node(7ff111d244f8f71b094f7f9e28f8ff0ef074f5d8; [\"4918ae1b910b28c5334256aaebbf87c99ee9f3c3_3f9526f8d331b9519b8632a11b2d344ab7c647b6\"]; props: source=\"4918ae1b910b28c5334256aaebbf87c99ee9f3c3\", target=\"3f9526f8d331b9519b8632a11b2d344ab7c647b6\"), Node(f67dd71b3b79cf2a7a5f0a66198cde80a2f32ffd; [\"4918ae1b910b28c5334256aaebbf87c99ee9f3c3_8e5610e809bad1efe796848a86ecb9e28e1709b9\"]; props: source=\"4918ae1b910b28c5334256aaebbf87c99ee9f3c3\", target=\"8e5610e809bad1efe796848a86ecb9e28e1709b9\")]\n",
      "Main.Graph.Node[Node(966ad5e5d23b8586ac43df4aa4264014ab4d4ce9; [\"420da7f9ebba0c713d5ede40958626298411b44f_4b925186fe6753be2ed6908976e44e0f7630d40f\"]; props: source=\"420da7f9ebba0c713d5ede40958626298411b44f\", target=\"4b925186fe6753be2ed6908976e44e0f7630d40f\"), Node(fb67889a1103ac16d991e732d87616e025d655f7; [\"420da7f9ebba0c713d5ede40958626298411b44f_5c6ad737758c030a92351e80c15650712fa06108\"]; props: source=\"420da7f9ebba0c713d5ede40958626298411b44f\", target=\"5c6ad737758c030a92351e80c15650712fa06108\"), Node(1a0994d3adeb82d9bdf8aaf490e77d46507e381c; [\"420da7f9ebba0c713d5ede40958626298411b44f_1d29c5326d2292d8717e189a12ca4bd4cbac8b76\"]; props: source=\"420da7f9ebba0c713d5ede40958626298411b44f\", target=\"1d29c5326d2292d8717e189a12ca4bd4cbac8b76\"), Node(4a9b66603d1b6446899a1e7fcbbd2bd8378d4e61; [\"420da7f9ebba0c713d5ede40958626298411b44f_d87927e475744f6280feca8fd040dd42d07dba4a\"]; props: source=\"420da7f9ebba0c713d5ede40958626298411b44f\", target=\"d87927e475744f6280feca8fd040dd42d07dba4a\"), Node(d31ad0c23a66c9859a9b791323a7291262fe22c1; [\"420da7f9ebba0c713d5ede40958626298411b44f_4ea0d4a979741fbb57dd4cc9a2c05913a6ee875d\"]; props: source=\"420da7f9ebba0c713d5ede40958626298411b44f\", target=\"4ea0d4a979741fbb57dd4cc9a2c05913a6ee875d\"), Node(4604369b5140f9b8b90972945596312c45c72d28; [\"420da7f9ebba0c713d5ede40958626298411b44f_de6012ead358304ae31a499f29d380878219a256\"]; props: source=\"420da7f9ebba0c713d5ede40958626298411b44f\", target=\"de6012ead358304ae31a499f29d380878219a256\"), Node(7ff111d244f8f71b094f7f9e28f8ff0ef074f5d8; [\"420da7f9ebba0c713d5ede40958626298411b44f_3f9526f8d331b9519b8632a11b2d344ab7c647b6\"]; props: source=\"420da7f9ebba0c713d5ede40958626298411b44f\", target=\"3f9526f8d331b9519b8632a11b2d344ab7c647b6\"), Node(865137ba7faa827ea10259af79256b03fa2789dc; [\"420da7f9ebba0c713d5ede40958626298411b44f_8e5610e809bad1efe796848a86ecb9e28e1709b9\"]; props: source=\"420da7f9ebba0c713d5ede40958626298411b44f\", target=\"8e5610e809bad1efe796848a86ecb9e28e1709b9\")]\n",
      "Main.Graph.Node[Node(966ad5e5d23b8586ac43df4aa4264014ab4d4ce9; [\"2b8d42bdab72b78c39c1043fdf074350092e409e_4b925186fe6753be2ed6908976e44e0f7630d40f\"]; props: source=\"2b8d42bdab72b78c39c1043fdf074350092e409e\", target=\"4b925186fe6753be2ed6908976e44e0f7630d40f\"), Node(fb67889a1103ac16d991e732d87616e025d655f7; [\"2b8d42bdab72b78c39c1043fdf074350092e409e_5c6ad737758c030a92351e80c15650712fa06108\"]; props: source=\"2b8d42bdab72b78c39c1043fdf074350092e409e\", target=\"5c6ad737758c030a92351e80c15650712fa06108\"), Node(1a0994d3adeb82d9bdf8aaf490e77d46507e381c; [\"2b8d42bdab72b78c39c1043fdf074350092e409e_1d29c5326d2292d8717e189a12ca4bd4cbac8b76\"]; props: source=\"2b8d42bdab72b78c39c1043fdf074350092e409e\", target=\"1d29c5326d2292d8717e189a12ca4bd4cbac8b76\"), Node(4a9b66603d1b6446899a1e7fcbbd2bd8378d4e61; [\"2b8d42bdab72b78c39c1043fdf074350092e409e_d87927e475744f6280feca8fd040dd42d07dba4a\"]; props: source=\"2b8d42bdab72b78c39c1043fdf074350092e409e\", target=\"d87927e475744f6280feca8fd040dd42d07dba4a\"), Node(8069e59635783b54fbe449f99823a0454af5b949; [\"2b8d42bdab72b78c39c1043fdf074350092e409e_4ea0d4a979741fbb57dd4cc9a2c05913a6ee875d\"]; props: source=\"2b8d42bdab72b78c39c1043fdf074350092e409e\", target=\"4ea0d4a979741fbb57dd4cc9a2c05913a6ee875d\"), Node(4604369b5140f9b8b90972945596312c45c72d28; [\"2b8d42bdab72b78c39c1043fdf074350092e409e_de6012ead358304ae31a499f29d380878219a256\"]; props: source=\"2b8d42bdab72b78c39c1043fdf074350092e409e\", target=\"de6012ead358304ae31a499f29d380878219a256\"), Node(e98500777064682e2323e1d2aa7fef88805da3cb; [\"2b8d42bdab72b78c39c1043fdf074350092e409e_3f9526f8d331b9519b8632a11b2d344ab7c647b6\"]; props: source=\"2b8d42bdab72b78c39c1043fdf074350092e409e\", target=\"3f9526f8d331b9519b8632a11b2d344ab7c647b6\"), Node(865137ba7faa827ea10259af79256b03fa2789dc; [\"2b8d42bdab72b78c39c1043fdf074350092e409e_8e5610e809bad1efe796848a86ecb9e28e1709b9\"]; props: source=\"2b8d42bdab72b78c39c1043fdf074350092e409e\", target=\"8e5610e809bad1efe796848a86ecb9e28e1709b9\")]\n",
      "Main.Graph.Node[Node(966ad5e5d23b8586ac43df4aa4264014ab4d4ce9; [\"c11b4636deae1a808123a34e9981cdbad18be782_4b925186fe6753be2ed6908976e44e0f7630d40f\"]; props: source=\"c11b4636deae1a808123a34e9981cdbad18be782\", target=\"4b925186fe6753be2ed6908976e44e0f7630d40f\"), Node(41dc63dfcfc68f6a892df74bdf2ff0ee2c555a36; [\"c11b4636deae1a808123a34e9981cdbad18be782_5c6ad737758c030a92351e80c15650712fa06108\"]; props: source=\"c11b4636deae1a808123a34e9981cdbad18be782\", target=\"5c6ad737758c030a92351e80c15650712fa06108\"), Node(1a0994d3adeb82d9bdf8aaf490e77d46507e381c; [\"c11b4636deae1a808123a34e9981cdbad18be782_1d29c5326d2292d8717e189a12ca4bd4cbac8b76\"]; props: source=\"c11b4636deae1a808123a34e9981cdbad18be782\", target=\"1d29c5326d2292d8717e189a12ca4bd4cbac8b76\"), Node(4a9b66603d1b6446899a1e7fcbbd2bd8378d4e61; [\"c11b4636deae1a808123a34e9981cdbad18be782_d87927e475744f6280feca8fd040dd42d07dba4a\"]; props: source=\"c11b4636deae1a808123a34e9981cdbad18be782\", target=\"d87927e475744f6280feca8fd040dd42d07dba4a\"), Node(1f202b1f065fa23292050731b1056b0bccae13d5; [\"c11b4636deae1a808123a34e9981cdbad18be782_4ea0d4a979741fbb57dd4cc9a2c05913a6ee875d\"]; props: source=\"c11b4636deae1a808123a34e9981cdbad18be782\", target=\"4ea0d4a979741fbb57dd4cc9a2c05913a6ee875d\"), Node(4604369b5140f9b8b90972945596312c45c72d28; [\"c11b4636deae1a808123a34e9981cdbad18be782_de6012ead358304ae31a499f29d380878219a256\"]; props: source=\"c11b4636deae1a808123a34e9981cdbad18be782\", target=\"de6012ead358304ae31a499f29d380878219a256\"), Node(260cd0e40a2eb0a69c191ff18df94d88651da104; [\"c11b4636deae1a808123a34e9981cdbad18be782_3f9526f8d331b9519b8632a11b2d344ab7c647b6\"]; props: source=\"c11b4636deae1a808123a34e9981cdbad18be782\", target=\"3f9526f8d331b9519b8632a11b2d344ab7c647b6\"), Node(865137ba7faa827ea10259af79256b03fa2789dc; [\"c11b4636deae1a808123a34e9981cdbad18be782_8e5610e809bad1efe796848a86ecb9e28e1709b9\"]; props: source=\"c11b4636deae1a808123a34e9981cdbad18be782\", target=\"8e5610e809bad1efe796848a86ecb9e28e1709b9\")]\n",
      "Main.Graph.Node[Node(966ad5e5d23b8586ac43df4aa4264014ab4d4ce9; [\"c97e6d775db16ce748fd183dbdfeaa8c685d7664_4b925186fe6753be2ed6908976e44e0f7630d40f\"]; props: source=\"c97e6d775db16ce748fd183dbdfeaa8c685d7664\", target=\"4b925186fe6753be2ed6908976e44e0f7630d40f\"), Node(fb67889a1103ac16d991e732d87616e025d655f7; [\"c97e6d775db16ce748fd183dbdfeaa8c685d7664_5c6ad737758c030a92351e80c15650712fa06108\"]; props: source=\"c97e6d775db16ce748fd183dbdfeaa8c685d7664\", target=\"5c6ad737758c030a92351e80c15650712fa06108\"), Node(1a0994d3adeb82d9bdf8aaf490e77d46507e381c; [\"c97e6d775db16ce748fd183dbdfeaa8c685d7664_1d29c5326d2292d8717e189a12ca4bd4cbac8b76\"]; props: source=\"c97e6d775db16ce748fd183dbdfeaa8c685d7664\", target=\"1d29c5326d2292d8717e189a12ca4bd4cbac8b76\"), Node(4a9b66603d1b6446899a1e7fcbbd2bd8378d4e61; [\"c97e6d775db16ce748fd183dbdfeaa8c685d7664_d87927e475744f6280feca8fd040dd42d07dba4a\"]; props: source=\"c97e6d775db16ce748fd183dbdfeaa8c685d7664\", target=\"d87927e475744f6280feca8fd040dd42d07dba4a\"), Node(02bd66fea0a694e5aba8b2f03b87a74f59e182a6; [\"c97e6d775db16ce748fd183dbdfeaa8c685d7664_4ea0d4a979741fbb57dd4cc9a2c05913a6ee875d\"]; props: source=\"c97e6d775db16ce748fd183dbdfeaa8c685d7664\", target=\"4ea0d4a979741fbb57dd4cc9a2c05913a6ee875d\"), Node(4604369b5140f9b8b90972945596312c45c72d28; [\"c97e6d775db16ce748fd183dbdfeaa8c685d7664_de6012ead358304ae31a499f29d380878219a256\"]; props: source=\"c97e6d775db16ce748fd183dbdfeaa8c685d7664\", target=\"de6012ead358304ae31a499f29d380878219a256\"), Node(e98500777064682e2323e1d2aa7fef88805da3cb; [\"c97e6d775db16ce748fd183dbdfeaa8c685d7664_3f9526f8d331b9519b8632a11b2d344ab7c647b6\"]; props: source=\"c97e6d775db16ce748fd183dbdfeaa8c685d7664\", target=\"3f9526f8d331b9519b8632a11b2d344ab7c647b6\"), Node(865137ba7faa827ea10259af79256b03fa2789dc; [\"c97e6d775db16ce748fd183dbdfeaa8c685d7664_8e5610e809bad1efe796848a86ecb9e28e1709b9\"]; props: source=\"c97e6d775db16ce748fd183dbdfeaa8c685d7664\", target=\"8e5610e809bad1efe796848a86ecb9e28e1709b9\")]\n",
      "Main.Graph.Node[Node(966ad5e5d23b8586ac43df4aa4264014ab4d4ce9; [\"7a44eed1a80140083183faa5dbc40ec017390aec_4b925186fe6753be2ed6908976e44e0f7630d40f\"]; props: source=\"7a44eed1a80140083183faa5dbc40ec017390aec\", target=\"4b925186fe6753be2ed6908976e44e0f7630d40f\"), Node(41dc63dfcfc68f6a892df74bdf2ff0ee2c555a36; [\"7a44eed1a80140083183faa5dbc40ec017390aec_5c6ad737758c030a92351e80c15650712fa06108\"]; props: source=\"7a44eed1a80140083183faa5dbc40ec017390aec\", target=\"5c6ad737758c030a92351e80c15650712fa06108\"), Node(1a0994d3adeb82d9bdf8aaf490e77d46507e381c; [\"7a44eed1a80140083183faa5dbc40ec017390aec_1d29c5326d2292d8717e189a12ca4bd4cbac8b76\"]; props: source=\"7a44eed1a80140083183faa5dbc40ec017390aec\", target=\"1d29c5326d2292d8717e189a12ca4bd4cbac8b76\"), Node(4a9b66603d1b6446899a1e7fcbbd2bd8378d4e61; [\"7a44eed1a80140083183faa5dbc40ec017390aec_d87927e475744f6280feca8fd040dd42d07dba4a\"]; props: source=\"7a44eed1a80140083183faa5dbc40ec017390aec\", target=\"d87927e475744f6280feca8fd040dd42d07dba4a\"), Node(fcedfac0c38fa4cdd5793d78354e4586207d0538; [\"7a44eed1a80140083183faa5dbc40ec017390aec_4ea0d4a979741fbb57dd4cc9a2c05913a6ee875d\"]; props: source=\"7a44eed1a80140083183faa5dbc40ec017390aec\", target=\"4ea0d4a979741fbb57dd4cc9a2c05913a6ee875d\"), Node(4604369b5140f9b8b90972945596312c45c72d28; [\"7a44eed1a80140083183faa5dbc40ec017390aec_de6012ead358304ae31a499f29d380878219a256\"]; props: source=\"7a44eed1a80140083183faa5dbc40ec017390aec\", target=\"de6012ead358304ae31a499f29d380878219a256\"), Node(53344303ddea07c611aa98cb12b341f16fc133c0; [\"7a44eed1a80140083183faa5dbc40ec017390aec_3f9526f8d331b9519b8632a11b2d344ab7c647b6\"]; props: source=\"7a44eed1a80140083183faa5dbc40ec017390aec\", target=\"3f9526f8d331b9519b8632a11b2d344ab7c647b6\"), Node(865137ba7faa827ea10259af79256b03fa2789dc; [\"7a44eed1a80140083183faa5dbc40ec017390aec_8e5610e809bad1efe796848a86ecb9e28e1709b9\"]; props: source=\"7a44eed1a80140083183faa5dbc40ec017390aec\", target=\"8e5610e809bad1efe796848a86ecb9e28e1709b9\")]\n",
      "Main.Graph.Node[Node(966ad5e5d23b8586ac43df4aa4264014ab4d4ce9; [\"0586ca7dfead6e2e9ca7be69f61d118a0a355c28_4b925186fe6753be2ed6908976e44e0f7630d40f\"]; props: source=\"0586ca7dfead6e2e9ca7be69f61d118a0a355c28\", target=\"4b925186fe6753be2ed6908976e44e0f7630d40f\"), Node(9cfbd024a5d5917c2912724605edf77b1fd1e6c4; [\"0586ca7dfead6e2e9ca7be69f61d118a0a355c28_5c6ad737758c030a92351e80c15650712fa06108\"]; props: source=\"0586ca7dfead6e2e9ca7be69f61d118a0a355c28\", target=\"5c6ad737758c030a92351e80c15650712fa06108\"), Node(753387a5f2ded6f4fa60c568de1734edb4a2b81b; [\"0586ca7dfead6e2e9ca7be69f61d118a0a355c28_1d29c5326d2292d8717e189a12ca4bd4cbac8b76\"]; props: source=\"0586ca7dfead6e2e9ca7be69f61d118a0a355c28\", target=\"1d29c5326d2292d8717e189a12ca4bd4cbac8b76\"), Node(4a9b66603d1b6446899a1e7fcbbd2bd8378d4e61; [\"0586ca7dfead6e2e9ca7be69f61d118a0a355c28_d87927e475744f6280feca8fd040dd42d07dba4a\"]; props: source=\"0586ca7dfead6e2e9ca7be69f61d118a0a355c28\", target=\"d87927e475744f6280feca8fd040dd42d07dba4a\"), Node(8069e59635783b54fbe449f99823a0454af5b949; [\"0586ca7dfead6e2e9ca7be69f61d118a0a355c28_4ea0d4a979741fbb57dd4cc9a2c05913a6ee875d\"]; props: source=\"0586ca7dfead6e2e9ca7be69f61d118a0a355c28\", target=\"4ea0d4a979741fbb57dd4cc9a2c05913a6ee875d\"), Node(4604369b5140f9b8b90972945596312c45c72d28; [\"0586ca7dfead6e2e9ca7be69f61d118a0a355c28_de6012ead358304ae31a499f29d380878219a256\"]; props: source=\"0586ca7dfead6e2e9ca7be69f61d118a0a355c28\", target=\"de6012ead358304ae31a499f29d380878219a256\"), Node(e98500777064682e2323e1d2aa7fef88805da3cb; [\"0586ca7dfead6e2e9ca7be69f61d118a0a355c28_3f9526f8d331b9519b8632a11b2d344ab7c647b6\"]; props: source=\"0586ca7dfead6e2e9ca7be69f61d118a0a355c28\", target=\"3f9526f8d331b9519b8632a11b2d344ab7c647b6\"), Node(865137ba7faa827ea10259af79256b03fa2789dc; [\"0586ca7dfead6e2e9ca7be69f61d118a0a355c28_8e5610e809bad1efe796848a86ecb9e28e1709b9\"]; props: source=\"0586ca7dfead6e2e9ca7be69f61d118a0a355c28\", target=\"8e5610e809bad1efe796848a86ecb9e28e1709b9\")]\n",
      "Main.Graph.Node[Node(966ad5e5d23b8586ac43df4aa4264014ab4d4ce9; [\"6ff4a53129f97923622c9ab44b8fe2a9e1ea2249_4b925186fe6753be2ed6908976e44e0f7630d40f\"]; props: source=\"6ff4a53129f97923622c9ab44b8fe2a9e1ea2249\", target=\"4b925186fe6753be2ed6908976e44e0f7630d40f\"), Node(41dc63dfcfc68f6a892df74bdf2ff0ee2c555a36; [\"6ff4a53129f97923622c9ab44b8fe2a9e1ea2249_5c6ad737758c030a92351e80c15650712fa06108\"]; props: source=\"6ff4a53129f97923622c9ab44b8fe2a9e1ea2249\", target=\"5c6ad737758c030a92351e80c15650712fa06108\"), Node(1a0994d3adeb82d9bdf8aaf490e77d46507e381c; [\"6ff4a53129f97923622c9ab44b8fe2a9e1ea2249_1d29c5326d2292d8717e189a12ca4bd4cbac8b76\"]; props: source=\"6ff4a53129f97923622c9ab44b8fe2a9e1ea2249\", target=\"1d29c5326d2292d8717e189a12ca4bd4cbac8b76\"), Node(4a9b66603d1b6446899a1e7fcbbd2bd8378d4e61; [\"6ff4a53129f97923622c9ab44b8fe2a9e1ea2249_d87927e475744f6280feca8fd040dd42d07dba4a\"]; props: source=\"6ff4a53129f97923622c9ab44b8fe2a9e1ea2249\", target=\"d87927e475744f6280feca8fd040dd42d07dba4a\"), Node(8069e59635783b54fbe449f99823a0454af5b949; [\"6ff4a53129f97923622c9ab44b8fe2a9e1ea2249_4ea0d4a979741fbb57dd4cc9a2c05913a6ee875d\"]; props: source=\"6ff4a53129f97923622c9ab44b8fe2a9e1ea2249\", target=\"4ea0d4a979741fbb57dd4cc9a2c05913a6ee875d\"), Node(4604369b5140f9b8b90972945596312c45c72d28; [\"6ff4a53129f97923622c9ab44b8fe2a9e1ea2249_de6012ead358304ae31a499f29d380878219a256\"]; props: source=\"6ff4a53129f97923622c9ab44b8fe2a9e1ea2249\", target=\"de6012ead358304ae31a499f29d380878219a256\"), Node(7ff111d244f8f71b094f7f9e28f8ff0ef074f5d8; [\"6ff4a53129f97923622c9ab44b8fe2a9e1ea2249_3f9526f8d331b9519b8632a11b2d344ab7c647b6\"]; props: source=\"6ff4a53129f97923622c9ab44b8fe2a9e1ea2249\", target=\"3f9526f8d331b9519b8632a11b2d344ab7c647b6\"), Node(865137ba7faa827ea10259af79256b03fa2789dc; [\"6ff4a53129f97923622c9ab44b8fe2a9e1ea2249_8e5610e809bad1efe796848a86ecb9e28e1709b9\"]; props: source=\"6ff4a53129f97923622c9ab44b8fe2a9e1ea2249\", target=\"8e5610e809bad1efe796848a86ecb9e28e1709b9\")]\n",
      "Main.Graph.Node[Node(966ad5e5d23b8586ac43df4aa4264014ab4d4ce9; [\"b84575f47e67f22060b033c3c648169c3f703910_4b925186fe6753be2ed6908976e44e0f7630d40f\"]; props: source=\"b84575f47e67f22060b033c3c648169c3f703910\", target=\"4b925186fe6753be2ed6908976e44e0f7630d40f\"), Node(41dc63dfcfc68f6a892df74bdf2ff0ee2c555a36; [\"b84575f47e67f22060b033c3c648169c3f703910_5c6ad737758c030a92351e80c15650712fa06108\"]; props: source=\"b84575f47e67f22060b033c3c648169c3f703910\", target=\"5c6ad737758c030a92351e80c15650712fa06108\"), Node(1a0994d3adeb82d9bdf8aaf490e77d46507e381c; [\"b84575f47e67f22060b033c3c648169c3f703910_1d29c5326d2292d8717e189a12ca4bd4cbac8b76\"]; props: source=\"b84575f47e67f22060b033c3c648169c3f703910\", target=\"1d29c5326d2292d8717e189a12ca4bd4cbac8b76\"), Node(4a9b66603d1b6446899a1e7fcbbd2bd8378d4e61; [\"b84575f47e67f22060b033c3c648169c3f703910_d87927e475744f6280feca8fd040dd42d07dba4a\"]; props: source=\"b84575f47e67f22060b033c3c648169c3f703910\", target=\"d87927e475744f6280feca8fd040dd42d07dba4a\"), Node(8069e59635783b54fbe449f99823a0454af5b949; [\"b84575f47e67f22060b033c3c648169c3f703910_4ea0d4a979741fbb57dd4cc9a2c05913a6ee875d\"]; props: source=\"b84575f47e67f22060b033c3c648169c3f703910\", target=\"4ea0d4a979741fbb57dd4cc9a2c05913a6ee875d\"), Node(4604369b5140f9b8b90972945596312c45c72d28; [\"b84575f47e67f22060b033c3c648169c3f703910_de6012ead358304ae31a499f29d380878219a256\"]; props: source=\"b84575f47e67f22060b033c3c648169c3f703910\", target=\"de6012ead358304ae31a499f29d380878219a256\"), Node(3cdf69727860c435c6cdc774bc5b14691de478f9; [\"b84575f47e67f22060b033c3c648169c3f703910_3f9526f8d331b9519b8632a11b2d344ab7c647b6\"]; props: source=\"b84575f47e67f22060b033c3c648169c3f703910\", target=\"3f9526f8d331b9519b8632a11b2d344ab7c647b6\"), Node(c75b782dd4a127c00076051288ffd6f3863efeb9; [\"b84575f47e67f22060b033c3c648169c3f703910_8e5610e809bad1efe796848a86ecb9e28e1709b9\"]; props: source=\"b84575f47e67f22060b033c3c648169c3f703910\", target=\"8e5610e809bad1efe796848a86ecb9e28e1709b9\")]\n",
      "Main.Graph.Node[Node(966ad5e5d23b8586ac43df4aa4264014ab4d4ce9; [\"1f30de96e81f4236110946ead61303c9f7f70453_4b925186fe6753be2ed6908976e44e0f7630d40f\"]; props: source=\"1f30de96e81f4236110946ead61303c9f7f70453\", target=\"4b925186fe6753be2ed6908976e44e0f7630d40f\"), Node(41dc63dfcfc68f6a892df74bdf2ff0ee2c555a36; [\"1f30de96e81f4236110946ead61303c9f7f70453_5c6ad737758c030a92351e80c15650712fa06108\"]; props: source=\"1f30de96e81f4236110946ead61303c9f7f70453\", target=\"5c6ad737758c030a92351e80c15650712fa06108\"), Node(1a0994d3adeb82d9bdf8aaf490e77d46507e381c; [\"1f30de96e81f4236110946ead61303c9f7f70453_1d29c5326d2292d8717e189a12ca4bd4cbac8b76\"]; props: source=\"1f30de96e81f4236110946ead61303c9f7f70453\", target=\"1d29c5326d2292d8717e189a12ca4bd4cbac8b76\"), Node(4a9b66603d1b6446899a1e7fcbbd2bd8378d4e61; [\"1f30de96e81f4236110946ead61303c9f7f70453_d87927e475744f6280feca8fd040dd42d07dba4a\"]; props: source=\"1f30de96e81f4236110946ead61303c9f7f70453\", target=\"d87927e475744f6280feca8fd040dd42d07dba4a\"), Node(7741cdcf224c74922a6d810680f4b3219db6c638; [\"1f30de96e81f4236110946ead61303c9f7f70453_4ea0d4a979741fbb57dd4cc9a2c05913a6ee875d\"]; props: source=\"1f30de96e81f4236110946ead61303c9f7f70453\", target=\"4ea0d4a979741fbb57dd4cc9a2c05913a6ee875d\"), Node(4604369b5140f9b8b90972945596312c45c72d28; [\"1f30de96e81f4236110946ead61303c9f7f70453_de6012ead358304ae31a499f29d380878219a256\"]; props: source=\"1f30de96e81f4236110946ead61303c9f7f70453\", target=\"de6012ead358304ae31a499f29d380878219a256\"), Node(3cdf69727860c435c6cdc774bc5b14691de478f9; [\"1f30de96e81f4236110946ead61303c9f7f70453_3f9526f8d331b9519b8632a11b2d344ab7c647b6\"]; props: source=\"1f30de96e81f4236110946ead61303c9f7f70453\", target=\"3f9526f8d331b9519b8632a11b2d344ab7c647b6\"), Node(f482c48328509d1417a60dbb3d05b193df52c158; [\"1f30de96e81f4236110946ead61303c9f7f70453_8e5610e809bad1efe796848a86ecb9e28e1709b9\"]; props: source=\"1f30de96e81f4236110946ead61303c9f7f70453\", target=\"8e5610e809bad1efe796848a86ecb9e28e1709b9\")]\n",
      "Main.Graph.Node[Node(966ad5e5d23b8586ac43df4aa4264014ab4d4ce9; [\"e50271535b2510c102adf6f860f6f54f52bbf375_4b925186fe6753be2ed6908976e44e0f7630d40f\"]; props: source=\"e50271535b2510c102adf6f860f6f54f52bbf375\", target=\"4b925186fe6753be2ed6908976e44e0f7630d40f\"), Node(41dc63dfcfc68f6a892df74bdf2ff0ee2c555a36; [\"e50271535b2510c102adf6f860f6f54f52bbf375_5c6ad737758c030a92351e80c15650712fa06108\"]; props: source=\"e50271535b2510c102adf6f860f6f54f52bbf375\", target=\"5c6ad737758c030a92351e80c15650712fa06108\"), Node(1a0994d3adeb82d9bdf8aaf490e77d46507e381c; [\"e50271535b2510c102adf6f860f6f54f52bbf375_1d29c5326d2292d8717e189a12ca4bd4cbac8b76\"]; props: source=\"e50271535b2510c102adf6f860f6f54f52bbf375\", target=\"1d29c5326d2292d8717e189a12ca4bd4cbac8b76\"), Node(4a9b66603d1b6446899a1e7fcbbd2bd8378d4e61; [\"e50271535b2510c102adf6f860f6f54f52bbf375_d87927e475744f6280feca8fd040dd42d07dba4a\"]; props: source=\"e50271535b2510c102adf6f860f6f54f52bbf375\", target=\"d87927e475744f6280feca8fd040dd42d07dba4a\"), Node(fcedfac0c38fa4cdd5793d78354e4586207d0538; [\"e50271535b2510c102adf6f860f6f54f52bbf375_4ea0d4a979741fbb57dd4cc9a2c05913a6ee875d\"]; props: source=\"e50271535b2510c102adf6f860f6f54f52bbf375\", target=\"4ea0d4a979741fbb57dd4cc9a2c05913a6ee875d\"), Node(4604369b5140f9b8b90972945596312c45c72d28; [\"e50271535b2510c102adf6f860f6f54f52bbf375_de6012ead358304ae31a499f29d380878219a256\"]; props: source=\"e50271535b2510c102adf6f860f6f54f52bbf375\", target=\"de6012ead358304ae31a499f29d380878219a256\"), Node(3cdf69727860c435c6cdc774bc5b14691de478f9; [\"e50271535b2510c102adf6f860f6f54f52bbf375_3f9526f8d331b9519b8632a11b2d344ab7c647b6\"]; props: source=\"e50271535b2510c102adf6f860f6f54f52bbf375\", target=\"3f9526f8d331b9519b8632a11b2d344ab7c647b6\"), Node(ec1b0cf4a6fd86242b271777c751f720779797ac; [\"e50271535b2510c102adf6f860f6f54f52bbf375_8e5610e809bad1efe796848a86ecb9e28e1709b9\"]; props: source=\"e50271535b2510c102adf6f860f6f54f52bbf375\", target=\"8e5610e809bad1efe796848a86ecb9e28e1709b9\")]\n",
      "Main.Graph.Node[Node(966ad5e5d23b8586ac43df4aa4264014ab4d4ce9; [\"fc792fed30eab6dcb19645d947899f7f7a3f8fcc_4b925186fe6753be2ed6908976e44e0f7630d40f\"]; props: source=\"fc792fed30eab6dcb19645d947899f7f7a3f8fcc\", target=\"4b925186fe6753be2ed6908976e44e0f7630d40f\"), Node(41dc63dfcfc68f6a892df74bdf2ff0ee2c555a36; [\"fc792fed30eab6dcb19645d947899f7f7a3f8fcc_5c6ad737758c030a92351e80c15650712fa06108\"]; props: source=\"fc792fed30eab6dcb19645d947899f7f7a3f8fcc\", target=\"5c6ad737758c030a92351e80c15650712fa06108\"), Node(753387a5f2ded6f4fa60c568de1734edb4a2b81b; [\"fc792fed30eab6dcb19645d947899f7f7a3f8fcc_1d29c5326d2292d8717e189a12ca4bd4cbac8b76\"]; props: source=\"fc792fed30eab6dcb19645d947899f7f7a3f8fcc\", target=\"1d29c5326d2292d8717e189a12ca4bd4cbac8b76\"), Node(4a9b66603d1b6446899a1e7fcbbd2bd8378d4e61; [\"fc792fed30eab6dcb19645d947899f7f7a3f8fcc_d87927e475744f6280feca8fd040dd42d07dba4a\"]; props: source=\"fc792fed30eab6dcb19645d947899f7f7a3f8fcc\", target=\"d87927e475744f6280feca8fd040dd42d07dba4a\"), Node(02bd66fea0a694e5aba8b2f03b87a74f59e182a6; [\"fc792fed30eab6dcb19645d947899f7f7a3f8fcc_4ea0d4a979741fbb57dd4cc9a2c05913a6ee875d\"]; props: source=\"fc792fed30eab6dcb19645d947899f7f7a3f8fcc\", target=\"4ea0d4a979741fbb57dd4cc9a2c05913a6ee875d\"), Node(4604369b5140f9b8b90972945596312c45c72d28; [\"fc792fed30eab6dcb19645d947899f7f7a3f8fcc_de6012ead358304ae31a499f29d380878219a256\"]; props: source=\"fc792fed30eab6dcb19645d947899f7f7a3f8fcc\", target=\"de6012ead358304ae31a499f29d380878219a256\"), Node(7ff111d244f8f71b094f7f9e28f8ff0ef074f5d8; [\"fc792fed30eab6dcb19645d947899f7f7a3f8fcc_3f9526f8d331b9519b8632a11b2d344ab7c647b6\"]; props: source=\"fc792fed30eab6dcb19645d947899f7f7a3f8fcc\", target=\"3f9526f8d331b9519b8632a11b2d344ab7c647b6\"), Node(865137ba7faa827ea10259af79256b03fa2789dc; [\"fc792fed30eab6dcb19645d947899f7f7a3f8fcc_8e5610e809bad1efe796848a86ecb9e28e1709b9\"]; props: source=\"fc792fed30eab6dcb19645d947899f7f7a3f8fcc\", target=\"8e5610e809bad1efe796848a86ecb9e28e1709b9\")]\n",
      "Main.Graph.Node[Node(966ad5e5d23b8586ac43df4aa4264014ab4d4ce9; [\"6c7b0cb10e6bf71977d50dd595a5427723686c24_4b925186fe6753be2ed6908976e44e0f7630d40f\"]; props: source=\"6c7b0cb10e6bf71977d50dd595a5427723686c24\", target=\"4b925186fe6753be2ed6908976e44e0f7630d40f\"), Node(41dc63dfcfc68f6a892df74bdf2ff0ee2c555a36; [\"6c7b0cb10e6bf71977d50dd595a5427723686c24_5c6ad737758c030a92351e80c15650712fa06108\"]; props: source=\"6c7b0cb10e6bf71977d50dd595a5427723686c24\", target=\"5c6ad737758c030a92351e80c15650712fa06108\"), Node(753387a5f2ded6f4fa60c568de1734edb4a2b81b; [\"6c7b0cb10e6bf71977d50dd595a5427723686c24_1d29c5326d2292d8717e189a12ca4bd4cbac8b76\"]; props: source=\"6c7b0cb10e6bf71977d50dd595a5427723686c24\", target=\"1d29c5326d2292d8717e189a12ca4bd4cbac8b76\"), Node(4a9b66603d1b6446899a1e7fcbbd2bd8378d4e61; [\"6c7b0cb10e6bf71977d50dd595a5427723686c24_d87927e475744f6280feca8fd040dd42d07dba4a\"]; props: source=\"6c7b0cb10e6bf71977d50dd595a5427723686c24\", target=\"d87927e475744f6280feca8fd040dd42d07dba4a\"), Node(fcedfac0c38fa4cdd5793d78354e4586207d0538; [\"6c7b0cb10e6bf71977d50dd595a5427723686c24_4ea0d4a979741fbb57dd4cc9a2c05913a6ee875d\"]; props: source=\"6c7b0cb10e6bf71977d50dd595a5427723686c24\", target=\"4ea0d4a979741fbb57dd4cc9a2c05913a6ee875d\"), Node(4604369b5140f9b8b90972945596312c45c72d28; [\"6c7b0cb10e6bf71977d50dd595a5427723686c24_de6012ead358304ae31a499f29d380878219a256\"]; props: source=\"6c7b0cb10e6bf71977d50dd595a5427723686c24\", target=\"de6012ead358304ae31a499f29d380878219a256\"), Node(e98500777064682e2323e1d2aa7fef88805da3cb; [\"6c7b0cb10e6bf71977d50dd595a5427723686c24_3f9526f8d331b9519b8632a11b2d344ab7c647b6\"]; props: source=\"6c7b0cb10e6bf71977d50dd595a5427723686c24\", target=\"3f9526f8d331b9519b8632a11b2d344ab7c647b6\"), Node(865137ba7faa827ea10259af79256b03fa2789dc; [\"6c7b0cb10e6bf71977d50dd595a5427723686c24_8e5610e809bad1efe796848a86ecb9e28e1709b9\"]; props: source=\"6c7b0cb10e6bf71977d50dd595a5427723686c24\", target=\"8e5610e809bad1efe796848a86ecb9e28e1709b9\")]\n",
      "Main.Graph.Node[Node(966ad5e5d23b8586ac43df4aa4264014ab4d4ce9; [\"776371897180263960bb17b69356854cbfea05a3_4b925186fe6753be2ed6908976e44e0f7630d40f\"]; props: source=\"776371897180263960bb17b69356854cbfea05a3\", target=\"4b925186fe6753be2ed6908976e44e0f7630d40f\"), Node(41dc63dfcfc68f6a892df74bdf2ff0ee2c555a36; [\"776371897180263960bb17b69356854cbfea05a3_5c6ad737758c030a92351e80c15650712fa06108\"]; props: source=\"776371897180263960bb17b69356854cbfea05a3\", target=\"5c6ad737758c030a92351e80c15650712fa06108\"), Node(1a0994d3adeb82d9bdf8aaf490e77d46507e381c; [\"776371897180263960bb17b69356854cbfea05a3_1d29c5326d2292d8717e189a12ca4bd4cbac8b76\"]; props: source=\"776371897180263960bb17b69356854cbfea05a3\", target=\"1d29c5326d2292d8717e189a12ca4bd4cbac8b76\"), Node(4a9b66603d1b6446899a1e7fcbbd2bd8378d4e61; [\"776371897180263960bb17b69356854cbfea05a3_d87927e475744f6280feca8fd040dd42d07dba4a\"]; props: source=\"776371897180263960bb17b69356854cbfea05a3\", target=\"d87927e475744f6280feca8fd040dd42d07dba4a\"), Node(d31ad0c23a66c9859a9b791323a7291262fe22c1; [\"776371897180263960bb17b69356854cbfea05a3_4ea0d4a979741fbb57dd4cc9a2c05913a6ee875d\"]; props: source=\"776371897180263960bb17b69356854cbfea05a3\", target=\"4ea0d4a979741fbb57dd4cc9a2c05913a6ee875d\"), Node(4604369b5140f9b8b90972945596312c45c72d28; [\"776371897180263960bb17b69356854cbfea05a3_de6012ead358304ae31a499f29d380878219a256\"]; props: source=\"776371897180263960bb17b69356854cbfea05a3\", target=\"de6012ead358304ae31a499f29d380878219a256\"), Node(7ff111d244f8f71b094f7f9e28f8ff0ef074f5d8; [\"776371897180263960bb17b69356854cbfea05a3_3f9526f8d331b9519b8632a11b2d344ab7c647b6\"]; props: source=\"776371897180263960bb17b69356854cbfea05a3\", target=\"3f9526f8d331b9519b8632a11b2d344ab7c647b6\"), Node(865137ba7faa827ea10259af79256b03fa2789dc; [\"776371897180263960bb17b69356854cbfea05a3_8e5610e809bad1efe796848a86ecb9e28e1709b9\"]; props: source=\"776371897180263960bb17b69356854cbfea05a3\", target=\"8e5610e809bad1efe796848a86ecb9e28e1709b9\")]\n",
      "Main.Graph.Node[Node(966ad5e5d23b8586ac43df4aa4264014ab4d4ce9; [\"7a5699212d166297580ed648de5c3137a46db2f0_4b925186fe6753be2ed6908976e44e0f7630d40f\"]; props: source=\"7a5699212d166297580ed648de5c3137a46db2f0\", target=\"4b925186fe6753be2ed6908976e44e0f7630d40f\"), Node(41dc63dfcfc68f6a892df74bdf2ff0ee2c555a36; [\"7a5699212d166297580ed648de5c3137a46db2f0_5c6ad737758c030a92351e80c15650712fa06108\"]; props: source=\"7a5699212d166297580ed648de5c3137a46db2f0\", target=\"5c6ad737758c030a92351e80c15650712fa06108\"), Node(1a0994d3adeb82d9bdf8aaf490e77d46507e381c; [\"7a5699212d166297580ed648de5c3137a46db2f0_1d29c5326d2292d8717e189a12ca4bd4cbac8b76\"]; props: source=\"7a5699212d166297580ed648de5c3137a46db2f0\", target=\"1d29c5326d2292d8717e189a12ca4bd4cbac8b76\"), Node(4a9b66603d1b6446899a1e7fcbbd2bd8378d4e61; [\"7a5699212d166297580ed648de5c3137a46db2f0_d87927e475744f6280feca8fd040dd42d07dba4a\"]; props: source=\"7a5699212d166297580ed648de5c3137a46db2f0\", target=\"d87927e475744f6280feca8fd040dd42d07dba4a\"), Node(7741cdcf224c74922a6d810680f4b3219db6c638; [\"7a5699212d166297580ed648de5c3137a46db2f0_4ea0d4a979741fbb57dd4cc9a2c05913a6ee875d\"]; props: source=\"7a5699212d166297580ed648de5c3137a46db2f0\", target=\"4ea0d4a979741fbb57dd4cc9a2c05913a6ee875d\"), Node(4604369b5140f9b8b90972945596312c45c72d28; [\"7a5699212d166297580ed648de5c3137a46db2f0_de6012ead358304ae31a499f29d380878219a256\"]; props: source=\"7a5699212d166297580ed648de5c3137a46db2f0\", target=\"de6012ead358304ae31a499f29d380878219a256\"), Node(7ff111d244f8f71b094f7f9e28f8ff0ef074f5d8; [\"7a5699212d166297580ed648de5c3137a46db2f0_3f9526f8d331b9519b8632a11b2d344ab7c647b6\"]; props: source=\"7a5699212d166297580ed648de5c3137a46db2f0\", target=\"3f9526f8d331b9519b8632a11b2d344ab7c647b6\"), Node(f482c48328509d1417a60dbb3d05b193df52c158; [\"7a5699212d166297580ed648de5c3137a46db2f0_8e5610e809bad1efe796848a86ecb9e28e1709b9\"]; props: source=\"7a5699212d166297580ed648de5c3137a46db2f0\", target=\"8e5610e809bad1efe796848a86ecb9e28e1709b9\")]\n",
      "Main.Graph.Node[Node(966ad5e5d23b8586ac43df4aa4264014ab4d4ce9; [\"18fa8c4b19c95900a45b1f15d70f38061ba8482e_4b925186fe6753be2ed6908976e44e0f7630d40f\"]; props: source=\"18fa8c4b19c95900a45b1f15d70f38061ba8482e\", target=\"4b925186fe6753be2ed6908976e44e0f7630d40f\"), Node(fb67889a1103ac16d991e732d87616e025d655f7; [\"18fa8c4b19c95900a45b1f15d70f38061ba8482e_5c6ad737758c030a92351e80c15650712fa06108\"]; props: source=\"18fa8c4b19c95900a45b1f15d70f38061ba8482e\", target=\"5c6ad737758c030a92351e80c15650712fa06108\"), Node(753387a5f2ded6f4fa60c568de1734edb4a2b81b; [\"18fa8c4b19c95900a45b1f15d70f38061ba8482e_1d29c5326d2292d8717e189a12ca4bd4cbac8b76\"]; props: source=\"18fa8c4b19c95900a45b1f15d70f38061ba8482e\", target=\"1d29c5326d2292d8717e189a12ca4bd4cbac8b76\"), Node(4a9b66603d1b6446899a1e7fcbbd2bd8378d4e61; [\"18fa8c4b19c95900a45b1f15d70f38061ba8482e_d87927e475744f6280feca8fd040dd42d07dba4a\"]; props: source=\"18fa8c4b19c95900a45b1f15d70f38061ba8482e\", target=\"d87927e475744f6280feca8fd040dd42d07dba4a\"), Node(1f202b1f065fa23292050731b1056b0bccae13d5; [\"18fa8c4b19c95900a45b1f15d70f38061ba8482e_4ea0d4a979741fbb57dd4cc9a2c05913a6ee875d\"]; props: source=\"18fa8c4b19c95900a45b1f15d70f38061ba8482e\", target=\"4ea0d4a979741fbb57dd4cc9a2c05913a6ee875d\"), Node(4604369b5140f9b8b90972945596312c45c72d28; [\"18fa8c4b19c95900a45b1f15d70f38061ba8482e_de6012ead358304ae31a499f29d380878219a256\"]; props: source=\"18fa8c4b19c95900a45b1f15d70f38061ba8482e\", target=\"de6012ead358304ae31a499f29d380878219a256\"), Node(15849bbcbdb7da8dd95a67d99c9227c3a2feea36; [\"18fa8c4b19c95900a45b1f15d70f38061ba8482e_3f9526f8d331b9519b8632a11b2d344ab7c647b6\"]; props: source=\"18fa8c4b19c95900a45b1f15d70f38061ba8482e\", target=\"3f9526f8d331b9519b8632a11b2d344ab7c647b6\"), Node(865137ba7faa827ea10259af79256b03fa2789dc; [\"18fa8c4b19c95900a45b1f15d70f38061ba8482e_8e5610e809bad1efe796848a86ecb9e28e1709b9\"]; props: source=\"18fa8c4b19c95900a45b1f15d70f38061ba8482e\", target=\"8e5610e809bad1efe796848a86ecb9e28e1709b9\")]\n",
      "Main.Graph.Node[Node(966ad5e5d23b8586ac43df4aa4264014ab4d4ce9; [\"38d1195b30acf496a9f22a46b2221818bf468d44_4b925186fe6753be2ed6908976e44e0f7630d40f\"]; props: source=\"38d1195b30acf496a9f22a46b2221818bf468d44\", target=\"4b925186fe6753be2ed6908976e44e0f7630d40f\"), Node(fb67889a1103ac16d991e732d87616e025d655f7; [\"38d1195b30acf496a9f22a46b2221818bf468d44_5c6ad737758c030a92351e80c15650712fa06108\"]; props: source=\"38d1195b30acf496a9f22a46b2221818bf468d44\", target=\"5c6ad737758c030a92351e80c15650712fa06108\"), Node(753387a5f2ded6f4fa60c568de1734edb4a2b81b; [\"38d1195b30acf496a9f22a46b2221818bf468d44_1d29c5326d2292d8717e189a12ca4bd4cbac8b76\"]; props: source=\"38d1195b30acf496a9f22a46b2221818bf468d44\", target=\"1d29c5326d2292d8717e189a12ca4bd4cbac8b76\"), Node(4a9b66603d1b6446899a1e7fcbbd2bd8378d4e61; [\"38d1195b30acf496a9f22a46b2221818bf468d44_d87927e475744f6280feca8fd040dd42d07dba4a\"]; props: source=\"38d1195b30acf496a9f22a46b2221818bf468d44\", target=\"d87927e475744f6280feca8fd040dd42d07dba4a\"), Node(1f202b1f065fa23292050731b1056b0bccae13d5; [\"38d1195b30acf496a9f22a46b2221818bf468d44_4ea0d4a979741fbb57dd4cc9a2c05913a6ee875d\"]; props: source=\"38d1195b30acf496a9f22a46b2221818bf468d44\", target=\"4ea0d4a979741fbb57dd4cc9a2c05913a6ee875d\"), Node(4604369b5140f9b8b90972945596312c45c72d28; [\"38d1195b30acf496a9f22a46b2221818bf468d44_de6012ead358304ae31a499f29d380878219a256\"]; props: source=\"38d1195b30acf496a9f22a46b2221818bf468d44\", target=\"de6012ead358304ae31a499f29d380878219a256\"), Node(e98500777064682e2323e1d2aa7fef88805da3cb; [\"38d1195b30acf496a9f22a46b2221818bf468d44_3f9526f8d331b9519b8632a11b2d344ab7c647b6\"]; props: source=\"38d1195b30acf496a9f22a46b2221818bf468d44\", target=\"3f9526f8d331b9519b8632a11b2d344ab7c647b6\"), Node(865137ba7faa827ea10259af79256b03fa2789dc; [\"38d1195b30acf496a9f22a46b2221818bf468d44_8e5610e809bad1efe796848a86ecb9e28e1709b9\"]; props: source=\"38d1195b30acf496a9f22a46b2221818bf468d44\", target=\"8e5610e809bad1efe796848a86ecb9e28e1709b9\")]\n",
      "Main.Graph.Node[Node(966ad5e5d23b8586ac43df4aa4264014ab4d4ce9; [\"21727ea4a11ba7492296a99253e9ba5ce4f5a591_4b925186fe6753be2ed6908976e44e0f7630d40f\"]; props: source=\"21727ea4a11ba7492296a99253e9ba5ce4f5a591\", target=\"4b925186fe6753be2ed6908976e44e0f7630d40f\"), Node(fb67889a1103ac16d991e732d87616e025d655f7; [\"21727ea4a11ba7492296a99253e9ba5ce4f5a591_5c6ad737758c030a92351e80c15650712fa06108\"]; props: source=\"21727ea4a11ba7492296a99253e9ba5ce4f5a591\", target=\"5c6ad737758c030a92351e80c15650712fa06108\"), Node(1a0994d3adeb82d9bdf8aaf490e77d46507e381c; [\"21727ea4a11ba7492296a99253e9ba5ce4f5a591_1d29c5326d2292d8717e189a12ca4bd4cbac8b76\"]; props: source=\"21727ea4a11ba7492296a99253e9ba5ce4f5a591\", target=\"1d29c5326d2292d8717e189a12ca4bd4cbac8b76\"), Node(4a9b66603d1b6446899a1e7fcbbd2bd8378d4e61; [\"21727ea4a11ba7492296a99253e9ba5ce4f5a591_d87927e475744f6280feca8fd040dd42d07dba4a\"]; props: source=\"21727ea4a11ba7492296a99253e9ba5ce4f5a591\", target=\"d87927e475744f6280feca8fd040dd42d07dba4a\"), Node(02bd66fea0a694e5aba8b2f03b87a74f59e182a6; [\"21727ea4a11ba7492296a99253e9ba5ce4f5a591_4ea0d4a979741fbb57dd4cc9a2c05913a6ee875d\"]; props: source=\"21727ea4a11ba7492296a99253e9ba5ce4f5a591\", target=\"4ea0d4a979741fbb57dd4cc9a2c05913a6ee875d\"), Node(4604369b5140f9b8b90972945596312c45c72d28; [\"21727ea4a11ba7492296a99253e9ba5ce4f5a591_de6012ead358304ae31a499f29d380878219a256\"]; props: source=\"21727ea4a11ba7492296a99253e9ba5ce4f5a591\", target=\"de6012ead358304ae31a499f29d380878219a256\"), Node(e98500777064682e2323e1d2aa7fef88805da3cb; [\"21727ea4a11ba7492296a99253e9ba5ce4f5a591_3f9526f8d331b9519b8632a11b2d344ab7c647b6\"]; props: source=\"21727ea4a11ba7492296a99253e9ba5ce4f5a591\", target=\"3f9526f8d331b9519b8632a11b2d344ab7c647b6\"), Node(865137ba7faa827ea10259af79256b03fa2789dc; [\"21727ea4a11ba7492296a99253e9ba5ce4f5a591_8e5610e809bad1efe796848a86ecb9e28e1709b9\"]; props: source=\"21727ea4a11ba7492296a99253e9ba5ce4f5a591\", target=\"8e5610e809bad1efe796848a86ecb9e28e1709b9\")]\n"
     ]
    }
   ],
   "source": [
    "\"\"\"\n",
    "    Running get_node_matrix function to extract row and column nodes from the csv file.\n",
    "    Each cell of the resulting matrix will hold a node that would represent an intersection\n",
    "    of corresponding row and column of the original csv file.\n",
    "\"\"\"\n",
    "node_matrix = Store.get_node_matrix(db, source_id)\n",
    "i = 0\n",
    "for row in eachrow(node_matrix)\n",
    "    if i < 20\n",
    "        println(row)\n",
    "    end\n",
    "    i += 1\n",
    "end"
   ]
  },
  {
   "cell_type": "code",
   "execution_count": 21,
   "metadata": {},
   "outputs": [
    {
     "name": "stdout",
     "output_type": "stream",
     "text": [
      "[\"[\\\"Serious\\\"]\", \"[\\\"Pedestrian\\\"]\", \"[\\\"Male\\\"]\", \"[]\", \"[\\\"Friday\\\"]\", \"[\\\"Kensington\\\",\\\"Chelsea\\\",\\\"and\\\"]\", \"[\\\"Motorcycle\\\",\\\"over\\\",\\\"and\\\"]\", \"[\\\"Not\\\",\\\"Pedestrian\\\",\\\"pedestrian\\\"]\"]\n",
      "[\"[\\\"Serious\\\"]\", \"[\\\"Pedestrian\\\"]\", \"[\\\"Female\\\"]\", \"[]\", \"[\\\"Wednesday\\\"]\", \"[\\\"Kensington\\\",\\\"Chelsea\\\",\\\"and\\\"]\", \"[\\\"car\\\",\\\"Taxi/Private\\\",\\\"and\\\",\\\"hire\\\"]\", \"[\\\"crossing\\\",\\\"Pedestrian\\\",\\\"Crossing\\\",\\\"ped.\\\",\\\"facility\\\"]\"]\n",
      "[\"[\\\"Serious\\\"]\", \"[\\\"rider\\\",\\\"Driver\\\"]\", \"[\\\"Male\\\"]\", \"[]\", \"[\\\"Monday\\\"]\", \"[\\\"Kensington\\\",\\\"Chelsea\\\",\\\"and\\\"]\", \"[\\\"cycle\\\",\\\"Motor\\\",\\\"and\\\",\\\"under\\\"]\", \"[\\\"crossing\\\",\\\"carriageway\\\",\\\"elsewhere\\\"]\"]\n",
      "[\"[\\\"Serious\\\"]\", \"[\\\"Pedestrian\\\"]\", \"[\\\"Male\\\"]\", \"[]\", \"[\\\"Monday\\\"]\", \"[\\\"Kensington\\\",\\\"Chelsea\\\",\\\"and\\\"]\", \"[\\\"cycle\\\",\\\"Motor\\\",\\\"and\\\",\\\"under\\\"]\", \"[\\\"Not\\\",\\\"Pedestrian\\\",\\\"pedestrian\\\"]\"]\n",
      "[\"[\\\"Serious\\\"]\", \"[\\\"Pedestrian\\\"]\", \"[\\\"Male\\\"]\", \"[]\", \"[\\\"Sunday\\\"]\", \"[\\\"Kensington\\\",\\\"Chelsea\\\",\\\"and\\\"]\", \"[\\\"Car\\\",\\\"and\\\"]\", \"[\\\"Not\\\",\\\"Pedestrian\\\",\\\"pedestrian\\\"]\"]\n",
      "[\"[\\\"Serious\\\"]\", \"[\\\"rider\\\",\\\"Driver\\\"]\", \"[\\\"Male\\\"]\", \"[]\", \"[\\\"Tuesday\\\"]\", \"[\\\"Kensington\\\",\\\"Chelsea\\\",\\\"and\\\"]\", \"[\\\"Motorcycle\\\",\\\"over\\\",\\\"and\\\"]\", \"[\\\"Not\\\",\\\"pedestrian\\\"]\"]\n",
      "[\"[\\\"Serious\\\"]\", \"[\\\"Pedestrian\\\"]\", \"[\\\"Male\\\"]\", \"[]\", \"[\\\"Thursday\\\"]\", \"[\\\"Kensington\\\",\\\"Chelsea\\\",\\\"and\\\"]\", \"[\\\"Car\\\",\\\"and\\\"]\", \"[\\\"Not\\\",\\\"Pedestrian\\\",\\\"pedestrian\\\"]\"]\n",
      "[\"[\\\"Serious\\\"]\", \"[\\\"rider\\\",\\\"Driver\\\"]\", \"[\\\"Male\\\"]\", \"[]\", \"[\\\"Friday\\\"]\", \"[\\\"Kensington\\\",\\\"Chelsea\\\",\\\"and\\\"]\", \"[\\\"Moped\\\",\\\"and\\\"]\", \"[\\\"Not\\\",\\\"pedestrian\\\"]\"]\n",
      "[\"[\\\"Serious\\\"]\", \"[\\\"Passenger\\\"]\", \"[\\\"Female\\\"]\", \"[]\", \"[\\\"Sunday\\\"]\", \"[\\\"Kensington\\\",\\\"Chelsea\\\",\\\"and\\\"]\", \"[\\\"Car\\\",\\\"and\\\"]\", \"[\\\"Not\\\",\\\"pedestrian\\\"]\"]\n",
      "[\"[\\\"Serious\\\"]\", \"[\\\"rider\\\",\\\"Driver\\\"]\", \"[\\\"Male\\\"]\", \"[]\", \"[\\\"Sunday\\\"]\", \"[\\\"Kensington\\\",\\\"Chelsea\\\",\\\"and\\\"]\", \"[\\\"cycle\\\",\\\"Motor\\\",\\\"and\\\",\\\"under\\\"]\", \"[\\\"Not\\\",\\\"pedestrian\\\"]\"]\n",
      "[\"[\\\"Serious\\\"]\", \"[\\\"rider\\\",\\\"Driver\\\"]\", \"[\\\"Male\\\"]\", \"[]\", \"[\\\"Sunday\\\"]\", \"[\\\"Kensington\\\",\\\"Chelsea\\\",\\\"and\\\"]\", \"[\\\"cycle\\\",\\\"and\\\",\\\"Pedal\\\"]\", \"[\\\"ped.crossing\\\",\\\"Crossing\\\",\\\"within\\\",\\\"elsewhere\\\"]\"]\n",
      "[\"[\\\"Serious\\\"]\", \"[\\\"rider\\\",\\\"Driver\\\"]\", \"[\\\"Male\\\"]\", \"[]\", \"[\\\"Wednesday\\\"]\", \"[\\\"Kensington\\\",\\\"Chelsea\\\",\\\"and\\\"]\", \"[\\\"cycle\\\",\\\"and\\\",\\\"Pedal\\\"]\", \"[\\\"crossing\\\",\\\"not\\\",\\\"carriageway\\\"]\"]\n",
      "[\"[\\\"Serious\\\"]\", \"[\\\"rider\\\",\\\"Driver\\\"]\", \"[\\\"Male\\\"]\", \"[]\", \"[\\\"Friday\\\"]\", \"[\\\"Kensington\\\",\\\"Chelsea\\\",\\\"and\\\"]\", \"[\\\"cycle\\\",\\\"and\\\",\\\"Pedal\\\"]\", \"[\\\"crossing\\\",\\\"Crossing\\\",\\\"ped.\\\",\\\"facility\\\"]\"]\n",
      "[\"[\\\"Serious\\\"]\", \"[\\\"rider\\\",\\\"Driver\\\"]\", \"[\\\"Female\\\"]\", \"[]\", \"[\\\"Thursday\\\"]\", \"[\\\"Kensington\\\",\\\"Chelsea\\\",\\\"and\\\"]\", \"[\\\"cycle\\\",\\\"Motor\\\",\\\"and\\\",\\\"under\\\"]\", \"[\\\"Not\\\",\\\"pedestrian\\\"]\"]\n",
      "[\"[\\\"Serious\\\"]\", \"[\\\"rider\\\",\\\"Driver\\\"]\", \"[\\\"Female\\\"]\", \"[]\", \"[\\\"Friday\\\"]\", \"[\\\"Kensington\\\",\\\"Chelsea\\\",\\\"and\\\"]\", \"[\\\"Car\\\",\\\"and\\\"]\", \"[\\\"Not\\\",\\\"pedestrian\\\"]\"]\n",
      "[\"[\\\"Serious\\\"]\", \"[\\\"rider\\\",\\\"Driver\\\"]\", \"[\\\"Male\\\"]\", \"[]\", \"[\\\"Monday\\\"]\", \"[\\\"Kensington\\\",\\\"Chelsea\\\",\\\"and\\\"]\", \"[\\\"cycle\\\",\\\"Motor\\\",\\\"and\\\",\\\"under\\\"]\", \"[\\\"Not\\\",\\\"pedestrian\\\"]\"]\n",
      "[\"[\\\"Serious\\\"]\", \"[\\\"rider\\\",\\\"Driver\\\"]\", \"[\\\"Male\\\"]\", \"[]\", \"[\\\"Wednesday\\\"]\", \"[\\\"Kensington\\\",\\\"Chelsea\\\",\\\"and\\\"]\", \"[\\\"cycle\\\",\\\"Motor\\\",\\\"and\\\",\\\"under\\\"]\", \"[\\\"crossing\\\",\\\"not\\\",\\\"carriageway\\\"]\"]\n",
      "[\"[\\\"Serious\\\"]\", \"[\\\"Pedestrian\\\"]\", \"[\\\"Female\\\"]\", \"[]\", \"[\\\"Tuesday\\\"]\", \"[\\\"Kensington\\\",\\\"Chelsea\\\",\\\"and\\\"]\", \"[\\\"and\\\",\\\"weight\\\",\\\"Goods\\\",\\\"tonnes\\\",\\\"gross\\\",\\\"maximum\\\",\\\"under\\\"]\", \"[\\\"Not\\\",\\\"Pedestrian\\\",\\\"pedestrian\\\"]\"]\n",
      "[\"[\\\"Serious\\\"]\", \"[\\\"Pedestrian\\\"]\", \"[\\\"Female\\\"]\", \"[]\", \"[\\\"Tuesday\\\"]\", \"[\\\"Kensington\\\",\\\"Chelsea\\\",\\\"and\\\"]\", \"[\\\"Car\\\",\\\"and\\\"]\", \"[\\\"Not\\\",\\\"Pedestrian\\\",\\\"pedestrian\\\"]\"]\n",
      "[\"[\\\"Serious\\\"]\", \"[\\\"Pedestrian\\\"]\", \"[\\\"Male\\\"]\", \"[]\", \"[\\\"Thursday\\\"]\", \"[\\\"Kensington\\\",\\\"Chelsea\\\",\\\"and\\\"]\", \"[\\\"Car\\\",\\\"and\\\"]\", \"[\\\"Not\\\",\\\"Pedestrian\\\",\\\"pedestrian\\\"]\"]\n"
     ]
    }
   ],
   "source": [
    "\"\"\"\n",
    "    Finally we are going to recreate the original csv file (a sample in our case) \n",
    "    from the node matrix.\n",
    "\n",
    "    Important to keep in mind that the results of each cell in the matrix would not be the same \n",
    "    as in the original csv file.\n",
    "    Possible discrepancies can include wrong order on tokens in multitoken cells, \n",
    "    missing cells, etc.\n",
    "    It is a natural result of the probalistic approximation performed on original csv file.\n",
    "    The original csv file was tokenized, compacted into HllSet, and then reconstructed.\n",
    "\"\"\"\n",
    "value_matrix = Store.get_value_matrix(db, source_id)\n",
    "i = 0\n",
    "for row in eachrow(value_matrix)\n",
    "    if i < 20\n",
    "        println(row)\n",
    "    end\n",
    "    i += 1\n",
    "    # println(row)\n",
    "end"
   ]
  }
 ],
 "metadata": {
  "kernelspec": {
   "display_name": "Julia 1.10.2",
   "language": "julia",
   "name": "julia-1.10"
  },
  "language_info": {
   "file_extension": ".jl",
   "mimetype": "application/julia",
   "name": "julia",
   "version": "1.10.2"
  }
 },
 "nbformat": 4,
 "nbformat_minor": 2
}
