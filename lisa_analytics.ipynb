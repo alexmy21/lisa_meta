{
 "cells": [
  {
   "cell_type": "code",
   "execution_count": 1,
   "metadata": {},
   "outputs": [],
   "source": [
    "include(\"src/lisa_store.jl\")\n",
    "using ..Graph\n",
    "using SQLite\n",
    "using DBInterface\n",
    "using MurmurHash3\n",
    "using TextAnalysis\n",
    "using JSON3\n",
    "using PooledArrays\n",
    "using UUIDs\n",
    "using EasyConfig\n",
    "using HDF5\n"
   ]
  },
  {
   "cell_type": "markdown",
   "metadata": {},
   "source": [
    "# Domains and co-domains\n",
    "\n",
    "Here we'll try to reduce ambiguity of tracing tokens from the HllSet presentation.  \n",
    "\n",
    "The consistency of conversion of datasets to HllSets depends on two factors:\n",
    "\n",
    " 1. The $p$ parameter that defines the precision of the conversion through the number of bins;\n",
    " 2. The type of a hash function that we are using.\n",
    "\n",
    "Specifically, the output from hash function depends on the seed values used in initiating of the hash function. Applying different seed values we can control the generated hashes.\n",
    "\n",
    "Here is an idea of the algorithm:\n",
    "\n",
    " 1. We are performing the dataset processing as usual, utilizing standard hash function:\n",
    "\n",
    "$$F_{(std)}: X_{(std)} \\to Y_{(std)}$$\n",
    "\n",
    " 2. Then we are tracing original tokens by applying back processing:\n",
    "\n",
    "$$G_{(std)}: Y_{(std)} \\to X_{(std)}$$\n",
    "\n",
    " 3. Now we can perform the same dataset processing using the same hash function but with different seed values:\n",
    "\n",
    "$$F_{(seed)}: X_{(seed)} \\to Y_{(seed)}$$\n",
    "\n",
    " 4. And we will trace back the results from modified hash function:\n",
    "\n",
    "$$G_{(seed)}: Y_{(seed)} \\to X_{(seed)}$$\n",
    "\n",
    "It is possible, that\n",
    "\n",
    " $$X_{(seed)} \\not= X_{(std)}$$\n",
    "\n",
    "But it is also obvious, that tokens from the original dataset should be in both results.\n",
    "\n",
    "## Standard processing\n"
   ]
  },
  {
   "cell_type": "code",
   "execution_count": 2,
   "metadata": {},
   "outputs": [
    {
     "data": {
      "text/plain": [
       "SQLite.DB(\"lisa_analytics.db\")"
      ]
     },
     "execution_count": 2,
     "metadata": {},
     "output_type": "execute_result"
    }
   ],
   "source": [
    "db = Graph.DB(\"lisa_analytics.db\")\n",
    "db.sqlitedb"
   ]
  },
  {
   "cell_type": "code",
   "execution_count": 3,
   "metadata": {},
   "outputs": [],
   "source": [
    "Store.book_file(db, \"/home/alexmy/JULIA/DEMO/sample/\")"
   ]
  },
  {
   "cell_type": "code",
   "execution_count": 4,
   "metadata": {},
   "outputs": [
    {
     "name": "stdout",
     "output_type": "stream",
     "text": [
      "\u001b[1m2×7 DataFrame\u001b[0m\n",
      "\u001b[1m Row \u001b[0m│\u001b[1m id                                \u001b[0m\u001b[1m parent                         \u001b[0m\u001b[1m item                              \u001b[0m\u001b[1m a_type \u001b[0m\u001b[1m processor_id \u001b[0m\u001b[1m lock_uuid                         \u001b[0m\u001b[1m status  \u001b[0m\n",
      "     │\u001b[90m String                            \u001b[0m\u001b[90m String                         \u001b[0m\u001b[90m String                            \u001b[0m\u001b[90m String \u001b[0m\u001b[90m String       \u001b[0m\u001b[90m String                            \u001b[0m\u001b[90m String  \u001b[0m\n",
      "─────┼────────────────────────────────────────────────────────────────────────────────────────────────────────────────────────────────────────────────────────────────────────\n",
      "   1 │ 0b90b1fee69c77ffa3efe57db7788112…  /home/alexmy/JULIA/DEMO/sample  /home/alexmy/JULIA/DEMO/sample/I…  csv     ingest_csv    5dd63530-7d0c-4afd-8514-0cd169f8…  waiting\n",
      "   2 │ 6be12bee4edf7c96016907e44bb520be…  /home/alexmy/JULIA/DEMO/sample  /home/alexmy/JULIA/DEMO/sample/R…  csv     ingest_csv    5dd63530-7d0c-4afd-8514-0cd169f8…  waiting\n",
      "Assignment(0b90b1fee69c77ffa3efe57db7788112ef96dba6, /home/alexmy/JULIA/DEMO/sample, /home/alexmy/JULIA/DEMO/sample/Isc_london-ksi-only-since2010.csv, csv, ingest_csv, 5dd63530-7d0c-4afd-8514-0cd169f889d4, waiting)\n",
      "[\"Easting\", \"Northing\", \"Severity_of_casualty\", \"Casualty Class\", \"Sex\", \"Age\", \"Date\", \"Day_of_week\", \"Hour_of_day\", \"Local_authority\", \"Vehicle_type\", \"Pedestrian_Locality\"]\n",
      "edge: Edge(0b90b1fee69c77ffa3efe57db7788112ef96dba6, 42d78f622a7acd625af6643c419b0d462a967f00, \"has_column\"; source=\"/home/alexmy/JULIA/DEMO/sample/Isc_london-ksi-only-since2010.csv\", target=\"Severity_of_casualty\", source_label=\"csv_file\", target_label=\"csv_column\")\n",
      "edge: Edge(0b90b1fee69c77ffa3efe57db7788112ef96dba6, 48d3028983aa5e6b7c3bedefeda686acacfb1257, \"has_column\"; source=\"/home/alexmy/JULIA/DEMO/sample/Isc_london-ksi-only-since2010.csv\", target=\"Casualty Class\", source_label=\"csv_file\", target_label=\"csv_column\")\n",
      "edge: Edge(0b90b1fee69c77ffa3efe57db7788112ef96dba6, 593c66c6d82d797a818caee475cd32abe120db76, \"has_column\"; source=\"/home/alexmy/JULIA/DEMO/sample/Isc_london-ksi-only-since2010.csv\", target=\"Sex\", source_label=\"csv_file\", target_label=\"csv_column\")\n",
      "edge: Edge(0b90b1fee69c77ffa3efe57db7788112ef96dba6, 5b3f4a68cdaf988b8f353b916ff9cfc9c95466f3, \"has_column\"; source=\"/home/alexmy/JULIA/DEMO/sample/Isc_london-ksi-only-since2010.csv\", target=\"Date\", source_label=\"csv_file\", target_label=\"csv_column\")\n",
      "edge: Edge(0b90b1fee69c77ffa3efe57db7788112ef96dba6, cfb6e7a15f1e23c3bdf8709f2b69ef87888db68d, \"has_column\"; source=\"/home/alexmy/JULIA/DEMO/sample/Isc_london-ksi-only-since2010.csv\", target=\"Day_of_week\", source_label=\"csv_file\", target_label=\"csv_column\")\n",
      "edge: Edge(0b90b1fee69c77ffa3efe57db7788112ef96dba6, 281ab3fcb33cac77b39d7c4bf10a344e3237300f, \"has_column\"; source=\"/home/alexmy/JULIA/DEMO/sample/Isc_london-ksi-only-since2010.csv\", target=\"Local_authority\", source_label=\"csv_file\", target_label=\"csv_column\")\n",
      "edge: Edge(0b90b1fee69c77ffa3efe57db7788112ef96dba6, f7102479cf5aea9d30d7ff9b9de09a8ea5937f13, \"has_column\"; source=\"/home/alexmy/JULIA/DEMO/sample/Isc_london-ksi-only-since2010.csv\", target=\"Vehicle_type\", source_label=\"csv_file\", target_label=\"csv_column\")\n",
      "edge: Edge(0b90b1fee69c77ffa3efe57db7788112ef96dba6, aef66fa6e6870ff9f90fdf69ea9875f3a702386d, \"has_column\"; source=\"/home/alexmy/JULIA/DEMO/sample/Isc_london-ksi-only-since2010.csv\", target=\"Pedestrian_Locality\", source_label=\"csv_file\", target_label=\"csv_column\")\n",
      "Processed column: 8\n",
      "Assignment(6be12bee4edf7c96016907e44bb520be80dc9232, /home/alexmy/JULIA/DEMO/sample, /home/alexmy/JULIA/DEMO/sample/R1o_london-rtc-since2010-lsoa-msoa-ward.csv, csv, ingest_csv, 5dd63530-7d0c-4afd-8514-0cd169f889d4, waiting)\n",
      "[\"Lower_Super_Output_Area\", \"Easting\", \"Northing\", \"MSOA11CD\", \"Ward_code\", \"Local_authority_based_on_Easting_Northing\", \"Ref\", \"Severity_of_casualty\", \"Casualty_Class\", \"Sex\", \"Age\", \"Day\", \"Month\", \"Year\", \"Date\", \"Day_of_week\", \"Hour_of_day\", \"Local_authority\", \"Vehicle_type\", \"Pedestrian_Locality\"]\n",
      "edge: Edge(6be12bee4edf7c96016907e44bb520be80dc9232, dc1e0ab28b747f26d1971ca80417fbe7883bdf26, \"has_column\"; source=\"/home/alexmy/JULIA/DEMO/sample/R1o_london-rtc-since2010-lsoa-msoa-ward.csv\", target=\"Lower_Super_Output_Area\", source_label=\"csv_file\", target_label=\"csv_column\")\n",
      "edge: Edge(6be12bee4edf7c96016907e44bb520be80dc9232, 18d9d853910a574572553ab24e49045b9c18b5f2, \"has_column\"; source=\"/home/alexmy/JULIA/DEMO/sample/R1o_london-rtc-since2010-lsoa-msoa-ward.csv\", target=\"MSOA11CD\", source_label=\"csv_file\", target_label=\"csv_column\")\n",
      "edge: Edge(6be12bee4edf7c96016907e44bb520be80dc9232, 935f1c30e08aef47c1bd0a4dcb9c98d7a7eedbb7, \"has_column\"; source=\"/home/alexmy/JULIA/DEMO/sample/R1o_london-rtc-since2010-lsoa-msoa-ward.csv\", target=\"Ward_code\", source_label=\"csv_file\", target_label=\"csv_column\")\n",
      "edge: Edge(6be12bee4edf7c96016907e44bb520be80dc9232, 572652fd0e808b53ffb7d4043cf53fdaba121437, \"has_column\"; source=\"/home/alexmy/JULIA/DEMO/sample/R1o_london-rtc-since2010-lsoa-msoa-ward.csv\", target=\"Local_authority_based_on_Easting_Northing\", source_label=\"csv_file\", target_label=\"csv_column\")\n",
      "edge: Edge(6be12bee4edf7c96016907e44bb520be80dc9232, 83844dc0da738f19adbb5976e272c117fdc0f24c, \"has_column\"; source=\"/home/alexmy/JULIA/DEMO/sample/R1o_london-rtc-since2010-lsoa-msoa-ward.csv\", target=\"Ref\", source_label=\"csv_file\", target_label=\"csv_column\")\n",
      "edge: Edge(6be12bee4edf7c96016907e44bb520be80dc9232, 438b75dbeb1cadb93f3a6fbc19367660ef5f6dc1, \"has_column\"; source=\"/home/alexmy/JULIA/DEMO/sample/R1o_london-rtc-since2010-lsoa-msoa-ward.csv\", target=\"Severity_of_casualty\", source_label=\"csv_file\", target_label=\"csv_column\")\n",
      "edge: Edge(6be12bee4edf7c96016907e44bb520be80dc9232, 7aea50d3cc497b6a581595f286d9c135edda3079, \"has_column\"; source=\"/home/alexmy/JULIA/DEMO/sample/R1o_london-rtc-since2010-lsoa-msoa-ward.csv\", target=\"Casualty_Class\", source_label=\"csv_file\", target_label=\"csv_column\")\n",
      "edge: Edge(6be12bee4edf7c96016907e44bb520be80dc9232, abe1c6f48f6122e051e90390122b74ba87523bf4, \"has_column\"; source=\"/home/alexmy/JULIA/DEMO/sample/R1o_london-rtc-since2010-lsoa-msoa-ward.csv\", target=\"Sex\", source_label=\"csv_file\", target_label=\"csv_column\")\n",
      "edge: Edge(6be12bee4edf7c96016907e44bb520be80dc9232, ffd22aed843e4e7ace8a7777bbb64d84aa128978, \"has_column\"; source=\"/home/alexmy/JULIA/DEMO/sample/R1o_london-rtc-since2010-lsoa-msoa-ward.csv\", target=\"Age\", source_label=\"csv_file\", target_label=\"csv_column\")\n",
      "edge: Edge(6be12bee4edf7c96016907e44bb520be80dc9232, 9313acc90e3c7c9756be08783d4495b18d81b1da, \"has_column\"; source=\"/home/alexmy/JULIA/DEMO/sample/R1o_london-rtc-since2010-lsoa-msoa-ward.csv\", target=\"Month\", source_label=\"csv_file\", target_label=\"csv_column\")\n",
      "edge: Edge(6be12bee4edf7c96016907e44bb520be80dc9232, ae6d29bbcd75fccd4a551926406d17b02cfd26d0, \"has_column\"; source=\"/home/alexmy/JULIA/DEMO/sample/R1o_london-rtc-since2010-lsoa-msoa-ward.csv\", target=\"Date\", source_label=\"csv_file\", target_label=\"csv_column\")\n",
      "edge: Edge(6be12bee4edf7c96016907e44bb520be80dc9232, 7d79e92caed9fbb7cae9183553fd4ac8a1489672, \"has_column\"; source=\"/home/alexmy/JULIA/DEMO/sample/R1o_london-rtc-since2010-lsoa-msoa-ward.csv\", target=\"Day_of_week\", source_label=\"csv_file\", target_label=\"csv_column\")\n",
      "edge: Edge(6be12bee4edf7c96016907e44bb520be80dc9232, fad50556f1ea3aee5dd2af64c50e97dd3a338598, \"has_column\"; source=\"/home/alexmy/JULIA/DEMO/sample/R1o_london-rtc-since2010-lsoa-msoa-ward.csv\", target=\"Local_authority\", source_label=\"csv_file\", target_label=\"csv_column\")\n",
      "edge: Edge(6be12bee4edf7c96016907e44bb520be80dc9232, 16928254e9181976c66327b4ac1a7cc95ba76194, \"has_column\"; source=\"/home/alexmy/JULIA/DEMO/sample/R1o_london-rtc-since2010-lsoa-msoa-ward.csv\", target=\"Vehicle_type\", source_label=\"csv_file\", target_label=\"csv_column\")\n",
      "edge: Edge(6be12bee4edf7c96016907e44bb520be80dc9232, 5e0ab32e5587e2da30dea7eb8ad7c632541f9a19, \"has_column\"; source=\"/home/alexmy/JULIA/DEMO/sample/R1o_london-rtc-since2010-lsoa-msoa-ward.csv\", target=\"Pedestrian_Locality\", source_label=\"csv_file\", target_label=\"csv_column\")\n",
      "Processed column: 15\n"
     ]
    }
   ],
   "source": [
    "uuid = string(uuid4())\n",
    "df = Graph.set_lock!(db, \n",
    "    \"/home/alexmy/JULIA/DEMO/sample\", \n",
    "    \"csv\", \n",
    "    \"book_file\", \n",
    "    \"ingest_csv\", \n",
    "    \"waiting\", \n",
    "    \"waiting\", \n",
    "    uuid; result=true)\n",
    "\n",
    "println(df)\n",
    "\n",
    "for row in eachrow(df)\n",
    "    assign = Graph.Assignment(row) \n",
    "    println(assign)\n",
    "    col_uuid = string(uuid4())\n",
    "    Store.ingest_csv_by_column(db, assign, col_uuid) #; limit=10000, offset=10)\n",
    "end"
   ]
  },
  {
   "cell_type": "code",
   "execution_count": 5,
   "metadata": {},
   "outputs": [
    {
     "name": "stdout",
     "output_type": "stream",
     "text": [
      "ArgumentError(\"collection must be non-empty\")\n"
     ]
    }
   ],
   "source": [
    "ds_id = \"3f9526f8d331b9519b8632a11b2d344ab7c647b6\"\n",
    "try\n",
    "    node = Graph.getnode(db, ds_id, :; table_name=\"t_nodes\")\n",
    "    println(node)\n",
    "catch e\n",
    "    println(e)\n",
    "end"
   ]
  },
  {
   "cell_type": "code",
   "execution_count": 6,
   "metadata": {},
   "outputs": [
    {
     "name": "stdout",
     "output_type": "stream",
     "text": [
      "Set{String}()\n"
     ]
    }
   ],
   "source": [
    "result = Graph.gettokens(db, \"3f9526f8d331b9519b8632a11b2d344ab7c647b6\", :)\n",
    "tokens = Store.collect_tokens(db, result)\n",
    "println(tokens)"
   ]
  },
  {
   "cell_type": "markdown",
   "metadata": {},
   "source": [
    "## Processing with seeded hash\n",
    "\n",
    "We'll go through the same steps with the same params except the database.\n",
    " - the db name would be \"db_seed.db\"\n",
    "  "
   ]
  },
  {
   "cell_type": "code",
   "execution_count": 7,
   "metadata": {},
   "outputs": [
    {
     "data": {
      "text/plain": [
       "Graph.DB(\"db_seed.db\") (34 assignments, 0 commits, 106 tokens, 0 nodes, 0 edges25 t_nodes, 23 t_edges)"
      ]
     },
     "execution_count": 7,
     "metadata": {},
     "output_type": "execute_result"
    }
   ],
   "source": [
    "db_seed = Graph.DB(\"db_seed.db\")"
   ]
  },
  {
   "cell_type": "code",
   "execution_count": 8,
   "metadata": {},
   "outputs": [],
   "source": [
    "Store.book_file(db_seed, \"/home/alexmy/JULIA/DEMO/sample/\"; seed=42, P=10)"
   ]
  },
  {
   "cell_type": "code",
   "execution_count": 9,
   "metadata": {},
   "outputs": [
    {
     "name": "stdout",
     "output_type": "stream",
     "text": [
      "[\"Easting\", \"Northing\", \"Severity_of_casualty\", \"Casualty Class\", \"Sex\", \"Age\", \"Date\", \"Day_of_week\", \"Hour_of_day\", \"Local_authority\", \"Vehicle_type\", \"Pedestrian_Locality\"]\n",
      "edge: Edge(0b90b1fee69c77ffa3efe57db7788112ef96dba6, 48d3028983aa5e6b7c3bedefeda686acacfb1257, \"has_column\"; source=\"/home/alexmy/JULIA/DEMO/sample/Isc_london-ksi-only-since2010.csv\", target=\"Casualty Class\", source_label=\"csv_file\", target_label=\"csv_column\")\n",
      "edge: Edge(0b90b1fee69c77ffa3efe57db7788112ef96dba6, 593c66c6d82d797a818caee475cd32abe120db76, \"has_column\"; source=\"/home/alexmy/JULIA/DEMO/sample/Isc_london-ksi-only-since2010.csv\", target=\"Sex\", source_label=\"csv_file\", target_label=\"csv_column\")\n",
      "edge: Edge(0b90b1fee69c77ffa3efe57db7788112ef96dba6, 5b3f4a68cdaf988b8f353b916ff9cfc9c95466f3, \"has_column\"; source=\"/home/alexmy/JULIA/DEMO/sample/Isc_london-ksi-only-since2010.csv\", target=\"Date\", source_label=\"csv_file\", target_label=\"csv_column\")\n",
      "edge: Edge(0b90b1fee69c77ffa3efe57db7788112ef96dba6, 42d78f622a7acd625af6643c419b0d462a967f00, \"has_column\"; source=\"/home/alexmy/JULIA/DEMO/sample/Isc_london-ksi-only-since2010.csv\", target=\"Severity_of_casualty\", source_label=\"csv_file\", target_label=\"csv_column\")\n",
      "edge: Edge(0b90b1fee69c77ffa3efe57db7788112ef96dba6, cfb6e7a15f1e23c3bdf8709f2b69ef87888db68d, \"has_column\"; source=\"/home/alexmy/JULIA/DEMO/sample/Isc_london-ksi-only-since2010.csv\", target=\"Day_of_week\", source_label=\"csv_file\", target_label=\"csv_column\")\n",
      "edge: Edge(0b90b1fee69c77ffa3efe57db7788112ef96dba6, 281ab3fcb33cac77b39d7c4bf10a344e3237300f, \"has_column\"; source=\"/home/alexmy/JULIA/DEMO/sample/Isc_london-ksi-only-since2010.csv\", target=\"Local_authority\", source_label=\"csv_file\", target_label=\"csv_column\")\n",
      "edge: Edge(0b90b1fee69c77ffa3efe57db7788112ef96dba6, f7102479cf5aea9d30d7ff9b9de09a8ea5937f13, \"has_column\"; source=\"/home/alexmy/JULIA/DEMO/sample/Isc_london-ksi-only-since2010.csv\", target=\"Vehicle_type\", source_label=\"csv_file\", target_label=\"csv_column\")\n",
      "edge: Edge(0b90b1fee69c77ffa3efe57db7788112ef96dba6, aef66fa6e6870ff9f90fdf69ea9875f3a702386d, \"has_column\"; source=\"/home/alexmy/JULIA/DEMO/sample/Isc_london-ksi-only-since2010.csv\", target=\"Pedestrian_Locality\", source_label=\"csv_file\", target_label=\"csv_column\")\n",
      "Processed column: 8\n",
      "[\"Lower_Super_Output_Area\", \"Easting\", \"Northing\", \"MSOA11CD\", \"Ward_code\", \"Local_authority_based_on_Easting_Northing\", \"Ref\", \"Severity_of_casualty\", \"Casualty_Class\", \"Sex\", \"Age\", \"Day\", \"Month\", \"Year\", \"Date\", \"Day_of_week\", \"Hour_of_day\", \"Local_authority\", \"Vehicle_type\", \"Pedestrian_Locality\"]\n",
      "edge: Edge(6be12bee4edf7c96016907e44bb520be80dc9232, 18d9d853910a574572553ab24e49045b9c18b5f2, \"has_column\"; source=\"/home/alexmy/JULIA/DEMO/sample/R1o_london-rtc-since2010-lsoa-msoa-ward.csv\", target=\"MSOA11CD\", source_label=\"csv_file\", target_label=\"csv_column\")\n",
      "edge: Edge(6be12bee4edf7c96016907e44bb520be80dc9232, 83844dc0da738f19adbb5976e272c117fdc0f24c, \"has_column\"; source=\"/home/alexmy/JULIA/DEMO/sample/R1o_london-rtc-since2010-lsoa-msoa-ward.csv\", target=\"Ref\", source_label=\"csv_file\", target_label=\"csv_column\")\n",
      "edge: Edge(6be12bee4edf7c96016907e44bb520be80dc9232, abe1c6f48f6122e051e90390122b74ba87523bf4, \"has_column\"; source=\"/home/alexmy/JULIA/DEMO/sample/R1o_london-rtc-since2010-lsoa-msoa-ward.csv\", target=\"Sex\", source_label=\"csv_file\", target_label=\"csv_column\")\n",
      "edge: Edge(6be12bee4edf7c96016907e44bb520be80dc9232, ffd22aed843e4e7ace8a7777bbb64d84aa128978, \"has_column\"; source=\"/home/alexmy/JULIA/DEMO/sample/R1o_london-rtc-since2010-lsoa-msoa-ward.csv\", target=\"Age\", source_label=\"csv_file\", target_label=\"csv_column\")\n",
      "edge: Edge(6be12bee4edf7c96016907e44bb520be80dc9232, 9313acc90e3c7c9756be08783d4495b18d81b1da, \"has_column\"; source=\"/home/alexmy/JULIA/DEMO/sample/R1o_london-rtc-since2010-lsoa-msoa-ward.csv\", target=\"Month\", source_label=\"csv_file\", target_label=\"csv_column\")\n",
      "edge: Edge(6be12bee4edf7c96016907e44bb520be80dc9232, ae6d29bbcd75fccd4a551926406d17b02cfd26d0, \"has_column\"; source=\"/home/alexmy/JULIA/DEMO/sample/R1o_london-rtc-since2010-lsoa-msoa-ward.csv\", target=\"Date\", source_label=\"csv_file\", target_label=\"csv_column\")\n",
      "edge: Edge(6be12bee4edf7c96016907e44bb520be80dc9232, dc1e0ab28b747f26d1971ca80417fbe7883bdf26, \"has_column\"; source=\"/home/alexmy/JULIA/DEMO/sample/R1o_london-rtc-since2010-lsoa-msoa-ward.csv\", target=\"Lower_Super_Output_Area\", source_label=\"csv_file\", target_label=\"csv_column\")\n",
      "edge: Edge(6be12bee4edf7c96016907e44bb520be80dc9232, 935f1c30e08aef47c1bd0a4dcb9c98d7a7eedbb7, \"has_column\"; source=\"/home/alexmy/JULIA/DEMO/sample/R1o_london-rtc-since2010-lsoa-msoa-ward.csv\", target=\"Ward_code\", source_label=\"csv_file\", target_label=\"csv_column\")\n",
      "edge: Edge(6be12bee4edf7c96016907e44bb520be80dc9232, 572652fd0e808b53ffb7d4043cf53fdaba121437, \"has_column\"; source=\"/home/alexmy/JULIA/DEMO/sample/R1o_london-rtc-since2010-lsoa-msoa-ward.csv\", target=\"Local_authority_based_on_Easting_Northing\", source_label=\"csv_file\", target_label=\"csv_column\")\n",
      "edge: Edge(6be12bee4edf7c96016907e44bb520be80dc9232, 438b75dbeb1cadb93f3a6fbc19367660ef5f6dc1, \"has_column\"; source=\"/home/alexmy/JULIA/DEMO/sample/R1o_london-rtc-since2010-lsoa-msoa-ward.csv\", target=\"Severity_of_casualty\", source_label=\"csv_file\", target_label=\"csv_column\")\n",
      "edge: Edge(6be12bee4edf7c96016907e44bb520be80dc9232, 7aea50d3cc497b6a581595f286d9c135edda3079, \"has_column\"; source=\"/home/alexmy/JULIA/DEMO/sample/R1o_london-rtc-since2010-lsoa-msoa-ward.csv\", target=\"Casualty_Class\", source_label=\"csv_file\", target_label=\"csv_column\")\n",
      "edge: Edge(6be12bee4edf7c96016907e44bb520be80dc9232, 7d79e92caed9fbb7cae9183553fd4ac8a1489672, \"has_column\"; source=\"/home/alexmy/JULIA/DEMO/sample/R1o_london-rtc-since2010-lsoa-msoa-ward.csv\", target=\"Day_of_week\", source_label=\"csv_file\", target_label=\"csv_column\")\n",
      "edge: Edge(6be12bee4edf7c96016907e44bb520be80dc9232, fad50556f1ea3aee5dd2af64c50e97dd3a338598, \"has_column\"; source=\"/home/alexmy/JULIA/DEMO/sample/R1o_london-rtc-since2010-lsoa-msoa-ward.csv\", target=\"Local_authority\", source_label=\"csv_file\", target_label=\"csv_column\")\n",
      "edge: Edge(6be12bee4edf7c96016907e44bb520be80dc9232, 16928254e9181976c66327b4ac1a7cc95ba76194, \"has_column\"; source=\"/home/alexmy/JULIA/DEMO/sample/R1o_london-rtc-since2010-lsoa-msoa-ward.csv\", target=\"Vehicle_type\", source_label=\"csv_file\", target_label=\"csv_column\")\n",
      "edge: Edge(6be12bee4edf7c96016907e44bb520be80dc9232, 5e0ab32e5587e2da30dea7eb8ad7c632541f9a19, \"has_column\"; source=\"/home/alexmy/JULIA/DEMO/sample/R1o_london-rtc-since2010-lsoa-msoa-ward.csv\", target=\"Pedestrian_Locality\", source_label=\"csv_file\", target_label=\"csv_column\")\n",
      "Processed column: 15\n"
     ]
    }
   ],
   "source": [
    "uuid = string(uuid4())\n",
    "df = Graph.set_lock!(db_seed, \n",
    "    \"/home/alexmy/JULIA/DEMO/sample\", \n",
    "    \"csv\", \n",
    "    \"book_file\", \n",
    "    \"ingest_csv\", \n",
    "    \"waiting\", \n",
    "    \"waiting\", \n",
    "    uuid; result=true)\n",
    "\n",
    "for row in eachrow(df)\n",
    "    assign = Graph.Assignment(row) \n",
    "    col_uuid = string(uuid4())\n",
    "    # Important, do not forget to set HllSet precission parameter p to 8\n",
    "    Store.ingest_csv_by_column(db_seed, assign, col_uuid; limit=10000, offset=10, p=10, seed=42)\n",
    "end"
   ]
  },
  {
   "cell_type": "markdown",
   "metadata": {},
   "source": [
    "### We are getting the dataset directly from **nodes** table of the \"db_seed.db\" database.\n",
    "\n",
    "We are utilizing the fact that SHA1 node ID is not affected by changing the hash function for the tokens encoding."
   ]
  },
  {
   "cell_type": "code",
   "execution_count": 10,
   "metadata": {},
   "outputs": [
    {
     "data": {
      "text/plain": [
       "Node(3f9526f8d331b9519b8632a11b2d344ab7c647b6; [\"csv_column\"]; props: column_name=\"Vehicle type\", file_sha1=\"0b90b1fee69c77ffa3efe57db7788112ef96dba6\", column_type=\"String\")"
      ]
     },
     "execution_count": 10,
     "metadata": {},
     "output_type": "execute_result"
    }
   ],
   "source": [
    "ds_id = \"3f9526f8d331b9519b8632a11b2d344ab7c647b6\"\n",
    "node_seed = Graph.getnode(db_seed, ds_id, :; table_name=\"t_nodes\")"
   ]
  },
  {
   "cell_type": "code",
   "execution_count": 11,
   "metadata": {},
   "outputs": [
    {
     "name": "stdout",
     "output_type": "stream",
     "text": [
      "Set{String}()\n"
     ]
    }
   ],
   "source": [
    "result = Graph.gettokens(db, \"3f9526f8d331b9519b8632a11b2d344ab7c647b6\", :)\n",
    "tokens_seed = Store.collect_tokens(db_seed, result)\n",
    "println(tokens_seed)"
   ]
  },
  {
   "cell_type": "code",
   "execution_count": 12,
   "metadata": {},
   "outputs": [
    {
     "data": {
      "text/plain": [
       "Set{String}()"
      ]
     },
     "execution_count": 12,
     "metadata": {},
     "output_type": "execute_result"
    }
   ],
   "source": [
    "intersection = intersect(tokens, tokens_seed)"
   ]
  },
  {
   "cell_type": "code",
   "execution_count": 13,
   "metadata": {},
   "outputs": [
    {
     "name": "stdout",
     "output_type": "stream",
     "text": [
      "tokens size: 0;\n",
      "tokens_seed size: 0;\n",
      "intersection size: 0\n"
     ]
    }
   ],
   "source": [
    "println(\"tokens size: \", length(tokens), \n",
    "    \";\\ntokens_seed size: \", length(tokens_seed), \n",
    "    \";\\nintersection size: \", length(intersection))"
   ]
  },
  {
   "cell_type": "markdown",
   "metadata": {},
   "source": [
    "### Lets check how use of a seeded hash affected HllSets"
   ]
  },
  {
   "cell_type": "code",
   "execution_count": 22,
   "metadata": {},
   "outputs": [
    {
     "name": "stdout",
     "output_type": "stream",
     "text": [
      "UndefVarError(:node)\n"
     ]
    }
   ],
   "source": [
    "try\n",
    "    hll_std = SetCore.HllSet{10}()\n",
    "    hll_seed = SetCore.HllSet{10}()\n",
    "\n",
    "    dataset_std = node.dataset\n",
    "    dataset_seed = node_seed.dataset\n",
    "\n",
    "    println(\"dataset_std size: \", length(dataset_std), \n",
    "        \";\\ndataset_seed size: \", length(dataset_seed))\n",
    "\n",
    "    # Restore collect_hll_sets\n",
    "    hll_std = SetCore.restore(hll_std, Vector{UInt64}(dataset_std))\n",
    "    hll_seed = SetCore.restore(hll_seed, Vector{UInt64}(dataset_seed))\n",
    "\n",
    "    println(\"hll_std size: \", SetCore.count(hll_std), \n",
    "        \";\\nhll_seed size: \", SetCore.count(hll_seed))\n",
    "\n",
    "    hll_intersection = intersect(hll_std, hll_seed)\n",
    "    # SetCore.count(hll_intersection)\n",
    "\n",
    "    println(\"hll_intersection size: \", SetCore.count(hll_intersection))\n",
    "catch e\n",
    "    println(e)\n",
    "end"
   ]
  },
  {
   "cell_type": "markdown",
   "metadata": {},
   "source": [
    "### So, we are lucky , we got not empty intersection from two HllSets built using different hash functions. (Or may be not, because $1$ is small and could be within the range of an estimation error)\n",
    "\n",
    "We also can see that the cardinality estimations in our case are not bad. The difference in both case is equal $2$, or about $2.63$%."
   ]
  },
  {
   "cell_type": "markdown",
   "metadata": {},
   "source": [
    "# Applying HllSets for Tabular data structures"
   ]
  },
  {
   "cell_type": "code",
   "execution_count": 15,
   "metadata": {},
   "outputs": [
    {
     "name": "stderr",
     "output_type": "stream",
     "text": [
      "WARNING: replacing module SetCore.\n",
      "WARNING: replacing module Util.\n",
      "WARNING: replacing module Graph.\n",
      "WARNING: replacing module Store.\n"
     ]
    }
   ],
   "source": [
    "include(\"src/lisa_store.jl\")\n",
    "\n",
    "using SQLite\n",
    "using DBInterface\n",
    "using MurmurHash3\n",
    "using TextAnalysis\n",
    "using JSON3\n",
    "using PooledArrays\n",
    "using UUIDs\n",
    "using EasyConfig\n",
    "using SparseArrays"
   ]
  },
  {
   "cell_type": "code",
   "execution_count": 16,
   "metadata": {},
   "outputs": [
    {
     "data": {
      "text/plain": [
       "Graph.DB(\"lisa_analytics.db\") (34 assignments, 0 commits, 41 tokens, 0 nodes, 0 edges25 t_nodes, 23 t_edges)"
      ]
     },
     "execution_count": 16,
     "metadata": {},
     "output_type": "execute_result"
    }
   ],
   "source": [
    "db = Graph.DB(\"lisa_analytics.db\")"
   ]
  },
  {
   "cell_type": "code",
   "execution_count": 17,
   "metadata": {},
   "outputs": [],
   "source": [
    "Store.book_file(db, \"/home/alexmy/JULIA/DEMO/sample/\") #; column=false)"
   ]
  },
  {
   "cell_type": "code",
   "execution_count": 18,
   "metadata": {},
   "outputs": [],
   "source": [
    "uuid = string(uuid4())\n",
    "df = Graph.set_lock!(db, \n",
    "    \"/home/alexmy/JULIA/DEMO/sample\", \n",
    "    \"csv\", \n",
    "    \"book_file\", \n",
    "    \"ingest_csv\", \n",
    "    \"waiting\", \n",
    "    \"waiting\", \n",
    "    uuid; result=true)\n",
    "\n",
    "for row in eachrow(df)\n",
    "    assign = Graph.Assignment(row) \n",
    "    col_uuid = string(uuid4())    \n",
    "    Store.ingest_csv_by_row(db, assign; limit=50, offset=10)\n",
    "end"
   ]
  },
  {
   "cell_type": "code",
   "execution_count": 19,
   "metadata": {},
   "outputs": [
    {
     "name": "stdout",
     "output_type": "stream",
     "text": [
      "[1.0, 1.0, 1.0, 1.0, 1.0, 1.0, 1.0, 1.0]\n",
      "[1.0, 1.0, 1.0, 1.0, 1.0, 1.0, 1.0, 1.0]\n",
      "[1.0, 1.0, 1.0, 1.0, 1.0, 1.0, 1.0, 1.0]\n",
      "[1.0, 1.0, 1.0, 1.0, 1.0, 1.0, 1.0, 1.0]\n",
      "[1.0, 1.0, 1.0, 1.0, 1.0, 1.0, 1.0, 1.0]\n",
      "[1.0, 1.0, 1.0, 1.0, 1.0, 1.0, 1.0, 1.0]\n",
      "[1.0, 1.0, 1.0, 1.0, 1.0, 1.0, 1.0, 1.0]\n",
      "[1.0, 1.0, 1.0, 1.0, 1.0, 1.0, 1.0, 1.0]\n",
      "[1.0, 1.0, 1.0, 1.0, 1.0, 1.0, 1.0, 1.0]\n",
      "[1.0, 1.0, 1.0, 1.0, 1.0, 1.0, 1.0, 1.0]\n",
      "[1.0, 1.0, 1.0, 1.0, 1.0, 1.0, 1.0, 1.0]\n",
      "[1.0, 1.0, 1.0, 1.0, 1.0, 1.0, 1.0, 1.0]\n",
      "[1.0, 1.0, 1.0, 1.0, 1.0, 1.0, 1.0, 1.0]\n",
      "[1.0, 1.0, 1.0, 1.0, 1.0, 1.0, 1.0, 1.0]\n",
      "[1.0, 1.0, 1.0, 1.0, 1.0, 1.0, 1.0, 1.0]\n",
      "[1.0, 1.0, 1.0, 1.0, 1.0, 1.0, 1.0, 1.0]\n",
      "[1.0, 1.0, 1.0, 1.0, 1.0, 1.0, 1.0, 1.0]\n",
      "[1.0, 1.0, 1.0, 1.0, 1.0, 1.0, 1.0, 1.0]\n",
      "[1.0, 1.0, 1.0, 1.0, 1.0, 1.0, 1.0, 1.0]\n"
     ]
    }
   ],
   "source": [
    "# Provide csv file sha1 id to extract row and column nodes\n",
    "source_id = \"0b90b1fee69c77ffa3efe57db7788112ef96dba6\"\n",
    "\"\"\"\n",
    "    Here we are going to extract row and column nodes from the csv file.\n",
    "    The resulting matrix will show the cardinality of intersection of row and column nodes.\n",
    "\"\"\"\n",
    "matrix = Store.get_card_matrix(db, source_id)\n",
    "i = 0\n",
    "for row in eachrow(matrix)\n",
    "    i += 1\n",
    "    if i < 20\n",
    "        println(row)\n",
    "    end\n",
    "end"
   ]
  },
  {
   "cell_type": "code",
   "execution_count": 20,
   "metadata": {},
   "outputs": [
    {
     "name": "stdout",
     "output_type": "stream",
     "text": [
      "row_nodes: \u001b[1m51×10 DataFrame\u001b[0m\n",
      "\u001b[1m Row \u001b[0m│\u001b[1m sha1                              \u001b[0m\u001b[1m labels      \u001b[0m\u001b[1m d_sha1                            \u001b[0m\u001b[1m card  \u001b[0m\u001b[1m dataset                           \u001b[0m\u001b[1m props                             \u001b[0m\u001b[1m source                            \u001b[0m\u001b[1m target                            \u001b[0m\u001b[1m r_type  \u001b[0m\u001b[1m props_1                           \u001b[0m\n",
      "     │\u001b[90m String                            \u001b[0m\u001b[90m String      \u001b[0m\u001b[90m String                            \u001b[0m\u001b[90m Int64 \u001b[0m\u001b[90m String                            \u001b[0m\u001b[90m String                            \u001b[0m\u001b[90m String                            \u001b[0m\u001b[90m String                            \u001b[0m\u001b[90m String  \u001b[0m\u001b[90m String                            \u001b[0m\n",
      "─────┼──────────────────────────────────────────────────────────────────────────────────────────────────────────────────────────────────────────────────────────────────────────────────────────────────────────────────────────────────────────────────────────────────────────────────\n",
      "   1 │ 6ff4a53129f97923622c9ab44b8fe2a9…  [\"csv_row\"]  4a9b66603d1b6446899a1e7fcbbd2bd8…      1  [0,0,0,0,0,0,0,0,0,0,0,0,0,0,0,0…  {\"file_sha1\":\"0b90b1fee69c77ffa3…  0b90b1fee69c77ffa3efe57db7788112…  6ff4a53129f97923622c9ab44b8fe2a9…  has_row  {\"source\":\"/home/alexmy/JULIA/DE…\n",
      "   2 │ b84575f47e67f22060b033c3c648169c…  [\"csv_row\"]  4a9b66603d1b6446899a1e7fcbbd2bd8…      1  [0,0,0,0,0,0,0,0,0,0,0,0,0,0,0,0…  {\"file_sha1\":\"0b90b1fee69c77ffa3…  0b90b1fee69c77ffa3efe57db7788112…  b84575f47e67f22060b033c3c648169c…  has_row  {\"source\":\"/home/alexmy/JULIA/DE…\n",
      "   3 │ 1f30de96e81f4236110946ead61303c9…  [\"csv_row\"]  4a9b66603d1b6446899a1e7fcbbd2bd8…      1  [0,0,0,0,0,0,0,0,0,0,0,0,0,0,0,0…  {\"file_sha1\":\"0b90b1fee69c77ffa3…  0b90b1fee69c77ffa3efe57db7788112…  1f30de96e81f4236110946ead61303c9…  has_row  {\"source\":\"/home/alexmy/JULIA/DE…\n",
      "   4 │ e50271535b2510c102adf6f860f6f54f…  [\"csv_row\"]  4a9b66603d1b6446899a1e7fcbbd2bd8…      1  [0,0,0,0,0,0,0,0,0,0,0,0,0,0,0,0…  {\"file_sha1\":\"0b90b1fee69c77ffa3…  0b90b1fee69c77ffa3efe57db7788112…  e50271535b2510c102adf6f860f6f54f…  has_row  {\"source\":\"/home/alexmy/JULIA/DE…\n",
      "   5 │ fc792fed30eab6dcb19645d947899f7f…  [\"csv_row\"]  4a9b66603d1b6446899a1e7fcbbd2bd8…      1  [0,0,0,0,0,0,0,0,0,0,0,0,0,0,0,0…  {\"file_sha1\":\"0b90b1fee69c77ffa3…  0b90b1fee69c77ffa3efe57db7788112…  fc792fed30eab6dcb19645d947899f7f…  has_row  {\"source\":\"/home/alexmy/JULIA/DE…\n",
      "   6 │ 6c7b0cb10e6bf71977d50dd595a54277…  [\"csv_row\"]  4a9b66603d1b6446899a1e7fcbbd2bd8…      1  [0,0,0,0,0,0,0,0,0,0,0,0,0,0,0,0…  {\"file_sha1\":\"0b90b1fee69c77ffa3…  0b90b1fee69c77ffa3efe57db7788112…  6c7b0cb10e6bf71977d50dd595a54277…  has_row  {\"source\":\"/home/alexmy/JULIA/DE…\n",
      "   7 │ 776371897180263960bb17b69356854c…  [\"csv_row\"]  4a9b66603d1b6446899a1e7fcbbd2bd8…      1  [0,0,0,0,0,0,0,0,0,0,0,0,0,0,0,0…  {\"file_sha1\":\"0b90b1fee69c77ffa3…  0b90b1fee69c77ffa3efe57db7788112…  776371897180263960bb17b69356854c…  has_row  {\"source\":\"/home/alexmy/JULIA/DE…\n",
      "   8 │ 7a5699212d166297580ed648de5c3137…  [\"csv_row\"]  4a9b66603d1b6446899a1e7fcbbd2bd8…      1  [0,0,0,0,0,0,0,0,0,0,0,0,0,0,0,0…  {\"file_sha1\":\"0b90b1fee69c77ffa3…  0b90b1fee69c77ffa3efe57db7788112…  7a5699212d166297580ed648de5c3137…  has_row  {\"source\":\"/home/alexmy/JULIA/DE…\n",
      "   9 │ 18fa8c4b19c95900a45b1f15d70f3806…  [\"csv_row\"]  4a9b66603d1b6446899a1e7fcbbd2bd8…      1  [0,0,0,0,0,0,0,0,0,0,0,0,0,0,0,0…  {\"file_sha1\":\"0b90b1fee69c77ffa3…  0b90b1fee69c77ffa3efe57db7788112…  18fa8c4b19c95900a45b1f15d70f3806…  has_row  {\"source\":\"/home/alexmy/JULIA/DE…\n",
      "  10 │ 38d1195b30acf496a9f22a46b2221818…  [\"csv_row\"]  4a9b66603d1b6446899a1e7fcbbd2bd8…      1  [0,0,0,0,0,0,0,0,0,0,0,0,0,0,0,0…  {\"file_sha1\":\"0b90b1fee69c77ffa3…  0b90b1fee69c77ffa3efe57db7788112…  38d1195b30acf496a9f22a46b2221818…  has_row  {\"source\":\"/home/alexmy/JULIA/DE…\n",
      "  11 │ 21727ea4a11ba7492296a99253e9ba5c…  [\"csv_row\"]  4a9b66603d1b6446899a1e7fcbbd2bd8…      1  [0,0,0,0,0,0,0,0,0,0,0,0,0,0,0,0…  {\"file_sha1\":\"0b90b1fee69c77ffa3…  0b90b1fee69c77ffa3efe57db7788112…  21727ea4a11ba7492296a99253e9ba5c…  has_row  {\"source\":\"/home/alexmy/JULIA/DE…\n",
      "  12 │ a2955b04539b8a9f5e1dc655f82140fd…  [\"csv_row\"]  4a9b66603d1b6446899a1e7fcbbd2bd8…      1  [0,0,0,0,0,0,0,0,0,0,0,0,0,0,0,0…  {\"file_sha1\":\"0b90b1fee69c77ffa3…  0b90b1fee69c77ffa3efe57db7788112…  a2955b04539b8a9f5e1dc655f82140fd…  has_row  {\"source\":\"/home/alexmy/JULIA/DE…\n",
      "  13 │ 9ab2dcafb71207e19ea81e2769fdc1e4…  [\"csv_row\"]  4a9b66603d1b6446899a1e7fcbbd2bd8…      1  [0,0,0,0,0,0,0,0,0,0,0,0,0,0,0,0…  {\"file_sha1\":\"0b90b1fee69c77ffa3…  0b90b1fee69c77ffa3efe57db7788112…  9ab2dcafb71207e19ea81e2769fdc1e4…  has_row  {\"source\":\"/home/alexmy/JULIA/DE…\n",
      "  14 │ 1a0496b423ae5fde2b8c252c2d8a958a…  [\"csv_row\"]  4a9b66603d1b6446899a1e7fcbbd2bd8…      1  [0,0,0,0,0,0,0,0,0,0,0,0,0,0,0,0…  {\"file_sha1\":\"0b90b1fee69c77ffa3…  0b90b1fee69c77ffa3efe57db7788112…  1a0496b423ae5fde2b8c252c2d8a958a…  has_row  {\"source\":\"/home/alexmy/JULIA/DE…\n",
      "  15 │ 5a3ac8102f56087e9a6ec71cbf290a8d…  [\"csv_row\"]  4a9b66603d1b6446899a1e7fcbbd2bd8…      1  [0,0,0,0,0,0,0,0,0,0,0,0,0,0,0,0…  {\"file_sha1\":\"0b90b1fee69c77ffa3…  0b90b1fee69c77ffa3efe57db7788112…  5a3ac8102f56087e9a6ec71cbf290a8d…  has_row  {\"source\":\"/home/alexmy/JULIA/DE…\n",
      "  16 │ 5f8933038ebeb447a99b790c0e0cb1b5…  [\"csv_row\"]  4a9b66603d1b6446899a1e7fcbbd2bd8…      1  [0,0,0,0,0,0,0,0,0,0,0,0,0,0,0,0…  {\"file_sha1\":\"0b90b1fee69c77ffa3…  0b90b1fee69c77ffa3efe57db7788112…  5f8933038ebeb447a99b790c0e0cb1b5…  has_row  {\"source\":\"/home/alexmy/JULIA/DE…\n",
      "  17 │ c8d090c4620546d6ffcc5d993effae22…  [\"csv_row\"]  4a9b66603d1b6446899a1e7fcbbd2bd8…      1  [0,0,0,0,0,0,0,0,0,0,0,0,0,0,0,0…  {\"file_sha1\":\"0b90b1fee69c77ffa3…  0b90b1fee69c77ffa3efe57db7788112…  c8d090c4620546d6ffcc5d993effae22…  has_row  {\"source\":\"/home/alexmy/JULIA/DE…\n",
      "  18 │ c868dc2729e54f3d4db15d77ff8f0276…  [\"csv_row\"]  4a9b66603d1b6446899a1e7fcbbd2bd8…      1  [0,0,0,0,0,0,0,0,0,0,0,0,0,0,0,0…  {\"file_sha1\":\"0b90b1fee69c77ffa3…  0b90b1fee69c77ffa3efe57db7788112…  c868dc2729e54f3d4db15d77ff8f0276…  has_row  {\"source\":\"/home/alexmy/JULIA/DE…\n",
      "  19 │ e01073b3c116b18997664c968478f877…  [\"csv_row\"]  4a9b66603d1b6446899a1e7fcbbd2bd8…      1  [0,0,0,0,0,0,0,0,0,0,0,0,0,0,0,0…  {\"file_sha1\":\"0b90b1fee69c77ffa3…  0b90b1fee69c77ffa3efe57db7788112…  e01073b3c116b18997664c968478f877…  has_row  {\"source\":\"/home/alexmy/JULIA/DE…\n",
      "  20 │ 1a3f7960a3e9f7e543dbeca0ab4bde27…  [\"csv_row\"]  4a9b66603d1b6446899a1e7fcbbd2bd8…      1  [0,0,0,0,0,0,0,0,0,0,0,0,0,0,0,0…  {\"file_sha1\":\"0b90b1fee69c77ffa3…  0b90b1fee69c77ffa3efe57db7788112…  1a3f7960a3e9f7e543dbeca0ab4bde27…  has_row  {\"source\":\"/home/alexmy/JULIA/DE…\n",
      "  21 │ e5e48bb41f117a2040bd5581ee888475…  [\"csv_row\"]  4a9b66603d1b6446899a1e7fcbbd2bd8…      1  [0,0,0,0,0,0,0,0,0,0,0,0,0,0,0,0…  {\"file_sha1\":\"0b90b1fee69c77ffa3…  0b90b1fee69c77ffa3efe57db7788112…  e5e48bb41f117a2040bd5581ee888475…  has_row  {\"source\":\"/home/alexmy/JULIA/DE…\n",
      "  22 │ 7abcc9b9abeba64f8121f8ad77977b27…  [\"csv_row\"]  4a9b66603d1b6446899a1e7fcbbd2bd8…      1  [0,0,0,0,0,0,0,0,0,0,0,0,0,0,0,0…  {\"file_sha1\":\"0b90b1fee69c77ffa3…  0b90b1fee69c77ffa3efe57db7788112…  7abcc9b9abeba64f8121f8ad77977b27…  has_row  {\"source\":\"/home/alexmy/JULIA/DE…\n",
      "  23 │ 2acc572593bf6bee829c8aa06f9bc5df…  [\"csv_row\"]  4a9b66603d1b6446899a1e7fcbbd2bd8…      1  [0,0,0,0,0,0,0,0,0,0,0,0,0,0,0,0…  {\"file_sha1\":\"0b90b1fee69c77ffa3…  0b90b1fee69c77ffa3efe57db7788112…  2acc572593bf6bee829c8aa06f9bc5df…  has_row  {\"source\":\"/home/alexmy/JULIA/DE…\n",
      "  24 │ fb2e3028368e7ecda9a7ad627d2bff95…  [\"csv_row\"]  4a9b66603d1b6446899a1e7fcbbd2bd8…      1  [0,0,0,0,0,0,0,0,0,0,0,0,0,0,0,0…  {\"file_sha1\":\"0b90b1fee69c77ffa3…  0b90b1fee69c77ffa3efe57db7788112…  fb2e3028368e7ecda9a7ad627d2bff95…  has_row  {\"source\":\"/home/alexmy/JULIA/DE…\n",
      "  25 │ 326e4b0085a4b9ac9d959cc050cca033…  [\"csv_row\"]  4a9b66603d1b6446899a1e7fcbbd2bd8…      1  [0,0,0,0,0,0,0,0,0,0,0,0,0,0,0,0…  {\"file_sha1\":\"0b90b1fee69c77ffa3…  0b90b1fee69c77ffa3efe57db7788112…  326e4b0085a4b9ac9d959cc050cca033…  has_row  {\"source\":\"/home/alexmy/JULIA/DE…\n",
      "  26 │ b701231bfe3374cd8ef5efff8da8e65e…  [\"csv_row\"]  4a9b66603d1b6446899a1e7fcbbd2bd8…      1  [0,0,0,0,0,0,0,0,0,0,0,0,0,0,0,0…  {\"file_sha1\":\"0b90b1fee69c77ffa3…  0b90b1fee69c77ffa3efe57db7788112…  b701231bfe3374cd8ef5efff8da8e65e…  has_row  {\"source\":\"/home/alexmy/JULIA/DE…\n",
      "  27 │ 90bfc3a388322630aaf8566de1efc8e1…  [\"csv_row\"]  4a9b66603d1b6446899a1e7fcbbd2bd8…      1  [0,0,0,0,0,0,0,0,0,0,0,0,0,0,0,0…  {\"file_sha1\":\"0b90b1fee69c77ffa3…  0b90b1fee69c77ffa3efe57db7788112…  90bfc3a388322630aaf8566de1efc8e1…  has_row  {\"source\":\"/home/alexmy/JULIA/DE…\n",
      "  28 │ d731d5741182c1d2e3c586ae5854879c…  [\"csv_row\"]  4a9b66603d1b6446899a1e7fcbbd2bd8…      1  [0,0,0,0,0,0,0,0,0,0,0,0,0,0,0,0…  {\"file_sha1\":\"0b90b1fee69c77ffa3…  0b90b1fee69c77ffa3efe57db7788112…  d731d5741182c1d2e3c586ae5854879c…  has_row  {\"source\":\"/home/alexmy/JULIA/DE…\n",
      "  29 │ 5068b53d0c81595bdfd13b72c8bbce78…  [\"csv_row\"]  4a9b66603d1b6446899a1e7fcbbd2bd8…      1  [0,0,0,0,0,0,0,0,0,0,0,0,0,0,0,0…  {\"file_sha1\":\"0b90b1fee69c77ffa3…  0b90b1fee69c77ffa3efe57db7788112…  5068b53d0c81595bdfd13b72c8bbce78…  has_row  {\"source\":\"/home/alexmy/JULIA/DE…\n",
      "  30 │ a2f095959ef27a3aae1ec88109227336…  [\"csv_row\"]  4a9b66603d1b6446899a1e7fcbbd2bd8…      1  [0,0,0,0,0,0,0,0,0,0,0,0,0,0,0,0…  {\"file_sha1\":\"0b90b1fee69c77ffa3…  0b90b1fee69c77ffa3efe57db7788112…  a2f095959ef27a3aae1ec88109227336…  has_row  {\"source\":\"/home/alexmy/JULIA/DE…\n",
      "  31 │ 1104386ad43896bc579b8074a756341f…  [\"csv_row\"]  4a9b66603d1b6446899a1e7fcbbd2bd8…      1  [0,0,0,0,0,0,0,0,0,0,0,0,0,0,0,0…  {\"file_sha1\":\"0b90b1fee69c77ffa3…  0b90b1fee69c77ffa3efe57db7788112…  1104386ad43896bc579b8074a756341f…  has_row  {\"source\":\"/home/alexmy/JULIA/DE…\n",
      "  32 │ f416c516bda4832f7b6b576ffd763e76…  [\"csv_row\"]  4a9b66603d1b6446899a1e7fcbbd2bd8…      1  [0,0,0,0,0,0,0,0,0,0,0,0,0,0,0,0…  {\"file_sha1\":\"0b90b1fee69c77ffa3…  0b90b1fee69c77ffa3efe57db7788112…  f416c516bda4832f7b6b576ffd763e76…  has_row  {\"source\":\"/home/alexmy/JULIA/DE…\n",
      "  33 │ e7237cac26bb338c72719c957c734d7d…  [\"csv_row\"]  4a9b66603d1b6446899a1e7fcbbd2bd8…      1  [0,0,0,0,0,0,0,0,0,0,0,0,0,0,0,0…  {\"file_sha1\":\"0b90b1fee69c77ffa3…  0b90b1fee69c77ffa3efe57db7788112…  e7237cac26bb338c72719c957c734d7d…  has_row  {\"source\":\"/home/alexmy/JULIA/DE…\n",
      "  34 │ df44a82e2f9b5d70718b4c93568c1ebc…  [\"csv_row\"]  4a9b66603d1b6446899a1e7fcbbd2bd8…      1  [0,0,0,0,0,0,0,0,0,0,0,0,0,0,0,0…  {\"file_sha1\":\"0b90b1fee69c77ffa3…  0b90b1fee69c77ffa3efe57db7788112…  df44a82e2f9b5d70718b4c93568c1ebc…  has_row  {\"source\":\"/home/alexmy/JULIA/DE…\n",
      "  35 │ 05d934d56cca6ba41673e2720afba868…  [\"csv_row\"]  4a9b66603d1b6446899a1e7fcbbd2bd8…      1  [0,0,0,0,0,0,0,0,0,0,0,0,0,0,0,0…  {\"file_sha1\":\"0b90b1fee69c77ffa3…  0b90b1fee69c77ffa3efe57db7788112…  05d934d56cca6ba41673e2720afba868…  has_row  {\"source\":\"/home/alexmy/JULIA/DE…\n",
      "  36 │ 2af2d84f6b45f9a99e0f92878d3ccad3…  [\"csv_row\"]  4a9b66603d1b6446899a1e7fcbbd2bd8…      1  [0,0,0,0,0,0,0,0,0,0,0,0,0,0,0,0…  {\"file_sha1\":\"0b90b1fee69c77ffa3…  0b90b1fee69c77ffa3efe57db7788112…  2af2d84f6b45f9a99e0f92878d3ccad3…  has_row  {\"source\":\"/home/alexmy/JULIA/DE…\n",
      "  37 │ ab395e22e151893f1c02590b4380178c…  [\"csv_row\"]  4a9b66603d1b6446899a1e7fcbbd2bd8…      1  [0,0,0,0,0,0,0,0,0,0,0,0,0,0,0,0…  {\"file_sha1\":\"0b90b1fee69c77ffa3…  0b90b1fee69c77ffa3efe57db7788112…  ab395e22e151893f1c02590b4380178c…  has_row  {\"source\":\"/home/alexmy/JULIA/DE…\n",
      "  38 │ 1d2ce8c9bb162ced0722cb4e62ae854f…  [\"csv_row\"]  4a9b66603d1b6446899a1e7fcbbd2bd8…      1  [0,0,0,0,0,0,0,0,0,0,0,0,0,0,0,0…  {\"file_sha1\":\"0b90b1fee69c77ffa3…  0b90b1fee69c77ffa3efe57db7788112…  1d2ce8c9bb162ced0722cb4e62ae854f…  has_row  {\"source\":\"/home/alexmy/JULIA/DE…\n",
      "  39 │ 07b6602bf37adb46dbe616a89d57555d…  [\"csv_row\"]  4a9b66603d1b6446899a1e7fcbbd2bd8…      1  [0,0,0,0,0,0,0,0,0,0,0,0,0,0,0,0…  {\"file_sha1\":\"0b90b1fee69c77ffa3…  0b90b1fee69c77ffa3efe57db7788112…  07b6602bf37adb46dbe616a89d57555d…  has_row  {\"source\":\"/home/alexmy/JULIA/DE…\n",
      "  40 │ f81f5b1f43e273a9e779c84daa5baaf2…  [\"csv_row\"]  4a9b66603d1b6446899a1e7fcbbd2bd8…      1  [0,0,0,0,0,0,0,0,0,0,0,0,0,0,0,0…  {\"file_sha1\":\"0b90b1fee69c77ffa3…  0b90b1fee69c77ffa3efe57db7788112…  f81f5b1f43e273a9e779c84daa5baaf2…  has_row  {\"source\":\"/home/alexmy/JULIA/DE…\n",
      "  41 │ 4501fb17383e2efa1f992a9f49e682bf…  [\"csv_row\"]  4a9b66603d1b6446899a1e7fcbbd2bd8…      1  [0,0,0,0,0,0,0,0,0,0,0,0,0,0,0,0…  {\"file_sha1\":\"0b90b1fee69c77ffa3…  0b90b1fee69c77ffa3efe57db7788112…  4501fb17383e2efa1f992a9f49e682bf…  has_row  {\"source\":\"/home/alexmy/JULIA/DE…\n",
      "  42 │ 127ce7bad904eb58e9731bd0e79ca669…  [\"csv_row\"]  4a9b66603d1b6446899a1e7fcbbd2bd8…      1  [0,0,0,0,0,0,0,0,0,0,0,0,0,0,0,0…  {\"file_sha1\":\"0b90b1fee69c77ffa3…  0b90b1fee69c77ffa3efe57db7788112…  127ce7bad904eb58e9731bd0e79ca669…  has_row  {\"source\":\"/home/alexmy/JULIA/DE…\n",
      "  43 │ c2c51f23bca52213ff3e41d720d6b1cb…  [\"csv_row\"]  4a9b66603d1b6446899a1e7fcbbd2bd8…      1  [0,0,0,0,0,0,0,0,0,0,0,0,0,0,0,0…  {\"file_sha1\":\"0b90b1fee69c77ffa3…  0b90b1fee69c77ffa3efe57db7788112…  c2c51f23bca52213ff3e41d720d6b1cb…  has_row  {\"source\":\"/home/alexmy/JULIA/DE…\n",
      "  44 │ bae21b3343421e9fcfddae75ca5e1352…  [\"csv_row\"]  4a9b66603d1b6446899a1e7fcbbd2bd8…      1  [0,0,0,0,0,0,0,0,0,0,0,0,0,0,0,0…  {\"file_sha1\":\"0b90b1fee69c77ffa3…  0b90b1fee69c77ffa3efe57db7788112…  bae21b3343421e9fcfddae75ca5e1352…  has_row  {\"source\":\"/home/alexmy/JULIA/DE…\n",
      "  45 │ df896da386a1f17366330c388f1b6ce0…  [\"csv_row\"]  4a9b66603d1b6446899a1e7fcbbd2bd8…      1  [0,0,0,0,0,0,0,0,0,0,0,0,0,0,0,0…  {\"file_sha1\":\"0b90b1fee69c77ffa3…  0b90b1fee69c77ffa3efe57db7788112…  df896da386a1f17366330c388f1b6ce0…  has_row  {\"source\":\"/home/alexmy/JULIA/DE…\n",
      "  46 │ a8226d26cd5ae93275bf66aed7fea4c3…  [\"csv_row\"]  4a9b66603d1b6446899a1e7fcbbd2bd8…      1  [0,0,0,0,0,0,0,0,0,0,0,0,0,0,0,0…  {\"file_sha1\":\"0b90b1fee69c77ffa3…  0b90b1fee69c77ffa3efe57db7788112…  a8226d26cd5ae93275bf66aed7fea4c3…  has_row  {\"source\":\"/home/alexmy/JULIA/DE…\n",
      "  47 │ 476fe16a22d75447be41a78d7c8651d7…  [\"csv_row\"]  4a9b66603d1b6446899a1e7fcbbd2bd8…      1  [0,0,0,0,0,0,0,0,0,0,0,0,0,0,0,0…  {\"file_sha1\":\"0b90b1fee69c77ffa3…  0b90b1fee69c77ffa3efe57db7788112…  476fe16a22d75447be41a78d7c8651d7…  has_row  {\"source\":\"/home/alexmy/JULIA/DE…\n",
      "  48 │ 2d5fbce600f140658880890ca1d5337e…  [\"csv_row\"]  4a9b66603d1b6446899a1e7fcbbd2bd8…      1  [0,0,0,0,0,0,0,0,0,0,0,0,0,0,0,0…  {\"file_sha1\":\"0b90b1fee69c77ffa3…  0b90b1fee69c77ffa3efe57db7788112…  2d5fbce600f140658880890ca1d5337e…  has_row  {\"source\":\"/home/alexmy/JULIA/DE…\n",
      "  49 │ 51c95ccd19d2e245c2a998d0a61abd54…  [\"csv_row\"]  4a9b66603d1b6446899a1e7fcbbd2bd8…      1  [0,0,0,0,0,0,0,0,0,0,0,0,0,0,0,0…  {\"file_sha1\":\"0b90b1fee69c77ffa3…  0b90b1fee69c77ffa3efe57db7788112…  51c95ccd19d2e245c2a998d0a61abd54…  has_row  {\"source\":\"/home/alexmy/JULIA/DE…\n",
      "  50 │ 3889210531b35579a9efda0a7c5597fb…  [\"csv_row\"]  4a9b66603d1b6446899a1e7fcbbd2bd8…      1  [0,0,0,0,0,0,0,0,0,0,0,0,0,0,0,0…  {\"file_sha1\":\"0b90b1fee69c77ffa3…  0b90b1fee69c77ffa3efe57db7788112…  3889210531b35579a9efda0a7c5597fb…  has_row  {\"source\":\"/home/alexmy/JULIA/DE…\n",
      "  51 │ ae9ed35638449f881a3d826c645acdd7…  [\"csv_row\"]  4a9b66603d1b6446899a1e7fcbbd2bd8…      1  [0,0,0,0,0,0,0,0,0,0,0,0,0,0,0,0…  {\"file_sha1\":\"0b90b1fee69c77ffa3…  0b90b1fee69c77ffa3efe57db7788112…  ae9ed35638449f881a3d826c645acdd7…  has_row  {\"source\":\"/home/alexmy/JULIA/DE…\n",
      "column_nodes: \u001b[1m8×10 DataFrame\u001b[0m\n",
      "\u001b[1m Row \u001b[0m│\u001b[1m sha1                              \u001b[0m\u001b[1m labels         \u001b[0m\u001b[1m d_sha1                            \u001b[0m\u001b[1m card  \u001b[0m\u001b[1m dataset                           \u001b[0m\u001b[1m props                             \u001b[0m\u001b[1m source                            \u001b[0m\u001b[1m target                            \u001b[0m\u001b[1m r_type     \u001b[0m\u001b[1m props_1                           \u001b[0m\n",
      "     │\u001b[90m String                            \u001b[0m\u001b[90m String         \u001b[0m\u001b[90m String                            \u001b[0m\u001b[90m Int64 \u001b[0m\u001b[90m String                            \u001b[0m\u001b[90m String                            \u001b[0m\u001b[90m String                            \u001b[0m\u001b[90m String                            \u001b[0m\u001b[90m String     \u001b[0m\u001b[90m String                            \u001b[0m\n",
      "─────┼────────────────────────────────────────────────────────────────────────────────────────────────────────────────────────────────────────────────────────────────────────────────────────────────────────────────────────────────────────────────────────────────────────────────────────\n",
      "   1 │ 42d78f622a7acd625af6643c419b0d46…  [\"csv_column\"]  4a9b66603d1b6446899a1e7fcbbd2bd8…      1  [0,0,0,0,0,0,0,0,0,0,0,0,0,0,0,0…  {\"column_name\":\"Severity_of_casu…  0b90b1fee69c77ffa3efe57db7788112…  42d78f622a7acd625af6643c419b0d46…  has_column  {\"source\":\"/home/alexmy/JULIA/DE…\n",
      "   2 │ 48d3028983aa5e6b7c3bedefeda686ac…  [\"csv_column\"]  4a9b66603d1b6446899a1e7fcbbd2bd8…      1  [0,0,0,0,0,0,0,0,0,0,0,0,0,0,0,0…  {\"column_name\":\"Casualty Class\",…  0b90b1fee69c77ffa3efe57db7788112…  48d3028983aa5e6b7c3bedefeda686ac…  has_column  {\"source\":\"/home/alexmy/JULIA/DE…\n",
      "   3 │ 593c66c6d82d797a818caee475cd32ab…  [\"csv_column\"]  4a9b66603d1b6446899a1e7fcbbd2bd8…      1  [0,0,0,0,0,0,0,0,0,0,0,0,0,0,0,0…  {\"column_name\":\"Sex\",\"file_sha1\"…  0b90b1fee69c77ffa3efe57db7788112…  593c66c6d82d797a818caee475cd32ab…  has_column  {\"source\":\"/home/alexmy/JULIA/DE…\n",
      "   4 │ 5b3f4a68cdaf988b8f353b916ff9cfc9…  [\"csv_column\"]  4a9b66603d1b6446899a1e7fcbbd2bd8…      1  [0,0,0,0,0,0,0,0,0,0,0,0,0,0,0,0…  {\"column_name\":\"Date\",\"file_sha1…  0b90b1fee69c77ffa3efe57db7788112…  5b3f4a68cdaf988b8f353b916ff9cfc9…  has_column  {\"source\":\"/home/alexmy/JULIA/DE…\n",
      "   5 │ cfb6e7a15f1e23c3bdf8709f2b69ef87…  [\"csv_column\"]  4a9b66603d1b6446899a1e7fcbbd2bd8…      1  [0,0,0,0,0,0,0,0,0,0,0,0,0,0,0,0…  {\"column_name\":\"Day_of_week\",\"fi…  0b90b1fee69c77ffa3efe57db7788112…  cfb6e7a15f1e23c3bdf8709f2b69ef87…  has_column  {\"source\":\"/home/alexmy/JULIA/DE…\n",
      "   6 │ 281ab3fcb33cac77b39d7c4bf10a344e…  [\"csv_column\"]  4a9b66603d1b6446899a1e7fcbbd2bd8…      1  [0,0,0,0,0,0,0,0,0,0,0,0,0,0,0,0…  {\"column_name\":\"Local_authority\"…  0b90b1fee69c77ffa3efe57db7788112…  281ab3fcb33cac77b39d7c4bf10a344e…  has_column  {\"source\":\"/home/alexmy/JULIA/DE…\n",
      "   7 │ f7102479cf5aea9d30d7ff9b9de09a8e…  [\"csv_column\"]  4a9b66603d1b6446899a1e7fcbbd2bd8…      1  [0,0,0,0,0,0,0,0,0,0,0,0,0,0,0,0…  {\"column_name\":\"Vehicle_type\",\"f…  0b90b1fee69c77ffa3efe57db7788112…  f7102479cf5aea9d30d7ff9b9de09a8e…  has_column  {\"source\":\"/home/alexmy/JULIA/DE…\n",
      "   8 │ aef66fa6e6870ff9f90fdf69ea9875f3…  [\"csv_column\"]  4a9b66603d1b6446899a1e7fcbbd2bd8…      1  [0,0,0,0,0,0,0,0,0,0,0,0,0,0,0,0…  {\"column_name\":\"Pedestrian_Local…  0b90b1fee69c77ffa3efe57db7788112…  aef66fa6e6870ff9f90fdf69ea9875f3…  has_column  {\"source\":\"/home/alexmy/JULIA/DE…\n",
      "Main.Graph.Node[Node(4a9b66603d1b6446899a1e7fcbbd2bd8378d4e61; [\"6ff4a53129f97923622c9ab44b8fe2a9e1ea2249_42d78f622a7acd625af6643c419b0d462a967f00\"]; props: source=\"6ff4a53129f97923622c9ab44b8fe2a9e1ea2249\", target=\"42d78f622a7acd625af6643c419b0d462a967f00\"), Node(4a9b66603d1b6446899a1e7fcbbd2bd8378d4e61; [\"6ff4a53129f97923622c9ab44b8fe2a9e1ea2249_48d3028983aa5e6b7c3bedefeda686acacfb1257\"]; props: source=\"6ff4a53129f97923622c9ab44b8fe2a9e1ea2249\", target=\"48d3028983aa5e6b7c3bedefeda686acacfb1257\"), Node(4a9b66603d1b6446899a1e7fcbbd2bd8378d4e61; [\"6ff4a53129f97923622c9ab44b8fe2a9e1ea2249_593c66c6d82d797a818caee475cd32abe120db76\"]; props: source=\"6ff4a53129f97923622c9ab44b8fe2a9e1ea2249\", target=\"593c66c6d82d797a818caee475cd32abe120db76\"), Node(4a9b66603d1b6446899a1e7fcbbd2bd8378d4e61; [\"6ff4a53129f97923622c9ab44b8fe2a9e1ea2249_5b3f4a68cdaf988b8f353b916ff9cfc9c95466f3\"]; props: source=\"6ff4a53129f97923622c9ab44b8fe2a9e1ea2249\", target=\"5b3f4a68cdaf988b8f353b916ff9cfc9c95466f3\"), Node(4a9b66603d1b6446899a1e7fcbbd2bd8378d4e61; [\"6ff4a53129f97923622c9ab44b8fe2a9e1ea2249_cfb6e7a15f1e23c3bdf8709f2b69ef87888db68d\"]; props: source=\"6ff4a53129f97923622c9ab44b8fe2a9e1ea2249\", target=\"cfb6e7a15f1e23c3bdf8709f2b69ef87888db68d\"), Node(4a9b66603d1b6446899a1e7fcbbd2bd8378d4e61; [\"6ff4a53129f97923622c9ab44b8fe2a9e1ea2249_281ab3fcb33cac77b39d7c4bf10a344e3237300f\"]; props: source=\"6ff4a53129f97923622c9ab44b8fe2a9e1ea2249\", target=\"281ab3fcb33cac77b39d7c4bf10a344e3237300f\"), Node(4a9b66603d1b6446899a1e7fcbbd2bd8378d4e61; [\"6ff4a53129f97923622c9ab44b8fe2a9e1ea2249_f7102479cf5aea9d30d7ff9b9de09a8ea5937f13\"]; props: source=\"6ff4a53129f97923622c9ab44b8fe2a9e1ea2249\", target=\"f7102479cf5aea9d30d7ff9b9de09a8ea5937f13\"), Node(4a9b66603d1b6446899a1e7fcbbd2bd8378d4e61; [\"6ff4a53129f97923622c9ab44b8fe2a9e1ea2249_aef66fa6e6870ff9f90fdf69ea9875f3a702386d\"]; props: source=\"6ff4a53129f97923622c9ab44b8fe2a9e1ea2249\", target=\"aef66fa6e6870ff9f90fdf69ea9875f3a702386d\")]\n",
      "Main.Graph.Node[Node(4a9b66603d1b6446899a1e7fcbbd2bd8378d4e61; [\"b84575f47e67f22060b033c3c648169c3f703910_42d78f622a7acd625af6643c419b0d462a967f00\"]; props: source=\"b84575f47e67f22060b033c3c648169c3f703910\", target=\"42d78f622a7acd625af6643c419b0d462a967f00\"), Node(4a9b66603d1b6446899a1e7fcbbd2bd8378d4e61; [\"b84575f47e67f22060b033c3c648169c3f703910_48d3028983aa5e6b7c3bedefeda686acacfb1257\"]; props: source=\"b84575f47e67f22060b033c3c648169c3f703910\", target=\"48d3028983aa5e6b7c3bedefeda686acacfb1257\"), Node(4a9b66603d1b6446899a1e7fcbbd2bd8378d4e61; [\"b84575f47e67f22060b033c3c648169c3f703910_593c66c6d82d797a818caee475cd32abe120db76\"]; props: source=\"b84575f47e67f22060b033c3c648169c3f703910\", target=\"593c66c6d82d797a818caee475cd32abe120db76\"), Node(4a9b66603d1b6446899a1e7fcbbd2bd8378d4e61; [\"b84575f47e67f22060b033c3c648169c3f703910_5b3f4a68cdaf988b8f353b916ff9cfc9c95466f3\"]; props: source=\"b84575f47e67f22060b033c3c648169c3f703910\", target=\"5b3f4a68cdaf988b8f353b916ff9cfc9c95466f3\"), Node(4a9b66603d1b6446899a1e7fcbbd2bd8378d4e61; [\"b84575f47e67f22060b033c3c648169c3f703910_cfb6e7a15f1e23c3bdf8709f2b69ef87888db68d\"]; props: source=\"b84575f47e67f22060b033c3c648169c3f703910\", target=\"cfb6e7a15f1e23c3bdf8709f2b69ef87888db68d\"), Node(4a9b66603d1b6446899a1e7fcbbd2bd8378d4e61; [\"b84575f47e67f22060b033c3c648169c3f703910_281ab3fcb33cac77b39d7c4bf10a344e3237300f\"]; props: source=\"b84575f47e67f22060b033c3c648169c3f703910\", target=\"281ab3fcb33cac77b39d7c4bf10a344e3237300f\"), Node(4a9b66603d1b6446899a1e7fcbbd2bd8378d4e61; [\"b84575f47e67f22060b033c3c648169c3f703910_f7102479cf5aea9d30d7ff9b9de09a8ea5937f13\"]; props: source=\"b84575f47e67f22060b033c3c648169c3f703910\", target=\"f7102479cf5aea9d30d7ff9b9de09a8ea5937f13\"), Node(4a9b66603d1b6446899a1e7fcbbd2bd8378d4e61; [\"b84575f47e67f22060b033c3c648169c3f703910_aef66fa6e6870ff9f90fdf69ea9875f3a702386d\"]; props: source=\"b84575f47e67f22060b033c3c648169c3f703910\", target=\"aef66fa6e6870ff9f90fdf69ea9875f3a702386d\")]\n",
      "Main.Graph.Node[Node(4a9b66603d1b6446899a1e7fcbbd2bd8378d4e61; [\"1f30de96e81f4236110946ead61303c9f7f70453_42d78f622a7acd625af6643c419b0d462a967f00\"]; props: source=\"1f30de96e81f4236110946ead61303c9f7f70453\", target=\"42d78f622a7acd625af6643c419b0d462a967f00\"), Node(4a9b66603d1b6446899a1e7fcbbd2bd8378d4e61; [\"1f30de96e81f4236110946ead61303c9f7f70453_48d3028983aa5e6b7c3bedefeda686acacfb1257\"]; props: source=\"1f30de96e81f4236110946ead61303c9f7f70453\", target=\"48d3028983aa5e6b7c3bedefeda686acacfb1257\"), Node(4a9b66603d1b6446899a1e7fcbbd2bd8378d4e61; [\"1f30de96e81f4236110946ead61303c9f7f70453_593c66c6d82d797a818caee475cd32abe120db76\"]; props: source=\"1f30de96e81f4236110946ead61303c9f7f70453\", target=\"593c66c6d82d797a818caee475cd32abe120db76\"), Node(4a9b66603d1b6446899a1e7fcbbd2bd8378d4e61; [\"1f30de96e81f4236110946ead61303c9f7f70453_5b3f4a68cdaf988b8f353b916ff9cfc9c95466f3\"]; props: source=\"1f30de96e81f4236110946ead61303c9f7f70453\", target=\"5b3f4a68cdaf988b8f353b916ff9cfc9c95466f3\"), Node(4a9b66603d1b6446899a1e7fcbbd2bd8378d4e61; [\"1f30de96e81f4236110946ead61303c9f7f70453_cfb6e7a15f1e23c3bdf8709f2b69ef87888db68d\"]; props: source=\"1f30de96e81f4236110946ead61303c9f7f70453\", target=\"cfb6e7a15f1e23c3bdf8709f2b69ef87888db68d\"), Node(4a9b66603d1b6446899a1e7fcbbd2bd8378d4e61; [\"1f30de96e81f4236110946ead61303c9f7f70453_281ab3fcb33cac77b39d7c4bf10a344e3237300f\"]; props: source=\"1f30de96e81f4236110946ead61303c9f7f70453\", target=\"281ab3fcb33cac77b39d7c4bf10a344e3237300f\"), Node(4a9b66603d1b6446899a1e7fcbbd2bd8378d4e61; [\"1f30de96e81f4236110946ead61303c9f7f70453_f7102479cf5aea9d30d7ff9b9de09a8ea5937f13\"]; props: source=\"1f30de96e81f4236110946ead61303c9f7f70453\", target=\"f7102479cf5aea9d30d7ff9b9de09a8ea5937f13\"), Node(4a9b66603d1b6446899a1e7fcbbd2bd8378d4e61; [\"1f30de96e81f4236110946ead61303c9f7f70453_aef66fa6e6870ff9f90fdf69ea9875f3a702386d\"]; props: source=\"1f30de96e81f4236110946ead61303c9f7f70453\", target=\"aef66fa6e6870ff9f90fdf69ea9875f3a702386d\")]\n",
      "Main.Graph.Node[Node(4a9b66603d1b6446899a1e7fcbbd2bd8378d4e61; [\"e50271535b2510c102adf6f860f6f54f52bbf375_42d78f622a7acd625af6643c419b0d462a967f00\"]; props: source=\"e50271535b2510c102adf6f860f6f54f52bbf375\", target=\"42d78f622a7acd625af6643c419b0d462a967f00\"), Node(4a9b66603d1b6446899a1e7fcbbd2bd8378d4e61; [\"e50271535b2510c102adf6f860f6f54f52bbf375_48d3028983aa5e6b7c3bedefeda686acacfb1257\"]; props: source=\"e50271535b2510c102adf6f860f6f54f52bbf375\", target=\"48d3028983aa5e6b7c3bedefeda686acacfb1257\"), Node(4a9b66603d1b6446899a1e7fcbbd2bd8378d4e61; [\"e50271535b2510c102adf6f860f6f54f52bbf375_593c66c6d82d797a818caee475cd32abe120db76\"]; props: source=\"e50271535b2510c102adf6f860f6f54f52bbf375\", target=\"593c66c6d82d797a818caee475cd32abe120db76\"), Node(4a9b66603d1b6446899a1e7fcbbd2bd8378d4e61; [\"e50271535b2510c102adf6f860f6f54f52bbf375_5b3f4a68cdaf988b8f353b916ff9cfc9c95466f3\"]; props: source=\"e50271535b2510c102adf6f860f6f54f52bbf375\", target=\"5b3f4a68cdaf988b8f353b916ff9cfc9c95466f3\"), Node(4a9b66603d1b6446899a1e7fcbbd2bd8378d4e61; [\"e50271535b2510c102adf6f860f6f54f52bbf375_cfb6e7a15f1e23c3bdf8709f2b69ef87888db68d\"]; props: source=\"e50271535b2510c102adf6f860f6f54f52bbf375\", target=\"cfb6e7a15f1e23c3bdf8709f2b69ef87888db68d\"), Node(4a9b66603d1b6446899a1e7fcbbd2bd8378d4e61; [\"e50271535b2510c102adf6f860f6f54f52bbf375_281ab3fcb33cac77b39d7c4bf10a344e3237300f\"]; props: source=\"e50271535b2510c102adf6f860f6f54f52bbf375\", target=\"281ab3fcb33cac77b39d7c4bf10a344e3237300f\"), Node(4a9b66603d1b6446899a1e7fcbbd2bd8378d4e61; [\"e50271535b2510c102adf6f860f6f54f52bbf375_f7102479cf5aea9d30d7ff9b9de09a8ea5937f13\"]; props: source=\"e50271535b2510c102adf6f860f6f54f52bbf375\", target=\"f7102479cf5aea9d30d7ff9b9de09a8ea5937f13\"), Node(4a9b66603d1b6446899a1e7fcbbd2bd8378d4e61; [\"e50271535b2510c102adf6f860f6f54f52bbf375_aef66fa6e6870ff9f90fdf69ea9875f3a702386d\"]; props: source=\"e50271535b2510c102adf6f860f6f54f52bbf375\", target=\"aef66fa6e6870ff9f90fdf69ea9875f3a702386d\")]\n",
      "Main.Graph.Node[Node(4a9b66603d1b6446899a1e7fcbbd2bd8378d4e61; [\"fc792fed30eab6dcb19645d947899f7f7a3f8fcc_42d78f622a7acd625af6643c419b0d462a967f00\"]; props: source=\"fc792fed30eab6dcb19645d947899f7f7a3f8fcc\", target=\"42d78f622a7acd625af6643c419b0d462a967f00\"), Node(4a9b66603d1b6446899a1e7fcbbd2bd8378d4e61; [\"fc792fed30eab6dcb19645d947899f7f7a3f8fcc_48d3028983aa5e6b7c3bedefeda686acacfb1257\"]; props: source=\"fc792fed30eab6dcb19645d947899f7f7a3f8fcc\", target=\"48d3028983aa5e6b7c3bedefeda686acacfb1257\"), Node(4a9b66603d1b6446899a1e7fcbbd2bd8378d4e61; [\"fc792fed30eab6dcb19645d947899f7f7a3f8fcc_593c66c6d82d797a818caee475cd32abe120db76\"]; props: source=\"fc792fed30eab6dcb19645d947899f7f7a3f8fcc\", target=\"593c66c6d82d797a818caee475cd32abe120db76\"), Node(4a9b66603d1b6446899a1e7fcbbd2bd8378d4e61; [\"fc792fed30eab6dcb19645d947899f7f7a3f8fcc_5b3f4a68cdaf988b8f353b916ff9cfc9c95466f3\"]; props: source=\"fc792fed30eab6dcb19645d947899f7f7a3f8fcc\", target=\"5b3f4a68cdaf988b8f353b916ff9cfc9c95466f3\"), Node(4a9b66603d1b6446899a1e7fcbbd2bd8378d4e61; [\"fc792fed30eab6dcb19645d947899f7f7a3f8fcc_cfb6e7a15f1e23c3bdf8709f2b69ef87888db68d\"]; props: source=\"fc792fed30eab6dcb19645d947899f7f7a3f8fcc\", target=\"cfb6e7a15f1e23c3bdf8709f2b69ef87888db68d\"), Node(4a9b66603d1b6446899a1e7fcbbd2bd8378d4e61; [\"fc792fed30eab6dcb19645d947899f7f7a3f8fcc_281ab3fcb33cac77b39d7c4bf10a344e3237300f\"]; props: source=\"fc792fed30eab6dcb19645d947899f7f7a3f8fcc\", target=\"281ab3fcb33cac77b39d7c4bf10a344e3237300f\"), Node(4a9b66603d1b6446899a1e7fcbbd2bd8378d4e61; [\"fc792fed30eab6dcb19645d947899f7f7a3f8fcc_f7102479cf5aea9d30d7ff9b9de09a8ea5937f13\"]; props: source=\"fc792fed30eab6dcb19645d947899f7f7a3f8fcc\", target=\"f7102479cf5aea9d30d7ff9b9de09a8ea5937f13\"), Node(4a9b66603d1b6446899a1e7fcbbd2bd8378d4e61; [\"fc792fed30eab6dcb19645d947899f7f7a3f8fcc_aef66fa6e6870ff9f90fdf69ea9875f3a702386d\"]; props: source=\"fc792fed30eab6dcb19645d947899f7f7a3f8fcc\", target=\"aef66fa6e6870ff9f90fdf69ea9875f3a702386d\")]\n",
      "Main.Graph.Node[Node(4a9b66603d1b6446899a1e7fcbbd2bd8378d4e61; [\"6c7b0cb10e6bf71977d50dd595a5427723686c24_42d78f622a7acd625af6643c419b0d462a967f00\"]; props: source=\"6c7b0cb10e6bf71977d50dd595a5427723686c24\", target=\"42d78f622a7acd625af6643c419b0d462a967f00\"), Node(4a9b66603d1b6446899a1e7fcbbd2bd8378d4e61; [\"6c7b0cb10e6bf71977d50dd595a5427723686c24_48d3028983aa5e6b7c3bedefeda686acacfb1257\"]; props: source=\"6c7b0cb10e6bf71977d50dd595a5427723686c24\", target=\"48d3028983aa5e6b7c3bedefeda686acacfb1257\"), Node(4a9b66603d1b6446899a1e7fcbbd2bd8378d4e61; [\"6c7b0cb10e6bf71977d50dd595a5427723686c24_593c66c6d82d797a818caee475cd32abe120db76\"]; props: source=\"6c7b0cb10e6bf71977d50dd595a5427723686c24\", target=\"593c66c6d82d797a818caee475cd32abe120db76\"), Node(4a9b66603d1b6446899a1e7fcbbd2bd8378d4e61; [\"6c7b0cb10e6bf71977d50dd595a5427723686c24_5b3f4a68cdaf988b8f353b916ff9cfc9c95466f3\"]; props: source=\"6c7b0cb10e6bf71977d50dd595a5427723686c24\", target=\"5b3f4a68cdaf988b8f353b916ff9cfc9c95466f3\"), Node(4a9b66603d1b6446899a1e7fcbbd2bd8378d4e61; [\"6c7b0cb10e6bf71977d50dd595a5427723686c24_cfb6e7a15f1e23c3bdf8709f2b69ef87888db68d\"]; props: source=\"6c7b0cb10e6bf71977d50dd595a5427723686c24\", target=\"cfb6e7a15f1e23c3bdf8709f2b69ef87888db68d\"), Node(4a9b66603d1b6446899a1e7fcbbd2bd8378d4e61; [\"6c7b0cb10e6bf71977d50dd595a5427723686c24_281ab3fcb33cac77b39d7c4bf10a344e3237300f\"]; props: source=\"6c7b0cb10e6bf71977d50dd595a5427723686c24\", target=\"281ab3fcb33cac77b39d7c4bf10a344e3237300f\"), Node(4a9b66603d1b6446899a1e7fcbbd2bd8378d4e61; [\"6c7b0cb10e6bf71977d50dd595a5427723686c24_f7102479cf5aea9d30d7ff9b9de09a8ea5937f13\"]; props: source=\"6c7b0cb10e6bf71977d50dd595a5427723686c24\", target=\"f7102479cf5aea9d30d7ff9b9de09a8ea5937f13\"), Node(4a9b66603d1b6446899a1e7fcbbd2bd8378d4e61; [\"6c7b0cb10e6bf71977d50dd595a5427723686c24_aef66fa6e6870ff9f90fdf69ea9875f3a702386d\"]; props: source=\"6c7b0cb10e6bf71977d50dd595a5427723686c24\", target=\"aef66fa6e6870ff9f90fdf69ea9875f3a702386d\")]\n",
      "Main.Graph.Node[Node(4a9b66603d1b6446899a1e7fcbbd2bd8378d4e61; [\"776371897180263960bb17b69356854cbfea05a3_42d78f622a7acd625af6643c419b0d462a967f00\"]; props: source=\"776371897180263960bb17b69356854cbfea05a3\", target=\"42d78f622a7acd625af6643c419b0d462a967f00\"), Node(4a9b66603d1b6446899a1e7fcbbd2bd8378d4e61; [\"776371897180263960bb17b69356854cbfea05a3_48d3028983aa5e6b7c3bedefeda686acacfb1257\"]; props: source=\"776371897180263960bb17b69356854cbfea05a3\", target=\"48d3028983aa5e6b7c3bedefeda686acacfb1257\"), Node(4a9b66603d1b6446899a1e7fcbbd2bd8378d4e61; [\"776371897180263960bb17b69356854cbfea05a3_593c66c6d82d797a818caee475cd32abe120db76\"]; props: source=\"776371897180263960bb17b69356854cbfea05a3\", target=\"593c66c6d82d797a818caee475cd32abe120db76\"), Node(4a9b66603d1b6446899a1e7fcbbd2bd8378d4e61; [\"776371897180263960bb17b69356854cbfea05a3_5b3f4a68cdaf988b8f353b916ff9cfc9c95466f3\"]; props: source=\"776371897180263960bb17b69356854cbfea05a3\", target=\"5b3f4a68cdaf988b8f353b916ff9cfc9c95466f3\"), Node(4a9b66603d1b6446899a1e7fcbbd2bd8378d4e61; [\"776371897180263960bb17b69356854cbfea05a3_cfb6e7a15f1e23c3bdf8709f2b69ef87888db68d\"]; props: source=\"776371897180263960bb17b69356854cbfea05a3\", target=\"cfb6e7a15f1e23c3bdf8709f2b69ef87888db68d\"), Node(4a9b66603d1b6446899a1e7fcbbd2bd8378d4e61; [\"776371897180263960bb17b69356854cbfea05a3_281ab3fcb33cac77b39d7c4bf10a344e3237300f\"]; props: source=\"776371897180263960bb17b69356854cbfea05a3\", target=\"281ab3fcb33cac77b39d7c4bf10a344e3237300f\"), Node(4a9b66603d1b6446899a1e7fcbbd2bd8378d4e61; [\"776371897180263960bb17b69356854cbfea05a3_f7102479cf5aea9d30d7ff9b9de09a8ea5937f13\"]; props: source=\"776371897180263960bb17b69356854cbfea05a3\", target=\"f7102479cf5aea9d30d7ff9b9de09a8ea5937f13\"), Node(4a9b66603d1b6446899a1e7fcbbd2bd8378d4e61; [\"776371897180263960bb17b69356854cbfea05a3_aef66fa6e6870ff9f90fdf69ea9875f3a702386d\"]; props: source=\"776371897180263960bb17b69356854cbfea05a3\", target=\"aef66fa6e6870ff9f90fdf69ea9875f3a702386d\")]\n",
      "Main.Graph.Node[Node(4a9b66603d1b6446899a1e7fcbbd2bd8378d4e61; [\"7a5699212d166297580ed648de5c3137a46db2f0_42d78f622a7acd625af6643c419b0d462a967f00\"]; props: source=\"7a5699212d166297580ed648de5c3137a46db2f0\", target=\"42d78f622a7acd625af6643c419b0d462a967f00\"), Node(4a9b66603d1b6446899a1e7fcbbd2bd8378d4e61; [\"7a5699212d166297580ed648de5c3137a46db2f0_48d3028983aa5e6b7c3bedefeda686acacfb1257\"]; props: source=\"7a5699212d166297580ed648de5c3137a46db2f0\", target=\"48d3028983aa5e6b7c3bedefeda686acacfb1257\"), Node(4a9b66603d1b6446899a1e7fcbbd2bd8378d4e61; [\"7a5699212d166297580ed648de5c3137a46db2f0_593c66c6d82d797a818caee475cd32abe120db76\"]; props: source=\"7a5699212d166297580ed648de5c3137a46db2f0\", target=\"593c66c6d82d797a818caee475cd32abe120db76\"), Node(4a9b66603d1b6446899a1e7fcbbd2bd8378d4e61; [\"7a5699212d166297580ed648de5c3137a46db2f0_5b3f4a68cdaf988b8f353b916ff9cfc9c95466f3\"]; props: source=\"7a5699212d166297580ed648de5c3137a46db2f0\", target=\"5b3f4a68cdaf988b8f353b916ff9cfc9c95466f3\"), Node(4a9b66603d1b6446899a1e7fcbbd2bd8378d4e61; [\"7a5699212d166297580ed648de5c3137a46db2f0_cfb6e7a15f1e23c3bdf8709f2b69ef87888db68d\"]; props: source=\"7a5699212d166297580ed648de5c3137a46db2f0\", target=\"cfb6e7a15f1e23c3bdf8709f2b69ef87888db68d\"), Node(4a9b66603d1b6446899a1e7fcbbd2bd8378d4e61; [\"7a5699212d166297580ed648de5c3137a46db2f0_281ab3fcb33cac77b39d7c4bf10a344e3237300f\"]; props: source=\"7a5699212d166297580ed648de5c3137a46db2f0\", target=\"281ab3fcb33cac77b39d7c4bf10a344e3237300f\"), Node(4a9b66603d1b6446899a1e7fcbbd2bd8378d4e61; [\"7a5699212d166297580ed648de5c3137a46db2f0_f7102479cf5aea9d30d7ff9b9de09a8ea5937f13\"]; props: source=\"7a5699212d166297580ed648de5c3137a46db2f0\", target=\"f7102479cf5aea9d30d7ff9b9de09a8ea5937f13\"), Node(4a9b66603d1b6446899a1e7fcbbd2bd8378d4e61; [\"7a5699212d166297580ed648de5c3137a46db2f0_aef66fa6e6870ff9f90fdf69ea9875f3a702386d\"]; props: source=\"7a5699212d166297580ed648de5c3137a46db2f0\", target=\"aef66fa6e6870ff9f90fdf69ea9875f3a702386d\")]\n",
      "Main.Graph.Node[Node(4a9b66603d1b6446899a1e7fcbbd2bd8378d4e61; [\"18fa8c4b19c95900a45b1f15d70f38061ba8482e_42d78f622a7acd625af6643c419b0d462a967f00\"]; props: source=\"18fa8c4b19c95900a45b1f15d70f38061ba8482e\", target=\"42d78f622a7acd625af6643c419b0d462a967f00\"), Node(4a9b66603d1b6446899a1e7fcbbd2bd8378d4e61; [\"18fa8c4b19c95900a45b1f15d70f38061ba8482e_48d3028983aa5e6b7c3bedefeda686acacfb1257\"]; props: source=\"18fa8c4b19c95900a45b1f15d70f38061ba8482e\", target=\"48d3028983aa5e6b7c3bedefeda686acacfb1257\"), Node(4a9b66603d1b6446899a1e7fcbbd2bd8378d4e61; [\"18fa8c4b19c95900a45b1f15d70f38061ba8482e_593c66c6d82d797a818caee475cd32abe120db76\"]; props: source=\"18fa8c4b19c95900a45b1f15d70f38061ba8482e\", target=\"593c66c6d82d797a818caee475cd32abe120db76\"), Node(4a9b66603d1b6446899a1e7fcbbd2bd8378d4e61; [\"18fa8c4b19c95900a45b1f15d70f38061ba8482e_5b3f4a68cdaf988b8f353b916ff9cfc9c95466f3\"]; props: source=\"18fa8c4b19c95900a45b1f15d70f38061ba8482e\", target=\"5b3f4a68cdaf988b8f353b916ff9cfc9c95466f3\"), Node(4a9b66603d1b6446899a1e7fcbbd2bd8378d4e61; [\"18fa8c4b19c95900a45b1f15d70f38061ba8482e_cfb6e7a15f1e23c3bdf8709f2b69ef87888db68d\"]; props: source=\"18fa8c4b19c95900a45b1f15d70f38061ba8482e\", target=\"cfb6e7a15f1e23c3bdf8709f2b69ef87888db68d\"), Node(4a9b66603d1b6446899a1e7fcbbd2bd8378d4e61; [\"18fa8c4b19c95900a45b1f15d70f38061ba8482e_281ab3fcb33cac77b39d7c4bf10a344e3237300f\"]; props: source=\"18fa8c4b19c95900a45b1f15d70f38061ba8482e\", target=\"281ab3fcb33cac77b39d7c4bf10a344e3237300f\"), Node(4a9b66603d1b6446899a1e7fcbbd2bd8378d4e61; [\"18fa8c4b19c95900a45b1f15d70f38061ba8482e_f7102479cf5aea9d30d7ff9b9de09a8ea5937f13\"]; props: source=\"18fa8c4b19c95900a45b1f15d70f38061ba8482e\", target=\"f7102479cf5aea9d30d7ff9b9de09a8ea5937f13\"), Node(4a9b66603d1b6446899a1e7fcbbd2bd8378d4e61; [\"18fa8c4b19c95900a45b1f15d70f38061ba8482e_aef66fa6e6870ff9f90fdf69ea9875f3a702386d\"]; props: source=\"18fa8c4b19c95900a45b1f15d70f38061ba8482e\", target=\"aef66fa6e6870ff9f90fdf69ea9875f3a702386d\")]\n",
      "Main.Graph.Node[Node(4a9b66603d1b6446899a1e7fcbbd2bd8378d4e61; [\"38d1195b30acf496a9f22a46b2221818bf468d44_42d78f622a7acd625af6643c419b0d462a967f00\"]; props: source=\"38d1195b30acf496a9f22a46b2221818bf468d44\", target=\"42d78f622a7acd625af6643c419b0d462a967f00\"), Node(4a9b66603d1b6446899a1e7fcbbd2bd8378d4e61; [\"38d1195b30acf496a9f22a46b2221818bf468d44_48d3028983aa5e6b7c3bedefeda686acacfb1257\"]; props: source=\"38d1195b30acf496a9f22a46b2221818bf468d44\", target=\"48d3028983aa5e6b7c3bedefeda686acacfb1257\"), Node(4a9b66603d1b6446899a1e7fcbbd2bd8378d4e61; [\"38d1195b30acf496a9f22a46b2221818bf468d44_593c66c6d82d797a818caee475cd32abe120db76\"]; props: source=\"38d1195b30acf496a9f22a46b2221818bf468d44\", target=\"593c66c6d82d797a818caee475cd32abe120db76\"), Node(4a9b66603d1b6446899a1e7fcbbd2bd8378d4e61; [\"38d1195b30acf496a9f22a46b2221818bf468d44_5b3f4a68cdaf988b8f353b916ff9cfc9c95466f3\"]; props: source=\"38d1195b30acf496a9f22a46b2221818bf468d44\", target=\"5b3f4a68cdaf988b8f353b916ff9cfc9c95466f3\"), Node(4a9b66603d1b6446899a1e7fcbbd2bd8378d4e61; [\"38d1195b30acf496a9f22a46b2221818bf468d44_cfb6e7a15f1e23c3bdf8709f2b69ef87888db68d\"]; props: source=\"38d1195b30acf496a9f22a46b2221818bf468d44\", target=\"cfb6e7a15f1e23c3bdf8709f2b69ef87888db68d\"), Node(4a9b66603d1b6446899a1e7fcbbd2bd8378d4e61; [\"38d1195b30acf496a9f22a46b2221818bf468d44_281ab3fcb33cac77b39d7c4bf10a344e3237300f\"]; props: source=\"38d1195b30acf496a9f22a46b2221818bf468d44\", target=\"281ab3fcb33cac77b39d7c4bf10a344e3237300f\"), Node(4a9b66603d1b6446899a1e7fcbbd2bd8378d4e61; [\"38d1195b30acf496a9f22a46b2221818bf468d44_f7102479cf5aea9d30d7ff9b9de09a8ea5937f13\"]; props: source=\"38d1195b30acf496a9f22a46b2221818bf468d44\", target=\"f7102479cf5aea9d30d7ff9b9de09a8ea5937f13\"), Node(4a9b66603d1b6446899a1e7fcbbd2bd8378d4e61; [\"38d1195b30acf496a9f22a46b2221818bf468d44_aef66fa6e6870ff9f90fdf69ea9875f3a702386d\"]; props: source=\"38d1195b30acf496a9f22a46b2221818bf468d44\", target=\"aef66fa6e6870ff9f90fdf69ea9875f3a702386d\")]\n",
      "Main.Graph.Node[Node(4a9b66603d1b6446899a1e7fcbbd2bd8378d4e61; [\"21727ea4a11ba7492296a99253e9ba5ce4f5a591_42d78f622a7acd625af6643c419b0d462a967f00\"]; props: source=\"21727ea4a11ba7492296a99253e9ba5ce4f5a591\", target=\"42d78f622a7acd625af6643c419b0d462a967f00\"), Node(4a9b66603d1b6446899a1e7fcbbd2bd8378d4e61; [\"21727ea4a11ba7492296a99253e9ba5ce4f5a591_48d3028983aa5e6b7c3bedefeda686acacfb1257\"]; props: source=\"21727ea4a11ba7492296a99253e9ba5ce4f5a591\", target=\"48d3028983aa5e6b7c3bedefeda686acacfb1257\"), Node(4a9b66603d1b6446899a1e7fcbbd2bd8378d4e61; [\"21727ea4a11ba7492296a99253e9ba5ce4f5a591_593c66c6d82d797a818caee475cd32abe120db76\"]; props: source=\"21727ea4a11ba7492296a99253e9ba5ce4f5a591\", target=\"593c66c6d82d797a818caee475cd32abe120db76\"), Node(4a9b66603d1b6446899a1e7fcbbd2bd8378d4e61; [\"21727ea4a11ba7492296a99253e9ba5ce4f5a591_5b3f4a68cdaf988b8f353b916ff9cfc9c95466f3\"]; props: source=\"21727ea4a11ba7492296a99253e9ba5ce4f5a591\", target=\"5b3f4a68cdaf988b8f353b916ff9cfc9c95466f3\"), Node(4a9b66603d1b6446899a1e7fcbbd2bd8378d4e61; [\"21727ea4a11ba7492296a99253e9ba5ce4f5a591_cfb6e7a15f1e23c3bdf8709f2b69ef87888db68d\"]; props: source=\"21727ea4a11ba7492296a99253e9ba5ce4f5a591\", target=\"cfb6e7a15f1e23c3bdf8709f2b69ef87888db68d\"), Node(4a9b66603d1b6446899a1e7fcbbd2bd8378d4e61; [\"21727ea4a11ba7492296a99253e9ba5ce4f5a591_281ab3fcb33cac77b39d7c4bf10a344e3237300f\"]; props: source=\"21727ea4a11ba7492296a99253e9ba5ce4f5a591\", target=\"281ab3fcb33cac77b39d7c4bf10a344e3237300f\"), Node(4a9b66603d1b6446899a1e7fcbbd2bd8378d4e61; [\"21727ea4a11ba7492296a99253e9ba5ce4f5a591_f7102479cf5aea9d30d7ff9b9de09a8ea5937f13\"]; props: source=\"21727ea4a11ba7492296a99253e9ba5ce4f5a591\", target=\"f7102479cf5aea9d30d7ff9b9de09a8ea5937f13\"), Node(4a9b66603d1b6446899a1e7fcbbd2bd8378d4e61; [\"21727ea4a11ba7492296a99253e9ba5ce4f5a591_aef66fa6e6870ff9f90fdf69ea9875f3a702386d\"]; props: source=\"21727ea4a11ba7492296a99253e9ba5ce4f5a591\", target=\"aef66fa6e6870ff9f90fdf69ea9875f3a702386d\")]\n",
      "Main.Graph.Node[Node(4a9b66603d1b6446899a1e7fcbbd2bd8378d4e61; [\"a2955b04539b8a9f5e1dc655f82140fde852f9e9_42d78f622a7acd625af6643c419b0d462a967f00\"]; props: source=\"a2955b04539b8a9f5e1dc655f82140fde852f9e9\", target=\"42d78f622a7acd625af6643c419b0d462a967f00\"), Node(4a9b66603d1b6446899a1e7fcbbd2bd8378d4e61; [\"a2955b04539b8a9f5e1dc655f82140fde852f9e9_48d3028983aa5e6b7c3bedefeda686acacfb1257\"]; props: source=\"a2955b04539b8a9f5e1dc655f82140fde852f9e9\", target=\"48d3028983aa5e6b7c3bedefeda686acacfb1257\"), Node(4a9b66603d1b6446899a1e7fcbbd2bd8378d4e61; [\"a2955b04539b8a9f5e1dc655f82140fde852f9e9_593c66c6d82d797a818caee475cd32abe120db76\"]; props: source=\"a2955b04539b8a9f5e1dc655f82140fde852f9e9\", target=\"593c66c6d82d797a818caee475cd32abe120db76\"), Node(4a9b66603d1b6446899a1e7fcbbd2bd8378d4e61; [\"a2955b04539b8a9f5e1dc655f82140fde852f9e9_5b3f4a68cdaf988b8f353b916ff9cfc9c95466f3\"]; props: source=\"a2955b04539b8a9f5e1dc655f82140fde852f9e9\", target=\"5b3f4a68cdaf988b8f353b916ff9cfc9c95466f3\"), Node(4a9b66603d1b6446899a1e7fcbbd2bd8378d4e61; [\"a2955b04539b8a9f5e1dc655f82140fde852f9e9_cfb6e7a15f1e23c3bdf8709f2b69ef87888db68d\"]; props: source=\"a2955b04539b8a9f5e1dc655f82140fde852f9e9\", target=\"cfb6e7a15f1e23c3bdf8709f2b69ef87888db68d\"), Node(4a9b66603d1b6446899a1e7fcbbd2bd8378d4e61; [\"a2955b04539b8a9f5e1dc655f82140fde852f9e9_281ab3fcb33cac77b39d7c4bf10a344e3237300f\"]; props: source=\"a2955b04539b8a9f5e1dc655f82140fde852f9e9\", target=\"281ab3fcb33cac77b39d7c4bf10a344e3237300f\"), Node(4a9b66603d1b6446899a1e7fcbbd2bd8378d4e61; [\"a2955b04539b8a9f5e1dc655f82140fde852f9e9_f7102479cf5aea9d30d7ff9b9de09a8ea5937f13\"]; props: source=\"a2955b04539b8a9f5e1dc655f82140fde852f9e9\", target=\"f7102479cf5aea9d30d7ff9b9de09a8ea5937f13\"), Node(4a9b66603d1b6446899a1e7fcbbd2bd8378d4e61; [\"a2955b04539b8a9f5e1dc655f82140fde852f9e9_aef66fa6e6870ff9f90fdf69ea9875f3a702386d\"]; props: source=\"a2955b04539b8a9f5e1dc655f82140fde852f9e9\", target=\"aef66fa6e6870ff9f90fdf69ea9875f3a702386d\")]\n",
      "Main.Graph.Node[Node(4a9b66603d1b6446899a1e7fcbbd2bd8378d4e61; [\"9ab2dcafb71207e19ea81e2769fdc1e4a014dfc8_42d78f622a7acd625af6643c419b0d462a967f00\"]; props: source=\"9ab2dcafb71207e19ea81e2769fdc1e4a014dfc8\", target=\"42d78f622a7acd625af6643c419b0d462a967f00\"), Node(4a9b66603d1b6446899a1e7fcbbd2bd8378d4e61; [\"9ab2dcafb71207e19ea81e2769fdc1e4a014dfc8_48d3028983aa5e6b7c3bedefeda686acacfb1257\"]; props: source=\"9ab2dcafb71207e19ea81e2769fdc1e4a014dfc8\", target=\"48d3028983aa5e6b7c3bedefeda686acacfb1257\"), Node(4a9b66603d1b6446899a1e7fcbbd2bd8378d4e61; [\"9ab2dcafb71207e19ea81e2769fdc1e4a014dfc8_593c66c6d82d797a818caee475cd32abe120db76\"]; props: source=\"9ab2dcafb71207e19ea81e2769fdc1e4a014dfc8\", target=\"593c66c6d82d797a818caee475cd32abe120db76\"), Node(4a9b66603d1b6446899a1e7fcbbd2bd8378d4e61; [\"9ab2dcafb71207e19ea81e2769fdc1e4a014dfc8_5b3f4a68cdaf988b8f353b916ff9cfc9c95466f3\"]; props: source=\"9ab2dcafb71207e19ea81e2769fdc1e4a014dfc8\", target=\"5b3f4a68cdaf988b8f353b916ff9cfc9c95466f3\"), Node(4a9b66603d1b6446899a1e7fcbbd2bd8378d4e61; [\"9ab2dcafb71207e19ea81e2769fdc1e4a014dfc8_cfb6e7a15f1e23c3bdf8709f2b69ef87888db68d\"]; props: source=\"9ab2dcafb71207e19ea81e2769fdc1e4a014dfc8\", target=\"cfb6e7a15f1e23c3bdf8709f2b69ef87888db68d\"), Node(4a9b66603d1b6446899a1e7fcbbd2bd8378d4e61; [\"9ab2dcafb71207e19ea81e2769fdc1e4a014dfc8_281ab3fcb33cac77b39d7c4bf10a344e3237300f\"]; props: source=\"9ab2dcafb71207e19ea81e2769fdc1e4a014dfc8\", target=\"281ab3fcb33cac77b39d7c4bf10a344e3237300f\"), Node(4a9b66603d1b6446899a1e7fcbbd2bd8378d4e61; [\"9ab2dcafb71207e19ea81e2769fdc1e4a014dfc8_f7102479cf5aea9d30d7ff9b9de09a8ea5937f13\"]; props: source=\"9ab2dcafb71207e19ea81e2769fdc1e4a014dfc8\", target=\"f7102479cf5aea9d30d7ff9b9de09a8ea5937f13\"), Node(4a9b66603d1b6446899a1e7fcbbd2bd8378d4e61; [\"9ab2dcafb71207e19ea81e2769fdc1e4a014dfc8_aef66fa6e6870ff9f90fdf69ea9875f3a702386d\"]; props: source=\"9ab2dcafb71207e19ea81e2769fdc1e4a014dfc8\", target=\"aef66fa6e6870ff9f90fdf69ea9875f3a702386d\")]\n",
      "Main.Graph.Node[Node(4a9b66603d1b6446899a1e7fcbbd2bd8378d4e61; [\"1a0496b423ae5fde2b8c252c2d8a958a0e3f08a0_42d78f622a7acd625af6643c419b0d462a967f00\"]; props: source=\"1a0496b423ae5fde2b8c252c2d8a958a0e3f08a0\", target=\"42d78f622a7acd625af6643c419b0d462a967f00\"), Node(4a9b66603d1b6446899a1e7fcbbd2bd8378d4e61; [\"1a0496b423ae5fde2b8c252c2d8a958a0e3f08a0_48d3028983aa5e6b7c3bedefeda686acacfb1257\"]; props: source=\"1a0496b423ae5fde2b8c252c2d8a958a0e3f08a0\", target=\"48d3028983aa5e6b7c3bedefeda686acacfb1257\"), Node(4a9b66603d1b6446899a1e7fcbbd2bd8378d4e61; [\"1a0496b423ae5fde2b8c252c2d8a958a0e3f08a0_593c66c6d82d797a818caee475cd32abe120db76\"]; props: source=\"1a0496b423ae5fde2b8c252c2d8a958a0e3f08a0\", target=\"593c66c6d82d797a818caee475cd32abe120db76\"), Node(4a9b66603d1b6446899a1e7fcbbd2bd8378d4e61; [\"1a0496b423ae5fde2b8c252c2d8a958a0e3f08a0_5b3f4a68cdaf988b8f353b916ff9cfc9c95466f3\"]; props: source=\"1a0496b423ae5fde2b8c252c2d8a958a0e3f08a0\", target=\"5b3f4a68cdaf988b8f353b916ff9cfc9c95466f3\"), Node(4a9b66603d1b6446899a1e7fcbbd2bd8378d4e61; [\"1a0496b423ae5fde2b8c252c2d8a958a0e3f08a0_cfb6e7a15f1e23c3bdf8709f2b69ef87888db68d\"]; props: source=\"1a0496b423ae5fde2b8c252c2d8a958a0e3f08a0\", target=\"cfb6e7a15f1e23c3bdf8709f2b69ef87888db68d\"), Node(4a9b66603d1b6446899a1e7fcbbd2bd8378d4e61; [\"1a0496b423ae5fde2b8c252c2d8a958a0e3f08a0_281ab3fcb33cac77b39d7c4bf10a344e3237300f\"]; props: source=\"1a0496b423ae5fde2b8c252c2d8a958a0e3f08a0\", target=\"281ab3fcb33cac77b39d7c4bf10a344e3237300f\"), Node(4a9b66603d1b6446899a1e7fcbbd2bd8378d4e61; [\"1a0496b423ae5fde2b8c252c2d8a958a0e3f08a0_f7102479cf5aea9d30d7ff9b9de09a8ea5937f13\"]; props: source=\"1a0496b423ae5fde2b8c252c2d8a958a0e3f08a0\", target=\"f7102479cf5aea9d30d7ff9b9de09a8ea5937f13\"), Node(4a9b66603d1b6446899a1e7fcbbd2bd8378d4e61; [\"1a0496b423ae5fde2b8c252c2d8a958a0e3f08a0_aef66fa6e6870ff9f90fdf69ea9875f3a702386d\"]; props: source=\"1a0496b423ae5fde2b8c252c2d8a958a0e3f08a0\", target=\"aef66fa6e6870ff9f90fdf69ea9875f3a702386d\")]\n",
      "Main.Graph.Node[Node(4a9b66603d1b6446899a1e7fcbbd2bd8378d4e61; [\"5a3ac8102f56087e9a6ec71cbf290a8d6b1b38d1_42d78f622a7acd625af6643c419b0d462a967f00\"]; props: source=\"5a3ac8102f56087e9a6ec71cbf290a8d6b1b38d1\", target=\"42d78f622a7acd625af6643c419b0d462a967f00\"), Node(4a9b66603d1b6446899a1e7fcbbd2bd8378d4e61; [\"5a3ac8102f56087e9a6ec71cbf290a8d6b1b38d1_48d3028983aa5e6b7c3bedefeda686acacfb1257\"]; props: source=\"5a3ac8102f56087e9a6ec71cbf290a8d6b1b38d1\", target=\"48d3028983aa5e6b7c3bedefeda686acacfb1257\"), Node(4a9b66603d1b6446899a1e7fcbbd2bd8378d4e61; [\"5a3ac8102f56087e9a6ec71cbf290a8d6b1b38d1_593c66c6d82d797a818caee475cd32abe120db76\"]; props: source=\"5a3ac8102f56087e9a6ec71cbf290a8d6b1b38d1\", target=\"593c66c6d82d797a818caee475cd32abe120db76\"), Node(4a9b66603d1b6446899a1e7fcbbd2bd8378d4e61; [\"5a3ac8102f56087e9a6ec71cbf290a8d6b1b38d1_5b3f4a68cdaf988b8f353b916ff9cfc9c95466f3\"]; props: source=\"5a3ac8102f56087e9a6ec71cbf290a8d6b1b38d1\", target=\"5b3f4a68cdaf988b8f353b916ff9cfc9c95466f3\"), Node(4a9b66603d1b6446899a1e7fcbbd2bd8378d4e61; [\"5a3ac8102f56087e9a6ec71cbf290a8d6b1b38d1_cfb6e7a15f1e23c3bdf8709f2b69ef87888db68d\"]; props: source=\"5a3ac8102f56087e9a6ec71cbf290a8d6b1b38d1\", target=\"cfb6e7a15f1e23c3bdf8709f2b69ef87888db68d\"), Node(4a9b66603d1b6446899a1e7fcbbd2bd8378d4e61; [\"5a3ac8102f56087e9a6ec71cbf290a8d6b1b38d1_281ab3fcb33cac77b39d7c4bf10a344e3237300f\"]; props: source=\"5a3ac8102f56087e9a6ec71cbf290a8d6b1b38d1\", target=\"281ab3fcb33cac77b39d7c4bf10a344e3237300f\"), Node(4a9b66603d1b6446899a1e7fcbbd2bd8378d4e61; [\"5a3ac8102f56087e9a6ec71cbf290a8d6b1b38d1_f7102479cf5aea9d30d7ff9b9de09a8ea5937f13\"]; props: source=\"5a3ac8102f56087e9a6ec71cbf290a8d6b1b38d1\", target=\"f7102479cf5aea9d30d7ff9b9de09a8ea5937f13\"), Node(4a9b66603d1b6446899a1e7fcbbd2bd8378d4e61; [\"5a3ac8102f56087e9a6ec71cbf290a8d6b1b38d1_aef66fa6e6870ff9f90fdf69ea9875f3a702386d\"]; props: source=\"5a3ac8102f56087e9a6ec71cbf290a8d6b1b38d1\", target=\"aef66fa6e6870ff9f90fdf69ea9875f3a702386d\")]\n",
      "Main.Graph.Node[Node(4a9b66603d1b6446899a1e7fcbbd2bd8378d4e61; [\"5f8933038ebeb447a99b790c0e0cb1b575fb0c2c_42d78f622a7acd625af6643c419b0d462a967f00\"]; props: source=\"5f8933038ebeb447a99b790c0e0cb1b575fb0c2c\", target=\"42d78f622a7acd625af6643c419b0d462a967f00\"), Node(4a9b66603d1b6446899a1e7fcbbd2bd8378d4e61; [\"5f8933038ebeb447a99b790c0e0cb1b575fb0c2c_48d3028983aa5e6b7c3bedefeda686acacfb1257\"]; props: source=\"5f8933038ebeb447a99b790c0e0cb1b575fb0c2c\", target=\"48d3028983aa5e6b7c3bedefeda686acacfb1257\"), Node(4a9b66603d1b6446899a1e7fcbbd2bd8378d4e61; [\"5f8933038ebeb447a99b790c0e0cb1b575fb0c2c_593c66c6d82d797a818caee475cd32abe120db76\"]; props: source=\"5f8933038ebeb447a99b790c0e0cb1b575fb0c2c\", target=\"593c66c6d82d797a818caee475cd32abe120db76\"), Node(4a9b66603d1b6446899a1e7fcbbd2bd8378d4e61; [\"5f8933038ebeb447a99b790c0e0cb1b575fb0c2c_5b3f4a68cdaf988b8f353b916ff9cfc9c95466f3\"]; props: source=\"5f8933038ebeb447a99b790c0e0cb1b575fb0c2c\", target=\"5b3f4a68cdaf988b8f353b916ff9cfc9c95466f3\"), Node(4a9b66603d1b6446899a1e7fcbbd2bd8378d4e61; [\"5f8933038ebeb447a99b790c0e0cb1b575fb0c2c_cfb6e7a15f1e23c3bdf8709f2b69ef87888db68d\"]; props: source=\"5f8933038ebeb447a99b790c0e0cb1b575fb0c2c\", target=\"cfb6e7a15f1e23c3bdf8709f2b69ef87888db68d\"), Node(4a9b66603d1b6446899a1e7fcbbd2bd8378d4e61; [\"5f8933038ebeb447a99b790c0e0cb1b575fb0c2c_281ab3fcb33cac77b39d7c4bf10a344e3237300f\"]; props: source=\"5f8933038ebeb447a99b790c0e0cb1b575fb0c2c\", target=\"281ab3fcb33cac77b39d7c4bf10a344e3237300f\"), Node(4a9b66603d1b6446899a1e7fcbbd2bd8378d4e61; [\"5f8933038ebeb447a99b790c0e0cb1b575fb0c2c_f7102479cf5aea9d30d7ff9b9de09a8ea5937f13\"]; props: source=\"5f8933038ebeb447a99b790c0e0cb1b575fb0c2c\", target=\"f7102479cf5aea9d30d7ff9b9de09a8ea5937f13\"), Node(4a9b66603d1b6446899a1e7fcbbd2bd8378d4e61; [\"5f8933038ebeb447a99b790c0e0cb1b575fb0c2c_aef66fa6e6870ff9f90fdf69ea9875f3a702386d\"]; props: source=\"5f8933038ebeb447a99b790c0e0cb1b575fb0c2c\", target=\"aef66fa6e6870ff9f90fdf69ea9875f3a702386d\")]\n",
      "Main.Graph.Node[Node(4a9b66603d1b6446899a1e7fcbbd2bd8378d4e61; [\"c8d090c4620546d6ffcc5d993effae225373f078_42d78f622a7acd625af6643c419b0d462a967f00\"]; props: source=\"c8d090c4620546d6ffcc5d993effae225373f078\", target=\"42d78f622a7acd625af6643c419b0d462a967f00\"), Node(4a9b66603d1b6446899a1e7fcbbd2bd8378d4e61; [\"c8d090c4620546d6ffcc5d993effae225373f078_48d3028983aa5e6b7c3bedefeda686acacfb1257\"]; props: source=\"c8d090c4620546d6ffcc5d993effae225373f078\", target=\"48d3028983aa5e6b7c3bedefeda686acacfb1257\"), Node(4a9b66603d1b6446899a1e7fcbbd2bd8378d4e61; [\"c8d090c4620546d6ffcc5d993effae225373f078_593c66c6d82d797a818caee475cd32abe120db76\"]; props: source=\"c8d090c4620546d6ffcc5d993effae225373f078\", target=\"593c66c6d82d797a818caee475cd32abe120db76\"), Node(4a9b66603d1b6446899a1e7fcbbd2bd8378d4e61; [\"c8d090c4620546d6ffcc5d993effae225373f078_5b3f4a68cdaf988b8f353b916ff9cfc9c95466f3\"]; props: source=\"c8d090c4620546d6ffcc5d993effae225373f078\", target=\"5b3f4a68cdaf988b8f353b916ff9cfc9c95466f3\"), Node(4a9b66603d1b6446899a1e7fcbbd2bd8378d4e61; [\"c8d090c4620546d6ffcc5d993effae225373f078_cfb6e7a15f1e23c3bdf8709f2b69ef87888db68d\"]; props: source=\"c8d090c4620546d6ffcc5d993effae225373f078\", target=\"cfb6e7a15f1e23c3bdf8709f2b69ef87888db68d\"), Node(4a9b66603d1b6446899a1e7fcbbd2bd8378d4e61; [\"c8d090c4620546d6ffcc5d993effae225373f078_281ab3fcb33cac77b39d7c4bf10a344e3237300f\"]; props: source=\"c8d090c4620546d6ffcc5d993effae225373f078\", target=\"281ab3fcb33cac77b39d7c4bf10a344e3237300f\"), Node(4a9b66603d1b6446899a1e7fcbbd2bd8378d4e61; [\"c8d090c4620546d6ffcc5d993effae225373f078_f7102479cf5aea9d30d7ff9b9de09a8ea5937f13\"]; props: source=\"c8d090c4620546d6ffcc5d993effae225373f078\", target=\"f7102479cf5aea9d30d7ff9b9de09a8ea5937f13\"), Node(4a9b66603d1b6446899a1e7fcbbd2bd8378d4e61; [\"c8d090c4620546d6ffcc5d993effae225373f078_aef66fa6e6870ff9f90fdf69ea9875f3a702386d\"]; props: source=\"c8d090c4620546d6ffcc5d993effae225373f078\", target=\"aef66fa6e6870ff9f90fdf69ea9875f3a702386d\")]\n",
      "Main.Graph.Node[Node(4a9b66603d1b6446899a1e7fcbbd2bd8378d4e61; [\"c868dc2729e54f3d4db15d77ff8f0276b33dab54_42d78f622a7acd625af6643c419b0d462a967f00\"]; props: source=\"c868dc2729e54f3d4db15d77ff8f0276b33dab54\", target=\"42d78f622a7acd625af6643c419b0d462a967f00\"), Node(4a9b66603d1b6446899a1e7fcbbd2bd8378d4e61; [\"c868dc2729e54f3d4db15d77ff8f0276b33dab54_48d3028983aa5e6b7c3bedefeda686acacfb1257\"]; props: source=\"c868dc2729e54f3d4db15d77ff8f0276b33dab54\", target=\"48d3028983aa5e6b7c3bedefeda686acacfb1257\"), Node(4a9b66603d1b6446899a1e7fcbbd2bd8378d4e61; [\"c868dc2729e54f3d4db15d77ff8f0276b33dab54_593c66c6d82d797a818caee475cd32abe120db76\"]; props: source=\"c868dc2729e54f3d4db15d77ff8f0276b33dab54\", target=\"593c66c6d82d797a818caee475cd32abe120db76\"), Node(4a9b66603d1b6446899a1e7fcbbd2bd8378d4e61; [\"c868dc2729e54f3d4db15d77ff8f0276b33dab54_5b3f4a68cdaf988b8f353b916ff9cfc9c95466f3\"]; props: source=\"c868dc2729e54f3d4db15d77ff8f0276b33dab54\", target=\"5b3f4a68cdaf988b8f353b916ff9cfc9c95466f3\"), Node(4a9b66603d1b6446899a1e7fcbbd2bd8378d4e61; [\"c868dc2729e54f3d4db15d77ff8f0276b33dab54_cfb6e7a15f1e23c3bdf8709f2b69ef87888db68d\"]; props: source=\"c868dc2729e54f3d4db15d77ff8f0276b33dab54\", target=\"cfb6e7a15f1e23c3bdf8709f2b69ef87888db68d\"), Node(4a9b66603d1b6446899a1e7fcbbd2bd8378d4e61; [\"c868dc2729e54f3d4db15d77ff8f0276b33dab54_281ab3fcb33cac77b39d7c4bf10a344e3237300f\"]; props: source=\"c868dc2729e54f3d4db15d77ff8f0276b33dab54\", target=\"281ab3fcb33cac77b39d7c4bf10a344e3237300f\"), Node(4a9b66603d1b6446899a1e7fcbbd2bd8378d4e61; [\"c868dc2729e54f3d4db15d77ff8f0276b33dab54_f7102479cf5aea9d30d7ff9b9de09a8ea5937f13\"]; props: source=\"c868dc2729e54f3d4db15d77ff8f0276b33dab54\", target=\"f7102479cf5aea9d30d7ff9b9de09a8ea5937f13\"), Node(4a9b66603d1b6446899a1e7fcbbd2bd8378d4e61; [\"c868dc2729e54f3d4db15d77ff8f0276b33dab54_aef66fa6e6870ff9f90fdf69ea9875f3a702386d\"]; props: source=\"c868dc2729e54f3d4db15d77ff8f0276b33dab54\", target=\"aef66fa6e6870ff9f90fdf69ea9875f3a702386d\")]\n",
      "Main.Graph.Node[Node(4a9b66603d1b6446899a1e7fcbbd2bd8378d4e61; [\"e01073b3c116b18997664c968478f877b70b5935_42d78f622a7acd625af6643c419b0d462a967f00\"]; props: source=\"e01073b3c116b18997664c968478f877b70b5935\", target=\"42d78f622a7acd625af6643c419b0d462a967f00\"), Node(4a9b66603d1b6446899a1e7fcbbd2bd8378d4e61; [\"e01073b3c116b18997664c968478f877b70b5935_48d3028983aa5e6b7c3bedefeda686acacfb1257\"]; props: source=\"e01073b3c116b18997664c968478f877b70b5935\", target=\"48d3028983aa5e6b7c3bedefeda686acacfb1257\"), Node(4a9b66603d1b6446899a1e7fcbbd2bd8378d4e61; [\"e01073b3c116b18997664c968478f877b70b5935_593c66c6d82d797a818caee475cd32abe120db76\"]; props: source=\"e01073b3c116b18997664c968478f877b70b5935\", target=\"593c66c6d82d797a818caee475cd32abe120db76\"), Node(4a9b66603d1b6446899a1e7fcbbd2bd8378d4e61; [\"e01073b3c116b18997664c968478f877b70b5935_5b3f4a68cdaf988b8f353b916ff9cfc9c95466f3\"]; props: source=\"e01073b3c116b18997664c968478f877b70b5935\", target=\"5b3f4a68cdaf988b8f353b916ff9cfc9c95466f3\"), Node(4a9b66603d1b6446899a1e7fcbbd2bd8378d4e61; [\"e01073b3c116b18997664c968478f877b70b5935_cfb6e7a15f1e23c3bdf8709f2b69ef87888db68d\"]; props: source=\"e01073b3c116b18997664c968478f877b70b5935\", target=\"cfb6e7a15f1e23c3bdf8709f2b69ef87888db68d\"), Node(4a9b66603d1b6446899a1e7fcbbd2bd8378d4e61; [\"e01073b3c116b18997664c968478f877b70b5935_281ab3fcb33cac77b39d7c4bf10a344e3237300f\"]; props: source=\"e01073b3c116b18997664c968478f877b70b5935\", target=\"281ab3fcb33cac77b39d7c4bf10a344e3237300f\"), Node(4a9b66603d1b6446899a1e7fcbbd2bd8378d4e61; [\"e01073b3c116b18997664c968478f877b70b5935_f7102479cf5aea9d30d7ff9b9de09a8ea5937f13\"]; props: source=\"e01073b3c116b18997664c968478f877b70b5935\", target=\"f7102479cf5aea9d30d7ff9b9de09a8ea5937f13\"), Node(4a9b66603d1b6446899a1e7fcbbd2bd8378d4e61; [\"e01073b3c116b18997664c968478f877b70b5935_aef66fa6e6870ff9f90fdf69ea9875f3a702386d\"]; props: source=\"e01073b3c116b18997664c968478f877b70b5935\", target=\"aef66fa6e6870ff9f90fdf69ea9875f3a702386d\")]\n",
      "Main.Graph.Node[Node(4a9b66603d1b6446899a1e7fcbbd2bd8378d4e61; [\"1a3f7960a3e9f7e543dbeca0ab4bde27cb85e166_42d78f622a7acd625af6643c419b0d462a967f00\"]; props: source=\"1a3f7960a3e9f7e543dbeca0ab4bde27cb85e166\", target=\"42d78f622a7acd625af6643c419b0d462a967f00\"), Node(4a9b66603d1b6446899a1e7fcbbd2bd8378d4e61; [\"1a3f7960a3e9f7e543dbeca0ab4bde27cb85e166_48d3028983aa5e6b7c3bedefeda686acacfb1257\"]; props: source=\"1a3f7960a3e9f7e543dbeca0ab4bde27cb85e166\", target=\"48d3028983aa5e6b7c3bedefeda686acacfb1257\"), Node(4a9b66603d1b6446899a1e7fcbbd2bd8378d4e61; [\"1a3f7960a3e9f7e543dbeca0ab4bde27cb85e166_593c66c6d82d797a818caee475cd32abe120db76\"]; props: source=\"1a3f7960a3e9f7e543dbeca0ab4bde27cb85e166\", target=\"593c66c6d82d797a818caee475cd32abe120db76\"), Node(4a9b66603d1b6446899a1e7fcbbd2bd8378d4e61; [\"1a3f7960a3e9f7e543dbeca0ab4bde27cb85e166_5b3f4a68cdaf988b8f353b916ff9cfc9c95466f3\"]; props: source=\"1a3f7960a3e9f7e543dbeca0ab4bde27cb85e166\", target=\"5b3f4a68cdaf988b8f353b916ff9cfc9c95466f3\"), Node(4a9b66603d1b6446899a1e7fcbbd2bd8378d4e61; [\"1a3f7960a3e9f7e543dbeca0ab4bde27cb85e166_cfb6e7a15f1e23c3bdf8709f2b69ef87888db68d\"]; props: source=\"1a3f7960a3e9f7e543dbeca0ab4bde27cb85e166\", target=\"cfb6e7a15f1e23c3bdf8709f2b69ef87888db68d\"), Node(4a9b66603d1b6446899a1e7fcbbd2bd8378d4e61; [\"1a3f7960a3e9f7e543dbeca0ab4bde27cb85e166_281ab3fcb33cac77b39d7c4bf10a344e3237300f\"]; props: source=\"1a3f7960a3e9f7e543dbeca0ab4bde27cb85e166\", target=\"281ab3fcb33cac77b39d7c4bf10a344e3237300f\"), Node(4a9b66603d1b6446899a1e7fcbbd2bd8378d4e61; [\"1a3f7960a3e9f7e543dbeca0ab4bde27cb85e166_f7102479cf5aea9d30d7ff9b9de09a8ea5937f13\"]; props: source=\"1a3f7960a3e9f7e543dbeca0ab4bde27cb85e166\", target=\"f7102479cf5aea9d30d7ff9b9de09a8ea5937f13\"), Node(4a9b66603d1b6446899a1e7fcbbd2bd8378d4e61; [\"1a3f7960a3e9f7e543dbeca0ab4bde27cb85e166_aef66fa6e6870ff9f90fdf69ea9875f3a702386d\"]; props: source=\"1a3f7960a3e9f7e543dbeca0ab4bde27cb85e166\", target=\"aef66fa6e6870ff9f90fdf69ea9875f3a702386d\")]\n"
     ]
    }
   ],
   "source": [
    "\"\"\"\n",
    "    Running get_node_matrix function to extract row and column nodes from the csv file.\n",
    "    Each cell of the resulting matrix will hold a node that would represent an intersection\n",
    "    of corresponding row and column of the original csv file.\n",
    "\"\"\"\n",
    "node_matrix = Store.get_node_matrix(db, source_id)\n",
    "i = 0\n",
    "for row in eachrow(node_matrix)\n",
    "    if i < 20\n",
    "        println(row)\n",
    "    end\n",
    "    i += 1\n",
    "end"
   ]
  },
  {
   "cell_type": "code",
   "execution_count": 21,
   "metadata": {},
   "outputs": [
    {
     "name": "stdout",
     "output_type": "stream",
     "text": [
      "[\"[]\", \"[]\", \"[]\", \"[]\", \"[]\", \"[]\", \"[]\", \"[]\"]\n",
      "[\"[]\", \"[]\", \"[]\", \"[]\", \"[]\", \"[]\", \"[]\", \"[]\"]\n",
      "[\"[]\", \"[]\", \"[]\", \"[]\", \"[]\", \"[]\", \"[]\", \"[]\"]\n",
      "[\"[]\", \"[]\", \"[]\", \"[]\", \"[]\", \"[]\", \"[]\", \"[]\"]\n",
      "[\"[]\", \"[]\", \"[]\", \"[]\", \"[]\", \"[]\", \"[]\", \"[]\"]\n",
      "[\"[]\", \"[]\", \"[]\", \"[]\", \"[]\", \"[]\", \"[]\", \"[]\"]\n",
      "[\"[]\", \"[]\", \"[]\", \"[]\", \"[]\", \"[]\", \"[]\", \"[]\"]\n",
      "[\"[]\", \"[]\", \"[]\", \"[]\", \"[]\", \"[]\", \"[]\", \"[]\"]\n",
      "[\"[]\", \"[]\", \"[]\", \"[]\", \"[]\", \"[]\", \"[]\", \"[]\"]\n",
      "[\"[]\", \"[]\", \"[]\", \"[]\", \"[]\", \"[]\", \"[]\", \"[]\"]\n",
      "[\"[]\", \"[]\", \"[]\", \"[]\", \"[]\", \"[]\", \"[]\", \"[]\"]\n",
      "[\"[]\", \"[]\", \"[]\", \"[]\", \"[]\", \"[]\", \"[]\", \"[]\"]\n",
      "[\"[]\", \"[]\", \"[]\", \"[]\", \"[]\", \"[]\", \"[]\", \"[]\"]\n",
      "[\"[]\", \"[]\", \"[]\", \"[]\", \"[]\", \"[]\", \"[]\", \"[]\"]\n",
      "[\"[]\", \"[]\", \"[]\", \"[]\", \"[]\", \"[]\", \"[]\", \"[]\"]\n",
      "[\"[]\", \"[]\", \"[]\", \"[]\", \"[]\", \"[]\", \"[]\", \"[]\"]\n",
      "[\"[]\", \"[]\", \"[]\", \"[]\", \"[]\", \"[]\", \"[]\", \"[]\"]\n",
      "[\"[]\", \"[]\", \"[]\", \"[]\", \"[]\", \"[]\", \"[]\", \"[]\"]\n",
      "[\"[]\", \"[]\", \"[]\", \"[]\", \"[]\", \"[]\", \"[]\", \"[]\"]\n",
      "[\"[]\", \"[]\", \"[]\", \"[]\", \"[]\", \"[]\", \"[]\", \"[]\"]\n"
     ]
    }
   ],
   "source": [
    "\"\"\"\n",
    "    Finally we are going to recreate the original csv file (a sample in our case) \n",
    "    from the node matrix.\n",
    "\n",
    "    Important to keep in mind that the results of each cell in the matrix would not be the same \n",
    "    as in the original csv file.\n",
    "    Possible discrepancies can include wrong order on tokens in multitoken cells, \n",
    "    missing cells, etc.\n",
    "    It is a natural result of the probalistic approximation performed on original csv file.\n",
    "    The original csv file was tokenized, compacted into HllSet, and then reconstructed.\n",
    "\"\"\"\n",
    "value_matrix = Store.get_value_matrix(db, source_id)\n",
    "i = 0\n",
    "for row in eachrow(value_matrix)\n",
    "    if i < 20\n",
    "        println(row)\n",
    "    end\n",
    "    i += 1\n",
    "    # println(row)\n",
    "end"
   ]
  }
 ],
 "metadata": {
  "kernelspec": {
   "display_name": "Julia 1.10.3",
   "language": "julia",
   "name": "julia-1.10"
  },
  "language_info": {
   "file_extension": ".jl",
   "mimetype": "application/julia",
   "name": "julia",
   "version": "1.10.3"
  }
 },
 "nbformat": 4,
 "nbformat_minor": 2
}
