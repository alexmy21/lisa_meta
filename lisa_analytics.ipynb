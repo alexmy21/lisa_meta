{
 "cells": [
  {
   "cell_type": "code",
   "execution_count": 1,
   "metadata": {},
   "outputs": [
    {
     "data": {
      "text/plain": [
       "HllSet{10}()"
      ]
     },
     "metadata": {},
     "output_type": "display_data"
    }
   ],
   "source": [
    "# using Pkg\n",
    "# Pkg.activate(\".\")\n",
    "# Pkg.instantiate()\n",
    "# Pkg.add(\"SQLite\")\n",
    "# Pkg.add(\"DBInterface\")\n",
    "# Pkg.add(\"JSON3\")\n",
    "# Pkg.add(\"EasyConfig\")\n",
    "# Pkg.add(\"MurmurHash3\")\n",
    "# Pkg.add(\"TextAnalysis\")\n",
    "# Pkg.add(\"UUIDs\")\n",
    "# Pkg.add(\"PooledArrays\")\n",
    "include(\"src/lisa_store.jl\")\n",
    "\n",
    "using SQLite\n",
    "using DBInterface\n",
    "using MurmurHash3\n",
    "using TextAnalysis\n",
    "using JSON3\n",
    "using PooledArrays\n",
    "using UUIDs\n",
    "using EasyConfig\n",
    "using HDF5\n",
    "\n",
    "db = Graph.DB(\"lisa_analytics.db\")\n",
    "hll = SetCore.HllSet{10}()\n",
    "\n",
    "# Create an empty HDF5 file. Run it only once, because it will overwrite the file\n",
    "# h5open(\"lisa_analytics.hdf5\", \"w\") do f\n",
    "#     # The file is now open, but it's empty\n",
    "# end"
   ]
  },
  {
   "cell_type": "code",
   "execution_count": 7,
   "metadata": {},
   "outputs": [],
   "source": [
    "p = 10\n",
    "hll = SetCore.HllSet{p}()\n",
    "Store.book_file(db, \"/home/alexmy/JULIA/DEMO/sample/\", hll)"
   ]
  },
  {
   "cell_type": "code",
   "execution_count": 8,
   "metadata": {},
   "outputs": [
    {
     "name": "stdout",
     "output_type": "stream",
     "text": [
      "Processed column: 8\n"
     ]
    },
    {
     "name": "stdout",
     "output_type": "stream",
     "text": [
      "Processed column: 15\n"
     ]
    }
   ],
   "source": [
    "uuid = string(uuid4())\n",
    "df = Graph.set_lock!(db, \n",
    "    \"/home/alexmy/JULIA/DEMO/sample\", \n",
    "    \"csv\", \n",
    "    \"book_file\", \n",
    "    \"ingest_csv\", \n",
    "    \"waiting\", \n",
    "    \"waiting\", \n",
    "    uuid; result=true)\n",
    "\n",
    "for row in eachrow(df)\n",
    "    assign = Graph.Assignment(row) \n",
    "    col_uuid = string(uuid4())\n",
    "    Store._ingest_csv(db, assign, col_uuid; limit=10000, offset=20)\n",
    "end"
   ]
  },
  {
   "cell_type": "code",
   "execution_count": null,
   "metadata": {},
   "outputs": [],
   "source": [
    "Store.commit(db, \"lisa_analytics.hdf5\", \"Alex Mylnikov\", \"alexmy@lisa-park.com\", \"commit 2\", Config())"
   ]
  },
  {
   "cell_type": "code",
   "execution_count": 10,
   "metadata": {},
   "outputs": [
    {
     "data": {
      "text/plain": [
       "🗂️ HDF5.File: (read-only) lisa_analytics.hdf5\n",
       "└─ 📂 afbc73c3-62d1-4e70-aa89-b5affe924104\n",
       "   ├─ 📂 edges\n",
       "   │  ├─ 📂 0b90b1fee69c77ffa3efe57db7788112ef96dba6\n",
       "   │  │  └─ 📂 has_column\n",
       "   │  │     ├─ 🔢 1d29c5326d2292d8717e189a12ca4bd4cbac8b76\n",
       "   │  │     │  └─ (5 children)\n",
       "   │  │     ├─ 🔢 3f9526f8d331b9519b8632a11b2d344ab7c647b6\n",
       "   │  │     │  └─ (5 children)\n",
       "   │  │     ├─ 🔢 4b925186fe6753be2ed6908976e44e0f7630d40f\n",
       "   │  │     │  └─ (5 children)\n",
       "   │  │     ├─ 🔢 4ea0d4a979741fbb57dd4cc9a2c05913a6ee875d\n",
       "   │  │     │  └─ (5 children)\n",
       "   │  │     ├─ 🔢 5c6ad737758c030a92351e80c15650712fa06108\n",
       "   │  │     │  └─ (5 children)\n",
       "   │  │     ├─ 🔢 8e5610e809bad1efe796848a86ecb9e28e1709b9\n",
       "   │  │     │  └─ (5 children)\n",
       "   │  │     ├─ 🔢 d87927e475744f6280feca8fd040dd42d07dba4a\n",
       "   │  │     │  └─ (5 children)\n",
       "   │  │     └─ 🔢 de6012ead358304ae31a499f29d380878219a256\n",
       "   │  │        └─ (5 children)\n",
       "   │  └─ 📂 6be12bee4edf7c96016907e44bb520be80dc9232\n",
       "   │     └─ 📂 has_column\n",
       "   │        ├─ 🔢 0f73a283cd731d2f36ef6b029f24d28458b8fefc\n",
       "   │        │  └─ (5 children)\n",
       "   │        ├─ 🔢 2907d275ede98697de7f5a5bfa30a174dc05314c\n",
       "   │        │  └─ (5 children)\n",
       "   │        ├─ 🔢 34a7b3a7a81e0f1b7f357c6aad5fb1ed31df950c\n",
       "   │        │  └─ (5 children)\n",
       "   │        ├─ 🔢 4081c0ee7a492aa0ffd6494620761a9e760fa400\n",
       "   │        │  └─ (5 children)\n",
       "   │        ├─ 🔢 68095ecaf7005e07952f3029a21534c294b55742\n",
       "   │        │  └─ (5 children)\n",
       "   │        ├─ 🔢 795c87e41fe35fb6530d609cb6835daa0e5fbc1b\n",
       "   │        │  └─ (5 children)\n",
       "   │        ├─ 🔢 7e73ff0d64bb7ceff989c33c395348bc853be10f\n",
       "   │        │  └─ (5 children)\n",
       "   │        ├─ 🔢 93399d592fd2eb9e58516784954a6161e4feb27f\n",
       "   │        │  └─ (5 children)\n",
       "   │        ├─ 🔢 94de4cde86ec5fa49c6a07f5ce0825125844c329\n",
       "   │        │  └─ (5 children)\n",
       "   │        ├─ 🔢 98ff2ded92a7fa7aaef1a4434d7b5e9f08e82c5c\n",
       "   │        │  └─ (5 children)\n",
       "   │        └─ (5 more children)\n",
       "   └─ 📂 nodes\n",
       "      ├─ 📂 0b90b1fee69c77ffa3efe57db7788112ef96dba6\n",
       "      │  └─ 🔢 _csv_file_\n",
       "      │     ├─ 🏷️ commit_id\n",
       "      │     ├─ 🏷️ file_name\n",
       "      │     └─ 🏷️ file_type\n",
       "      ├─ 📂 0f73a283cd731d2f36ef6b029f24d28458b8fefc\n",
       "      │  └─ 🔢 _csv_column_\n",
       "      │     ├─ 🏷️ column_name\n",
       "      │     ├─ 🏷️ column_type\n",
       "      │     ├─ 🏷️ commit_id\n",
       "      │     └─ 🏷️ file_sha1\n",
       "      ├─ 📂 1d29c5326d2292d8717e189a12ca4bd4cbac8b76\n",
       "      │  └─ 🔢 _csv_column_\n",
       "      │     ├─ 🏷️ column_name\n",
       "      │     ├─ 🏷️ column_type\n",
       "      │     ├─ 🏷️ commit_id\n",
       "      │     └─ 🏷️ file_sha1\n",
       "      ├─ 📂 2907d275ede98697de7f5a5bfa30a174dc05314c\n",
       "      │  └─ 🔢 _csv_column_\n",
       "      │     ├─ 🏷️ column_name\n",
       "      │     ├─ 🏷️ column_type\n",
       "      │     ├─ 🏷️ commit_id\n",
       "      │     └─ 🏷️ file_sha1\n",
       "      ├─ 📂 34a7b3a7a81e0f1b7f357c6aad5fb1ed31df950c\n",
       "      │  └─ 🔢 _csv_column_\n",
       "      │     ├─ 🏷️ column_name\n",
       "      │     ├─ 🏷️ column_type\n",
       "      │     ├─ 🏷️ commit_id\n",
       "      │     └─ 🏷️ file_sha1\n",
       "      ├─ 📂 3f9526f8d331b9519b8632a11b2d344ab7c647b6\n",
       "      │  └─ 🔢 _csv_column_\n",
       "      │     ├─ 🏷️ column_name\n",
       "      │     ├─ 🏷️ column_type\n",
       "      │     ├─ 🏷️ commit_id\n",
       "      │     └─ 🏷️ file_sha1\n",
       "      ├─ 📂 4081c0ee7a492aa0ffd6494620761a9e760fa400\n",
       "      │  └─ 🔢 _csv_column_\n",
       "      │     ├─ 🏷️ column_name\n",
       "      │     ├─ 🏷️ column_type\n",
       "      │     ├─ 🏷️ commit_id\n",
       "      │     └─ 🏷️ file_sha1\n",
       "      ├─ 📂 4b925186fe6753be2ed6908976e44e0f7630d40f\n",
       "      │  └─ 🔢 _csv_column_\n",
       "      │     ├─ 🏷️ column_name\n",
       "      │     ├─ 🏷️ column_type\n",
       "      │     ├─ 🏷️ commit_id\n",
       "      │     └─ 🏷️ file_sha1\n",
       "      ├─ 📂 4ea0d4a979741fbb57dd4cc9a2c05913a6ee875d\n",
       "      │  └─ 🔢 _csv_column_\n",
       "      │     ├─ 🏷️ column_name\n",
       "      │     ├─ 🏷️ column_type\n",
       "      │     ├─ 🏷️ commit_id\n",
       "      │     └─ 🏷️ file_sha1\n",
       "      ├─ 📂 5c6ad737758c030a92351e80c15650712fa06108\n",
       "      │  └─ 🔢 _csv_column_\n",
       "      │     ├─ 🏷️ column_name\n",
       "      │     ├─ 🏷️ column_type\n",
       "      │     ├─ 🏷️ commit_id\n",
       "      │     └─ 🏷️ file_sha1\n",
       "      ├─ 📂 68095ecaf7005e07952f3029a21534c294b55742\n",
       "      │  └─ 🔢 _csv_column_\n",
       "      │     ├─ 🏷️ column_name\n",
       "      │     ├─ 🏷️ column_type\n",
       "      │     ├─ 🏷️ commit_id\n",
       "      │     └─ 🏷️ file_sha1\n",
       "      ├─ 📂 6be12bee4edf7c96016907e44bb520be80dc9232\n",
       "      │  └─ 🔢 _csv_file_\n",
       "      │     ├─ 🏷️ commit_id\n",
       "      │     ├─ 🏷️ file_name\n",
       "      │     └─ 🏷️ file_type\n",
       "      ├─ 📂 795c87e41fe35fb6530d609cb6835daa0e5fbc1b\n",
       "      │  └─ 🔢 _csv_column_\n",
       "      │     ├─ 🏷️ column_name\n",
       "      │     ├─ 🏷️ column_type\n",
       "      │     ├─ 🏷️ commit_id\n",
       "      │     └─ 🏷️ file_sha1\n",
       "      ├─ 📂 7e73ff0d64bb7ceff989c33c395348bc853be10f\n",
       "      │  └─ 🔢 _csv_column_\n",
       "      │     ├─ 🏷️ column_name\n",
       "      │     ├─ 🏷️ column_type\n",
       "      │     ├─ 🏷️ commit_id\n",
       "      │     └─ 🏷️ file_sha1\n",
       "      ├─ 📂 8e5610e809bad1efe796848a86ecb9e28e1709b9\n",
       "      │  └─ 🔢 _csv_column_\n",
       "      │     ├─ 🏷️ column_name\n",
       "      │     ├─ 🏷️ column_type\n",
       "      │     ├─ 🏷️ commit_id\n",
       "      │     └─ 🏷️ file_sha1\n",
       "      ├─ 📂 93399d592fd2eb9e58516784954a6161e4feb27f\n",
       "      │  └─ 🔢 _csv_column_\n",
       "      │     ├─ 🏷️ column_name\n",
       "      │     ├─ 🏷️ column_type\n",
       "      │     ├─ 🏷️ commit_id\n",
       "      │     └─ 🏷️ file_sha1\n",
       "      └─ (9 more children)"
      ]
     },
     "metadata": {},
     "output_type": "display_data"
    }
   ],
   "source": [
    "analytics = h5open(\"lisa_analytics.hdf5\")"
   ]
  },
  {
   "cell_type": "code",
   "execution_count": 6,
   "metadata": {},
   "outputs": [],
   "source": [
    "close(analytics)"
   ]
  },
  {
   "cell_type": "code",
   "execution_count": 16,
   "metadata": {},
   "outputs": [
    {
     "name": "stdout",
     "output_type": "stream",
     "text": [
      "Dict{Any, Any}(\"_csv_column_\" => [0, 0, 0, 0, 0, 0, 0, 0, 0, 0, 0, 0, 0, 0, 0, 0, 0, 0, 0, 0, 0, 0, 0, 0, 0, 0, 0, 0, 0, 0, 0, 0, 0, 0, 0, 0, 144115188075855872, 0, 0, 0, 0, 0, 0, 0, 0, 0, 0, 0, 0, 0, 0, 0, 0, 0, 0, 0, 0, 0, 0, 0, 0, 0, 0, 0, 0, 0, 0, 0, 0, 0, 0, 0, 0, 0, 0, 0, 0, 0, 0, 0, 0, 0, 0, 0, 0, 0, 0, 0, 0, 0, 0, 0, 0, 0, 0, 0, 0, 0, 0, 0, 0, 0, 0, 0, 0, 0, 0, 0, 0, 0, 0, 0, 0, 0, 0, 0, 0, 0, 0, 0, 0, 0, 0, 0, 0, 0, 0, 0, 0, 0, 0, 0, 0, 0, 0, 0, 0, 0, 0, 0, 0, 0, 0, 0, 0, 0, 0, 0, 0, 0, 0, 0, 0, 0, 0, 0, 0, 0, 0, 0, 0, 0, 0, 1152921504606846976, 0, 0, 0, 0, 0, 0, 0, 0, 2305843009213693952, 0, 0, 0, 0, 0, 0, 0, 0, 0, 0, 0, 0, 0, 0, 0, 0, 0, 0, 0, 0, 0, 0, 0, 0, 0, 0, 0, 0, 0, 0, 0, 2305843009213693952, 0, 0, 0, 0, 0, 0, 0, 0, 0, 0, 0, 0, 0, 0, 0, 0, 0, 0, 0, 0, 0, 0, 4611686018427387904, 0, 0, 0, 0, 0, 0, 0, 0, 0, 0, 0, 0, 0, 0, 0, 0, 0, 0, 0, 0, 0, 0, 0, 0, 0, 0, 0, 0, 0, 0, 0, 0, 0, 0, 0, 0, 0, 0, 0, 0, 0, 0, 0, 0, 0, 0, 0, 0, 0, 0, 0, 0, 0, 0, 0, 4611686018427387904, 0, 0, 0, 0, 0, 0, 0, 4611686018427387904, 0, 0, 0, 0, 0, 0, 0, 0, 0, 0, 0, 0, 0, 0, 0, 0, 0, 0, 0, 0, 0, 0, 0, 0, 0, 0, 0, 0, 4611686018427387904, 0, 0, 0, 0, 0, 0, 0, 0, 0, 0, 0, 0, 0, 0, 0, 0, 0, 0, 0, 0, 0, 0, 0, 0, 0, 0, 0, 0, 1152921504606846976, 0, 0, 0, 0, 0, 0, 0, 0, 0, 0, 0, 0, 0, 0, 0, 0, 0, 0, 144115188075855872, 0, 0, 0, 0, 0, 0, 4611686018427387904, 0, 0, 0, 0, 0, 0, 0, 0, 0, 0, 0, 0, 0, 0, 0, 0, 0, 0, 0, 0, 0, 0, 0, 0, 0, 0, 0, 0, 0, 0, 0, 0, 1152921504606846976, 0, 0, 0, 0, 0, 0, 0, 0, 0, 0, 0, 0, 0, 0, 0, 0, 0, 0, 0, 0, 0, 0, 0, 0, 0, 0, 0, 0, 0, 0, 0, 0, 0, 0, 0, 0, 0, 0, 0, 0, 0, 0, 0, 0, 0, 0, 0, 0, 0, 0, 0, 0, 0, 0, 0, 0, 0, 4611686018427387904, 0, 0, 0, 0, 0, 0, 0, 0, 0, 0, 0, 0, 0, 0, 0, 0, 0, 0, 0, 0, 0, 0, 0, 0, 0, 0, 0, 0, 0, 0, 0, 0, 0, 0, 0, 0, 0, 0, 0, 0, 0, 0, 0, 0, 0, 0, 0, 0, 0, 0, 0, 0, 0, 0, 0, 0, 0, 0, 0, 0, 0, 0, 0, 0, 0, 0, 0, 0, 0, 0, 0, 0, 0, 0, 0, 4611686018427387904, 0, 0, 0, 0, 0, 0, 0, 0, 0, 0, 0, 0, 0, 0, 0, 0, 0, 0, 0, 0, 0, 0, 0, 0, 0, 0, 0, 0, 0, 0, 0, 0, 0, 0, 0, 0, 0, 0, 0, 0, 4611686018427387904, 0, 0, 2305843009213693952, 0, 0, 0, 0, 4611686018427387904, 0, 0, 0, 0, 0, 0, 0, 0, 0, 0, 0, 0, 0, 0, 0, 0, 0, 4611686018427387904, 0, 0, 0, 0, 0, 0, 0, 0, 0, 0, 0, 0, 0, 0, 4611686018427387904, 0, 0, 0, 0, 0, 0, 0, 0, 0, 0, "
     ]
    },
    {
     "name": "stdout",
     "output_type": "stream",
     "text": [
      "0, 0, 0, 0, 0, 0, 0, 0, 0, 0, 0, 0, 0, 0, 0, 0, 0, 0, 0, 0, 0, 0, 0, 0, 0, 0, 0, 0, 0, 0, 0, 0, 0, 0, 0, 0, 0, 0, 0, 0, 0, 0, 0, 0, 0, 0, 0, 0, 0, 0, 0, 0, 0, 0, 0, 0, 0, 0, 0, 0, 0, 0, 0, 0, 0, 0, 0, 0, 0, 0, 0, 0, 4611686018427387904, 0, 0, 0, 0, 0, 0, 0, 0, 0, 1152921504606846976, 0, 0, 0, 0, 0, 0, 0, 0, 0, 0, 0, 0, 0, 0, 0, 0, 0, 0, 0, 0, 0, 0, 0, 0, 0, 0, 0, 0, 2305843009213693952, 0, 0, 0, 0, 0, 0, 0, 0, 0, 0, 0, 0, 0, 0, 0, 0, 0, 0, 0, 0, 0, 0, 0, 0, 0, 0, 0, 0, 0, 0, 0, 0, 0, 0, 0, 2305843009213693952, 0, 0, 0, 0, 0, 0, 0, 0, 0, 0, 0, 0, 0, 0, 0, 0, 0, 0, 0, 0, 0, 0, 0, 0, 0, 0, 0, 0, 0, 0, 0, 0, 0, 0, 0, 0, 0, 0, 0, 0, 0, 0, 0, 0, 0, 0, 0, 0, 0, 0, 0, 0, 0, 0, 0, 0, 0, 0, 0, 0, 0, 0, 0, 0, 0, 0, 0, 0, 0, 0, 0, 0, 0, 0, 0, 0, 0, 4611686018427387904, 0, 0, 4611686018427387904, 0, 0, 0, 0, 0, 576460752303423488, 0, 0, 0, 0, 0, 0, 0, 0, 0, 0, 0, 0, 2305843009213693952, 0, 0, 0, 0, 0, 0, 0, 0, 0, 0, 0, 0, 0, 0, 0, 0, 0, 0, 0, 0, 0, 0, 0, 0, 0, 0, 0, 0, 0, 0, 0, 0, 0, 0, 0, 0, 0, 0, 0, 0, 0, 0, 0, 0, 0, 0, 0, 0, 0, 0, 0, 0, 0, 0, 0, 0, 0, 0, 0, 0, 0, 0, 0, 0, 0, 0, 0, 0, 0, 0, 0, 0, 0, 0, 0, 0, 0, 0, 0, 0, 1152921504606846976, 0, 0, 0, 0, 0, 0, 0, 0, 0, 0, 0, 0, 0, 0, 0, 0, 0, 0, 0, 0, 0, 0, 0, 0, 0, 0, 0, 0, 0, 0, 0, 0, 0, 0, 0, 0, 0, 0, 0, 1152921504606846976, 0, 0, 0, 0, 0, 0, 0, 0, 0, 0, 0, 0, 0, 0, 0, 0, 0, 0, 0, 0])\n"
     ]
    }
   ],
   "source": [
    "file = h5open(\"lisa_analytics.hdf5\", \"r\")\n",
    "data_out = Dict()\n",
    "Store.read_datasets(file, data_out, \"/afbc73c3-62d1-4e70-aa89-b5affe924104/nodes/0f73a283cd731d2f36ef6b029f24d28458b8fefc\")\n",
    "println(data_out)\n",
    "# Close the file\n",
    "close(file)"
   ]
  },
  {
   "cell_type": "code",
   "execution_count": null,
   "metadata": {},
   "outputs": [],
   "source": []
  }
 ],
 "metadata": {
  "kernelspec": {
   "display_name": "Julia 1.9.2",
   "language": "julia",
   "name": "julia-1.9"
  },
  "language_info": {
   "file_extension": ".jl",
   "mimetype": "application/julia",
   "name": "julia",
   "version": "1.9.2"
  }
 },
 "nbformat": 4,
 "nbformat_minor": 2
}
