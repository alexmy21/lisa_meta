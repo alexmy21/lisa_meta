{
 "cells": [
  {
   "cell_type": "code",
   "execution_count": null,
   "metadata": {},
   "outputs": [],
   "source": [
    "# using Pkg\n",
    "# Pkg.activate(\".\")\n",
    "# Pkg.instantiate()\n",
    "# Pkg.add(\"SQLite\")\n",
    "# Pkg.add(\"DBInterface\")\n",
    "# Pkg.add(\"JSON3\")\n",
    "# Pkg.add(\"EasyConfig\")\n",
    "# Pkg.add(\"MurmurHash3\")\n",
    "# Pkg.add(\"TextAnalysis\")\n",
    "# Pkg.add(\"UUIDs\")\n",
    "# Pkg.add(\"PooledArrays\")\n",
    "include(\"src/lisa_store.jl\")\n",
    "\n",
    "using SQLite\n",
    "using DBInterface\n",
    "using MurmurHash3\n",
    "using TextAnalysis\n",
    "using JSON3\n",
    "using PooledArrays\n",
    "using UUIDs\n",
    "using EasyConfig\n",
    "using HDF5\n",
    "\n",
    "db = Graph.DB(\"lisa_analytics.db\")\n",
    "hll = SetCore.HllSet{10}()\n",
    "\n",
    "# Create an empty HDF5 file. Run it only once, because it will overwrite the file\n",
    "# h5open(\"lisa_analytics.hdf5\", \"w\") do f\n",
    "#     # The file is now open, but it's empty\n",
    "# end\n",
    "\n",
    "hdf5_file_name = \"lisa_analytics.hdf5\""
   ]
  },
  {
   "cell_type": "code",
   "execution_count": null,
   "metadata": {},
   "outputs": [],
   "source": [
    "p = 10\n",
    "hll = SetCore.HllSet{p}()\n",
    "Store.book_file(db, \"/home/alexmy/JULIA/DEMO/sample/\", hll)"
   ]
  },
  {
   "cell_type": "code",
   "execution_count": null,
   "metadata": {},
   "outputs": [],
   "source": [
    "uuid = string(uuid4())\n",
    "df = Graph.set_lock!(db, \n",
    "    \"/home/alexmy/JULIA/DEMO/sample\", \n",
    "    \"csv\", \n",
    "    \"book_file\", \n",
    "    \"ingest_csv\", \n",
    "    \"waiting\", \n",
    "    \"waiting\", \n",
    "    uuid; result=true)\n",
    "\n",
    "for row in eachrow(df)\n",
    "    assign = Graph.Assignment(row) \n",
    "    col_uuid = string(uuid4())\n",
    "    Store._ingest_csv_by_column(db, assign, col_uuid; limit=10000, offset=20)\n",
    "end"
   ]
  },
  {
   "cell_type": "code",
   "execution_count": null,
   "metadata": {},
   "outputs": [],
   "source": [
    "Store.commit(db, hdf5_file_name, \"Alex Mylnikov\", \"alexmy@lisa-park.com\", \"commit 3\", Config())"
   ]
  },
  {
   "cell_type": "code",
   "execution_count": null,
   "metadata": {},
   "outputs": [],
   "source": [
    "analytics = h5open(hdf5_file_name)"
   ]
  },
  {
   "cell_type": "code",
   "execution_count": null,
   "metadata": {},
   "outputs": [],
   "source": [
    "close(analytics)"
   ]
  },
  {
   "cell_type": "code",
   "execution_count": null,
   "metadata": {},
   "outputs": [],
   "source": [
    "dataset_path = \"/afbc73c3-62d1-4e70-aa89-b5affe924104/nodes/0f73a283cd731d2f36ef6b029f24d28458b8fefc/_csv_column_\"\n",
    "data_out = Dict()\n",
    "h5open(hdf5_file_name, \"r\") do file\n",
    "    Store.read_datasets(file, data_out, dataset_path)\n",
    "end\n",
    "println(data_out[\"_csv_column_\"][1])"
   ]
  },
  {
   "cell_type": "code",
   "execution_count": null,
   "metadata": {},
   "outputs": [],
   "source": []
  }
 ],
 "metadata": {
  "kernelspec": {
   "display_name": "Julia 1.9.2",
   "language": "julia",
   "name": "julia-1.9"
  },
  "language_info": {
   "file_extension": ".jl",
   "mimetype": "application/julia",
   "name": "julia",
   "version": "1.9.2"
  }
 },
 "nbformat": 4,
 "nbformat_minor": 2
}
