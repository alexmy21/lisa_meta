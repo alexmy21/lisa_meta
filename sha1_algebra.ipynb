{
 "cells": [
  {
   "cell_type": "code",
   "execution_count": 1,
   "metadata": {},
   "outputs": [
    {
     "name": "stderr",
     "output_type": "stream",
     "text": [
      "WARNING: replacing module Util.\n"
     ]
    }
   ],
   "source": [
    "include(\"src/lisa_meta.jl\")\n",
    "include(\"src/lisa_util.jl\")\n",
    "\n",
    "using ..LisaMeta\n",
    "# using ..Util"
   ]
  },
  {
   "cell_type": "code",
   "execution_count": 2,
   "metadata": {},
   "outputs": [
    {
     "name": "stdout",
     "output_type": "stream",
     "text": [
      "sha1_union([A, B, C]): c9847d0263de186fc4e3f56b648895565bcd5952\n",
      "sha1_intersection([A, B, C]): a899d4a28e2c26ae888e964aebec6bfedf30b806\n",
      "sha1_complement(B, A): e08b92300f215b925bca6dd3719ae76110c5279d\n",
      "sha1_complement(A, B): ff568d861f973009bffc59bea505aa9305a70b1e\n",
      "sha1_xor(B, A): 5398bf9f841ab7fcc2e705a017bd1a1113999671\n",
      "sha1_xor(A, B): 5398bf9f841ab7fcc2e705a017bd1a1113999671"
     ]
    }
   ],
   "source": [
    "strings = Set{String}()\n",
    "push!(strings, \"aba567b86136d0ad7cdaec68e600ca02a3400544\") \n",
    "push!(strings, \"g1a567b86136d0ad7cdaec68e600ca02a3400530\")\n",
    "push!(strings, \"b1a567b86136d0ad7cdaec68e600ca02a3400526\")\n",
    "\n",
    "println(\"sha1_union([A, B, C]): \", Util.sha1_union(strings))\n",
    "println(\"sha1_intersection([A, B, C]): \", Util.sha1_intersect(strings))\n",
    "\n",
    "println(\"sha1_complement(B, A): \", Util.sha1_comp(\"g1a567b86136d0ad7cdaec68e600ca02a3400530\", \"aba567b86136d0ad7cdaec68e600ca02a3400544\"))\n",
    "\n",
    "println(\"sha1_complement(A, B): \", Util.sha1_comp(\"aba567b86136d0ad7cdaec68e600ca02a3400544\", \"g1a567b86136d0ad7cdaec68e600ca02a3400530\"))\n",
    "\n",
    "\n",
    "println(\"sha1_xor(B, A): \", Util.sha1_xor(\"g1a567b86136d0ad7cdaec68e600ca02a3400530\", \"aba567b86136d0ad7cdaec68e600ca02a3400544\"))\n",
    "\n",
    "print(\"sha1_xor(A, B): \", Util.sha1_xor(\"aba567b86136d0ad7cdaec68e600ca02a3400544\", \"g1a567b86136d0ad7cdaec68e600ca02a3400530\"))"
   ]
  },
  {
   "cell_type": "code",
   "execution_count": 3,
   "metadata": {},
   "outputs": [
    {
     "name": "stdout",
     "output_type": "stream",
     "text": [
      "setdiff(B, A): BitSet([])\n",
      "setdiff(A, B): BitSet([])\n"
     ]
    }
   ],
   "source": [
    "# using Base.BitSet\n",
    "\n",
    "A = BitSet([1, 2, 3])\n",
    "B = BitSet([1,2,3])\n",
    "\n",
    "relative_complement = BitSet(setdiff(B, A))\n",
    "println(\"setdiff(B, A): \", relative_complement)\n",
    "\n",
    "relative_complement = BitSet(setdiff(A, B))\n",
    "println(\"setdiff(A, B): \", relative_complement)\n"
   ]
  }
 ],
 "metadata": {
  "kernelspec": {
   "display_name": "Julia 1.10.2",
   "language": "julia",
   "name": "julia-1.10"
  },
  "language_info": {
   "file_extension": ".jl",
   "mimetype": "application/julia",
   "name": "julia",
   "version": "1.10.2"
  }
 },
 "nbformat": 4,
 "nbformat_minor": 2
}
