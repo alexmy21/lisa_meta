{
 "cells": [
  {
   "cell_type": "code",
   "execution_count": 4,
   "metadata": {},
   "outputs": [
    {
     "name": "stderr",
     "output_type": "stream",
     "text": [
      "WARNING: replacing module SetCore.\n",
      "WARNING: replacing module LisaNeo4j.\n",
      "WARNING: replacing module Graph.\n"
     ]
    },
    {
     "data": {
      "text/plain": [
       "2-element Vector{Pair{String, String}}:\n",
       "  \"Content-Type\" => \"application/json\"\n",
       " \"Authorization\" => \"Basic bmVvNGo6bmVvNGo=\""
      ]
     },
     "metadata": {},
     "output_type": "display_data"
    }
   ],
   "source": [
    "using Pkg\n",
    "# Pkg.activate(\".\")\n",
    "# Pkg.instantiate()\n",
    "# Pkg.add(\"SQLite\")\n",
    "# Pkg.add(\"DBInterface\")\n",
    "# Pkg.add(\"JSON3\")\n",
    "# Pkg.add(\"EasyConfig\")\n",
    "# Pkg.add(\"MurmurHash3\")\n",
    "# Pkg.add(\"TextAnalysis\")\n",
    "# Pkg.add(\"UUIDs\")\n",
    "# Pkg.add(\"PooledArrays\")\n",
    "# Pkg.add(\"HTTP\")\n",
    "# Pkg.add(\"EasyConfig\")\n",
    "\n",
    "# include(\"src/lisa_sets.jl\")\n",
    "include(\"src/lisa_neo4j.jl\")\n",
    "include(\"src/lisa_graph.jl\")\n",
    "\n",
    "using SQLite, DBInterface\n",
    "using MurmurHash3\n",
    "using TextAnalysis\n",
    "using HTTP, JSON3\n",
    "using Base64\n",
    "using PooledArrays\n",
    "using EasyConfig\n",
    "\n",
    "db = Graph.DB(\"lisa.db\")\n",
    "# Define the URL of your Neo4j instance\n",
    "url = \"http://localhost:7474/db/neo4j/tx/commit\"\n",
    "# Define the headers\n",
    "headers = [\"Content-Type\" => \"application/json\", \"Authorization\" => \"Basic \" * base64encode(\"neo4j:neo4j\")]"
   ]
  },
  {
   "cell_type": "code",
   "execution_count": 2,
   "metadata": {},
   "outputs": [],
   "source": [
    "# Search for all the node's references (node's sha1) with the name \"AVE\" and \"name\" as the property\n",
    "rows = LisaNeo4j.search_by_tokens(db.sqlitedb, \"ave\", \"name\", \"danilo\")\n",
    "# Collect all the node's references from edges table\n",
    "edges = Vector()\n",
    "edges_refs = LisaNeo4j.select_edges(db.sqlitedb, rows, edges)\n",
    "# Collect all the nodes from search request and the nodes from the edges\n",
    "refs = union(edges_refs,rows)\n",
    "# Collect the actual nodes\n",
    "nodes = Vector()\n",
    "LisaNeo4j.select_nodes(db.sqlitedb, refs, nodes)\n",
    "# Add nodes to the Neo4j database\n",
    "for node in nodes\n",
    "    labels = replace(string(node.labels), \";\" => \"\")\n",
    "    query = LisaNeo4j.add_neo4j_node(labels, node)\n",
    "    data = LisaNeo4j.request(url, headers, query)\n",
    "    # println(data)\n",
    "end\n",
    "# Add edges to the Neo4j database\n",
    "for edge in edges\n",
    "    # println(edge)\n",
    "    query = LisaNeo4j.add_neo4j_edge(edge)\n",
    "    data = LisaNeo4j.request(url, headers, query)\n",
    "    # println(data)\n",
    "end"
   ]
  },
  {
   "cell_type": "code",
   "execution_count": 3,
   "metadata": {},
   "outputs": [],
   "source": [
    "\"\"\"\n",
    "    In this cell we are going to to generate relations between matched csv files (nodes with labes \"csv_file\")\n",
    "\"\"\"\n",
    "# Define your Cypher query\n",
    "query = LisaNeo4j.cypher(\"MATCH (n:csv_file) RETURN n.labels, n.sha1, n.d_sha1, n.dataset, n.props LIMIT 20\")\n",
    "# Parse the response\n",
    "json = LisaNeo4j.request(url, headers, query)\n",
    "hlls = Dict{String, LisaNeo4j.Neo_node}()\n",
    "LisaNeo4j.collect_hll_sets(json, hlls)\n",
    "# Lets see what we get\n",
    "for (k, v) in hlls\n",
    "    # println(\"sha1: \", k, \" hll: \", SetCore.count(v.hll_set), v)\n",
    "end\n",
    "# Generate the relations between match csv files\n",
    "for (k, v) in hlls\n",
    "    for (k1, v1) in hlls\n",
    "        if k != k1\n",
    "            match = SetCore.jaccard(v.hll_set, v1.hll_set)\n",
    "            if match > 50\n",
    "                props = JSON3.write(Dict(\"similarity\" => match))\n",
    "                dict = Dict{String, Any}(\"source\" => k, \"target\" => k1, \"r_type\" => \"match\", \"props\" => props)\n",
    "                df_row = LisaNeo4j.dict_to_dfrow(dict)\n",
    "                query = LisaNeo4j.add_neo4j_edge(df_row)\n",
    "                data = LisaNeo4j.request(url, headers, query)\n",
    "                # println(data)\n",
    "            end\n",
    "        end\n",
    "    end\n",
    "end"
   ]
  }
 ],
 "metadata": {
  "kernelspec": {
   "display_name": "Julia 1.9.2",
   "language": "julia",
   "name": "julia-1.9"
  },
  "language_info": {
   "file_extension": ".jl",
   "mimetype": "application/julia",
   "name": "julia",
   "version": "1.9.2"
  }
 },
 "nbformat": 4,
 "nbformat_minor": 2
}
