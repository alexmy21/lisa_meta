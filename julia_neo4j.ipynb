{
 "cells": [
  {
   "cell_type": "code",
   "execution_count": 1,
   "metadata": {},
   "outputs": [
    {
     "data": {
      "text/plain": [
       "2-element Vector{Pair{String, String}}:\n",
       "  \"Content-Type\" => \"application/json\"\n",
       " \"Authorization\" => \"Basic bmVvNGo6bmVvNGo=\""
      ]
     },
     "execution_count": 1,
     "metadata": {},
     "output_type": "execute_result"
    }
   ],
   "source": [
    "include(\"src/lisa_neo4j.jl\")\n",
    "\n",
    "using ..LisaNeo4j\n",
    "using SQLite, DBInterface\n",
    "using MurmurHash3\n",
    "using TextAnalysis\n",
    "using HTTP, JSON3\n",
    "using Base64\n",
    "using PooledArrays\n",
    "using EasyConfig\n",
    "\n",
    "db = Graph.DB(\"lisa.db\")\n",
    "# Define the URL of your Neo4j instance\n",
    "url = \"http://localhost:7474/db/neo4j/tx/commit\"\n",
    "# Define the headers\n",
    "headers = [\"Content-Type\" => \"application/json\", \"Authorization\" => \"Basic \" * base64encode(\"neo4j:neo4j\")]"
   ]
  },
  {
   "cell_type": "code",
   "execution_count": 2,
   "metadata": {},
   "outputs": [
    {
     "name": "stdout",
     "output_type": "stream",
     "text": [
      "Set(Any[\"4081c0ee7a492aa0ffd6494620761a9e760fa400\", \"1d29c5326d2292d8717e189a12ca4bd4cbac8b76\", \"3f9526f8d331b9519b8632a11b2d344ab7c647b6\", \"4bead3679f1aa0011445a22cc662b84848bad7cd\", \"4cd923b0cb16b50ffafbbafa61c9287ce236fcd1\", \"1295c9470c70b06cefd79bf9a16c5d93c1c425bb\", \"0f73a283cd731d2f36ef6b029f24d28458b8fefc\", \"93399d592fd2eb9e58516784954a6161e4feb27f\", \"4ea0d4a979741fbb57dd4cc9a2c05913a6ee875d\"])\n"
     ]
    }
   ],
   "source": [
    "# Search for all the node's references (node's sha1) with the tokens that match  \"AVE\", \"danilo\" and \"name\" \n",
    "rows = LisaNeo4j.search_by_tokens(db.sqlitedb, \"sex\", \"taxi\", \"day\")\n",
    "println(rows)\n",
    "\n",
    "# Collect all the node's references from edges table\n",
    "edges = Vector()\n",
    "edges_refs = LisaNeo4j.select_edges(db.sqlitedb, rows, edges)\n",
    "\n",
    "# Collect all the nodes from search request and the nodes from the edges\n",
    "refs = union(edges_refs,rows)\n",
    "\n",
    "# Collect the actual nodes\n",
    "nodes = Vector()\n",
    "LisaNeo4j.select_nodes(db.sqlitedb, refs, nodes)\n",
    "# println(nodes)\n",
    "\n",
    "# Add nodes to the Neo4j database\n",
    "for node in nodes\n",
    "    labels = replace(string(node.labels), \";\" => \"\")\n",
    "    query = LisaNeo4j.add_neo4j_node(labels, node)\n",
    "    # println(query)\n",
    "    data = LisaNeo4j.request(url, headers, query)\n",
    "end\n",
    "# Add edges to the Neo4j database\n",
    "for edge in edges\n",
    "    query = LisaNeo4j.add_neo4j_edge(edge)\n",
    "    data = LisaNeo4j.request(url, headers, query)\n",
    "end"
   ]
  },
  {
   "cell_type": "code",
   "execution_count": 3,
   "metadata": {},
   "outputs": [
    {
     "name": "stdout",
     "output_type": "stream",
     "text": [
      "match: 78\n",
      "cosine: 87.0\n",
      "{\"statements\":[{\"statement\":\"    MATCH (a), (b) WHERE a.sha1 = '6be12bee4edf7c96016907e44bb520be80dc9232' AND b.sha1 = '0b90b1fee69c77ffa3efe57db7788112ef96dba6'\\n    MERGE (a)-[r:match]->(b)\\n SET  r.similarity = '78'\"}]}\n",
      "match: 78\n",
      "cosine: 87.0\n",
      "{\"statements\":[{\"statement\":\"    MATCH (a), (b) WHERE a.sha1 = '0b90b1fee69c77ffa3efe57db7788112ef96dba6' AND b.sha1 = '6be12bee4edf7c96016907e44bb520be80dc9232'\\n    MERGE (a)-[r:match]->(b)\\n SET  r.similarity = '78'\"}]}\n"
     ]
    }
   ],
   "source": [
    "\"\"\"\n",
    "    In this cell we are going to to generate relations between matched csv files (nodes with labes \"csv_file\")\n",
    "\"\"\"\n",
    "# Define your Cypher query\n",
    "query = LisaNeo4j.cypher(\"MATCH (n:csv_file) RETURN n.labels, n.sha1, n.d_sha1, n.dataset, n.props LIMIT 20\")\n",
    "# Parse the response\n",
    "json = LisaNeo4j.request(url, headers, query)\n",
    "\n",
    "hlls = Dict{String, LisaNeo4j.Neo_node}()\n",
    "LisaNeo4j.collect_hll_sets(json, hlls)\n",
    "\n",
    "# Generate the relations between matched csv files\n",
    "for (k, v) in hlls\n",
    "    for (k1, v1) in hlls\n",
    "        if k != k1\n",
    "            match = SetCore.match(v.hll_set, v1.hll_set)\n",
    "            println(\"match: \", match)\n",
    "            cosine = SetCore.cosine(v.hll_set, v1.hll_set)\n",
    "            println(\"cosine: \", round(cosine * 100))\n",
    "            if match > 50\n",
    "                props = JSON3.write(Dict(\"similarity\" => match))\n",
    "                dict = Dict{String, Any}(\"source\" => k, \"target\" => k1, \"r_type\" => \"match\", \"props\" => props)\n",
    "                df_row = LisaNeo4j.dict_to_dfrow(dict)\n",
    "                query = LisaNeo4j.add_neo4j_edge(df_row)\n",
    "                println(query)\n",
    "                data = LisaNeo4j.request(url, headers, query)\n",
    "            end\n",
    "        end\n",
    "    end\n",
    "end"
   ]
  },
  {
   "cell_type": "markdown",
   "metadata": {},
   "source": [
    "#### Now we can open Neo4j browser that we are running as a docker container locally with all default settings.\n",
    "\n",
    "For your convenience we put screenshots in the **README.md** at the bottom."
   ]
  },
  {
   "cell_type": "markdown",
   "metadata": {},
   "source": [
    "![alt text](<Screenshot from 2024-03-22 10-29-04.png>)"
   ]
  }
 ],
 "metadata": {
  "kernelspec": {
   "display_name": "Julia 1.10.2",
   "language": "julia",
   "name": "julia-1.10"
  },
  "language_info": {
   "file_extension": ".jl",
   "mimetype": "application/julia",
   "name": "julia",
   "version": "1.10.2"
  }
 },
 "nbformat": 4,
 "nbformat_minor": 2
}
