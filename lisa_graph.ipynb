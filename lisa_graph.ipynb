{
 "cells": [
  {
   "cell_type": "code",
   "execution_count": 1,
   "metadata": {},
   "outputs": [
    {
     "data": {
      "text/plain": [
       "SQLite.DB(\"test.db\")"
      ]
     },
     "metadata": {},
     "output_type": "display_data"
    }
   ],
   "source": [
    "include(\"src/lisa_graph.jl\")\n",
    "using SQLite\n",
    "using CSV\n",
    "\n",
    "db = Graph.DB(\"test.db\")\n",
    "db.sqlitedb"
   ]
  },
  {
   "cell_type": "code",
   "execution_count": 2,
   "metadata": {},
   "outputs": [
    {
     "name": "stdout",
     "output_type": "stream",
     "text": [
      "csv_data\n"
     ]
    },
    {
     "data": {
      "text/plain": [
       "10-element Vector{String}:\n",
       " \"TEXT\"\n",
       " \"INT\"\n",
       " \"TEXT\"\n",
       " \"INT\"\n",
       " \"TEXT\"\n",
       " \"TEXT\"\n",
       " \"INT\"\n",
       " \"INT\"\n",
       " \"INT\"\n",
       " \"INT\""
      ]
     },
     "metadata": {},
     "output_type": "display_data"
    }
   ],
   "source": [
    "tbl = CSV.File(\"olympics_sports_athletes.csv\") |> SQLite.load!(db.sqlitedb, \"csv_data\")\n",
    "println(tbl)\n",
    "cols_info = SQLite.columns(db.sqlitedb, \"csv_data\")\n",
    "cols_info.type"
   ]
  },
  {
   "cell_type": "code",
   "execution_count": 3,
   "metadata": {},
   "outputs": [
    {
     "data": {
      "text/plain": [
       "Graph.DB(\"test.db\") (0 assignments, 3 commits, 0 tokens, 0 nodes, 0 edges0 t_nodes, 0 t_edges)"
      ]
     },
     "metadata": {},
     "output_type": "display_data"
    }
   ],
   "source": [
    "using EasyConfig\n",
    "using UUIDs\n",
    "# props = Dict(\"status\" => \"waiting\", \"processor_id\" => \"processor_01\", \"lock_uuid\" => \"lock_02\")\n",
    "props = Config(status=\"waiting\", processor_id=\"processor_01\", lock_uuid=\"lock_02\")\n",
    "id =string(uuid1())\n",
    "commit = Graph.Commit(id, \"Alex Mylnikov\", \"alexmy@lisa-park.com\", \"init commit\", props)\n",
    "Graph.replace!(db, commit)"
   ]
  },
  {
   "cell_type": "code",
   "execution_count": 4,
   "metadata": {},
   "outputs": [
    {
     "name": "stdout",
     "output_type": "stream",
     "text": [
      "Config("
     ]
    },
    {
     "name": "stdout",
     "output_type": "stream",
     "text": [
      ":roles => [\"Ethan Hunt\"])\n"
     ]
    },
    {
     "name": "stdout",
     "output_type": "stream",
     "text": [
      "(\"a1\", \"a2\", \"ACTED_IN\", \"{\\\"roles\\\":[\\\"Ethan Hunt\\\"]}\")\n",
      "Edge(a1, a2, "
     ]
    },
    {
     "name": "stdout",
     "output_type": "stream",
     "text": [
      "\"ACTED_IN\"; roles=[\"Ethan Hunt\"])\n",
      "Node(a2"
     ]
    },
    {
     "name": "stdout",
     "output_type": "stream",
     "text": [
      ", \"Person\"; f_name=\"Tom\", l_name=\"Cruise\")\n"
     ]
    }
   ],
   "source": [
    "# Graph.Node(file.id, [file.type], \"\", 0, Vector(), Config())\n",
    "props = Dict(\"f_name\" => \"Tom\", \"l_name\" => \"Hanks\")\n",
    "n_a1 = Graph.Node(\"a1\", [\"Person\"], \"Actor\", 1, Vector(), Config(props))\n",
    "props = Dict(\"f_name\" => \"Tom\", \"l_name\" => \"Cruise\")\n",
    "n_a2 = Graph.Node(\"a2\", [\"Person\"], \"Actor\", Int(1), Vector(), Config(props))\n",
    "\n",
    "e = Graph.Edge(\"a1\", \"a2\", \"ACTED_IN\"; roles = [\"Ethan Hunt\"])\n",
    "println(e.props)\n",
    "cols_info = SQLite.columns(db.sqlitedb, \"edges\")\n",
    "cols_info.type\n",
    "\n",
    "println(Graph.args(e))\n",
    "\n",
    "println(e)\n",
    "println(n_a2)\n"
   ]
  },
  {
   "cell_type": "code",
   "execution_count": 6,
   "metadata": {},
   "outputs": [
    {
     "name": "stdout",
     "output_type": "stream",
     "text": [
      "{\"roles\":[\"Ethan Hunt\"]}\n",
      "(\"a1\", \"a2\", \"ACTED_IN\", \"{\\\"roles\\\":[\\\"Ethan Hunt\\\"]}\")\n"
     ]
    },
    {
     "data": {
      "text/plain": [
       "Graph.DB(\"test.db\") (0 assignments, 3 commits, 0 tokens, 0 nodes, 0 edges2 t_nodes, 1 t_edges)"
      ]
     },
     "metadata": {},
     "output_type": "display_data"
    }
   ],
   "source": [
    "using JSON3\n",
    "Graph.insert!(db, n_a1, table_name = \"t_nodes\")\n",
    "Graph.insert!(db, n_a2, table_name = \"t_nodes\")\n",
    "println(string(JSON3.write(e.props)))\n",
    "println(Graph.args(e))\n",
    "Graph.insert!(db, e, table_name = \"t_edges\")"
   ]
  },
  {
   "cell_type": "code",
   "execution_count": 9,
   "metadata": {},
   "outputs": [
    {
     "name": "stdout",
     "output_type": "stream",
     "text": [
      "a1\n"
     ]
    },
    {
     "data": {
      "text/plain": [
       "Graph.DB(\"test.db\") (0 assignments, 3 commits, 0 tokens, 0 nodes, 0 edges2 t_nodes, 1 t_edges)"
      ]
     },
     "metadata": {},
     "output_type": "display_data"
    }
   ],
   "source": [
    "\n",
    "edges = Graph.getedge(db, \"a1\", :,\"ACTED_IN\", table_name=\"t_edges\")\n",
    "edge_array = collect(edges)\n",
    "for e in edge_array\n",
    "    println(e.source)\n",
    "end\n",
    "db"
   ]
  },
  {
   "cell_type": "code",
   "execution_count": 10,
   "metadata": {},
   "outputs": [
    {
     "name": "stdout",
     "output_type": "stream",
     "text": [
      "Edge(a1, a2, \"ACTED_IN\"; roles=[\"Ethan Hunt\"])\n"
     ]
    }
   ],
   "source": [
    "result = Graph.getedge(db, :,:,:, table_name = \"t_edges\")\n",
    "# Print all records in the result\n",
    "for row in (result)\n",
    "    println(row)\n",
    "end"
   ]
  },
  {
   "cell_type": "code",
   "execution_count": 11,
   "metadata": {},
   "outputs": [
    {
     "ename": "MethodError",
     "evalue": "MethodError: Cannot `convert` an object of type Set{String} to an object of type String\n\nClosest candidates are:\n  convert(::Type{String}, !Matched::CategoricalValue)\n   @ CategoricalArrays ~/.julia/packages/CategoricalArrays/0ZAbp/src/value.jl:60\n  convert(::Type{S}, !Matched::T) where {S, T<:CategoricalValue}\n   @ CategoricalArrays ~/.julia/packages/CategoricalArrays/0ZAbp/src/value.jl:68\n  convert(::Type{String}, !Matched::WeakRefStrings.WeakRefString)\n   @ WeakRefStrings ~/.julia/packages/WeakRefStrings/gPvrY/src/WeakRefStrings.jl:79\n  ...\n",
     "output_type": "error",
     "traceback": [
      "MethodError: Cannot `convert` an object of type Set{String} to an object of type String\n",
      "\n",
      "Closest candidates are:\n",
      "  convert(::Type{String}, !Matched::CategoricalValue)\n",
      "   @ CategoricalArrays ~/.julia/packages/CategoricalArrays/0ZAbp/src/value.jl:60\n",
      "  convert(::Type{S}, !Matched::T) where {S, T<:CategoricalValue}\n",
      "   @ CategoricalArrays ~/.julia/packages/CategoricalArrays/0ZAbp/src/value.jl:68\n",
      "  convert(::Type{String}, !Matched::WeakRefStrings.WeakRefString)\n",
      "   @ WeakRefStrings ~/.julia/packages/WeakRefStrings/gPvrY/src/WeakRefStrings.jl:79\n",
      "  ...\n",
      "\n",
      "\n",
      "Stacktrace:\n",
      " [1] Main.Graph.Token(id::Int64, bin::Int64, zeros::Int64, token::Set{String}, refs::Set{String})\n",
      "   @ Main.Graph ~/JULIA/lisa_meta/src/lisa_graph.jl:95\n",
      " [2] top-level scope\n",
      "   @ ~/JULIA/lisa_meta/lisa_graph.ipynb:5"
     ]
    }
   ],
   "source": [
    "# Assignment(id, parent, item, type, processor_id, lock_uuid, status)\n",
    "assign = Graph.Assignment(\"a1\", \"sample_data_01.csv\", \"Year\", \"csv\", \"processor_01\", \"lock_01\", \"waiting\")\n",
    "Graph.insert!(db, assign)\n",
    "# Token(id, token, bin, zeros, refs)\n",
    "token = Graph.Token(123456,12, 1, Set([\"processor_01\"]), Set([\"lock_01\", \"waiting\"]))\n",
    "Graph.insert!(db, token)\n",
    "token = Graph.Token(123456,12, 1, Set([\"processor_02\"]), Set([\"lock_01\", \"waiting\"]))\n",
    "Graph.replace!(db, token)"
   ]
  },
  {
   "cell_type": "code",
   "execution_count": 12,
   "metadata": {},
   "outputs": [
    {
     "data": {
      "text/plain": [
       "Graph.DB(\"test.db\") (1 assignments, 4 commits, 0 tokens, 0 nodes, 0 edges2 t_nodes, 1 t_edges)"
      ]
     },
     "metadata": {},
     "output_type": "display_data"
    }
   ],
   "source": [
    "props = Dict(\"status\" => \"waiting\", \"processor_id\" => \"processor_01\", \"lock_uuid\" => \"lock_02\")\n",
    "# props = (status=\"waiting\", processor_id=\"processor_01\", lock_uuid=\"lock_02\")\n",
    "commit = Graph.Commit(\"t1234567\", \"Alex Mylnikov\", \"alexmy@lisa-park.com\", \"init commit\", props)\n",
    "Graph.replace!(db, commit)"
   ]
  },
  {
   "cell_type": "code",
   "execution_count": 13,
   "metadata": {},
   "outputs": [
    {
     "data": {
      "text/plain": [
       "UInt64[]"
      ]
     },
     "metadata": {},
     "output_type": "display_data"
    }
   ],
   "source": [
    "set = Set{String}()\n",
    "Graph.set_to_json(set)\n",
    "vec = Vector{UInt64}()"
   ]
  }
 ],
 "metadata": {
  "kernelspec": {
   "display_name": "Julia 1.9.2",
   "language": "julia",
   "name": "julia-1.9"
  },
  "language_info": {
   "file_extension": ".jl",
   "mimetype": "application/julia",
   "name": "julia",
   "version": "1.9.2"
  }
 },
 "nbformat": 4,
 "nbformat_minor": 2
}
