{
 "cells": [
  {
   "cell_type": "code",
   "execution_count": 1,
   "metadata": {},
   "outputs": [
    {
     "data": {
      "text/plain": [
       "SQLite.DB(\"test.db\")"
      ]
     },
     "execution_count": 1,
     "metadata": {},
     "output_type": "execute_result"
    }
   ],
   "source": [
    "include(\"src/lisa_graph.jl\")\n",
    "using SQLite\n",
    "using CSV\n",
    "\n",
    "db = Graph.DB(\"test.db\")\n",
    "db.sqlitedb"
   ]
  },
  {
   "cell_type": "code",
   "execution_count": 2,
   "metadata": {},
   "outputs": [
    {
     "name": "stdout",
     "output_type": "stream",
     "text": [
      "csv_data\n"
     ]
    },
    {
     "data": {
      "text/plain": [
       "10-element Vector{String}:\n",
       " \"TEXT\"\n",
       " \"INT\"\n",
       " \"TEXT\"\n",
       " \"INT\"\n",
       " \"TEXT\"\n",
       " \"TEXT\"\n",
       " \"INT\"\n",
       " \"INT\"\n",
       " \"INT\"\n",
       " \"INT\""
      ]
     },
     "execution_count": 2,
     "metadata": {},
     "output_type": "execute_result"
    }
   ],
   "source": [
    "tbl = CSV.File(\"olympics_sports_athletes.csv\") |> SQLite.load!(db.sqlitedb, \"csv_data\")\n",
    "println(tbl)\n",
    "cols_info = SQLite.columns(db.sqlitedb, \"csv_data\")\n",
    "cols_info.type"
   ]
  },
  {
   "cell_type": "code",
   "execution_count": 3,
   "metadata": {},
   "outputs": [
    {
     "data": {
      "text/plain": [
       "Graph.DB(\"test.db\") (0 assignments, 4 commits, 0 tokens, 0 nodes, 0 edges2 t_nodes, 1 t_edges)"
      ]
     },
     "execution_count": 3,
     "metadata": {},
     "output_type": "execute_result"
    }
   ],
   "source": [
    "using EasyConfig\n",
    "using UUIDs\n",
    "# props = Dict(\"status\" => \"waiting\", \"processor_id\" => \"processor_01\", \"lock_uuid\" => \"lock_02\")\n",
    "props = Config(status=\"waiting\", processor_id=\"processor_01\", lock_uuid=\"lock_02\")\n",
    "id =string(uuid1())\n",
    "commit = Graph.Commit(id, \"Alex Mylnikov\", \"alexmy@lisa-park.com\", \"init commit\", props)\n",
    "Graph.replace!(db, commit)"
   ]
  },
  {
   "cell_type": "code",
   "execution_count": 4,
   "metadata": {},
   "outputs": [
    {
     "name": "stdout",
     "output_type": "stream",
     "text": [
      "Config(:roles => [\"Ethan Hunt\"])\n",
      "(\"a1\", \"a2\", \"ACTED_IN\", \"{\\\"roles\\\":[\\\"Ethan Hunt\\\"]}\")\n",
      "Edge(a1, a2, \"ACTED_IN\"; roles=[\"Ethan Hunt\"])\n",
      "Node(a2; [\"Person\"]; props: f_name=\"Tom\", l_name=\"Cruise\")\n"
     ]
    }
   ],
   "source": [
    "# Graph.Node(file.id, [file.type], \"\", 0, Vector(), Config())\n",
    "props = Dict(\"f_name\" => \"Tom\", \"l_name\" => \"Hanks\")\n",
    "n_a1 = Graph.Node(\"a1\", [\"Person\"], \"Actor\", 1, Vector(), Config(props))\n",
    "props = Dict(\"f_name\" => \"Tom\", \"l_name\" => \"Cruise\")\n",
    "n_a2 = Graph.Node(\"a2\", [\"Person\"], \"Actor\", Int(1), Vector(), Config(props))\n",
    "\n",
    "e = Graph.Edge(\"a1\", \"a2\", \"ACTED_IN\"; roles = [\"Ethan Hunt\"])\n",
    "println(e.props)\n",
    "cols_info = SQLite.columns(db.sqlitedb, \"edges\")\n",
    "cols_info.type\n",
    "\n",
    "println(Graph.args(e))\n",
    "\n",
    "println(e)\n",
    "println(n_a2)\n"
   ]
  },
  {
   "cell_type": "code",
   "execution_count": 5,
   "metadata": {},
   "outputs": [
    {
     "name": "stdout",
     "output_type": "stream",
     "text": [
      "{\"roles\":[\"Ethan Hunt\"]}\n",
      "(\"a1\", \"a2\", \"ACTED_IN\", \"{\\\"roles\\\":[\\\"Ethan Hunt\\\"]}\")\n"
     ]
    },
    {
     "data": {
      "text/plain": [
       "Graph.DB(\"test.db\") (0 assignments, 4 commits, 0 tokens, 0 nodes, 0 edges2 t_nodes, 1 t_edges)"
      ]
     },
     "execution_count": 5,
     "metadata": {},
     "output_type": "execute_result"
    }
   ],
   "source": [
    "using JSON3\n",
    "Graph.insert!(db, n_a1, table_name = \"t_nodes\")\n",
    "Graph.insert!(db, n_a2, table_name = \"t_nodes\")\n",
    "println(string(JSON3.write(e.props)))\n",
    "println(Graph.args(e))\n",
    "Graph.insert!(db, e, table_name = \"t_edges\")"
   ]
  },
  {
   "cell_type": "code",
   "execution_count": 6,
   "metadata": {},
   "outputs": [
    {
     "name": "stdout",
     "output_type": "stream",
     "text": [
      "a1\n"
     ]
    },
    {
     "data": {
      "text/plain": [
       "Graph.DB(\"test.db\") (0 assignments, 4 commits, 0 tokens, 0 nodes, 0 edges2 t_nodes, 1 t_edges)"
      ]
     },
     "execution_count": 6,
     "metadata": {},
     "output_type": "execute_result"
    }
   ],
   "source": [
    "\n",
    "edges = Graph.getedge(db, \"a1\", :,\"ACTED_IN\", table_name=\"t_edges\")\n",
    "edge_array = collect(edges)\n",
    "for e in edge_array\n",
    "    println(e.source)\n",
    "end\n",
    "db"
   ]
  },
  {
   "cell_type": "code",
   "execution_count": 7,
   "metadata": {},
   "outputs": [
    {
     "name": "stdout",
     "output_type": "stream",
     "text": [
      "Edge(a1, a2, \"ACTED_IN\"; roles=[\"Ethan Hunt\"])\n"
     ]
    }
   ],
   "source": [
    "result = Graph.getedge(db, :,:,:, table_name = \"t_edges\")\n",
    "# Print all records in the result\n",
    "for row in (result)\n",
    "    println(row)\n",
    "end"
   ]
  },
  {
   "cell_type": "code",
   "execution_count": 8,
   "metadata": {},
   "outputs": [
    {
     "data": {
      "text/plain": [
       "Graph.DB(\"test.db\") (0 assignments, 4 commits, 0 tokens, 0 nodes, 0 edges2 t_nodes, 1 t_edges)"
      ]
     },
     "execution_count": 8,
     "metadata": {},
     "output_type": "execute_result"
    }
   ],
   "source": [
    "props = Dict(\"status\" => \"waiting\", \"processor_id\" => \"processor_01\", \"lock_uuid\" => \"lock_02\")\n",
    "\n",
    "commit = Graph.Commit(\"t1234567\", \"Alex Mylnikov\", \"alexmy@lisa-park.com\", \"init commit\", props)\n",
    "Graph.replace!(db, commit)"
   ]
  }
 ],
 "metadata": {
  "kernelspec": {
   "display_name": "Julia 1.10.2",
   "language": "julia",
   "name": "julia-1.10"
  },
  "language_info": {
   "file_extension": ".jl",
   "mimetype": "application/julia",
   "name": "julia",
   "version": "1.10.2"
  }
 },
 "nbformat": 4,
 "nbformat_minor": 2
}
