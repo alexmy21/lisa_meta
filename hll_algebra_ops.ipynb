{
 "cells": [
  {
   "cell_type": "code",
   "execution_count": 1,
   "metadata": {},
   "outputs": [
    {
     "name": "stderr",
     "output_type": "stream",
     "text": [
      "WARNING: replacing module Util.\n"
     ]
    },
    {
     "data": {
      "text/plain": [
       "2-element Vector{Pair{String, String}}:\n",
       "  \"Content-Type\" => \"application/json\"\n",
       " \"Authorization\" => \"Basic bmVvNGo6eWFubGl1NjU=\""
      ]
     },
     "execution_count": 1,
     "metadata": {},
     "output_type": "execute_result"
    }
   ],
   "source": [
    "include(\"src/lisa_meta.jl\")\n",
    "include(\"src/lisa_util.jl\")\n",
    "\n",
    "using ..LisaNeo4j\n",
    "using ..LisaMeta\n",
    "using ..Store\n",
    "using ..Graph\n",
    "using ..Util\n",
    "\n",
    "using CSV\n",
    "using SQLite\n",
    "using DBInterface\n",
    "using MurmurHash3\n",
    "using TextAnalysis\n",
    "using JSON3\n",
    "using PooledArrays\n",
    "using UUIDs\n",
    "using HDF5\n",
    "using EasyConfig\n",
    "using SHA\n",
    "using Base64\n",
    "using DataFrames\n",
    "\n",
    "hll = SetCore.HllSet{10}()\n",
    "\n",
    "db_source = SQLite.DB(\"lisa_enron.db\")\n",
    "# Create an empty HDF5 file. Run it only once, because it will overwrite the file\n",
    "h5open(\"hll_algebra.hdf5\", \"cw\") do f\n",
    "    # The file is now open, but it's empty\n",
    "end\n",
    "\n",
    "# Connect to the SQLite meta database\n",
    "db_meta = Graph.DB(\"hll_algebra.db\")\n",
    "\n",
    "# Define the URL of your Neo4j instance\n",
    "url = \"http://localhost:7474/db/neo4j/tx/commit\"\n",
    "# Define the headers\n",
    "headers = [\"Content-Type\" => \"application/json\", \"Authorization\" => \"Basic \" * base64encode(\"neo4j:yanliu65\")]\n"
   ]
  },
  {
   "cell_type": "code",
   "execution_count": 2,
   "metadata": {},
   "outputs": [],
   "source": [
    "refs = Set([\"d0d201c405adf0df65759c16de98f8ef4795d737\", \"a10143e19099cd2679132f63bf59afd3e275bddf\"])\n",
    "\n",
    "row_nodes = Vector()\n",
    "LisaNeo4j.select_nodes(db_meta.sqlitedb, refs, row_nodes)\n",
    "\n",
    "if length(row_nodes) > 1\n",
    "    refs = Graph.node_intersect(db_meta, row_nodes[1], row_nodes[2])\n",
    "\n",
    "    LisaNeo4j.add_neo4j_nodes_by_refs(db_meta.sqlitedb, Set(refs), url, headers)\n",
    "    LisaNeo4j.add_neo4j_edges_by_refs(db_meta.sqlitedb, Set(refs), url, headers)\n",
    "end"
   ]
  },
  {
   "cell_type": "code",
   "execution_count": 3,
   "metadata": {},
   "outputs": [],
   "source": [
    "refs = Set([\"d0d201c405adf0df65759c16de98f8ef4795d737\", \"a10143e19099cd2679132f63bf59afd3e275bddf\"])\n",
    "\n",
    "row_nodes = Vector()\n",
    "LisaNeo4j.select_nodes(db_meta.sqlitedb, refs, row_nodes)\n",
    "\n",
    "if length(row_nodes) > 1\n",
    "    refs = Graph.node_comp(db_meta, row_nodes[1], row_nodes[2])\n",
    "\n",
    "    LisaNeo4j.add_neo4j_nodes_by_refs(db_meta.sqlitedb, Set(refs), url, headers)\n",
    "    LisaNeo4j.add_neo4j_edges_by_refs(db_meta.sqlitedb, Set(refs), url, headers)\n",
    "end"
   ]
  },
  {
   "cell_type": "code",
   "execution_count": 4,
   "metadata": {},
   "outputs": [],
   "source": [
    "refs = Set([\"d0d201c405adf0df65759c16de98f8ef4795d737\", \"a10143e19099cd2679132f63bf59afd3e275bddf\"])\n",
    "\n",
    "row_nodes = Vector()\n",
    "LisaNeo4j.select_nodes(db_meta.sqlitedb, refs, row_nodes)\n",
    "\n",
    "if length(row_nodes) > 1\n",
    "    refs = Graph.node_diff(db_meta, row_nodes[1], row_nodes[2])\n",
    "\n",
    "    LisaNeo4j.add_neo4j_nodes_by_refs(db_meta.sqlitedb, Set(refs), url, headers)\n",
    "    LisaNeo4j.add_neo4j_edges_by_refs(db_meta.sqlitedb, Set(refs), url, headers)\n",
    "end"
   ]
  },
  {
   "cell_type": "code",
   "execution_count": 5,
   "metadata": {},
   "outputs": [],
   "source": [
    "row_ref = Set([\"a10143e19099cd2679132f63bf59afd3e275bddf\"])\n",
    "col_refs = LisaMeta.select_sha1_by_label(db_meta, \"column\", \"nodes\", -1)\n",
    "\n",
    "# refs = union(row_ref, col_refs)\n",
    "\n",
    "row_nodes = Vector()\n",
    "LisaNeo4j.select_nodes(db_meta.sqlitedb, row_ref, row_nodes)\n",
    "\n",
    "col_nodes = Vector()\n",
    "LisaNeo4j.select_nodes(db_meta.sqlitedb, col_refs, col_nodes)\n",
    "\n",
    "if length(row_nodes) > 0 & length(col_nodes) > 0\n",
    "    refs = Graph.projection_1_n(db_meta, row_nodes[1], col_nodes)\n",
    "\n",
    "    LisaNeo4j.add_neo4j_nodes_by_refs(db_meta.sqlitedb, Set(refs), url, headers)\n",
    "    LisaNeo4j.add_neo4j_edges_by_refs(db_meta.sqlitedb, Set(refs), url, headers)\n",
    "end"
   ]
  },
  {
   "cell_type": "code",
   "execution_count": 6,
   "metadata": {},
   "outputs": [
    {
     "name": "stdout",
     "output_type": "stream",
     "text": [
      "nodes: Any[]\n"
     ]
    }
   ],
   "source": [
    "row_ref = Set([\"1c7335328c96de135cf28a6d9cf5d5e419646692\", \"49b229f31f463b9d29ff178af9fb13ebbad0f151\", \"0903525a12d3a22b1538b7a6ecb9e220de17a5cc\"])\n",
    "\n",
    "row_nodes = Vector()\n",
    "LisaNeo4j.select_nodes(db_meta.sqlitedb, row_ref, row_nodes)\n",
    "\n",
    "\n",
    "refs = Graph.projection_m_n(db_meta, row_nodes, col_nodes)\n",
    "\n",
    "LisaNeo4j.add_neo4j_nodes_by_refs(db_meta.sqlitedb, Set(refs), url, headers)\n",
    "LisaNeo4j.add_neo4j_edges_by_refs(db_meta.sqlitedb, Set(refs), url, headers)"
   ]
  }
 ],
 "metadata": {
  "kernelspec": {
   "display_name": "Julia 1.10.3",
   "language": "julia",
   "name": "julia-1.10"
  },
  "language_info": {
   "file_extension": ".jl",
   "mimetype": "application/julia",
   "name": "julia",
   "version": "1.10.3"
  }
 },
 "nbformat": 4,
 "nbformat_minor": 2
}
