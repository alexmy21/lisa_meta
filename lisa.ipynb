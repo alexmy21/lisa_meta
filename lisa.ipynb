{
 "cells": [
  {
   "cell_type": "code",
   "execution_count": 1,
   "metadata": {},
   "outputs": [],
   "source": [
    "using Pkg\n",
    "# Pkg.activate(\".\")\n",
    "# Pkg.instantiate()\n",
    "# Pkg.add(\"EasyConfig\")\n",
    "# Pkg.add(\"Fermi\")"
   ]
  },
  {
   "cell_type": "code",
   "execution_count": 2,
   "metadata": {},
   "outputs": [
    {
     "name": "stdout",
     "output_type": "stream",
     "text": [
      "HllSet{10}()"
     ]
    },
    {
     "name": "stderr",
     "output_type": "stream",
     "text": [
      "WARNING: replacing module SetCore.\n"
     ]
    }
   ],
   "source": [
    "using Random\n",
    "using FilePathsBase: extension, Path\n",
    "# using ITensors\n",
    "\n",
    "# /home/alexmy/JULIA/lisa/src/hll_set/src/lisa_core.jl\n",
    "include(\"src/lisa_sets.jl\")\n",
    "include(\"src/lisa_hdf5.jl\")\n",
    "include(\"src/lisa_graph.jl\")\n",
    "include(\"src/lisa_util.jl\")\n",
    "\n",
    "# Initialize test HllSets\n",
    "hll1 = SetCore.HllSet{10}()\n",
    "hll2 = SetCore.HllSet{10}()\n",
    "hll3 = SetCore.HllSet{10}()\n",
    "hll4 = SetCore.HllSet{10}()\n",
    "hll5 = SetCore.HllSet{10}()\n",
    "\n",
    "# Generate datasets from random strings\n",
    "s1 = Set(randstring(7) for _ in 1:10)\n",
    "s2 = Set(randstring(7) for _ in 1:15)\n",
    "s3 = Set(randstring(7) for _ in 1:100)\n",
    "s4 = Set(randstring(7) for _ in 1:20)\n",
    "s5 = Set(randstring(7) for _ in 1:130)\n",
    "\n",
    "# Add datasets to HllSets\n",
    "SetCore.add!(hll1, s1)\n",
    "SetCore.add!(hll2, s2)\n",
    "SetCore.add!(hll3, s3)\n",
    "SetCore.add!(hll4, s4)\n",
    "SetCore.add!(hll5, s5)\n",
    "\n",
    "print(hll1)\n"
   ]
  },
  {
   "cell_type": "code",
   "execution_count": 3,
   "metadata": {},
   "outputs": [
    {
     "name": "stdout",
     "output_type": "stream",
     "text": [
      "10 : 11\n",
      "15 : 15\n",
      "100 : 102\n",
      "20 : 18\n",
      "130 : 128\n",
      "\n",
      "275 : 274\n",
      "0 : 1\n"
     ]
    }
   ],
   "source": [
    "# Pr9nt cardinality of datasets and HllSets side by side\n",
    "print(length(s1), \" : \", SetCore.count(hll1), \"\\n\")\n",
    "print(length(s2), \" : \", SetCore.count(hll2), \"\\n\")\n",
    "print(length(s3), \" : \", SetCore.count(hll3), \"\\n\")\n",
    "print(length(s4), \" : \", SetCore.count(hll4), \"\\n\")\n",
    "print(length(s5), \" : \", SetCore.count(hll5), \"\\n\\n\")\n",
    "\n",
    "# union\n",
    "print(length(s1 ∪ s2 ∪ s3 ∪ s4 ∪ s5), \" : \", SetCore.count(hll1 ∪ hll2 ∪ hll3 ∪ hll4 ∪ hll5), \"\\n\")\n",
    "\n",
    "# intersection\n",
    "print(length(s1 ∩ s2 ∩ s3 ∩ s4 ∩ s5), \" : \", SetCore.count(hll1 ∩ hll2 ∩ hll3 ∩ hll4 ∩ hll5), \"\\n\")\n"
   ]
  },
  {
   "cell_type": "code",
   "execution_count": 4,
   "metadata": {},
   "outputs": [
    {
     "name": "stdout",
     "output_type": "stream",
     "text": [
      "12\n",
      "11\n",
      "Set diff: Set diff: 2\n",
      "HLL diff: (D = 2, R = 10, N = 1)\n"
     ]
    },
    {
     "data": {
      "text/plain": [
       "1024-element Vector{BitVector}:\n",
       " [0, 0, 0, 0, 0, 0, 0, 0, 0, 0  …  0, 0, 0, 0, 0, 0, 0, 0, 0, 0]\n",
       " [0, 0, 0, 0, 0, 0, 0, 0, 0, 0  …  0, 0, 0, 0, 0, 0, 0, 0, 0, 0]\n",
       " [0, 0, 0, 0, 0, 0, 0, 0, 0, 0  …  0, 0, 0, 0, 0, 0, 0, 0, 0, 0]\n",
       " [0, 0, 0, 0, 0, 0, 0, 0, 0, 0  …  0, 0, 0, 0, 0, 0, 0, 0, 0, 0]\n",
       " [0, 0, 0, 0, 0, 0, 0, 0, 0, 0  …  0, 0, 0, 0, 0, 0, 0, 0, 0, 0]\n",
       " [0, 0, 0, 0, 0, 0, 0, 0, 0, 0  …  0, 0, 0, 0, 0, 0, 0, 0, 0, 0]\n",
       " [0, 0, 0, 0, 0, 0, 0, 0, 0, 0  …  0, 0, 0, 0, 0, 0, 0, 0, 0, 0]\n",
       " [0, 0, 0, 0, 0, 0, 0, 0, 0, 0  …  0, 0, 0, 0, 0, 0, 0, 0, 0, 0]\n",
       " [0, 0, 0, 0, 0, 0, 0, 0, 0, 0  …  0, 0, 0, 0, 0, 0, 0, 0, 0, 0]\n",
       " [0, 0, 0, 0, 0, 0, 0, 0, 0, 0  …  0, 0, 0, 0, 0, 0, 0, 0, 0, 0]\n",
       " ⋮\n",
       " [0, 0, 0, 0, 0, 0, 0, 0, 0, 0  …  0, 0, 0, 0, 0, 0, 0, 0, 0, 0]\n",
       " [0, 0, 0, 0, 0, 0, 0, 0, 0, 0  …  0, 0, 0, 0, 0, 0, 0, 0, 0, 0]\n",
       " [0, 0, 0, 0, 0, 0, 0, 0, 0, 0  …  0, 0, 0, 0, 0, 0, 0, 0, 0, 0]\n",
       " [0, 0, 0, 0, 0, 0, 0, 0, 0, 0  …  0, 0, 0, 0, 0, 0, 0, 0, 0, 0]\n",
       " [0, 0, 0, 0, 0, 0, 0, 0, 0, 0  …  0, 0, 0, 0, 0, 0, 0, 0, 0, 0]\n",
       " [0, 0, 0, 0, 0, 0, 0, 0, 0, 0  …  0, 0, 0, 0, 0, 0, 0, 0, 0, 0]\n",
       " [0, 0, 0, 0, 0, 0, 0, 0, 0, 0  …  0, 0, 0, 0, 0, 0, 0, 0, 0, 0]\n",
       " [0, 0, 0, 0, 0, 0, 0, 0, 0, 0  …  0, 0, 0, 0, 0, 0, 0, 0, 0, 0]\n",
       " [0, 0, 0, 0, 0, 0, 0, 0, 0, 0  …  0, 0, 0, 0, 0, 0, 0, 0, 0, 0]"
      ]
     },
     "metadata": {},
     "output_type": "display_data"
    }
   ],
   "source": [
    "hll_1 = SetCore.HllSet{10}()\n",
    "hll_2 = SetCore.HllSet{10}()\n",
    "\n",
    "items_t1 = Set([\"string0\", \"string1\", \"string2\", \"string3\", \"string4\", \"string5\", \"string6\", \"string7\", \"string8\", \"string9\", \"string10\", \"string11\"])\n",
    "items_t2 = Set([\"string2\", \"string3\", \"string4\", \"string5\", \"string6\", \"string7\", \"string8\", \"string9\", \"string10\", \"string12\", \"string10\", \"string11\"])\n",
    "\n",
    "SetCore.add!(hll_1, items_t1)\n",
    "SetCore.add!(hll_2, items_t2)\n",
    "\n",
    "print(count(hll_1), \"\\n\")\n",
    "print(count(hll_2), \"\\n\")\n",
    "\n",
    "println(\"Set diff: \", \"Set diff: \", length(setdiff(items_t1, items_t2)))\n",
    "\n",
    "println(\"HLL diff: \", SetCore.diff(hll_1, hll_2))\n",
    "\n",
    "# This will print internal presentation of the HllSet as vector of 1024 elements. Each element is a 64-bit vector.\n",
    "# counts::Vector{BitVector}\n",
    "hll_1.counts"
   ]
  },
  {
   "cell_type": "code",
   "execution_count": 5,
   "metadata": {},
   "outputs": [
    {
     "data": {
      "text/plain": [
       "HllSet{10}()"
      ]
     },
     "metadata": {},
     "output_type": "display_data"
    }
   ],
   "source": [
    "# vec = dump(hll_1)\n",
    "hll_3 = SetCore.HllSet{10}()\n",
    "SetCore.restore(hll_3, Vector(dump(hll_1)))"
   ]
  },
  {
   "cell_type": "code",
   "execution_count": 6,
   "metadata": {},
   "outputs": [
    {
     "name": "stdout",
     "output_type": "stream",
     "text": [
      "Delta: (D = 2, R = 10, N = 1)\n"
     ]
    }
   ],
   "source": [
    "delta1 = SetCore.diff(hll_1, hll_2)\n",
    "print(\"Delta: \", delta1, \"\\n\")\n"
   ]
  },
  {
   "cell_type": "code",
   "execution_count": 9,
   "metadata": {},
   "outputs": [
    {
     "name": "stdout",
     "output_type": "stream",
     "text": [
      "12\n",
      "12\n"
     ]
    }
   ],
   "source": [
    "_dump = SetCore.dump(hll_3)\n",
    "restored = SetCore.restore(hll_3, Vector(_dump))\n",
    "println(SetCore.count(hll_3))\n",
    "println(SetCore.count(restored))"
   ]
  },
  {
   "cell_type": "markdown",
   "metadata": {},
   "source": [
    "# Proving Fundamental Set properties\n",
    "\n",
    "Fundamental properties:\n",
    "\n",
    "        Commutative property\n",
    "\n",
    "                1. (A ∪ B) = (B ∪ A)\n",
    "                2. (A ∩ B) = (B ∩ A)\n",
    "    \n",
    "        Associative property\n",
    "\n",
    "                3. (A ∪ B) ∪ C) = (A ∪ (B ∪ C))\n",
    "                4. (A ∩ B) ∩ C) = (A ∩ (B ∩ C))\n",
    "   \n",
    "        Distributive property:\n",
    "\n",
    "                5. ((A ∪ B) ∩ C) = (A ∩ C) ∪ (B ∩ C)\n",
    "                6.  ((A ∩ B) ∪ C) = (A ∪ C) ∩ (B ∪ C)\n",
    "   \n",
    "        Identity:\n",
    "\n",
    "                7.  (A ∪ Z) = A   \n",
    "                8.  (A ∩ U) = A\n",
    "    \n",
    "Some additional laws: \n",
    "\n",
    "        Idempotent laws:\n",
    "\n",
    "                1. (A ∪ A) = A \n",
    "                3. (A ∩ U) = A"
   ]
  },
  {
   "cell_type": "code",
   "execution_count": 8,
   "metadata": {},
   "outputs": [
    {
     "name": "stdout",
     "output_type": "stream",
     "text": [
      "\n",
      " 1. (A ∪ B) = (B ∪ A): true\n",
      " 2. (A ∩ B) = (B ∩ A): true\n",
      " 3. (A ∪ B) ∪ C) = (A ∪ (B ∪ C)): true\n",
      " 4. (A ∩ B) ∩ C) = (A ∩ (B ∩ C)): true\n",
      " 5. ((A ∪ B) ∩ C) = (A ∩ C) ∪ (B ∩ C): true\n",
      " 6. ((A ∩ B) ∪ C) = (A ∪ C) ∩ (B ∪ C): true\n",
      " 7. (A ∪ Z) = A: true\n",
      " 8. (A ∩ U) = A: true\n",
      " 9. (A ∪ A) = A: true\n",
      "10. (A ∩ U) = A: true"
     ]
    }
   ],
   "source": [
    "A = hll_1\n",
    "B = hll_2\n",
    "C = hll_3\n",
    "\n",
    "# Defining local empty Set\n",
    "Z = SetCore.HllSet{10}()\n",
    "\n",
    "# Defining local universal Set\n",
    "U = A ∪ B ∪ C\n",
    "\n",
    "print(\"\\n 1. (A ∪ B) = (B ∪ A): \", count(A ∪ B) == count(B ∪ A))\n",
    "print(\"\\n 2. (A ∩ B) = (B ∩ A): \", count(A ∩ B) == count(B ∩ A))\n",
    "print(\"\\n 3. (A ∪ B) ∪ C) = (A ∪ (B ∪ C)): \", count((A ∪ B) ∪ C) == count(A ∪ (B ∪ C)))\n",
    "print(\"\\n 4. (A ∩ B) ∩ C) = (A ∩ (B ∩ C)): \", count((A ∩ B) ∩ C) == count(A ∩ (B ∩ C)))\n",
    "print(\"\\n 5. ((A ∪ B) ∩ C) = (A ∩ C) ∪ (B ∩ C): \", count(((A ∪ B) ∩ C)) == count((A ∩ C) ∪ (B ∩ C)))\n",
    "print(\"\\n 6. ((A ∩ B) ∪ C) = (A ∪ C) ∩ (B ∪ C): \", count(((A ∩ B) ∪ C)) == count((A ∪ C) ∩ (B ∪ C)))\n",
    "print(\"\\n 7. (A ∪ Z) = A: \", count(A ∪ Z) == count(A))\n",
    "print(\"\\n 8. (A ∩ U) = A: \", count(A ∩ U) == count(A))\n",
    "print(\"\\n 9. (A ∪ A) = A: \", count(A ∪ A) == count(A))\n",
    "print(\"\\n10. (A ∩ U) = A: \", count(A ∩ U) == count(A))"
   ]
  }
 ],
 "metadata": {
  "kernelspec": {
   "display_name": "Julia 1.9.2",
   "language": "julia",
   "name": "julia-1.9"
  },
  "language_info": {
   "file_extension": ".jl",
   "mimetype": "application/julia",
   "name": "julia",
   "version": "1.9.2"
  }
 },
 "nbformat": 4,
 "nbformat_minor": 2
}
