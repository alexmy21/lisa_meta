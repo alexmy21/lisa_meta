{
 "cells": [
  {
   "cell_type": "code",
   "execution_count": null,
   "metadata": {},
   "outputs": [],
   "source": [
    "using Random\n",
    "using LinearAlgebra, SparseArrays, VMLS\n",
    "\n",
    "# Define a Vector{BitVector}\n",
    "v1 = [bitrand(3) for _ in 1:4]\n",
    "\n",
    "# Convert the Vector{BitVector} to a tensor (Array)\n",
    "tensor1 = Array(v1)\n",
    "\n",
    "v2 = [bitrand(3) for _ in 1:4]\n",
    "\n",
    "# Convert the Vector{BitVector} to a tensor (Array)\n",
    "tensor2 = Array(v2)\n",
    "\n",
    "println(tensor1)\n",
    "println(tensor2)\n",
    "\n",
    "# Calculate the tensor product of tensor1 and tensor2\n",
    "tensor1 = [Int.(v) for v in v1]\n",
    "tensor2 = [Int.(v) for v in v2]\n",
    "\n",
    "# Calculate the tensor product of tensor1 and tensor2\n",
    "tensor_product = [kron(t1, t2) for t1 in tensor1 for t2 in tensor2]\n",
    "\n",
    "println(tensor_product)\n",
    "\n",
    "vector1 = reshape(tensor1, :)\n",
    "vector2 = reshape(tensor2, :)\n",
    "\n",
    "# Calculate the inner product of tensor1 and tensor2\n",
    "inner_product = dot(vector1, vector2)\n",
    "\n",
    "println(inner_product)"
   ]
  },
  {
   "cell_type": "code",
   "execution_count": null,
   "metadata": {},
   "outputs": [],
   "source": [
    "x = [ -1.1, 0.0, 3.6, -7.2 ]"
   ]
  },
  {
   "cell_type": "code",
   "execution_count": null,
   "metadata": {},
   "outputs": [],
   "source": [
    "function lincomb(coeff, vectors)\n",
    "    # n = length(vectors[1]) # Length of vectors\n",
    "    # a = zeros(n);\n",
    "    # for i = 1:length(vectors)\n",
    "    # a = a + coeff[i] * vectors[i];\n",
    "    # end\n",
    "    # return a\n",
    "    return sum( coeff[i] * vectors[i] for i = 1:length(vectors) )\n",
    "end"
   ]
  },
  {
   "cell_type": "code",
   "execution_count": null,
   "metadata": {},
   "outputs": [],
   "source": [
    "lincomb( ( -0.5, 1.5), ( [1, 2], [ 3, 4]) )"
   ]
  },
  {
   "cell_type": "markdown",
   "metadata": {},
   "source": [
    "# Taylor approximation of a function"
   ]
  },
  {
   "cell_type": "code",
   "execution_count": null,
   "metadata": {},
   "outputs": [],
   "source": [
    "f(x) = x[1] + exp(x[2]-x[1]);\n",
    "grad_f(z) = [1-exp(z[2]-z[1]), exp(z[2]-z[1])];\n",
    "z = [1, 2];\n",
    "f_hat(x) = f(z) + grad_f(z)'*(x-z);"
   ]
  },
  {
   "cell_type": "code",
   "execution_count": null,
   "metadata": {},
   "outputs": [],
   "source": [
    "f([1.10,2.11]), f_hat([1.10,2.11])"
   ]
  },
  {
   "cell_type": "markdown",
   "metadata": {},
   "source": [
    "# Regression model"
   ]
  },
  {
   "cell_type": "code",
   "execution_count": null,
   "metadata": {},
   "outputs": [],
   "source": [
    "beta = [148.73, -18.85]; v = 54.40;\n",
    "y_hat(x) = x'*beta + v;"
   ]
  },
  {
   "cell_type": "code",
   "execution_count": null,
   "metadata": {},
   "outputs": [],
   "source": [
    "x = [0.846, 1]; y = 115;\n",
    "y_hat(x), y"
   ]
  },
  {
   "cell_type": "code",
   "execution_count": null,
   "metadata": {},
   "outputs": [],
   "source": [
    "x = [1.324,2]; y = 234.50;\n",
    "y_hat(x), y"
   ]
  },
  {
   "cell_type": "code",
   "execution_count": 2,
   "metadata": {},
   "outputs": [
    {
     "data": {
      "text/plain": [
       "2×2 Matrix{Float64}:\n",
       " 0.5       -0.866025\n",
       " 0.866025   0.5"
      ]
     },
     "execution_count": 2,
     "metadata": {},
     "output_type": "execute_result"
    }
   ],
   "source": [
    "Rot(theta) = [cos(theta) -sin(theta); sin(theta) cos(theta)];\n",
    "R = Rot(pi/3)"
   ]
  },
  {
   "cell_type": "code",
   "execution_count": 3,
   "metadata": {},
   "outputs": [
    {
     "name": "stderr",
     "output_type": "stream",
     "text": [
      "\u001b[36m\u001b[1m[ \u001b[22m\u001b[39m\u001b[36m\u001b[1mInfo: \u001b[22m\u001b[39mPrecompiling Plots [91a5bcdd-55d7-5caf-9e0b-520d859cae80]\n",
      "WARNING: method definition for #xticks!#478 at /home/alexmy/.julia/packages/Plots/qZHsp/src/shorthands.jl:414 declares type variable T but does not use it.\n",
      "WARNING: method definition for #yticks!#479 at /home/alexmy/.julia/packages/Plots/qZHsp/src/shorthands.jl:417 declares type variable T but does not use it.\n",
      "WARNING: method definition for xticks!#499 at /home/alexmy/.julia/packages/Plots/qZHsp/src/Plots.jl:204 declares type variable T but does not use it.\n",
      "WARNING: method definition for yticks!#500 at /home/alexmy/.julia/packages/Plots/qZHsp/src/Plots.jl:205 declares type variable T but does not use it.\n"
     ]
    },
    {
     "data": {
      "image/svg+xml": [
       "<?xml version=\"1.0\" encoding=\"utf-8\"?>\n",
       "<svg xmlns=\"http://www.w3.org/2000/svg\" xmlns:xlink=\"http://www.w3.org/1999/xlink\" width=\"500\" height=\"500\" viewBox=\"0 0 2000 2000\">\n",
       "<defs>\n",
       "  <clipPath id=\"clip9800\">\n",
       "    <rect x=\"0\" y=\"0\" width=\"2000\" height=\"2000\"/>\n",
       "  </clipPath>\n",
       "</defs>\n",
       "<path clip-path=\"url(#clip9800)\" d=\"\n",
       "M0 2000 L2000 2000 L2000 0 L0 0  Z\n",
       "  \" fill=\"#ffffff\" fill-rule=\"evenodd\" fill-opacity=\"1\"/>\n",
       "<defs>\n",
       "  <clipPath id=\"clip9801\">\n",
       "    <rect x=\"400\" y=\"200\" width=\"1401\" height=\"1401\"/>\n",
       "  </clipPath>\n",
       "</defs>\n",
       "<path clip-path=\"url(#clip9800)\" d=\"\n",
       "M153.898 1887.47 L1952.76 1887.47 L1952.76 47.2441 L153.898 47.2441  Z\n",
       "  \" fill=\"#ffffff\" fill-rule=\"evenodd\" fill-opacity=\"1\"/>\n",
       "<defs>\n",
       "  <clipPath id=\"clip9802\">\n",
       "    <rect x=\"153\" y=\"47\" width=\"1800\" height=\"1841\"/>\n",
       "  </clipPath>\n",
       "</defs>\n",
       "<polyline clip-path=\"url(#clip9802)\" style=\"stroke:#000000; stroke-width:2; stroke-opacity:0.1; fill:none\" points=\"\n",
       "  235.664,1887.47 235.664,47.2441 \n",
       "  \"/>\n",
       "<polyline clip-path=\"url(#clip9802)\" style=\"stroke:#000000; stroke-width:2; stroke-opacity:0.1; fill:none\" points=\"\n",
       "  644.496,1887.47 644.496,47.2441 \n",
       "  \"/>\n",
       "<polyline clip-path=\"url(#clip9802)\" style=\"stroke:#000000; stroke-width:2; stroke-opacity:0.1; fill:none\" points=\"\n",
       "  1053.33,1887.47 1053.33,47.2441 \n",
       "  \"/>\n",
       "<polyline clip-path=\"url(#clip9802)\" style=\"stroke:#000000; stroke-width:2; stroke-opacity:0.1; fill:none\" points=\"\n",
       "  1462.16,1887.47 1462.16,47.2441 \n",
       "  \"/>\n",
       "<polyline clip-path=\"url(#clip9802)\" style=\"stroke:#000000; stroke-width:2; stroke-opacity:0.1; fill:none\" points=\"\n",
       "  1870.99,1887.47 1870.99,47.2441 \n",
       "  \"/>\n",
       "<polyline clip-path=\"url(#clip9802)\" style=\"stroke:#000000; stroke-width:2; stroke-opacity:0.1; fill:none\" points=\"\n",
       "  153.898,1803.83 1952.76,1803.83 \n",
       "  \"/>\n",
       "<polyline clip-path=\"url(#clip9802)\" style=\"stroke:#000000; stroke-width:2; stroke-opacity:0.1; fill:none\" points=\"\n",
       "  153.898,1385.59 1952.76,1385.59 \n",
       "  \"/>\n",
       "<polyline clip-path=\"url(#clip9802)\" style=\"stroke:#000000; stroke-width:2; stroke-opacity:0.1; fill:none\" points=\"\n",
       "  153.898,967.359 1952.76,967.359 \n",
       "  \"/>\n",
       "<polyline clip-path=\"url(#clip9802)\" style=\"stroke:#000000; stroke-width:2; stroke-opacity:0.1; fill:none\" points=\"\n",
       "  153.898,549.125 1952.76,549.125 \n",
       "  \"/>\n",
       "<polyline clip-path=\"url(#clip9802)\" style=\"stroke:#000000; stroke-width:2; stroke-opacity:0.1; fill:none\" points=\"\n",
       "  153.898,130.891 1952.76,130.891 \n",
       "  \"/>\n",
       "<polyline clip-path=\"url(#clip9800)\" style=\"stroke:#000000; stroke-width:4; stroke-opacity:1; fill:none\" points=\"\n",
       "  153.898,1887.47 1952.76,1887.47 \n",
       "  \"/>\n",
       "<polyline clip-path=\"url(#clip9800)\" style=\"stroke:#000000; stroke-width:4; stroke-opacity:1; fill:none\" points=\"\n",
       "  153.898,1887.47 153.898,47.2441 \n",
       "  \"/>\n",
       "<polyline clip-path=\"url(#clip9800)\" style=\"stroke:#000000; stroke-width:4; stroke-opacity:1; fill:none\" points=\"\n",
       "  235.664,1887.47 235.664,1865.39 \n",
       "  \"/>\n",
       "<polyline clip-path=\"url(#clip9800)\" style=\"stroke:#000000; stroke-width:4; stroke-opacity:1; fill:none\" points=\"\n",
       "  644.496,1887.47 644.496,1865.39 \n",
       "  \"/>\n",
       "<polyline clip-path=\"url(#clip9800)\" style=\"stroke:#000000; stroke-width:4; stroke-opacity:1; fill:none\" points=\"\n",
       "  1053.33,1887.47 1053.33,1865.39 \n",
       "  \"/>\n",
       "<polyline clip-path=\"url(#clip9800)\" style=\"stroke:#000000; stroke-width:4; stroke-opacity:1; fill:none\" points=\"\n",
       "  1462.16,1887.47 1462.16,1865.39 \n",
       "  \"/>\n",
       "<polyline clip-path=\"url(#clip9800)\" style=\"stroke:#000000; stroke-width:4; stroke-opacity:1; fill:none\" points=\"\n",
       "  1870.99,1887.47 1870.99,1865.39 \n",
       "  \"/>\n",
       "<polyline clip-path=\"url(#clip9800)\" style=\"stroke:#000000; stroke-width:4; stroke-opacity:1; fill:none\" points=\"\n",
       "  153.898,1803.83 175.484,1803.83 \n",
       "  \"/>\n",
       "<polyline clip-path=\"url(#clip9800)\" style=\"stroke:#000000; stroke-width:4; stroke-opacity:1; fill:none\" points=\"\n",
       "  153.898,1385.59 175.484,1385.59 \n",
       "  \"/>\n",
       "<polyline clip-path=\"url(#clip9800)\" style=\"stroke:#000000; stroke-width:4; stroke-opacity:1; fill:none\" points=\"\n",
       "  153.898,967.359 175.484,967.359 \n",
       "  \"/>\n",
       "<polyline clip-path=\"url(#clip9800)\" style=\"stroke:#000000; stroke-width:4; stroke-opacity:1; fill:none\" points=\"\n",
       "  153.898,549.125 175.484,549.125 \n",
       "  \"/>\n",
       "<polyline clip-path=\"url(#clip9800)\" style=\"stroke:#000000; stroke-width:4; stroke-opacity:1; fill:none\" points=\"\n",
       "  153.898,130.891 175.484,130.891 \n",
       "  \"/>\n",
       "<g clip-path=\"url(#clip9800)\">\n",
       "<text style=\"fill:#000000; fill-opacity:1; font-family:Arial,Helvetica Neue,Helvetica,sans-serif; font-size:48px; text-anchor:middle;\" transform=\"rotate(0, 235.664, 1939.47)\" x=\"235.664\" y=\"1939.47\">0.0</text>\n",
       "</g>\n",
       "<g clip-path=\"url(#clip9800)\">\n",
       "<text style=\"fill:#000000; fill-opacity:1; font-family:Arial,Helvetica Neue,Helvetica,sans-serif; font-size:48px; text-anchor:middle;\" transform=\"rotate(0, 644.496, 1939.47)\" x=\"644.496\" y=\"1939.47\">0.5</text>\n",
       "</g>\n",
       "<g clip-path=\"url(#clip9800)\">\n",
       "<text style=\"fill:#000000; fill-opacity:1; font-family:Arial,Helvetica Neue,Helvetica,sans-serif; font-size:48px; text-anchor:middle;\" transform=\"rotate(0, 1053.33, 1939.47)\" x=\"1053.33\" y=\"1939.47\">1.0</text>\n",
       "</g>\n",
       "<g clip-path=\"url(#clip9800)\">\n",
       "<text style=\"fill:#000000; fill-opacity:1; font-family:Arial,Helvetica Neue,Helvetica,sans-serif; font-size:48px; text-anchor:middle;\" transform=\"rotate(0, 1462.16, 1939.47)\" x=\"1462.16\" y=\"1939.47\">1.5</text>\n",
       "</g>\n",
       "<g clip-path=\"url(#clip9800)\">\n",
       "<text style=\"fill:#000000; fill-opacity:1; font-family:Arial,Helvetica Neue,Helvetica,sans-serif; font-size:48px; text-anchor:middle;\" transform=\"rotate(0, 1870.99, 1939.47)\" x=\"1870.99\" y=\"1939.47\">2.0</text>\n",
       "</g>\n",
       "<g clip-path=\"url(#clip9800)\">\n",
       "<text style=\"fill:#000000; fill-opacity:1; font-family:Arial,Helvetica Neue,Helvetica,sans-serif; font-size:48px; text-anchor:end;\" transform=\"rotate(0, 133.898, 1821.33)\" x=\"133.898\" y=\"1821.33\">0.0</text>\n",
       "</g>\n",
       "<g clip-path=\"url(#clip9800)\">\n",
       "<text style=\"fill:#000000; fill-opacity:1; font-family:Arial,Helvetica Neue,Helvetica,sans-serif; font-size:48px; text-anchor:end;\" transform=\"rotate(0, 133.898, 1403.09)\" x=\"133.898\" y=\"1403.09\">0.5</text>\n",
       "</g>\n",
       "<g clip-path=\"url(#clip9800)\">\n",
       "<text style=\"fill:#000000; fill-opacity:1; font-family:Arial,Helvetica Neue,Helvetica,sans-serif; font-size:48px; text-anchor:end;\" transform=\"rotate(0, 133.898, 984.859)\" x=\"133.898\" y=\"984.859\">1.0</text>\n",
       "</g>\n",
       "<g clip-path=\"url(#clip9800)\">\n",
       "<text style=\"fill:#000000; fill-opacity:1; font-family:Arial,Helvetica Neue,Helvetica,sans-serif; font-size:48px; text-anchor:end;\" transform=\"rotate(0, 133.898, 566.625)\" x=\"133.898\" y=\"566.625\">1.5</text>\n",
       "</g>\n",
       "<g clip-path=\"url(#clip9800)\">\n",
       "<text style=\"fill:#000000; fill-opacity:1; font-family:Arial,Helvetica Neue,Helvetica,sans-serif; font-size:48px; text-anchor:end;\" transform=\"rotate(0, 133.898, 148.391)\" x=\"133.898\" y=\"148.391\">2.0</text>\n",
       "</g>\n",
       "<circle clip-path=\"url(#clip9802)\" style=\"fill:#000000; stroke:none; fill-opacity:1\" cx=\"1053.33\" cy=\"1803.83\" r=\"18\"/>\n",
       "<circle clip-path=\"url(#clip9802)\" style=\"fill:#009af9; stroke:none; fill-opacity:1\" cx=\"1053.33\" cy=\"1803.83\" r=\"14\"/>\n",
       "<circle clip-path=\"url(#clip9802)\" style=\"fill:#000000; stroke:none; fill-opacity:1\" cx=\"1462.16\" cy=\"1803.83\" r=\"18\"/>\n",
       "<circle clip-path=\"url(#clip9802)\" style=\"fill:#009af9; stroke:none; fill-opacity:1\" cx=\"1462.16\" cy=\"1803.83\" r=\"14\"/>\n",
       "<circle clip-path=\"url(#clip9802)\" style=\"fill:#000000; stroke:none; fill-opacity:1\" cx=\"1870.99\" cy=\"1803.83\" r=\"18\"/>\n",
       "<circle clip-path=\"url(#clip9802)\" style=\"fill:#009af9; stroke:none; fill-opacity:1\" cx=\"1870.99\" cy=\"1803.83\" r=\"14\"/>\n",
       "<circle clip-path=\"url(#clip9802)\" style=\"fill:#000000; stroke:none; fill-opacity:1\" cx=\"1053.33\" cy=\"1594.71\" r=\"18\"/>\n",
       "<circle clip-path=\"url(#clip9802)\" style=\"fill:#009af9; stroke:none; fill-opacity:1\" cx=\"1053.33\" cy=\"1594.71\" r=\"14\"/>\n",
       "<circle clip-path=\"url(#clip9802)\" style=\"fill:#000000; stroke:none; fill-opacity:1\" cx=\"1462.16\" cy=\"1594.71\" r=\"18\"/>\n",
       "<circle clip-path=\"url(#clip9802)\" style=\"fill:#009af9; stroke:none; fill-opacity:1\" cx=\"1462.16\" cy=\"1594.71\" r=\"14\"/>\n",
       "<circle clip-path=\"url(#clip9802)\" style=\"fill:#000000; stroke:none; fill-opacity:1\" cx=\"1053.33\" cy=\"1385.59\" r=\"18\"/>\n",
       "<circle clip-path=\"url(#clip9802)\" style=\"fill:#009af9; stroke:none; fill-opacity:1\" cx=\"1053.33\" cy=\"1385.59\" r=\"14\"/>\n",
       "<circle clip-path=\"url(#clip9802)\" style=\"fill:#000000; stroke:none; fill-opacity:1\" cx=\"644.496\" cy=\"1079.42\" r=\"18\"/>\n",
       "<circle clip-path=\"url(#clip9802)\" style=\"fill:#e26f46; stroke:none; fill-opacity:1\" cx=\"644.496\" cy=\"1079.42\" r=\"14\"/>\n",
       "<circle clip-path=\"url(#clip9802)\" style=\"fill:#000000; stroke:none; fill-opacity:1\" cx=\"848.911\" cy=\"717.223\" r=\"18\"/>\n",
       "<circle clip-path=\"url(#clip9802)\" style=\"fill:#e26f46; stroke:none; fill-opacity:1\" cx=\"848.911\" cy=\"717.223\" r=\"14\"/>\n",
       "<circle clip-path=\"url(#clip9802)\" style=\"fill:#000000; stroke:none; fill-opacity:1\" cx=\"1053.33\" cy=\"355.022\" r=\"18\"/>\n",
       "<circle clip-path=\"url(#clip9802)\" style=\"fill:#e26f46; stroke:none; fill-opacity:1\" cx=\"1053.33\" cy=\"355.022\" r=\"14\"/>\n",
       "<circle clip-path=\"url(#clip9802)\" style=\"fill:#000000; stroke:none; fill-opacity:1\" cx=\"467.466\" cy=\"974.866\" r=\"18\"/>\n",
       "<circle clip-path=\"url(#clip9802)\" style=\"fill:#e26f46; stroke:none; fill-opacity:1\" cx=\"467.466\" cy=\"974.866\" r=\"14\"/>\n",
       "<circle clip-path=\"url(#clip9802)\" style=\"fill:#000000; stroke:none; fill-opacity:1\" cx=\"671.882\" cy=\"612.665\" r=\"18\"/>\n",
       "<circle clip-path=\"url(#clip9802)\" style=\"fill:#e26f46; stroke:none; fill-opacity:1\" cx=\"671.882\" cy=\"612.665\" r=\"14\"/>\n",
       "<circle clip-path=\"url(#clip9802)\" style=\"fill:#000000; stroke:none; fill-opacity:1\" cx=\"290.437\" cy=\"870.308\" r=\"18\"/>\n",
       "<circle clip-path=\"url(#clip9802)\" style=\"fill:#e26f46; stroke:none; fill-opacity:1\" cx=\"290.437\" cy=\"870.308\" r=\"14\"/>\n",
       "</svg>\n"
      ]
     },
     "execution_count": 3,
     "metadata": {},
     "output_type": "execute_result"
    }
   ],
   "source": [
    "points = [ [1,0], [1.5,0], [2,0], [1,0.25], [1.5, 0.25], [1,.5] ];\n",
    "rpoints = [ R*p for p in points ];\n",
    "\n",
    "using Plots\n",
    "scatter([c[1] for c in points], [c[2] for c in points])\n",
    "scatter!([c[1] for c in rpoints], [c[2] for c in rpoints])\n",
    "plot!(lims = (-0.1, 2.1), size = (500,500), legend = false)"
   ]
  }
 ],
 "metadata": {
  "kernelspec": {
   "display_name": "Julia 1.10.2",
   "language": "julia",
   "name": "julia-1.10"
  },
  "language_info": {
   "file_extension": ".jl",
   "mimetype": "application/julia",
   "name": "julia",
   "version": "1.10.2"
  }
 },
 "nbformat": 4,
 "nbformat_minor": 2
}
