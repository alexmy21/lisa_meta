{
 "cells": [
  {
   "cell_type": "code",
   "execution_count": 9,
   "metadata": {},
   "outputs": [
    {
     "name": "stdout",
     "output_type": "stream",
     "text": [
      "c9847d0263de186fc4e3f56b648895565bcd5952\n",
      "a899d4a28e2c26ae888e964aebec6bfedf30b806\n"
     ]
    }
   ],
   "source": [
    "using SHA\n",
    "\n",
    "function char_to_bin(c::Char)\n",
    "    return string(UInt8(c), base=2)\n",
    "end\n",
    "\n",
    "function string_to_bin(str)\n",
    "    return join([char_to_bin(c) for c in str])\n",
    "end\n",
    "\n",
    "function bin_to_string(bin_str)\n",
    "    return join([Char(parse(UInt8, bin_str[i:min(i+7, end)] , base=2)) for i in 1:8:length(bin_str)])\n",
    "end\n",
    "\n",
    "function sha1_union(strings::Array{String, 1})\n",
    "    bin_strings = [string_to_bin(str) for str in strings]\n",
    "\n",
    "    bin_union = bin_strings[1]\n",
    "    for i in 2:length(bin_strings)\n",
    "        bin_union = string(parse(BigInt, \"0b\" * bin_union) | parse(BigInt, \"0b\" * bin_strings[i]), base=2)\n",
    "    end\n",
    "\n",
    "    str_union = bin_to_string(bin_union)\n",
    "    new_sha1_hash = bytes2hex(SHA.sha1(str_union))\n",
    "\n",
    "    return new_sha1_hash\n",
    "end\n",
    "\n",
    "function sha1_intersection(strings::Array{String, 1})\n",
    "    bin_strings = [string_to_bin(str) for str in strings]\n",
    "\n",
    "    bin_intersection = bin_strings[1]\n",
    "    for i in 2:length(bin_strings)\n",
    "        bin_intersection = string(parse(BigInt, \"0b\" * bin_intersection) & parse(BigInt, \"0b\" * bin_strings[i]), base=2)\n",
    "    end\n",
    "\n",
    "    str_intersection = bin_to_string(bin_intersection)\n",
    "    new_sha1_hash = bytes2hex(SHA.sha1(str_intersection))\n",
    "\n",
    "    return new_sha1_hash\n",
    "end\n",
    "\n",
    "strings = [ \n",
    "        \"aba567b86136d0ad7cdaec68e600ca02a3400544\", \n",
    "        \"g1a567b86136d0ad7cdaec68e600ca02a3400530\",\n",
    "        \"b1a567b86136d0ad7cdaec68e600ca02a3400526\"]\n",
    "\n",
    "println(sha1_union(strings))\n",
    "println(sha1_intersection(strings))"
   ]
  }
 ],
 "metadata": {
  "kernelspec": {
   "display_name": "Julia 1.10.2",
   "language": "julia",
   "name": "julia-1.10"
  },
  "language_info": {
   "file_extension": ".jl",
   "mimetype": "application/julia",
   "name": "julia",
   "version": "1.10.2"
  }
 },
 "nbformat": 4,
 "nbformat_minor": 2
}
