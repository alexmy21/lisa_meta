{
 "cells": [
  {
   "cell_type": "code",
   "execution_count": 1,
   "metadata": {},
   "outputs": [
    {
     "name": "stderr",
     "output_type": "stream",
     "text": [
      "WARNING: replacing module Util.\n"
     ]
    },
    {
     "data": {
      "text/plain": [
       "2-element Vector{Pair{String, String}}:\n",
       "  \"Content-Type\" => \"application/json\"\n",
       " \"Authorization\" => \"Basic bmVvNGo6bmVvNGo=\""
      ]
     },
     "execution_count": 1,
     "metadata": {},
     "output_type": "execute_result"
    }
   ],
   "source": [
    "include(\"src/lisa_meta.jl\")\n",
    "include(\"src/lisa_util.jl\")\n",
    "\n",
    "using ..LisaNeo4j\n",
    "using ..LisaMeta\n",
    "using ..Store\n",
    "using ..Graph\n",
    "using ..Util\n",
    "\n",
    "using CSV\n",
    "using SQLite\n",
    "using DBInterface\n",
    "using MurmurHash3\n",
    "using TextAnalysis\n",
    "using JSON3\n",
    "using PooledArrays\n",
    "using UUIDs\n",
    "using HDF5\n",
    "using EasyConfig\n",
    "using SHA\n",
    "using Base64\n",
    "using DataFrames\n",
    "\n",
    "hll = SetCore.HllSet{10}()\n",
    "\n",
    "db_source = SQLite.DB(\"lisa_enron.db\")\n",
    "# Create an empty HDF5 file. Run it only once, because it will overwrite the file\n",
    "# h5open(\"hll_algebra.hdf5\", \"w\") do f\n",
    "#     # The file is now open, but it's empty\n",
    "# end\n",
    "\n",
    "# Connect to the SQLite meta database\n",
    "db_meta = Graph.DB(\"hll_algebra.db\")\n",
    "\n",
    "# Define the URL of your Neo4j instance\n",
    "url = \"http://localhost:7474/db/neo4j/tx/commit\"\n",
    "# Define the headers\n",
    "headers = [\"Content-Type\" => \"application/json\", \"Authorization\" => \"Basic \" * base64encode(\"neo4j:neo4j\")]"
   ]
  },
  {
   "cell_type": "code",
   "execution_count": 2,
   "metadata": {},
   "outputs": [
    {
     "data": {
      "text/plain": [
       "\"\\\"Message-ID\\\" AS message_id, Date, \\\"From\\\", \\\"To\\\", Subject, content, user, labeled\""
      ]
     },
     "execution_count": 2,
     "metadata": {},
     "output_type": "execute_result"
    }
   ],
   "source": [
    "# Query the first 10 rows of the table\n",
    "fields = \"\\\"Message-ID\\\" AS message_id, Date, \\\"From\\\", \\\"To\\\", Subject, content, user, labeled\"\n",
    "# df = DBInterface.execute(db_source, \"SELECT $fields FROM emails ORDER BY Date LIMIT 10\") |> DataFrame\n",
    "\n",
    "# # Print the DataFrame\n",
    "# print(df)"
   ]
  },
  {
   "cell_type": "code",
   "execution_count": 3,
   "metadata": {},
   "outputs": [
    {
     "name": "stdout",
     "output_type": "stream",
     "text": [
      "10×1 DataFrame\n",
      "│ Row │ Date       │\n",
      "│     │ \u001b[90mString\u001b[39m     │\n",
      "├─────┼────────────┤\n",
      "│ 1   │ 1980-01-01 │\n",
      "│ 2   │ 1986-04-26 │\n",
      "│ 3   │ 1986-05-01 │\n",
      "│ 4   │ 1997-01-01 │\n",
      "│ 5   │ 1997-03-03 │\n",
      "│ 6   │ 1997-03-05 │\n",
      "│ 7   │ 1997-03-06 │\n",
      "│ 8   │ 1997-03-07 │\n",
      "│ 9   │ 1997-03-11 │\n",
      "│ 10  │ 1997-03-16 │"
     ]
    }
   ],
   "source": [
    "# Create list of dates\n",
    "df_dates = DBInterface.execute(db_source, \"SELECT DISTINCT strftime('%Y-%m-%d', Date) AS Date FROM emails ORDER BY Date\") |> DataFrame\n",
    "\n",
    "# Get the first 10 rows of the DataFrame\n",
    "df_dates_10 = first(df_dates, 10)\n",
    "\n",
    "# Print the first 10 rows\n",
    "print(df_dates_10)"
   ]
  },
  {
   "cell_type": "code",
   "execution_count": 4,
   "metadata": {},
   "outputs": [
    {
     "name": "stdout",
     "output_type": "stream",
     "text": [
      "sha1_union([A, B, C]): c9847d0263de186fc4e3f56b648895565bcd5952\n",
      "sha1_intersection([A, B, C]): a899d4a28e2c26ae888e964aebec6bfedf30b806\n",
      "sha1_complement(B, A): e08b92300f215b925bca6dd3719ae76110c5279d\n",
      "sha1_complement(A, B): ff568d861f973009bffc59bea505aa9305a70b1e\n",
      "sha1_xor(B, A): 5398bf9f841ab7fcc2e705a017bd1a1113999671\n",
      "sha1_xor(A, B): 5398bf9f841ab7fcc2e705a017bd1a1113999671"
     ]
    }
   ],
   "source": [
    "strings = Set{String}()\n",
    "push!(strings, \"aba567b86136d0ad7cdaec68e600ca02a3400544\") \n",
    "push!(strings, \"g1a567b86136d0ad7cdaec68e600ca02a3400530\")\n",
    "push!(strings, \"b1a567b86136d0ad7cdaec68e600ca02a3400526\")\n",
    "\n",
    "println(\"sha1_union([A, B, C]): \", Util.sha1_union(strings))\n",
    "println(\"sha1_intersection([A, B, C]): \", Util.sha1_intersect(strings))\n",
    "\n",
    "println(\"sha1_complement(B, A): \", Util.sha1_comp(\"g1a567b86136d0ad7cdaec68e600ca02a3400530\", \"aba567b86136d0ad7cdaec68e600ca02a3400544\"))\n",
    "\n",
    "println(\"sha1_complement(A, B): \", Util.sha1_comp(\"aba567b86136d0ad7cdaec68e600ca02a3400544\", \"g1a567b86136d0ad7cdaec68e600ca02a3400530\"))\n",
    "\n",
    "\n",
    "println(\"sha1_xor(B, A): \", Util.sha1_xor(\"g1a567b86136d0ad7cdaec68e600ca02a3400530\", \"aba567b86136d0ad7cdaec68e600ca02a3400544\"))\n",
    "\n",
    "print(\"sha1_xor(A, B): \", Util.sha1_xor(\"aba567b86136d0ad7cdaec68e600ca02a3400544\", \"g1a567b86136d0ad7cdaec68e600ca02a3400530\"))"
   ]
  },
  {
   "cell_type": "code",
   "execution_count": 5,
   "metadata": {},
   "outputs": [
    {
     "name": "stdout",
     "output_type": "stream",
     "text": [
      "setdiff(B, A): BitSet([])\n",
      "setdiff(A, B): BitSet([])\n"
     ]
    }
   ],
   "source": [
    "# using Base.BitSet\n",
    "\n",
    "A = BitSet([1, 2, 3])\n",
    "B = BitSet([1,2,3])\n",
    "\n",
    "relative_complement = BitSet(setdiff(B, A))\n",
    "println(\"setdiff(B, A): \", relative_complement)\n",
    "\n",
    "relative_complement = BitSet(setdiff(A, B))\n",
    "println(\"setdiff(A, B): \", relative_complement)\n",
    "\n"
   ]
  },
  {
   "cell_type": "code",
   "execution_count": 6,
   "metadata": {},
   "outputs": [
    {
     "data": {
      "text/html": [
       "<table class=\"data-frame\"><thead><tr><th></th><th>message_id</th><th>Date</th><th>From</th></tr><tr><th></th><th>String</th><th>String</th><th>String</th></tr></thead><tbody><p>100 rows × 8 columns (omitted printing of 5 columns)</p><tr><th>1</th><td>&lt;12929996.1075855668941.JavaMail.evans@thyme&gt;</td><td>1980-01-01 00:00:00</td><td>phillip.allen@enron.com</td></tr><tr><th>2</th><td>&lt;29770699.1075855669609.JavaMail.evans@thyme&gt;</td><td>1980-01-01 00:00:00</td><td>phillip.allen@enron.com</td></tr><tr><th>3</th><td>&lt;13537630.1075855669909.JavaMail.evans@thyme&gt;</td><td>1980-01-01 00:00:00</td><td>phillip.allen@enron.com</td></tr><tr><th>4</th><td>&lt;27903020.1075855669931.JavaMail.evans@thyme&gt;</td><td>1980-01-01 00:00:00</td><td>phillip.allen@enron.com</td></tr><tr><th>5</th><td>&lt;17449361.1075855672476.JavaMail.evans@thyme&gt;</td><td>1980-01-01 00:00:00</td><td>phillip.allen@enron.com</td></tr><tr><th>6</th><td>&lt;5722531.1075855698441.JavaMail.evans@thyme&gt;</td><td>1980-01-01 00:00:00</td><td>phillip.allen@enron.com</td></tr><tr><th>7</th><td>&lt;12635597.1075855702772.JavaMail.evans@thyme&gt;</td><td>1980-01-01 00:00:00</td><td>phillip.allen@enron.com</td></tr><tr><th>8</th><td>&lt;16041239.1075855708564.JavaMail.evans@thyme&gt;</td><td>1980-01-01 00:00:00</td><td>phillip.allen@enron.com</td></tr><tr><th>9</th><td>&lt;12860336.1075855675177.JavaMail.evans@thyme&gt;</td><td>1980-01-01 00:00:00</td><td>phillip.allen@enron.com</td></tr><tr><th>10</th><td>&lt;23724536.1075855675391.JavaMail.evans@thyme&gt;</td><td>1980-01-01 00:00:00</td><td>phillip.allen@enron.com</td></tr><tr><th>11</th><td>&lt;22254176.1075849631289.JavaMail.evans@thyme&gt;</td><td>1980-01-01 00:00:00</td><td>john.arnold@enron.com</td></tr><tr><th>12</th><td>&lt;16948003.1075857577252.JavaMail.evans@thyme&gt;</td><td>1980-01-01 00:00:00</td><td>john.arnold@enron.com</td></tr><tr><th>13</th><td>&lt;12734256.1075857578923.JavaMail.evans@thyme&gt;</td><td>1980-01-01 00:00:00</td><td>john.arnold@enron.com</td></tr><tr><th>14</th><td>&lt;111015.1075857579145.JavaMail.evans@thyme&gt;</td><td>1980-01-01 00:00:00</td><td>john.arnold@enron.com</td></tr><tr><th>15</th><td>&lt;10652037.1075857579318.JavaMail.evans@thyme&gt;</td><td>1980-01-01 00:00:00</td><td>john.arnold@enron.com</td></tr><tr><th>16</th><td>&lt;29735672.1075857580523.JavaMail.evans@thyme&gt;</td><td>1980-01-01 00:00:00</td><td>john.arnold@enron.com</td></tr><tr><th>17</th><td>&lt;8807264.1075857580648.JavaMail.evans@thyme&gt;</td><td>1980-01-01 00:00:00</td><td>john.arnold@enron.com</td></tr><tr><th>18</th><td>&lt;14567986.1075857581506.JavaMail.evans@thyme&gt;</td><td>1980-01-01 00:00:00</td><td>john.arnold@enron.com</td></tr><tr><th>19</th><td>&lt;14148377.1075848343460.JavaMail.evans@thyme&gt;</td><td>1980-01-01 00:00:00</td><td>harry.arora@enron.com</td></tr><tr><th>20</th><td>&lt;12982120.1075848345021.JavaMail.evans@thyme&gt;</td><td>1980-01-01 00:00:00</td><td>harry.arora@enron.com</td></tr><tr><th>21</th><td>&lt;9677270.1075848342471.JavaMail.evans@thyme&gt;</td><td>1980-01-01 00:00:00</td><td>eric.bass@enron.com</td></tr><tr><th>22</th><td>&lt;6288584.1075854618918.JavaMail.evans@thyme&gt;</td><td>1980-01-01 00:00:00</td><td>eric.bass@enron.com</td></tr><tr><th>23</th><td>&lt;26711157.1075848342449.JavaMail.evans@thyme&gt;</td><td>1980-01-01 00:00:00</td><td>eric.bass@enron.com</td></tr><tr><th>24</th><td>&lt;8746144.1075848342714.JavaMail.evans@thyme&gt;</td><td>1980-01-01 00:00:00</td><td>eric.bass@enron.com</td></tr><tr><th>25</th><td>&lt;14539346.1075854621703.JavaMail.evans@thyme&gt;</td><td>1980-01-01 00:00:00</td><td>eric.bass@enron.com</td></tr><tr><th>26</th><td>&lt;13869898.1075848342693.JavaMail.evans@thyme&gt;</td><td>1980-01-01 00:00:00</td><td>eric.bass@enron.com</td></tr><tr><th>27</th><td>&lt;10730757.1075848314468.JavaMail.evans@thyme&gt;</td><td>1980-01-01 00:00:00</td><td>don.baughman@enron.com</td></tr><tr><th>28</th><td>&lt;30329333.1075848314490.JavaMail.evans@thyme&gt;</td><td>1980-01-01 00:00:00</td><td>don.baughman@enron.com</td></tr><tr><th>29</th><td>&lt;19727920.1075848314512.JavaMail.evans@thyme&gt;</td><td>1980-01-01 00:00:00</td><td>don.baughman@enron.com</td></tr><tr><th>30</th><td>&lt;32706800.1075848325429.JavaMail.evans@thyme&gt;</td><td>1980-01-01 00:00:00</td><td>don.baughman@enron.com</td></tr><tr><th>&vellip;</th><td>&vellip;</td><td>&vellip;</td><td>&vellip;</td></tr></tbody></table>"
      ],
      "text/latex": [
       "\\begin{tabular}{r|cccc}\n",
       "\t& message\\_id & Date & From & \\\\\n",
       "\t\\hline\n",
       "\t& String & String & String & \\\\\n",
       "\t\\hline\n",
       "\t1 & <12929996.1075855668941.JavaMail.evans@thyme> & 1980-01-01 00:00:00 & phillip.allen@enron.com & $\\dots$ \\\\\n",
       "\t2 & <29770699.1075855669609.JavaMail.evans@thyme> & 1980-01-01 00:00:00 & phillip.allen@enron.com & $\\dots$ \\\\\n",
       "\t3 & <13537630.1075855669909.JavaMail.evans@thyme> & 1980-01-01 00:00:00 & phillip.allen@enron.com & $\\dots$ \\\\\n",
       "\t4 & <27903020.1075855669931.JavaMail.evans@thyme> & 1980-01-01 00:00:00 & phillip.allen@enron.com & $\\dots$ \\\\\n",
       "\t5 & <17449361.1075855672476.JavaMail.evans@thyme> & 1980-01-01 00:00:00 & phillip.allen@enron.com & $\\dots$ \\\\\n",
       "\t6 & <5722531.1075855698441.JavaMail.evans@thyme> & 1980-01-01 00:00:00 & phillip.allen@enron.com & $\\dots$ \\\\\n",
       "\t7 & <12635597.1075855702772.JavaMail.evans@thyme> & 1980-01-01 00:00:00 & phillip.allen@enron.com & $\\dots$ \\\\\n",
       "\t8 & <16041239.1075855708564.JavaMail.evans@thyme> & 1980-01-01 00:00:00 & phillip.allen@enron.com & $\\dots$ \\\\\n",
       "\t9 & <12860336.1075855675177.JavaMail.evans@thyme> & 1980-01-01 00:00:00 & phillip.allen@enron.com & $\\dots$ \\\\\n",
       "\t10 & <23724536.1075855675391.JavaMail.evans@thyme> & 1980-01-01 00:00:00 & phillip.allen@enron.com & $\\dots$ \\\\\n",
       "\t11 & <22254176.1075849631289.JavaMail.evans@thyme> & 1980-01-01 00:00:00 & john.arnold@enron.com & $\\dots$ \\\\\n",
       "\t12 & <16948003.1075857577252.JavaMail.evans@thyme> & 1980-01-01 00:00:00 & john.arnold@enron.com & $\\dots$ \\\\\n",
       "\t13 & <12734256.1075857578923.JavaMail.evans@thyme> & 1980-01-01 00:00:00 & john.arnold@enron.com & $\\dots$ \\\\\n",
       "\t14 & <111015.1075857579145.JavaMail.evans@thyme> & 1980-01-01 00:00:00 & john.arnold@enron.com & $\\dots$ \\\\\n",
       "\t15 & <10652037.1075857579318.JavaMail.evans@thyme> & 1980-01-01 00:00:00 & john.arnold@enron.com & $\\dots$ \\\\\n",
       "\t16 & <29735672.1075857580523.JavaMail.evans@thyme> & 1980-01-01 00:00:00 & john.arnold@enron.com & $\\dots$ \\\\\n",
       "\t17 & <8807264.1075857580648.JavaMail.evans@thyme> & 1980-01-01 00:00:00 & john.arnold@enron.com & $\\dots$ \\\\\n",
       "\t18 & <14567986.1075857581506.JavaMail.evans@thyme> & 1980-01-01 00:00:00 & john.arnold@enron.com & $\\dots$ \\\\\n",
       "\t19 & <14148377.1075848343460.JavaMail.evans@thyme> & 1980-01-01 00:00:00 & harry.arora@enron.com & $\\dots$ \\\\\n",
       "\t20 & <12982120.1075848345021.JavaMail.evans@thyme> & 1980-01-01 00:00:00 & harry.arora@enron.com & $\\dots$ \\\\\n",
       "\t21 & <9677270.1075848342471.JavaMail.evans@thyme> & 1980-01-01 00:00:00 & eric.bass@enron.com & $\\dots$ \\\\\n",
       "\t22 & <6288584.1075854618918.JavaMail.evans@thyme> & 1980-01-01 00:00:00 & eric.bass@enron.com & $\\dots$ \\\\\n",
       "\t23 & <26711157.1075848342449.JavaMail.evans@thyme> & 1980-01-01 00:00:00 & eric.bass@enron.com & $\\dots$ \\\\\n",
       "\t24 & <8746144.1075848342714.JavaMail.evans@thyme> & 1980-01-01 00:00:00 & eric.bass@enron.com & $\\dots$ \\\\\n",
       "\t25 & <14539346.1075854621703.JavaMail.evans@thyme> & 1980-01-01 00:00:00 & eric.bass@enron.com & $\\dots$ \\\\\n",
       "\t26 & <13869898.1075848342693.JavaMail.evans@thyme> & 1980-01-01 00:00:00 & eric.bass@enron.com & $\\dots$ \\\\\n",
       "\t27 & <10730757.1075848314468.JavaMail.evans@thyme> & 1980-01-01 00:00:00 & don.baughman@enron.com & $\\dots$ \\\\\n",
       "\t28 & <30329333.1075848314490.JavaMail.evans@thyme> & 1980-01-01 00:00:00 & don.baughman@enron.com & $\\dots$ \\\\\n",
       "\t29 & <19727920.1075848314512.JavaMail.evans@thyme> & 1980-01-01 00:00:00 & don.baughman@enron.com & $\\dots$ \\\\\n",
       "\t30 & <32706800.1075848325429.JavaMail.evans@thyme> & 1980-01-01 00:00:00 & don.baughman@enron.com & $\\dots$ \\\\\n",
       "\t$\\dots$ & $\\dots$ & $\\dots$ & $\\dots$ &  \\\\\n",
       "\\end{tabular}\n"
      ],
      "text/plain": [
       "100×8 DataFrame. Omitted printing of 6 columns\n",
       "│ Row │ message_id                                    │ Date                │\n",
       "│     │ \u001b[90mString\u001b[39m                                        │ \u001b[90mString\u001b[39m              │\n",
       "├─────┼───────────────────────────────────────────────┼─────────────────────┤\n",
       "│ 1   │ <12929996.1075855668941.JavaMail.evans@thyme> │ 1980-01-01 00:00:00 │\n",
       "│ 2   │ <29770699.1075855669609.JavaMail.evans@thyme> │ 1980-01-01 00:00:00 │\n",
       "│ 3   │ <13537630.1075855669909.JavaMail.evans@thyme> │ 1980-01-01 00:00:00 │\n",
       "│ 4   │ <27903020.1075855669931.JavaMail.evans@thyme> │ 1980-01-01 00:00:00 │\n",
       "│ 5   │ <17449361.1075855672476.JavaMail.evans@thyme> │ 1980-01-01 00:00:00 │\n",
       "│ 6   │ <5722531.1075855698441.JavaMail.evans@thyme>  │ 1980-01-01 00:00:00 │\n",
       "│ 7   │ <12635597.1075855702772.JavaMail.evans@thyme> │ 1980-01-01 00:00:00 │\n",
       "│ 8   │ <16041239.1075855708564.JavaMail.evans@thyme> │ 1980-01-01 00:00:00 │\n",
       "│ 9   │ <12860336.1075855675177.JavaMail.evans@thyme> │ 1980-01-01 00:00:00 │\n",
       "│ 10  │ <23724536.1075855675391.JavaMail.evans@thyme> │ 1980-01-01 00:00:00 │\n",
       "⋮\n",
       "│ 90  │ <31654516.1075853676487.JavaMail.evans@thyme> │ 1980-01-01 00:00:00 │\n",
       "│ 91  │ <7162017.1075853679548.JavaMail.evans@thyme>  │ 1980-01-01 00:00:00 │\n",
       "│ 92  │ <1336915.1075853762712.JavaMail.evans@thyme>  │ 1980-01-01 00:00:00 │\n",
       "│ 93  │ <20714997.1075853763056.JavaMail.evans@thyme> │ 1980-01-01 00:00:00 │\n",
       "│ 94  │ <6965627.1075853763434.JavaMail.evans@thyme>  │ 1980-01-01 00:00:00 │\n",
       "│ 95  │ <14430130.1075853771868.JavaMail.evans@thyme> │ 1980-01-01 00:00:00 │\n",
       "│ 96  │ <15164811.1075853772894.JavaMail.evans@thyme> │ 1980-01-01 00:00:00 │\n",
       "│ 97  │ <18633207.1075853777516.JavaMail.evans@thyme> │ 1980-01-01 00:00:00 │\n",
       "│ 98  │ <31923280.1075853777560.JavaMail.evans@thyme> │ 1980-01-01 00:00:00 │\n",
       "│ 99  │ <687084.1075853778132.JavaMail.evans@thyme>   │ 1980-01-01 00:00:00 │\n",
       "│ 100 │ <3993748.1075848307695.JavaMail.evans@thyme>  │ 1980-01-01 00:00:00 │"
      ]
     },
     "execution_count": 6,
     "metadata": {},
     "output_type": "execute_result"
    }
   ],
   "source": [
    "date = \"1980-01-01\"\n",
    "df_day = LisaMeta.get_emails_by_date(db_source, date, fields, 100)"
   ]
  },
  {
   "cell_type": "code",
   "execution_count": 7,
   "metadata": {},
   "outputs": [],
   "source": [
    "# Ingest the data into the store\n",
    "columns_daily = LisaMeta.ingest_df_by_column(db_meta, df_day, \"daily\")\n",
    "row_daily = LisaMeta.ingest_df_by_row(db_meta, df_day, \"daily\"; p=10)\n",
    "\n",
    "# Commit the data to the store\n",
    "message = string(\"Ingested data for \", date)\n",
    "Store.commit(db_meta, \"lisa_enron.hdf5\", \"Alex Mylnikov\", \"alexmy@lisa-park.com\", message, Config())"
   ]
  },
  {
   "cell_type": "code",
   "execution_count": 8,
   "metadata": {},
   "outputs": [
    {
     "name": "stdout",
     "output_type": "stream",
     "text": [
      "Set(Any[\"d0d201c405adf0df65759c16de98f8ef4795d737\", \"e65cbaf2e457609a0d9d3bb58bcd62a1cd0e73be\", \"db3170975744a4abd9d401e15876f414f7988bba\", \"aaf03de4d2597380806e6726f4dc17ce4b32ae74\", \"935b6035429296997bdfb2505ab644f56c22ccd6\", \"bc018f6051278ee0732303d5197154dc61a6f167\", \"8342e461fb2cb55b121fca66cc8ca745ee2f72ae\", \"6927c490b1aac716b820616b2de8b7191ee9d68d\"])\n",
      "Set(Any[\"a10143e19099cd2679132f63bf59afd3e275bddf\", \"1c7335328c96de135cf28a6d9cf5d5e419646692\", \"49b229f31f463b9d29ff178af9fb13ebbad0f151\", \"0903525a12d3a22b1538b7a6ecb9e220de17a5cc\", \"3107f7642141eb26ac2763a320e57c022546da10\", \"55912dbbd88c6796e195da2abd8e3d4e7f562121\", \"cb63357c93f9c1c0c2c8fbdd27e3e902cbea1de7\", \"cdd363110058711a9384dd57c7f92ccd88476aeb\", \"0d2715b918ae2122cfd24cf9b1bc9eb5af4bf3c5\", \"69a28c5fff086024832fd012c74b21f6a015553d\"])\n"
     ]
    }
   ],
   "source": [
    "query = raw\"SELECT * FROM nodes WHERE json_extract(props, '$.From') = 'phillip.allen@enron.com'\"\n",
    "\n",
    "refs_col = LisaMeta.select_sha1_by_label(db_meta, \"column\", \"nodes\", -1)\n",
    "println(refs_col)\n",
    "refs_rows = LisaMeta.select_sha1_by_query(db_meta, query, -1)\n",
    "println(refs_rows)\n",
    "\n",
    "refs = union(refs_col, refs_rows)\n",
    "\n",
    "nodes = Vector()\n",
    "LisaNeo4j.select_nodes(db_meta.sqlitedb, refs, nodes)\n",
    "LisaNeo4j.add_neo4j_nodes_by_refs(db_meta.sqlitedb, Set(refs), url, headers)"
   ]
  },
  {
   "cell_type": "code",
   "execution_count": 9,
   "metadata": {},
   "outputs": [
    {
     "name": "stdout",
     "output_type": "stream",
     "text": [
      "Union node added: Any[\"a10143e19099cd2679132f63bf59afd3e275bddf\", \"1c7335328c96de135cf28a6d9cf5d5e419646692\", \"49b229f31f463b9d29ff178af9fb13ebbad0f151\", \"0903525a12d3a22b1538b7a6ecb9e220de17a5cc\", \"3107f7642141eb26ac2763a320e57c022546da10\", \"55912dbbd88c6796e195da2abd8e3d4e7f562121\", \"cb63357c93f9c1c0c2c8fbdd27e3e902cbea1de7\", \"cdd363110058711a9384dd57c7f92ccd88476aeb\", \"0d2715b918ae2122cfd24cf9b1bc9eb5af4bf3c5\", \"69a28c5fff086024832fd012c74b21f6a015553d\", \"a9f2fdbdfd13380abcb686d15ea6eecd937b0b25\"]\n"
     ]
    }
   ],
   "source": [
    "row_nodes = Vector()\n",
    "LisaNeo4j.select_nodes(db_meta.sqlitedb, refs_rows, row_nodes)\n",
    "\n",
    "refs = Graph.node_union(db_meta, row_nodes)\n",
    "println(\"Union node added: \", refs)\n",
    "\n",
    "LisaNeo4j.add_neo4j_nodes_by_refs(db_meta.sqlitedb, Set(refs), url, headers)\n",
    "LisaNeo4j.add_neo4j_edges_by_refs(db_meta.sqlitedb, Set(refs), url, headers)\n"
   ]
  },
  {
   "cell_type": "code",
   "execution_count": 10,
   "metadata": {},
   "outputs": [
    {
     "name": "stdout",
     "output_type": "stream",
     "text": [
      "Row nodes: Any[DataFrameRow\n",
      "│ Row │ sha1                                     │ labels     │ d_sha1                                   │ dataset                                                                                                                                                                                                                                                                                                                                                                                                                                                                                                                                                                                                                                                                                                                                                                                                                                                                                                                                                                                                                                                                                                                                                                                                                                                                                                                                                                                                                                                                                                                                                                                                                                                                                                                                                                                                                                                                                                                                                                                                                                                                                                                           │ card  │ props                                                                                            │\n",
      "│     │ \u001b[90mString\u001b[39m                                   │ \u001b[90mString\u001b[39m     │ \u001b[90mString\u001b[39m                                   │ \u001b[90mString\u001b[39m                                                                                                                                                                                                                                                                                                                                                                                                                                                                                                                                                                                                                                                                                                                                                                                                                                                                                                                                                                                                                                                                                                                                                                                                                                                                                                                                                                                                                                                                                                                                                                                                                                                                                                                                                                                                                                                                                                                                                                                                                                                                                                                            │ \u001b[90mInt64\u001b[39m │ \u001b[90mString\u001b[39m                                                                                           │\n",
      "├─────┼──────────────────────────────────────────┼────────────┼──────────────────────────────────────────┼───────────────────────────────────────────────────────────────────────────────────────────────────────────────────────────────────────────────────────────────────────────────────────────────────────────────────────────────────────────────────────────────────────────────────────────────────────────────────────────────────────────────────────────────────────────────────────────────────────────────────────────────────────────────────────────────────────────────────────────────────────────────────────────────────────────────────────────────────────────────────────────────────────────────────────────────────────────────────────────────────────────────────────────────────────────────────────────────────────────────────────────────────────────────────────────────────────────────────────────────────────────────────────────────────────────────────────────────────────────────────────────────────────────────────────────────────────────────────────────────────────────────────────────────────────────────────────────────────────────────────────────────────────────────────────────────────────────────────────────────────────────────────────────────────────────────────────────────────────────────────────────────────────────────────────────────────────────────────────────────────────────────────────────────────────────────────────────────────────────────────────────────────────────────────────────────────────────────────────────────────────────────────────────────────────────────────────────────────────────────────────────────────────────────────────────────────────────────────────────────────────────────────────────────────────────────────────────────────────────────────────────────────────────────────────────────────────────────────────────────────────────────────────────────────────────────────────────────────────────────────────────────────────────────────────────────────────────────────────────────────────────────────────────────────────────────────────────────────────────────────────────────────────────────────────────────────┼───────┼──────────────────────────────────────────────────────────────────────────────────────────────────┤\n",
      "│ 1   │ d0d201c405adf0df65759c16de98f8ef4795d737 │ [\"column\"] │ ac18c4676320862770023740d014836a78a3d6da │ [0,0,0,0,0,0,0,0,0,0,0,0,0,0,0,0,0,0,0,0,0,0,0,0,0,0,0,0,0,0,0,0,0,0,0,0,0,0,0,0,0,0,0,0,0,0,0,0,0,0,0,0,0,0,0,0,0,0,0,0,0,0,0,0,0,0,0,0,0,0,0,0,0,0,0,0,0,0,0,0,0,0,0,0,0,0,0,0,0,0,0,0,0,0,0,0,0,0,0,0,0,0,0,0,0,0,0,0,0,0,0,0,0,0,0,0,0,0,0,0,0,0,0,0,1,0,0,0,0,0,0,0,0,0,0,0,0,0,0,0,0,0,0,0,0,0,0,0,0,0,0,0,0,0,0,0,0,0,0,0,0,0,0,0,0,0,0,0,0,0,0,0,0,0,0,0,0,0,0,0,0,0,0,0,0,0,0,0,0,0,0,0,0,0,0,0,0,0,0,0,0,0,0,0,0,0,0,0,0,0,0,0,0,0,0,0,0,0,0,0,0,0,0,0,0,0,0,0,0,0,0,0,0,0,0,0,0,0,0,0,0,0,0,0,0,0,0,0,0,0,0,0,0,0,0,0,0,0,0,0,0,0,0,0,0,0,0,0,0,0,0,0,0,0,0,0,0,0,0,1,0,0,0,0,0,0,0,0,0,0,0,0,0,0,0,0,0,0,0,0,0,0,0,0,0,0,0,0,0,0,0,0,0,0,0,0,0,0,0,0,0,0,0,0,0,0,0,0,0,0,0,0,0,0,0,0,0,0,0,0,0,0,0,0,0,0,0,0,0,0,0,0,0,0,0,0,0,0,0,0,0,0,0,0,0,0,0,0,0,0,0,0,0,0,0,0,0,0,0,0,0,0,0,0,0,1,0,0,0,0,0,0,0,0,0,0,0,0,0,0,0,0,0,0,0,0,0,0,0,0,0,0,1,0,0,0,0,0,0,0,0,0,0,0,0,0,0,0,0,0,0,0,0,0,0,0,0,0,0,0,0,0,0,0,0,0,0,0,0,0,0,0,0,0,0,0,0,0,0,0,0,0,0,0,0,0,0,0,0,0,0,0,0,0,0,0,0,0,0,0,0,0,0,0,0,0,0,0,0,0,0,0,0,0,0,0,0,0,0,0,0,0,0,0,0,0,0,0,0,0,0,0,0,0,0,0,0,0,0,0,0,0,0,0,0,0,0,0,0,0,0,0,0,0,0,4,0,0,0,0,0,0,0,0,0,0,0,0,0,0,0,0,0,0,0,0,0,0,0,0,0,0,0,0,0,0,0,0,0,0,0,0,0,0,0,0,0,0,0,0,0,0,0,0,0,0,0,0,0,0,0,0,0,0,4,0,0,0,0,0,0,0,0,0,0,0,0,0,0,0,0,0,0,0,0,0,0,0,0,0,1,0,0,2,0,0,0,0,0,0,0,0,0,0,0,0,0,0,0,0,0,0,0,0,0,0,0,0,0,0,0,0,0,0,1,0,0,0,0,0,0,0,0,0,0,0,0,0,0,0,0,0,0,0,0,0,0,0,0,0,3,0,1,0,0,0,0,0,0,0,0,0,0,0,0,0,0,0,0,0,0,0,0,0,0,0,0,0,0,0,0,0,0,0,0,0,0,0,0,0,0,0,0,0,0,0,0,0,0,4,0,0,0,0,0,0,0,0,0,0,0,0,0,0,0,0,0,0,0,0,0,0,0,0,0,0,0,0,0,0,0,0,0,0,0,0,0,0,0,0,0,0,0,0,0,0,0,4,0,0,0,0,0,0,0,0,0,0,0,0,0,0,0,0,0,0,0,0,0,0,0,0,0,0,0,0,0,0,0,0,0,0,0,0,0,0,0,0,0,0,0,0,0,0,0,0,0,0,0,0,0,0,0,0,0,0,0,0,0,0,0,0,0,0,0,0,0,0,0,0,0,0,0,0,0,0,0,0,0,0,8,0,0,0,0,0,0,0,0,0,0,0,0,0,0,0,0,0,0,0,0,0,0,0,0,0,0,0,0,0,0,0,0,0,0,0,0,0,0,0,0,0,0,0,0,0,0,0,0,0,0,0,0,0,0,0,0,0,0,0,0,0,0,0,0,0,0,0,0,0,0,0,0,0,0,0,0,0,0,0,0,0,0,0,0,0,0,0,1,0,0,0,0,0,0,0,0,0,0,0,0,0,0,0,0,0,0,0,0,0,0,1,0,0,0,0,0,0,0,0,0,0,0,0,0,0,0,0,0,0,0,0,0,0,0,0,0,0,0,0,0,0,0,0,0,0,0,0,0,0,0,0,0,0,0,0,0,0,0,0,0,0,0,0] │ 16    │ {\"column_name\":\"user\",\"column_type\":\"String\",\"commit_id\":\"c3e1747f-99f7-4e2f-8ce1-70f2025b03ef\"} │, DataFrameRow\n",
      "│ Row │ sha1                                     │ labels  │ d_sha1                                   │ dataset                                                                                                                                                                                                                                                                                                                                                                                                                                                                                                                                                                                                                                                                                                                                                                                                                                                                                                                                                                                                                                                                                                                                                                                                                                                                                                                                                                                                                                                                                                                                                                                                                                                                                                                                                                                                                                                                                                                                                                                                                                                                                                                           │ card  │ props                                                                                                                                         │\n",
      "│     │ \u001b[90mString\u001b[39m                                   │ \u001b[90mString\u001b[39m  │ \u001b[90mString\u001b[39m                                   │ \u001b[90mString\u001b[39m                                                                                                                                                                                                                                                                                                                                                                                                                                                                                                                                                                                                                                                                                                                                                                                                                                                                                                                                                                                                                                                                                                                                                                                                                                                                                                                                                                                                                                                                                                                                                                                                                                                                                                                                                                                                                                                                                                                                                                                                                                                                                                                            │ \u001b[90mInt64\u001b[39m │ \u001b[90mString\u001b[39m                                                                                                                                        │\n",
      "├─────┼──────────────────────────────────────────┼─────────┼──────────────────────────────────────────┼───────────────────────────────────────────────────────────────────────────────────────────────────────────────────────────────────────────────────────────────────────────────────────────────────────────────────────────────────────────────────────────────────────────────────────────────────────────────────────────────────────────────────────────────────────────────────────────────────────────────────────────────────────────────────────────────────────────────────────────────────────────────────────────────────────────────────────────────────────────────────────────────────────────────────────────────────────────────────────────────────────────────────────────────────────────────────────────────────────────────────────────────────────────────────────────────────────────────────────────────────────────────────────────────────────────────────────────────────────────────────────────────────────────────────────────────────────────────────────────────────────────────────────────────────────────────────────────────────────────────────────────────────────────────────────────────────────────────────────────────────────────────────────────────────────────────────────────────────────────────────────────────────────────────────────────────────────────────────────────────────────────────────────────────────────────────────────────────────────────────────────────────────────────────────────────────────────────────────────────────────────────────────────────────────────────────────────────────────────────────────────────────────────────────────────────────────────────────────────────────────────────────────────────────────────────────────────────────────────────────────────────────────────────────────────────────────────────────────────────────────────────────────────────────────────────────────────────────────────────────────────────────────────────────────────────────────────────────────────────────────────────────────────────────────────────────────────────────────────────────────────────────────────────────────────────────────┼───────┼───────────────────────────────────────────────────────────────────────────────────────────────────────────────────────────────────────────────┤\n",
      "│ 1   │ a10143e19099cd2679132f63bf59afd3e275bddf │ [\"row\"] │ 246ee69e734274bd01090c365fd327946dd24631 │ [0,0,0,0,0,0,0,0,0,0,0,0,0,0,0,0,0,0,0,0,0,0,0,0,0,0,0,0,0,0,0,0,0,0,0,0,0,0,0,0,0,0,0,0,0,0,0,0,0,0,0,0,0,0,0,0,0,0,0,0,0,0,0,0,0,0,0,0,0,0,0,0,0,0,0,0,0,0,0,0,0,0,0,0,0,0,0,0,0,0,0,0,0,0,0,0,0,0,0,0,0,0,0,0,0,0,0,0,0,0,0,0,0,0,0,0,2,0,0,0,0,0,0,0,0,0,0,0,0,0,0,0,0,0,0,0,0,0,0,0,0,0,0,0,0,0,0,0,0,0,0,0,0,0,0,0,0,0,0,0,0,0,0,0,0,0,0,0,0,0,0,0,0,0,0,0,0,0,0,0,0,0,0,0,0,0,0,0,0,0,0,0,0,0,0,0,0,0,0,0,0,0,0,0,0,0,1,0,0,0,0,0,0,0,0,0,0,0,0,1,0,0,0,0,0,0,0,0,0,0,0,0,0,0,0,0,0,0,0,0,0,0,0,0,0,0,0,0,0,0,0,0,0,0,0,0,0,0,0,0,1,0,0,0,0,0,0,0,0,0,0,0,0,0,0,0,0,0,0,0,0,0,0,0,0,0,0,0,0,0,0,0,0,0,0,0,0,0,0,0,0,0,0,0,0,0,0,0,0,0,0,0,0,0,0,0,0,0,0,0,0,1,0,0,0,0,0,0,0,0,0,0,0,0,0,0,0,0,0,0,0,0,0,0,0,0,0,0,0,1,0,0,0,0,0,0,0,0,0,0,0,0,0,0,0,0,0,0,0,0,0,0,0,0,0,0,0,0,0,0,0,0,0,0,0,0,0,0,0,0,0,0,1,1,0,0,0,0,0,0,0,0,0,0,0,0,0,0,0,0,0,0,0,0,0,0,0,0,0,0,0,0,0,0,0,0,0,0,0,0,0,0,0,0,0,0,0,0,4,0,0,0,0,0,0,0,0,0,0,0,0,0,0,0,0,0,0,0,0,0,0,0,0,0,0,0,0,0,0,0,0,0,0,0,0,0,0,0,0,0,0,0,0,0,0,0,0,0,0,0,0,0,0,0,0,0,0,0,0,0,0,0,0,0,0,0,0,0,0,0,0,0,0,0,0,0,0,0,0,0,0,0,0,0,0,0,0,0,0,0,0,0,0,0,0,0,0,0,0,0,0,0,0,0,0,0,0,0,0,0,0,0,0,0,0,0,0,0,0,0,0,0,0,0,0,0,0,0,0,0,0,0,0,0,0,0,0,0,0,0,0,0,0,0,0,0,2,0,0,0,0,0,0,0,4,0,0,0,0,0,0,0,0,0,0,0,0,0,0,0,0,0,0,0,0,0,0,0,0,0,4,0,0,0,0,0,2,0,0,0,0,0,0,0,0,0,0,1,0,0,0,0,0,0,0,0,0,0,0,8,0,0,0,0,0,0,0,0,0,0,0,0,0,0,0,0,0,0,0,0,0,0,0,0,0,0,0,0,0,0,0,0,0,0,0,0,0,0,0,0,0,0,0,0,0,0,0,0,0,0,0,0,0,0,0,0,0,0,0,0,0,0,0,0,0,0,0,0,0,0,0,2,0,0,0,0,0,0,0,0,0,0,0,0,0,0,0,0,0,0,0,0,0,0,0,0,0,0,0,0,0,0,0,0,0,0,0,0,0,0,0,0,0,0,0,0,0,0,0,0,0,0,0,0,0,0,0,0,0,0,0,0,0,0,0,0,0,0,0,0,0,0,0,0,0,0,0,0,0,0,0,0,0,0,0,0,0,0,0,0,0,0,0,0,0,0,0,0,0,0,0,0,0,0,0,0,0,0,0,0,0,0,0,0,0,0,0,0,0,0,0,1,0,0,0,0,0,0,0,0,0,0,0,0,0,0,0,0,0,0,0,0,4,0,0,0,0,0,0,0,0,0,0,0,0,0,0,0,0,0,0,0,0,0,0,0,0,0,0,0,0,0,0,0,0,0,0,0,0,0,0,0,4,0,0,0,0,0,0,0,0,0,0,0,0,0,0,0,0,0,0,0,0,0,0,0,0,0,0,0,1,0,0,0,0,0,0,0,0,0,0,0,0,0,0,0,0,0,0,0,0,0,0,0,0,0,0,0,0,0,0,0,0,0,0,0,0,0,0,0,0,0,0,0,0,0,0,0,0,0,0,0,0,0,0,0,0,0,0,0,0,0,0,0,0,0,0,0,0,0,0,0,2,0,0,0,0,0,0,0,1,0,0,0,0,0,0,0,0,0,0,0,0,0] │ 22    │ {\"Date\":\"1980-01-01 00:00:00\",\"From\":\"phillip.allen@enron.com\",\"To\":\"jsmith@austintx.com\",\"commit_id\":\"c3e1747f-99f7-4e2f-8ce1-70f2025b03ef\"} │]\n"
     ]
    }
   ],
   "source": [
    "refs = Set([\"d0d201c405adf0df65759c16de98f8ef4795d737\", \"a10143e19099cd2679132f63bf59afd3e275bddf\"])\n",
    "\n",
    "row_nodes = Vector()\n",
    "LisaNeo4j.select_nodes(db_meta.sqlitedb, refs, row_nodes)\n",
    "println(\"Row nodes: \", row_nodes)\n",
    "\n",
    "refs = Graph.node_intersect(db_meta, row_nodes[1], row_nodes[2])\n",
    "\n",
    "LisaNeo4j.add_neo4j_nodes_by_refs(db_meta.sqlitedb, Set(refs), url, headers)\n",
    "LisaNeo4j.add_neo4j_edges_by_refs(db_meta.sqlitedb, Set(refs), url, headers)\n"
   ]
  },
  {
   "cell_type": "code",
   "execution_count": 11,
   "metadata": {},
   "outputs": [],
   "source": [
    "row_ref = Set([\"a10143e19099cd2679132f63bf59afd3e275bddf\"])\n",
    "col_refs = LisaMeta.select_sha1_by_label(db_meta, \"column\", \"nodes\", -1)\n",
    "\n",
    "# refs = union(row_ref, col_refs)\n",
    "\n",
    "row_nodes = Vector()\n",
    "LisaNeo4j.select_nodes(db_meta.sqlitedb, row_ref, row_nodes)\n",
    "\n",
    "col_nodes = Vector()\n",
    "LisaNeo4j.select_nodes(db_meta.sqlitedb, col_refs, col_nodes)\n",
    "\n",
    "refs = Graph.projection_1_n(db_meta, row_nodes[1], col_nodes)\n",
    "\n",
    "LisaNeo4j.add_neo4j_nodes_by_refs(db_meta.sqlitedb, Set(refs), url, headers)\n",
    "LisaNeo4j.add_neo4j_edges_by_refs(db_meta.sqlitedb, Set(refs), url, headers)"
   ]
  },
  {
   "cell_type": "code",
   "execution_count": 12,
   "metadata": {},
   "outputs": [],
   "source": [
    "row_ref = Set([\"1c7335328c96de135cf28a6d9cf5d5e419646692\", \"49b229f31f463b9d29ff178af9fb13ebbad0f151\", \"0903525a12d3a22b1538b7a6ecb9e220de17a5cc\"])\n",
    "\n",
    "row_nodes = Vector()\n",
    "LisaNeo4j.select_nodes(db_meta.sqlitedb, row_ref, row_nodes)\n",
    "\n",
    "\n",
    "refs = Graph.projection_m_n(db_meta, row_nodes, col_nodes)\n",
    "\n",
    "LisaNeo4j.add_neo4j_nodes_by_refs(db_meta.sqlitedb, Set(refs), url, headers)\n",
    "LisaNeo4j.add_neo4j_edges_by_refs(db_meta.sqlitedb, Set(refs), url, headers)"
   ]
  },
  {
   "cell_type": "markdown",
   "metadata": {},
   "source": [
    "# References\n",
    "\n",
    "1. https://github.com/rafaelmartinelli/Knapsacks.jl"
   ]
  }
 ],
 "metadata": {
  "kernelspec": {
   "display_name": "Julia 1.10.2",
   "language": "julia",
   "name": "julia-1.10"
  },
  "language_info": {
   "file_extension": ".jl",
   "mimetype": "application/julia",
   "name": "julia",
   "version": "1.10.2"
  }
 },
 "nbformat": 4,
 "nbformat_minor": 2
}
