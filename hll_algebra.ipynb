{
 "cells": [
  {
   "cell_type": "code",
   "execution_count": 1,
   "metadata": {},
   "outputs": [
    {
     "name": "stderr",
     "output_type": "stream",
     "text": [
      "WARNING: replacing module Util.\n"
     ]
    },
    {
     "data": {
      "text/plain": [
       "2-element Vector{Pair{String, String}}:\n",
       "  \"Content-Type\" => \"application/json\"\n",
       " \"Authorization\" => \"Basic bmVvNGo6bmVvNGo=\""
      ]
     },
     "execution_count": 1,
     "metadata": {},
     "output_type": "execute_result"
    }
   ],
   "source": [
    "include(\"src/lisa_meta.jl\")\n",
    "include(\"src/lisa_util.jl\")\n",
    "\n",
    "using ..LisaNeo4j\n",
    "using ..LisaMeta\n",
    "using ..Store\n",
    "using ..Graph\n",
    "using ..Util\n",
    "\n",
    "using CSV\n",
    "using SQLite\n",
    "using DBInterface\n",
    "using MurmurHash3\n",
    "using TextAnalysis\n",
    "using JSON3\n",
    "using PooledArrays\n",
    "using UUIDs\n",
    "using HDF5\n",
    "using EasyConfig\n",
    "using SHA\n",
    "using Base64\n",
    "using DataFrames\n",
    "\n",
    "hll = SetCore.HllSet{10}()\n",
    "\n",
    "db_source = SQLite.DB(\"lisa_enron.db\")\n",
    "# Create an empty HDF5 file. Run it only once, because it will overwrite the file\n",
    "h5open(\"hll_algebra.hdf5\", \"cw\") do f\n",
    "    # The file is now open, but it's empty\n",
    "end\n",
    "\n",
    "# Connect to the SQLite meta database\n",
    "db_meta = Graph.DB(\"hll_algebra.db\")\n",
    "\n",
    "# Define the URL of your Neo4j instance\n",
    "url = \"http://localhost:7474/db/neo4j/tx/commit\"\n",
    "# Define the headers\n",
    "headers = [\"Content-Type\" => \"application/json\", \"Authorization\" => \"Basic \" * base64encode(\"neo4j:neo4j\")]"
   ]
  },
  {
   "cell_type": "code",
   "execution_count": 2,
   "metadata": {},
   "outputs": [
    {
     "data": {
      "text/plain": [
       "\"\\\"Message-ID\\\" AS message_id, Date, \\\"From\\\", \\\"To\\\", Subject, content, user, labeled\""
      ]
     },
     "execution_count": 2,
     "metadata": {},
     "output_type": "execute_result"
    }
   ],
   "source": [
    "# Query the first 10 rows of the table\n",
    "fields = \"\\\"Message-ID\\\" AS message_id, Date, \\\"From\\\", \\\"To\\\", Subject, content, user, labeled\""
   ]
  },
  {
   "cell_type": "code",
   "execution_count": null,
   "metadata": {},
   "outputs": [],
   "source": [
    "# Create list of dates\n",
    "df_dates = DBInterface.execute(db_source, \"SELECT DISTINCT strftime('%Y-%m-%d', Date) AS Date FROM emails ORDER BY Date\") |> DataFrame\n",
    "# Get the first 10 rows of the DataFrame\n",
    "df_dates_10 = first(df_dates, 210)\n",
    "# Print the first 10 rows\n",
    "# print(df_dates_10)"
   ]
  },
  {
   "cell_type": "code",
   "execution_count": null,
   "metadata": {},
   "outputs": [],
   "source": [
    "\"\"\"\n",
    "│ 191 │ 1999-04-01 │\n",
    "│ 192 │ 1999-04-02 │\n",
    "│ 193 │ 1999-04-03 │\n",
    "│ 194 │ 1999-04-04 │\n",
    "│ 195 │ 1999-04-05 │\n",
    "│ 196 │ 1999-04-06 │\n",
    "│ 197 │ 1999-04-07 │\n",
    "│ 198 │ 1999-04-08 │\n",
    "│ 199 │ 1999-04-09 │\n",
    "│ 200 │ 1999-04-12 │\n",
    "│ 201 │ 1999-04-13 │\n",
    "│ 202 │ 1999-04-14 │\n",
    "│ 203 │ 1999-04-15 │\n",
    "│ 204 │ 1999-04-19 │\n",
    "│ 205 │ 1999-04-20 │\n",
    "│ 206 │ 1999-04-21 │\n",
    "│ 207 │ 1999-04-22 │\n",
    "│ 208 │ 1999-04-23 │\n",
    "│ 209 │ 1999-04-26 │\n",
    "│ 210 │ 1999-04-27 │\n",
    "\"\"\"\n",
    "date = \"1999-04-13\"\n",
    "df_day = LisaMeta.get_emails_by_date(db_source, date, fields, 100)"
   ]
  },
  {
   "cell_type": "code",
   "execution_count": 5,
   "metadata": {},
   "outputs": [
    {
     "data": {
      "text/plain": [
       "HllSet{10}()"
      ]
     },
     "execution_count": 5,
     "metadata": {},
     "output_type": "execute_result"
    }
   ],
   "source": [
    "# Ingest the data into the store\n",
    "columns_daily = LisaMeta.ingest_df_by_column(db_meta, df_day, \"daily\")\n",
    "row_daily = LisaMeta.ingest_df_by_row(db_meta, df_day, \"daily\"; p=10)"
   ]
  },
  {
   "cell_type": "code",
   "execution_count": null,
   "metadata": {},
   "outputs": [],
   "source": [
    "# Commit the data to the store\n",
    "message = string(\"Ingested data for \", date)\n",
    "Store.commit(db_meta, \"hll_algebra.hdf5\", \"Alex Mylnikov\", \"alexmy@lisa-park.com\", message, Config())"
   ]
  },
  {
   "cell_type": "code",
   "execution_count": 7,
   "metadata": {},
   "outputs": [
    {
     "name": "stdout",
     "output_type": "stream",
     "text": [
      "11b4bd95-40f9-46b2-876b-26e1dcc1a160\n",
      "    nodes\n",
      "        6927c490b1aac716b820616b2de8b7191ee9d68d\n",
      "            [\"column\"]\n",
      "        8342e461fb2cb55b121fca66cc8ca745ee2f72ae\n",
      "            [\"column\"]\n",
      "        aaf03de4d2597380806e6726f4dc17ce4b32ae74\n",
      "            [\"column\"]\n",
      "        bc018f6051278ee0732303d5197154dc61a6f167\n",
      "            [\"column\"]\n",
      "        d0d201c405adf0df65759c16de98f8ef4795d737\n",
      "            [\"column\"]\n",
      "        db3170975744a4abd9d401e15876f414f7988bba\n",
      "            [\"column\"]\n",
      "        e2e5a01ca8ea3e4800700f5d4a784ee75e6d1ad0\n",
      "            [\"column\"]\n",
      "        e65cbaf2e457609a0d9d3bb58bcd62a1cd0e73be\n",
      "            [\"column\"]\n",
      "405c4dd6-0353-4cc4-a47c-eef4e69c50e2\n",
      "    nodes\n",
      "        6927c490b1aac716b820616b2de8b7191ee9d68d\n",
      "            [\"column\"]\n",
      "        8342e461fb2cb55b121fca66cc8ca745ee2f72ae\n",
      "            [\"column\"]\n",
      "        aaf03de4d2597380806e6726f4dc17ce4b32ae74\n",
      "            [\"column\"]\n",
      "        bc018f6051278ee0732303d5197154dc61a6f167\n",
      "            [\"column\"]\n",
      "        d0d201c405adf0df65759c16de98f8ef4795d737\n",
      "            [\"column\"]\n",
      "        db3170975744a4abd9d401e15876f414f7988bba\n",
      "            [\"column\"]\n",
      "        e2e5a01ca8ea3e4800700f5d4a784ee75e6d1ad0\n",
      "            [\"column\"]\n",
      "        e65cbaf2e457609a0d9d3bb58bcd62a1cd0e73be\n",
      "            [\"column\"]\n",
      "6bbd45a0-c4fa-4587-a77b-fbf6b2114ae3\n",
      "    nodes\n",
      "        6927c490b1aac716b820616b2de8b7191ee9d68d\n",
      "            [\"column\"]\n",
      "        8342e461fb2cb55b121fca66cc8ca745ee2f72ae\n",
      "            [\"column\"]\n",
      "        aaf03de4d2597380806e6726f4dc17ce4b32ae74\n",
      "            [\"column\"]\n",
      "        bc018f6051278ee0732303d5197154dc61a6f167\n",
      "            [\"column\"]\n",
      "        d0d201c405adf0df65759c16de98f8ef4795d737\n",
      "            [\"column\"]\n",
      "        db3170975744a4abd9d401e15876f414f7988bba\n",
      "            [\"column\"]\n",
      "        e2e5a01ca8ea3e4800700f5d4a784ee75e6d1ad0\n",
      "            [\"column\"]\n",
      "        e65cbaf2e457609a0d9d3bb58bcd62a1cd0e73be\n",
      "            [\"column\"]\n",
      "74b22f8c-77a9-4f76-814f-18bac0f99341\n",
      "    nodes\n",
      "        6927c490b1aac716b820616b2de8b7191ee9d68d\n",
      "            [\"column\"]\n",
      "        8342e461fb2cb55b121fca66cc8ca745ee2f72ae\n",
      "            [\"column\"]\n",
      "        aaf03de4d2597380806e6726f4dc17ce4b32ae74\n",
      "            [\"column\"]\n",
      "        bc018f6051278ee0732303d5197154dc61a6f167\n",
      "            [\"column\"]\n",
      "        d0d201c405adf0df65759c16de98f8ef4795d737\n",
      "            [\"column\"]\n",
      "        db3170975744a4abd9d401e15876f414f7988bba\n",
      "            [\"column\"]\n",
      "        e2e5a01ca8ea3e4800700f5d4a784ee75e6d1ad0\n",
      "            [\"column\"]\n",
      "        e65cbaf2e457609a0d9d3bb58bcd62a1cd0e73be\n",
      "            [\"column\"]\n"
     ]
    }
   ],
   "source": [
    "HDF5.h5open(\"hll_algebra.hdf5\", \"r\") do file\n",
    "    LisaMeta.print_hdf5_tree(file)\n",
    "end"
   ]
  },
  {
   "cell_type": "code",
   "execution_count": null,
   "metadata": {},
   "outputs": [],
   "source": [
    "query = raw\"SELECT * FROM nodes WHERE json_extract(props, '$.From') = 'jeffery.fawcett@enron.com'\"\n",
    "\n",
    "refs_col = LisaMeta.select_sha1_by_label(db_meta, \"column\", \"nodes\", -1)\n",
    "println(refs_col)\n",
    "refs_rows = LisaMeta.select_sha1_by_query(db_meta, query, -1)\n",
    "# println(refs_rows)\n",
    "\n",
    "refs = union(refs_col, refs_rows)\n",
    "\n",
    "nodes = Vector()\n",
    "LisaNeo4j.select_nodes(db_meta.sqlitedb, refs, nodes)\n",
    "LisaNeo4j.add_neo4j_nodes_by_refs(db_meta.sqlitedb, Set(refs), url, headers)"
   ]
  },
  {
   "cell_type": "code",
   "execution_count": null,
   "metadata": {},
   "outputs": [],
   "source": [
    "row_nodes = Vector()\n",
    "LisaNeo4j.select_nodes(db_meta.sqlitedb, refs_rows, row_nodes)\n",
    "\n",
    "if length(row_nodes) > 0\n",
    "    refs = Graph.node_union(db_meta, row_nodes)\n",
    "    # println(\"Union node added: \", refs)\n",
    "\n",
    "    LisaNeo4j.add_neo4j_nodes_by_refs(db_meta.sqlitedb, Set(refs), url, headers)\n",
    "    LisaNeo4j.add_neo4j_edges_by_refs(db_meta.sqlitedb, Set(refs), url, headers)\n",
    "end"
   ]
  },
  {
   "cell_type": "code",
   "execution_count": 10,
   "metadata": {},
   "outputs": [],
   "source": [
    "query = raw\"SELECT * FROM nodes\"\n",
    "df_nodes = DBInterface.execute(db_meta.sqlitedb, query) |> DataFrame\n",
    "\n",
    "LisaNeo4j.add_neo4j_nodes(df_nodes, url, headers)"
   ]
  },
  {
   "cell_type": "code",
   "execution_count": 11,
   "metadata": {},
   "outputs": [],
   "source": [
    "query = raw\"SELECT * FROM edges\"\n",
    "df_edges = DBInterface.execute(db_meta.sqlitedb, query) |> DataFrame\n",
    "\n",
    "LisaNeo4j.add_neo4j_edges(df_edges, url, headers)"
   ]
  },
  {
   "cell_type": "markdown",
   "metadata": {},
   "source": [
    "# References\n",
    "\n",
    "1. https://github.com/rafaelmartinelli/Knapsacks.jl"
   ]
  }
 ],
 "metadata": {
  "kernelspec": {
   "display_name": "Julia 1.10.2",
   "language": "julia",
   "name": "julia-1.10"
  },
  "language_info": {
   "file_extension": ".jl",
   "mimetype": "application/julia",
   "name": "julia",
   "version": "1.10.2"
  }
 },
 "nbformat": 4,
 "nbformat_minor": 2
}
