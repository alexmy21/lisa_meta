{
 "cells": [
  {
   "cell_type": "code",
   "execution_count": 1,
   "metadata": {},
   "outputs": [
    {
     "data": {
      "text/plain": [
       "HllSet{10}()"
      ]
     },
     "metadata": {},
     "output_type": "display_data"
    }
   ],
   "source": [
    "# using Pkg\n",
    "# Pkg.activate(\".\")\n",
    "# Pkg.instantiate()\n",
    "# Pkg.add(\"SQLite\")\n",
    "# Pkg.add(\"DBInterface\")\n",
    "# Pkg.add(\"JSON3\")\n",
    "# Pkg.add(\"EasyConfig\")\n",
    "# Pkg.add(\"MurmurHash3\")\n",
    "# Pkg.add(\"TextAnalysis\")\n",
    "# Pkg.add(\"UUIDs\")\n",
    "# Pkg.add(\"PooledArrays\")\n",
    "include(\"src/lisa_store.jl\")\n",
    "\n",
    "using SQLite\n",
    "using DBInterface\n",
    "using MurmurHash3\n",
    "using TextAnalysis\n",
    "using JSON3\n",
    "using PooledArrays\n",
    "\n",
    "db = Graph.DB(\"lisa.db\")\n",
    "hll = SetCore.HllSet{10}()"
   ]
  },
  {
   "cell_type": "code",
   "execution_count": 2,
   "metadata": {},
   "outputs": [],
   "source": [
    "p = 10\n",
    "hll = SetCore.HllSet{p}()\n",
    "Store.book_file(db, \"/home/alexmy/JULIA/DEMO/raw/eu/\", hll)"
   ]
  },
  {
   "cell_type": "code",
   "execution_count": 3,
   "metadata": {},
   "outputs": [
    {
     "name": "stdout",
     "output_type": "stream",
     "text": [
      "Processed column: 19\n"
     ]
    },
    {
     "name": "stdout",
     "output_type": "stream",
     "text": [
      "Processed column: 14\n"
     ]
    },
    {
     "name": "stdout",
     "output_type": "stream",
     "text": [
      "Processed column: 9\n"
     ]
    },
    {
     "name": "stdout",
     "output_type": "stream",
     "text": [
      "Processed column: 9\n"
     ]
    },
    {
     "name": "stdout",
     "output_type": "stream",
     "text": [
      "Processed column: 9\n"
     ]
    },
    {
     "name": "stdout",
     "output_type": "stream",
     "text": [
      "Processed column: 4\n"
     ]
    },
    {
     "name": "stdout",
     "output_type": "stream",
     "text": [
      "Processed column: 1\n"
     ]
    },
    {
     "name": "stdout",
     "output_type": "stream",
     "text": [
      "Processed column: 1\n"
     ]
    },
    {
     "name": "stdout",
     "output_type": "stream",
     "text": [
      "Processed column: 1\n"
     ]
    },
    {
     "name": "stdout",
     "output_type": "stream",
     "text": [
      "ingest_csv ERROR on State, Error msg: MethodError(WordTokenizers.tokenize, (5,), 0x00000000000083eb)\n"
     ]
    },
    {
     "name": "stdout",
     "output_type": "stream",
     "text": [
      "ingest_csv ERROR on STATECOU, Error msg: MethodError(WordTokenizers.tokenize, (47165,), 0x00000000000083eb)\n"
     ]
    },
    {
     "name": "stdout",
     "output_type": "stream",
     "text": [
      "ingest_csv ERROR on PST045213, Error msg: MethodError(WordTokenizers.tokenize, (10548,), 0x00000000000083eb)\n"
     ]
    },
    {
     "name": "stdout",
     "output_type": "stream",
     "text": [
      "ingest_csv ERROR on PST040210, Error msg: MethodError(WordTokenizers.tokenize, (26076,), 0x00000000000083eb)\n"
     ]
    },
    {
     "name": "stdout",
     "output_type": "stream",
     "text": [
      "ingest_csv ERROR on PST120213, Error msg: MethodError(WordTokenizers.tokenize, (17.7,), 0x00000000000083eb)\n"
     ]
    },
    {
     "name": "stdout",
     "output_type": "stream",
     "text": [
      "ingest_csv ERROR on POP010210, Error msg: MethodError(WordTokenizers.tokenize, (26076,), 0x00000000000083eb)\n",
      "ingest_csv ERROR on AGE135213, Error msg: MethodError(WordTokenizers.tokenize, (5.0,), 0x00000000000083eb)\n"
     ]
    },
    {
     "name": "stdout",
     "output_type": "stream",
     "text": [
      "ingest_csv ERROR on AGE295213, Error msg: MethodError(WordTokenizers.tokenize, (19.7,), 0x00000000000083eb)\n"
     ]
    },
    {
     "name": "stdout",
     "output_type": "stream",
     "text": [
      "ingest_csv ERROR on AGE775213, Error msg: MethodError(WordTokenizers.tokenize, (19.7,), 0x00000000000083eb)\n",
      "ingest_csv ERROR on SEX255213, Error msg: MethodError(WordTokenizers.tokenize, (48.5,), 0x00000000000083eb)\n"
     ]
    },
    {
     "name": "stdout",
     "output_type": "stream",
     "text": [
      "ingest_csv ERROR on RHI125213, Error msg: MethodError(WordTokenizers.tokenize, (61.8,), 0x00000000000083eb)\n",
      "ingest_csv ERROR on RHI225213, Error msg: MethodError(WordTokenizers.tokenize, (1.2,), 0x00000000000083eb)\n"
     ]
    },
    {
     "name": "stdout",
     "output_type": "stream",
     "text": [
      "ingest_csv ERROR on RHI325213, Error msg: MethodError(WordTokenizers.tokenize, (1.2,), 0x00000000000083eb)\n"
     ]
    },
    {
     "name": "stdout",
     "output_type": "stream",
     "text": [
      "ingest_csv ERROR on RHI425213, Error msg: MethodError(WordTokenizers.tokenize, (1.7,), 0x00000000000083eb)\n"
     ]
    },
    {
     "name": "stdout",
     "output_type": "stream",
     "text": [
      "ingest_csv ERROR on RHI525213, Error msg: MethodError(WordTokenizers.tokenize, (1.2,), 0x00000000000083eb)\n"
     ]
    },
    {
     "name": "stdout",
     "output_type": "stream",
     "text": [
      "ingest_csv ERROR on RHI625213, Error msg: MethodError(WordTokenizers.tokenize, (1.7,), 0x00000000000083eb)\n"
     ]
    },
    {
     "name": "stdout",
     "output_type": "stream",
     "text": [
      "ingest_csv ERROR on RHI725213, Error msg: MethodError(WordTokenizers.tokenize, (1.2,), 0x00000000000083eb)\n",
      "ingest_csv ERROR on RHI825213, Error msg: MethodError(WordTokenizers.tokenize, (61.8,), 0x00000000000083eb)\n"
     ]
    },
    {
     "name": "stdout",
     "output_type": "stream",
     "text": [
      "ingest_csv ERROR on POP715212, Error msg: MethodError(WordTokenizers.tokenize, (89.1,), 0x00000000000083eb)\n"
     ]
    },
    {
     "name": "stdout",
     "output_type": "stream",
     "text": [
      "ingest_csv ERROR on POP645212, Error msg: MethodError(WordTokenizers.tokenize, (17.7,), 0x00000000000083eb)\n",
      "ingest_csv ERROR on POP815212, Error msg: MethodError(WordTokenizers.tokenize, (1.2,), 0x00000000000083eb)\n"
     ]
    },
    {
     "name": "stdout",
     "output_type": "stream",
     "text": [
      "ingest_csv ERROR on EDU635212, Error msg: MethodError(WordTokenizers.tokenize, (93.8,), 0x00000000000083eb)\n",
      "ingest_csv ERROR on EDU685212, Error msg: MethodError(WordTokenizers.tokenize, (35.0,), 0x00000000000083eb)\n"
     ]
    },
    {
     "name": "stdout",
     "output_type": "stream",
     "text": [
      "ingest_csv ERROR on VET605212, Error msg: MethodError(WordTokenizers.tokenize, (55594,), 0x00000000000083eb)\n"
     ]
    },
    {
     "name": "stdout",
     "output_type": "stream",
     "text": [
      "ingest_csv ERROR on LFE305212, Error msg: MethodError(WordTokenizers.tokenize, (18.3,), 0x00000000000083eb)\n"
     ]
    },
    {
     "name": "stdout",
     "output_type": "stream",
     "text": [
      "ingest_csv ERROR on HSG010213, Error msg: MethodError(WordTokenizers.tokenize, (4986,), 0x00000000000083eb)\n",
      "ingest_csv ERROR on HSG445212, Error msg: MethodError(WordTokenizers.tokenize, (61.8,), 0x00000000000083eb)\n"
     ]
    },
    {
     "name": "stdout",
     "output_type": "stream",
     "text": [
      "ingest_csv ERROR on HSG096212, Error msg: MethodError(WordTokenizers.tokenize, (1.2,), 0x00000000000083eb)\n"
     ]
    },
    {
     "name": "stdout",
     "output_type": "stream",
     "text": [
      "ingest_csv ERROR on HSG495212, Error msg: MethodError(WordTokenizers.tokenize, (223900,), 0x00000000000083eb)\n"
     ]
    },
    {
     "name": "stdout",
     "output_type": "stream",
     "text": [
      "ingest_csv ERROR on HSD410212, Error msg: MethodError(WordTokenizers.tokenize, (51490,), 0x00000000000083eb)\n",
      "ingest_csv ERROR on HSD310212, Error msg: MethodError(WordTokenizers.tokenize, (2.47,), 0x00000000000083eb)\n"
     ]
    },
    {
     "name": "stdout",
     "output_type": "stream",
     "text": [
      "ingest_csv ERROR on INC910212, Error msg: MethodError(WordTokenizers.tokenize, (23878,), 0x00000000000083eb)\n"
     ]
    },
    {
     "name": "stdout",
     "output_type": "stream",
     "text": [
      "ingest_csv ERROR on INC110212, Error msg: MethodError(WordTokenizers.tokenize, (59931,), 0x00000000000083eb)\n",
      "ingest_csv ERROR on PVY020212, Error msg: MethodError(WordTokenizers.tokenize, (20.7,), 0x00000000000083eb)\n"
     ]
    },
    {
     "name": "stdout",
     "output_type": "stream",
     "text": [
      "ingest_csv ERROR on BZA010212, Error msg: MethodError(WordTokenizers.tokenize, (7329,), 0x00000000000083eb)\n"
     ]
    },
    {
     "name": "stdout",
     "output_type": "stream",
     "text": [
      "ingest_csv ERROR on BZA110212, Error msg: MethodError(WordTokenizers.tokenize, (30438,), 0x00000000000083eb)\n"
     ]
    },
    {
     "name": "stdout",
     "output_type": "stream",
     "text": [
      "ingest_csv ERROR on BZA115212, Error msg: MethodError(WordTokenizers.tokenize, (1.2,), 0x00000000000083eb)\n"
     ]
    },
    {
     "name": "stdout",
     "output_type": "stream",
     "text": [
      "ingest_csv ERROR on NES010212, Error msg: MethodError(WordTokenizers.tokenize, (4986,), 0x00000000000083eb)\n",
      "ingest_csv ERROR on SBO001207, Error msg: MethodError(WordTokenizers.tokenize, (1144,), 0x00000000000083eb)\n"
     ]
    },
    {
     "name": "stdout",
     "output_type": "stream",
     "text": [
      "ingest_csv ERROR on SBO315207, Error msg: MethodError(WordTokenizers.tokenize, (17.7,), 0x00000000000083eb)\n"
     ]
    },
    {
     "name": "stdout",
     "output_type": "stream",
     "text": [
      "ingest_csv ERROR on SBO115207, Error msg: MethodError(WordTokenizers.tokenize, (1.7,), 0x00000000000083eb)\n",
      "ingest_csv ERROR on SBO215207, Error msg: MethodError(WordTokenizers.tokenize, (1.7,), 0x00000000000083eb)\n"
     ]
    },
    {
     "name": "stdout",
     "output_type": "stream",
     "text": [
      "ingest_csv ERROR on SBO515207, Error msg: MethodError(WordTokenizers.tokenize, (0.0,), 0x00000000000083eb)\n"
     ]
    },
    {
     "name": "stdout",
     "output_type": "stream",
     "text": [
      "ingest_csv ERROR on SBO415207, Error msg: MethodError(WordTokenizers.tokenize, (1.2,), 0x00000000000083eb)\n",
      "ingest_csv ERROR on SBO015207, Error msg: MethodError(WordTokenizers.tokenize, (36.7,), 0x00000000000083eb)\n"
     ]
    },
    {
     "name": "stdout",
     "output_type": "stream",
     "text": [
      "ingest_csv ERROR on MAN450207, Error msg: MethodError(WordTokenizers.tokenize, (288679,), 0x00000000000083eb)\n"
     ]
    },
    {
     "name": "stdout",
     "output_type": "stream",
     "text": [
      "ingest_csv ERROR on WTN220207, Error msg: MethodError(WordTokenizers.tokenize, (39225,), 0x00000000000083eb)\n",
      "ingest_csv ERROR on RTN130207, Error msg: MethodError(WordTokenizers.tokenize, (471758,), 0x00000000000083eb)\n"
     ]
    },
    {
     "name": "stdout",
     "output_type": "stream",
     "text": [
      "ingest_csv ERROR on RTN131207, Error msg: MethodError(WordTokenizers.tokenize, (11012,), 0x00000000000083eb)\n"
     ]
    },
    {
     "name": "stdout",
     "output_type": "stream",
     "text": [
      "ingest_csv ERROR on AFN120207, Error msg: MethodError(WordTokenizers.tokenize, (4700,), 0x00000000000083eb)\n",
      "ingest_csv ERROR on BPS030212, Error msg: MethodError(WordTokenizers.tokenize, (1546,), 0x00000000000083eb)\n"
     ]
    },
    {
     "name": "stdout",
     "output_type": "stream",
     "text": [
      "ingest_csv ERROR on LND110210, Error msg: MethodError(WordTokenizers.tokenize, (422.91,), 0x00000000000083eb)\n",
      "ingest_csv ERROR on POP060210, Error msg: MethodError(WordTokenizers.tokenize, (36.7,), 0x00000000000083eb)\n"
     ]
    },
    {
     "name": "stdout",
     "output_type": "stream",
     "text": [
      "Processed column: 2\n"
     ]
    },
    {
     "name": "stdout",
     "output_type": "stream",
     "text": [
      "Processed column: 10\n"
     ]
    },
    {
     "name": "stdout",
     "output_type": "stream",
     "text": [
      "Processed column: 14\n"
     ]
    },
    {
     "name": "stdout",
     "output_type": "stream",
     "text": [
      "Processed column: 13\n"
     ]
    },
    {
     "name": "stdout",
     "output_type": "stream",
     "text": [
      "Processed column: 2\n"
     ]
    },
    {
     "name": "stdout",
     "output_type": "stream",
     "text": [
      "Processed column: 1\n"
     ]
    },
    {
     "name": "stdout",
     "output_type": "stream",
     "text": [
      "Processed column: 3\n"
     ]
    },
    {
     "name": "stdout",
     "output_type": "stream",
     "text": [
      "Processed column: 2\n"
     ]
    },
    {
     "name": "stdout",
     "output_type": "stream",
     "text": [
      "Processed column: 5\n"
     ]
    },
    {
     "name": "stdout",
     "output_type": "stream",
     "text": [
      "Processed column: 2\n"
     ]
    },
    {
     "name": "stdout",
     "output_type": "stream",
     "text": [
      "Processed column: 2\n"
     ]
    },
    {
     "name": "stdout",
     "output_type": "stream",
     "text": [
      "Processed column: 5\n"
     ]
    },
    {
     "name": "stdout",
     "output_type": "stream",
     "text": [
      "Processed column: 8\n"
     ]
    },
    {
     "name": "stdout",
     "output_type": "stream",
     "text": [
      "Processed column: 15\n"
     ]
    }
   ],
   "source": [
    "using UUIDs\n",
    "# parent::String, type::String,processor_id::String, status::String, lock_uuid::String\n",
    "uuid = string(uuid4())\n",
    "df = Graph.set_lock!(db, \"/home/alexmy/JULIA/DEMO/raw/eu\", \"csv\", \"book_file\", \"ingest_csv\", \"waiting\", \"waiting\", uuid; result=true)\n",
    "\n",
    "for row in eachrow(df)\n",
    "    assign = Graph.Assignment(row.id,row.parent, row.item, row.a_type, row.processor_id, row.status, row.lock_uuid)     \n",
    "    col_uuid = string(uuid4())\n",
    "    # db::Graph.DB, file::Graph.Assignment, lock_uuid::String; p::Int=10    \n",
    "    Store.ingest_csv(db, assign, col_uuid; limit=10000, offset=10)\n",
    "end"
   ]
  },
  {
   "cell_type": "code",
   "execution_count": 4,
   "metadata": {},
   "outputs": [],
   "source": [
    "using EasyConfig\n",
    "Store.commit(db, \"lisa_arch.hdf5\", \"Alex Mylnikov\", \"alexmy@lisa-park.com\", \"commit 2\", Config())"
   ]
  },
  {
   "cell_type": "code",
   "execution_count": 5,
   "metadata": {},
   "outputs": [
    {
     "data": {
      "text/plain": [
       "🗂️ HDF5.File: (read-only) lisa_arch.hdf5\n",
       "├─ 📂 1b5af3f4-e7bb-4cf8-b3b9-6114155d9cf3\n",
       "│  ├─ 📂 edges\n",
       "│  │  ├─ 📂 1c4c950dda437c3d55ee6ef6a43548484facde02\n",
       "│  │  │  └─ 📂 has_column\n",
       "│  │  │     ├─ 🔢 668d871e8b13df7e378375c676168703761fedd3\n",
       "│  │  │     │  └─ (5 children)\n",
       "│  │  │     └─ 🔢 88568fd93f5b196bc5495ff637fcb4ef1dd52a81\n",
       "│  │  │        └─ (5 children)\n",
       "│  │  ├─ 📂 3da13fcace26bf7993425973090823e88c394be2\n",
       "│  │  │  └─ 📂 has_column\n",
       "│  │  │     ├─ 🔢 02b4e972ea698768322c30eff0fab5a64afda302\n",
       "│  │  │     │  └─ (5 children)\n",
       "│  │  │     ├─ 🔢 7bb6a94745236688ae32e5f7013745148f9ffb98\n",
       "│  │  │     │  └─ (5 children)\n",
       "│  │  │     └─ 🔢 c3157aee164669eba31fc4d4816fe43a34f34372\n",
       "│  │  │        └─ (5 children)\n",
       "│  │  ├─ 📂 4b27d9f46b96aac59fa092b7900c7088bfb29daf\n",
       "│  │  │  └─ 📂 has_column\n",
       "│  │  │     ├─ 🔢 5e7427de7d1f2566dd382106f209c48a67ed00f2\n",
       "│  │  │     │  └─ (5 children)\n",
       "│  │  │     └─ 🔢 e6f25ad5d838dc49f8bddac019f8f6c7bf1f00c7\n",
       "│  │  │        └─ (5 children)\n",
       "│  │  ├─ 📂 71cc3f0e1ab964a682f29967d085c0aa45b64acd\n",
       "│  │  │  └─ 📂 has_column\n",
       "│  │  │     ├─ 🔢 1ba41353130e36a257fb962eb719d58c9c876814\n",
       "│  │  │     │  └─ (5 children)\n",
       "│  │  │     ├─ 🔢 5b899453043e82bd496ad1d81fb8f719ac79207e\n",
       "│  │  │     │  └─ (5 children)\n",
       "│  │  │     └─ 🔢 f7ce156d7df7dbd486cd888c0bd49f4b8bec106d\n",
       "│  │  │        └─ (5 children)\n",
       "│  │  ├─ 📂 a2198d4d216c50945cc7971b0e15349e2e0cdf97\n",
       "│  │  │  └─ 📂 has_column\n",
       "│  │  │     ├─ 🔢 26ec3695fabb1aca90467c4c04c3869daafb6d34\n",
       "│  │  │     │  └─ (5 children)\n",
       "│  │  │     └─ 🔢 c6f372e6a8d1146208e03c527aef0af997c678f7\n",
       "│  │  │        └─ (5 children)\n",
       "│  │  ├─ 📂 e72c078757c6e03c12fc996f668ade892b5120c1\n",
       "│  │  │  └─ 📂 has_column\n",
       "│  │  │     ├─ 🔢 34f1d6e161d613918860af5788effbf9c4354d8d\n",
       "│  │  │     │  └─ (5 children)\n",
       "│  │  │     ├─ 🔢 431428e61541895457ab3d8d2e78ffbcd26248c0\n",
       "│  │  │     │  └─ (5 children)\n",
       "│  │  │     └─ 🔢 71d778b5485103e21f8bc9a4cca0dd2ce1e62895\n",
       "│  │  │        └─ (5 children)\n",
       "│  │  ├─ 📂 ea6d633c8f95e16f2a2fd066f59ffef3af797206\n",
       "│  │  │  └─ 📂 has_column\n",
       "│  │  │     └─ 🔢 862ba5281d601e98b314daa3c9d15da1fb843e88\n",
       "│  │  │        └─ (5 children)\n",
       "│  │  └─ 📂 fd21e67fbcdd68d0e82ea6994f9299a2023f3c78\n",
       "│  │     └─ 📂 has_column\n",
       "│  │        └─ 🔢 b6bf6c59d0a515e57f0f8fade5a1ba1a5e611b7e\n",
       "│  │           └─ (5 children)\n",
       "│  └─ 📂 nodes\n",
       "│     ├─ 📂 02b4e972ea698768322c30eff0fab5a64afda302\n",
       "│     │  └─ 🔢 _csv_column_\n",
       "│     │     ├─ 🏷️ column_name\n",
       "│     │     ├─ 🏷️ column_type\n",
       "│     │     ├─ 🏷️ commit_id\n",
       "│     │     └─ 🏷️ file_sha1\n",
       "│     ├─ 📂 0c3f59ddd3d4e9a33773de121a62f456ac3b5388\n",
       "│     │  └─ 🔢 _csv_file_\n",
       "│     │     ├─ 🏷️ commit_id\n",
       "│     │     ├─ 🏷️ file_name\n",
       "│     │     └─ 🏷️ file_type\n",
       "│     ├─ 📂 18099edf630d1eb61e3b279278acf2f9e06f36bb\n",
       "│     │  └─ 🔢 _csv_file_\n",
       "│     │     ├─ 🏷️ commit_id\n",
       "│     │     ├─ 🏷️ file_name\n",
       "│     │     └─ 🏷️ file_type\n",
       "│     ├─ 📂 1ba41353130e36a257fb962eb719d58c9c876814\n",
       "│     │  └─ 🔢 _csv_column_\n",
       "│     │     ├─ 🏷️ column_name\n",
       "│     │     ├─ 🏷️ column_type\n",
       "│     │     ├─ 🏷️ commit_id\n",
       "│     │     └─ 🏷️ file_sha1\n",
       "│     ├─ 📂 1c4c950dda437c3d55ee6ef6a43548484facde02\n",
       "│     │  └─ 🔢 _csv_file_\n",
       "│     │     ├─ 🏷️ commit_id\n",
       "│     │     ├─ 🏷️ file_name\n",
       "│     │     └─ 🏷️ file_type\n",
       "│     ├─ 📂 26ec3695fabb1aca90467c4c04c3869daafb6d34\n",
       "│     │  └─ 🔢 _csv_column_\n",
       "│     │     ├─ 🏷️ column_name\n",
       "│     │     ├─ 🏷️ column_type\n",
       "│     │     ├─ 🏷️ commit_id\n",
       "│     │     └─ 🏷️ file_sha1\n",
       "│     ├─ 📂 2942161ecf436f17202744716925a14562538da4\n",
       "│     │  └─ 🔢 _csv_file_\n",
       "│     │     ├─ 🏷️ commit_id\n",
       "│     │     ├─ 🏷️ file_name\n",
       "│     │     └─ 🏷️ file_type\n",
       "│     ├─ 📂 34f1d6e161d613918860af5788effbf9c4354d8d\n",
       "│     │  └─ 🔢 _csv_column_\n",
       "│     │     ├─ 🏷️ column_name\n",
       "│     │     ├─ 🏷️ column_type\n",
       "│     │     ├─ 🏷️ commit_id\n",
       "│     │     └─ 🏷️ file_sha1\n",
       "│     ├─ 📂 3da13fcace26bf7993425973090823e88c394be2\n",
       "│     │  └─ 🔢 _csv_file_\n",
       "│     │     ├─ 🏷️ commit_id\n",
       "│     │     ├─ 🏷️ file_name\n",
       "│     │     └─ 🏷️ file_type\n",
       "│     ├─ 📂 431428e61541895457ab3d8d2e78ffbcd26248c0\n",
       "│     │  └─ 🔢 _csv_column_\n",
       "│     │     ├─ 🏷️ column_name\n",
       "│     │     ├─ 🏷️ column_type\n",
       "│     │     ├─ 🏷️ commit_id\n",
       "│     │     └─ 🏷️ file_sha1\n",
       "│     ├─ 📂 4b27d9f46b96aac59fa092b7900c7088bfb29daf\n",
       "│     │  └─ 🔢 _csv_file_\n",
       "│     │     ├─ 🏷️ commit_id\n",
       "│     │     ├─ 🏷️ file_name\n",
       "│     │     └─ 🏷️ file_type\n",
       "│     ├─ 📂 5b899453043e82bd496ad1d81fb8f719ac79207e\n",
       "│     │  └─ 🔢 _csv_column_\n",
       "│     │     ├─ 🏷️ column_name\n",
       "│     │     ├─ 🏷️ column_type\n",
       "│     │     ├─ 🏷️ commit_id\n",
       "│     │     └─ 🏷️ file_sha1\n",
       "│     ├─ 📂 5e7427de7d1f2566dd382106f209c48a67ed00f2\n",
       "│     │  └─ 🔢 _csv_column_\n",
       "│     │     ├─ 🏷️ column_name\n",
       "│     │     ├─ 🏷️ column_type\n",
       "│     │     ├─ 🏷️ commit_id\n",
       "│     │     └─ 🏷️ file_sha1\n",
       "│     ├─ 📂 601b1268539c8ff94eda6b555e6a1a3cd3a164c4\n",
       "│     │  └─ 🔢 _csv_file_\n",
       "│     │     ├─ 🏷️ commit_id\n",
       "│     │     ├─ 🏷️ file_name\n",
       "│     │     └─ 🏷️ file_type\n",
       "│     ├─ 📂 62d9485b2a003dd4b4291f0ab8ad1ba441b16b90\n",
       "│     │  └─ 🔢 _csv_file_\n",
       "│     │     ├─ 🏷️ commit_id\n",
       "│     │     ├─ 🏷️ file_name\n",
       "│     │     └─ 🏷️ file_type\n",
       "│     ├─ 📂 668d871e8b13df7e378375c676168703761fedd3\n",
       "│     │  └─ 🔢 _csv_column_\n",
       "│     │     ├─ 🏷️ column_name\n",
       "│     │     ├─ 🏷️ column_type\n",
       "│     │     ├─ 🏷️ commit_id\n",
       "│     │     └─ 🏷️ file_sha1\n",
       "│     └─ (24 more children)\n",
       "├─ 📂 759fba97-e4e6-48e9-86ab-aa023693a0b1\n",
       "│  ├─ 📂 edges\n",
       "│  │  ├─ 📂 1c4c950dda437c3d55ee6ef6a43548484facde02\n",
       "│  │  │  └─ 📂 has_column\n",
       "│  │  │     ├─ 🔢 668d871e8b13df7e378375c676168703761fedd3\n",
       "│  │  │     │  └─ (5 children)\n",
       "│  │  │     └─ 🔢 88568fd93f5b196bc5495ff637fcb4ef1dd52a81\n",
       "│  │  │        └─ (5 children)\n",
       "│  │  ├─ 📂 3da13fcace26bf7993425973090823e88c394be2\n",
       "│  │  │  └─ 📂 has_column\n",
       "│  │  │     ├─ 🔢 02b4e972ea698768322c30eff0fab5a64afda302\n",
       "│  │  │     │  └─ (5 children)\n",
       "│  │  │     ├─ 🔢 7bb6a94745236688ae32e5f7013745148f9ffb98\n",
       "│  │  │     │  └─ (5 children)\n",
       "│  │  │     └─ 🔢 c3157aee164669eba31fc4d4816fe43a34f34372\n",
       "│  │  │        └─ (5 children)\n",
       "│  │  ├─ 📂 4b27d9f46b96aac59fa092b7900c7088bfb29daf\n",
       "│  │  │  └─ 📂 has_column\n",
       "│  │  │     ├─ 🔢 5e7427de7d1f2566dd382106f209c48a67ed00f2\n",
       "│  │  │     │  └─ (5 children)\n",
       "│  │  │     └─ 🔢 e6f25ad5d838dc49f8bddac019f8f6c7bf1f00c7\n",
       "│  │  │        └─ (5 children)\n",
       "│  │  ├─ 📂 71cc3f0e1ab964a682f29967d085c0aa45b64acd\n",
       "│  │  │  └─ 📂 has_column\n",
       "│  │  │     ├─ 🔢 1ba41353130e36a257fb962eb719d58c9c876814\n",
       "│  │  │     │  └─ (5 children)\n",
       "│  │  │     ├─ 🔢 5b899453043e82bd496ad1d81fb8f719ac79207e\n",
       "│  │  │     │  └─ (5 children)\n",
       "│  │  │     └─ 🔢 f7ce156d7df7dbd486cd888c0bd49f4b8bec106d\n",
       "│  │  │        └─ (5 children)\n",
       "│  │  ├─ 📂 a2198d4d216c50945cc7971b0e15349e2e0cdf97\n",
       "│  │  │  └─ 📂 has_column\n",
       "│  │  │     ├─ 🔢 26ec3695fabb1aca90467c4c04c3869daafb6d34\n",
       "│  │  │     │  └─ (5 children)\n",
       "│  │  │     └─ 🔢 c6f372e6a8d1146208e03c527aef0af997c678f7\n",
       "│  │  │        └─ (5 children)\n",
       "│  │  ├─ 📂 e72c078757c6e03c12fc996f668ade892b5120c1\n",
       "│  │  │  └─ 📂 has_column\n",
       "│  │  │     ├─ 🔢 34f1d6e161d613918860af5788effbf9c4354d8d\n",
       "│  │  │     │  └─ (5 children)\n",
       "│  │  │     ├─ 🔢 431428e61541895457ab3d8d2e78ffbcd26248c0\n",
       "│  │  │     │  └─ (5 children)\n",
       "│  │  │     └─ 🔢 71d778b5485103e21f8bc9a4cca0dd2ce1e62895\n",
       "│  │  │        └─ (5 children)\n",
       "│  │  ├─ 📂 ea6d633c8f95e16f2a2fd066f59ffef3af797206\n",
       "│  │  │  └─ 📂 has_column\n",
       "│  │  │     └─ 🔢 862ba5281d601e98b314daa3c9d15da1fb843e88\n",
       "│  │  │        └─ (5 children)\n",
       "│  │  └─ 📂 fd21e67fbcdd68d0e82ea6994f9299a2023f3c78\n",
       "│  │     └─ 📂 has_column\n",
       "│  │        └─ 🔢 b6bf6c59d0a515e57f0f8fade5a1ba1a5e611b7e\n",
       "│  │           └─ (5 children)\n",
       "│  └─ 📂 nodes\n",
       "│     ├─ 📂 02b4e972ea698768322c30eff0fab5a64afda302\n",
       "│     │  └─ 🔢 _csv_column_\n",
       "│     │     ├─ 🏷️ column_name\n",
       "│     │     ├─ 🏷️ column_type\n",
       "│     │     ├─ 🏷️ commit_id\n",
       "│     │     └─ 🏷️ file_sha1\n",
       "│     ├─ 📂 0c3f59ddd3d4e9a33773de121a62f456ac3b5388\n",
       "│     │  └─ 🔢 _csv_file_\n",
       "│     │     ├─ 🏷️ commit_id\n",
       "│     │     ├─ 🏷️ file_name\n",
       "│     │     └─ 🏷️ file_type\n",
       "│     ├─ 📂 18099edf630d1eb61e3b279278acf2f9e06f36bb\n",
       "│     │  └─ 🔢 _csv_file_\n",
       "│     │     ├─ 🏷️ commit_id\n",
       "│     │     ├─ 🏷️ file_name\n",
       "│     │     └─ 🏷️ file_type\n",
       "│     ├─ 📂 1ba41353130e36a257fb962eb719d58c9c876814\n",
       "│     │  └─ 🔢 _csv_column_\n",
       "│     │     ├─ 🏷️ column_name\n",
       "│     │     ├─ 🏷️ column_type\n",
       "│     │     ├─ 🏷️ commit_id\n",
       "│     │     └─ 🏷️ file_sha1\n",
       "│     ├─ 📂 1c4c950dda437c3d55ee6ef6a43548484facde02\n",
       "│     │  └─ 🔢 _csv_file_\n",
       "│     │     ├─ 🏷️ commit_id\n",
       "│     │     ├─ 🏷️ file_name\n",
       "│     │     └─ 🏷️ file_type\n",
       "│     ├─ 📂 26ec3695fabb1aca90467c4c04c3869daafb6d34\n",
       "│     │  └─ 🔢 _csv_column_\n",
       "│     │     ├─ 🏷️ column_name\n",
       "│     │     ├─ 🏷️ column_type\n",
       "│     │     ├─ 🏷️ commit_id\n",
       "│     │     └─ 🏷️ file_sha1\n",
       "│     ├─ 📂 2942161ecf436f17202744716925a14562538da4\n",
       "│     │  └─ 🔢 _csv_file_\n",
       "│     │     ├─ 🏷️ commit_id\n",
       "│     │     ├─ 🏷️ file_name\n",
       "│     │     └─ 🏷️ file_type\n",
       "│     ├─ 📂 34f1d6e161d613918860af5788effbf9c4354d8d\n",
       "│     │  └─ 🔢 _csv_column_\n",
       "│     │     ├─ 🏷️ column_name\n",
       "│     │     ├─ 🏷️ column_type\n",
       "│     │     ├─ 🏷️ commit_id\n",
       "│     │     └─ 🏷️ file_sha1\n",
       "│     ├─ 📂 3da13fcace26bf7993425973090823e88c394be2\n",
       "│     │  └─ 🔢 _csv_file_\n",
       "│     │     ├─ 🏷️ commit_id\n",
       "│     │     ├─ 🏷️ file_name\n",
       "│     │     └─ 🏷️ file_type\n",
       "│     ├─ 📂 431428e61541895457ab3d8d2e78ffbcd26248c0\n",
       "│     │  └─ 🔢 _csv_column_\n",
       "│     │     ├─ 🏷️ column_name\n",
       "│     │     ├─ 🏷️ column_type\n",
       "│     │     ├─ 🏷️ commit_id\n",
       "│     │     └─ 🏷️ file_sha1\n",
       "│     ├─ 📂 4b27d9f46b96aac59fa092b7900c7088bfb29daf\n",
       "│     │  └─ 🔢 _csv_file_\n",
       "│     │     ├─ 🏷️ commit_id\n",
       "│     │     ├─ 🏷️ file_name\n",
       "│     │     └─ 🏷️ file_type\n",
       "│     ├─ 📂 5b899453043e82bd496ad1d81fb8f719ac79207e\n",
       "│     │  └─ 🔢 _csv_column_\n",
       "│     │     ├─ 🏷️ column_name\n",
       "│     │     ├─ 🏷️ column_type\n",
       "│     │     ├─ 🏷️ commit_id\n",
       "│     │     └─ 🏷️ file_sha1\n",
       "│     ├─ 📂 5e7427de7d1f2566dd382106f209c48a67ed00f2\n",
       "│     │  └─ 🔢 _csv_column_\n",
       "│     │     ├─ 🏷️ column_name\n",
       "│     │     ├─ 🏷️ column_type\n",
       "│     │     ├─ 🏷️ commit_id\n",
       "│     │     └─ 🏷️ file_sha1\n",
       "│     ├─ 📂 601b1268539c8ff94eda6b555e6a1a3cd3a164c4\n",
       "│     │  └─ 🔢 _csv_file_\n",
       "│     │     ├─ 🏷️ commit_id\n",
       "│     │     ├─ 🏷️ file_name\n",
       "│     │     └─ 🏷️ file_type\n",
       "│     ├─ 📂 62d9485b2a003dd4b4291f0ab8ad1ba441b16b90\n",
       "│     │  └─ 🔢 _csv_file_\n",
       "│     │     ├─ 🏷️ commit_id\n",
       "│     │     ├─ 🏷️ file_name\n",
       "│     │     └─ 🏷️ file_type\n",
       "│     ├─ 📂 668d871e8b13df7e378375c676168703761fedd3\n",
       "│     │  └─ 🔢 _csv_column_\n",
       "│     │     ├─ 🏷️ column_name\n",
       "│     │     ├─ 🏷️ column_type\n",
       "│     │     ├─ 🏷️ commit_id\n",
       "│     │     └─ 🏷️ file_sha1\n",
       "│     └─ (24 more children)\n",
       "└─ 📂 ddbdae88-991f-4aa3-a5c7-8b474c523448\n",
       "   └─ 📂 nodes\n",
       "      ├─ 📂 0c3f59ddd3d4e9a33773de121a62f456ac3b5388\n",
       "      │  └─ 🔢 _csv_file_\n",
       "      │     ├─ 🏷️ commit_id\n",
       "      │     ├─ 🏷️ file_name\n",
       "      │     └─ 🏷️ file_type\n",
       "      ├─ 📂 18099edf630d1eb61e3b279278acf2f9e06f36bb\n",
       "      │  └─ 🔢 _csv_file_\n",
       "      │     ├─ 🏷️ commit_id\n",
       "      │     ├─ 🏷️ file_name\n",
       "      │     └─ 🏷️ file_type\n",
       "      ├─ 📂 1c4c950dda437c3d55ee6ef6a43548484facde02\n",
       "      │  └─ 🔢 _csv_file_\n",
       "      │     ├─ 🏷️ commit_id\n",
       "      │     ├─ 🏷️ file_name\n",
       "      │     └─ 🏷️ file_type\n",
       "      ├─ 📂 2942161ecf436f17202744716925a14562538da4\n",
       "      │  └─ 🔢 _csv_file_\n",
       "      │     ├─ 🏷️ commit_id\n",
       "      │     ├─ 🏷️ file_name\n",
       "      │     └─ 🏷️ file_type\n",
       "      ├─ 📂 3da13fcace26bf7993425973090823e88c394be2\n",
       "      │  └─ 🔢 _csv_file_\n",
       "      │     ├─ 🏷️ commit_id\n",
       "      │     ├─ 🏷️ file_name\n",
       "      │     └─ 🏷️ file_type\n",
       "      ├─ 📂 4b27d9f46b96aac59fa092b7900c7088bfb29daf\n",
       "      │  └─ 🔢 _csv_file_\n",
       "      │     ├─ 🏷️ commit_id\n",
       "      │     ├─ 🏷️ file_name\n",
       "      │     └─ 🏷️ file_type\n",
       "      ├─ 📂 601b1268539c8ff94eda6b555e6a1a3cd3a164c4\n",
       "      │  └─ 🔢 _csv_file_\n",
       "      │     ├─ 🏷️ commit_id\n",
       "      │     ├─ 🏷️ file_name\n",
       "      │     └─ 🏷️ file_type\n",
       "      ├─ 📂 62d9485b2a003dd4b4291f0ab8ad1ba441b16b90\n",
       "      │  └─ 🔢 _csv_file_\n",
       "      │     ├─ 🏷️ commit_id\n",
       "      │     ├─ 🏷️ file_name\n",
       "      │     └─ 🏷️ file_type\n",
       "      ├─ 📂 71cc3f0e1ab964a682f29967d085c0aa45b64acd\n",
       "      │  └─ 🔢 _csv_file_\n",
       "      │     ├─ 🏷️ commit_id\n",
       "      │     ├─ 🏷️ file_name\n",
       "      │     └─ 🏷️ file_type\n",
       "      ├─ 📂 77a3b2acbde9e48d49a0c6142f6cc7cd2cf5df8e\n",
       "      │  └─ 🔢 _csv_file_\n",
       "      │     ├─ 🏷️ commit_id\n",
       "      │     ├─ 🏷️ file_name\n",
       "      │     └─ 🏷️ file_type\n",
       "      ├─ 📂 7c1bc516afe9122d5564a84f2d158233ab647195\n",
       "      │  └─ 🔢 _csv_file_\n",
       "      │     ├─ 🏷️ commit_id\n",
       "      │     ├─ 🏷️ file_name\n",
       "      │     └─ 🏷️ file_type\n",
       "      ├─ 📂 8b9bd1124d2a5c05d5263fa74616076b1adad006\n",
       "      │  └─ 🔢 _csv_file_\n",
       "      │     ├─ 🏷️ commit_id\n",
       "      │     ├─ 🏷️ file_name\n",
       "      │     └─ 🏷️ file_type\n",
       "      ├─ 📂 9db34643522cf5341ff34b20bad6324e26326449\n",
       "      │  └─ 🔢 _csv_file_\n",
       "      │     ├─ 🏷️ commit_id\n",
       "      │     ├─ 🏷️ file_name\n",
       "      │     └─ 🏷️ file_type\n",
       "      ├─ 📂 a2198d4d216c50945cc7971b0e15349e2e0cdf97\n",
       "      │  └─ 🔢 _csv_file_\n",
       "      │     ├─ 🏷️ commit_id\n",
       "      │     ├─ 🏷️ file_name\n",
       "      │     └─ 🏷️ file_type\n",
       "      ├─ 📂 b88b77636dda8f8a4bedceaded5833316039f594\n",
       "      │  └─ 🔢 _csv_file_\n",
       "      │     ├─ 🏷️ commit_id\n",
       "      │     ├─ 🏷️ file_name\n",
       "      │     └─ 🏷️ file_type\n",
       "      ├─ 📂 c792af60a60cf7cf9aa575efd22a396d01addd2e\n",
       "      │  └─ 🔢 _csv_file_\n",
       "      │     ├─ 🏷️ commit_id\n",
       "      │     ├─ 🏷️ file_name\n",
       "      │     └─ 🏷️ file_type\n",
       "      └─ (7 more children)"
      ]
     },
     "metadata": {},
     "output_type": "display_data"
    }
   ],
   "source": [
    "using HDF5\n",
    "arch = h5open(\"lisa_arch.hdf5\")"
   ]
  },
  {
   "cell_type": "code",
   "execution_count": 6,
   "metadata": {},
   "outputs": [],
   "source": [
    "close(arch)"
   ]
  },
  {
   "cell_type": "code",
   "execution_count": 7,
   "metadata": {},
   "outputs": [
    {
     "name": "stdout",
     "output_type": "stream",
     "text": [
      "Dict{Any, Any}()\n"
     ]
    }
   ],
   "source": [
    "using HDF5\n",
    "\n",
    "file = h5open(\"lisa_arch.hdf5\", \"r\")\n",
    "data_out = Dict()\n",
    "Store.read_datasets(file, data_out, \"/b6b833df-2fab-490a-af20-52b62b047626/nodes/\")\n",
    "println(data_out)\n",
    "# Close the file\n",
    "close(file)"
   ]
  },
  {
   "cell_type": "code",
   "execution_count": null,
   "metadata": {},
   "outputs": [],
   "source": [
    "Graph.unset_lock!(db, :, :)"
   ]
  }
 ],
 "metadata": {
  "kernelspec": {
   "display_name": "Julia 1.9.2",
   "language": "julia",
   "name": "julia-1.9"
  },
  "language_info": {
   "file_extension": ".jl",
   "mimetype": "application/julia",
   "name": "julia",
   "version": "1.9.2"
  }
 },
 "nbformat": 4,
 "nbformat_minor": 2
}
