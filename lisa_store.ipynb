{
 "cells": [
  {
   "cell_type": "code",
   "execution_count": null,
   "metadata": {},
   "outputs": [],
   "source": [
    "using Pkg\n",
    "# Pkg.activate(\".\")\n",
    "# Pkg.instantiate()\n",
    "# Pkg.add(\"SQLite\")\n",
    "# Pkg.add(\"DBInterface\")\n",
    "# Pkg.add(\"JSON3\")\n",
    "# Pkg.add(\"EasyConfig\")\n",
    "# Pkg.add(\"MurmurHash3\")\n",
    "# Pkg.add(\"TextAnalysis\")\n",
    "# Pkg.add(\"UUIDs\")\n",
    "# Pkg.add(\"PooledArrays\")\n",
    "# Pkg.add(\"CSV\")\n",
    "# Pkg.add(\"FilePathsBase\")\n",
    "# Pkg.add(\"HDF5\")\n",
    "\n",
    "\n",
    "include(\"src/lisa_store.jl\")\n",
    "\n",
    "using SQLite\n",
    "using DBInterface\n",
    "using MurmurHash3\n",
    "using TextAnalysis\n",
    "using JSON3\n",
    "using PooledArrays\n",
    "\n",
    "db = Graph.DB(\"lisa.db\")\n",
    "hll = SetCore.HllSet{10}()\n",
    "\n",
    "# Run the following to create the HDF5 file. Do it once and then comment it out\n",
    "# Create a new empty HDF5 file\n",
    "# h5open(\"lisa_arch.hdf5\", \"w\") do file\n",
    "#     # No data is written to the file\n",
    "end"
   ]
  },
  {
   "cell_type": "code",
   "execution_count": 12,
   "metadata": {},
   "outputs": [],
   "source": [
    "p = 10\n",
    "hll = SetCore.HllSet{p}()\n",
    "Store.book_file(db, \"/home/alexmy/JULIA/DEMO/raw/eu/\", hll)"
   ]
  },
  {
   "cell_type": "code",
   "execution_count": 13,
   "metadata": {},
   "outputs": [
    {
     "name": "stdout",
     "output_type": "stream",
     "text": [
      "Processed column: 0\n"
     ]
    },
    {
     "name": "stdout",
     "output_type": "stream",
     "text": [
      "Processed column: 0\n"
     ]
    },
    {
     "name": "stdout",
     "output_type": "stream",
     "text": [
      "Processed column: 1\n"
     ]
    },
    {
     "name": "stdout",
     "output_type": "stream",
     "text": [
      "Processed column: 1\n"
     ]
    },
    {
     "name": "stdout",
     "output_type": "stream",
     "text": [
      "Processed column: 2\n"
     ]
    },
    {
     "name": "stdout",
     "output_type": "stream",
     "text": [
      "Processed column: 0\n"
     ]
    },
    {
     "name": "stdout",
     "output_type": "stream",
     "text": [
      "Processed column: 0\n",
      "Processed column: 0\n"
     ]
    },
    {
     "name": "stdout",
     "output_type": "stream",
     "text": [
      "Processed column: 0\n"
     ]
    },
    {
     "name": "stdout",
     "output_type": "stream",
     "text": [
      "ingest_csv ERROR on PST040210, Error msg: MethodError(WordTokenizers.tokenize, (26076,), 0x00000000000084e0)\n",
      "ingest_csv ERROR on PST120213, Error msg: MethodError(WordTokenizers.tokenize, (17.7,), 0x00000000000084e0)\n"
     ]
    },
    {
     "name": "stdout",
     "output_type": "stream",
     "text": [
      "ingest_csv ERROR on AGE135213, Error msg: MethodError(WordTokenizers.tokenize, (5.0,), 0x00000000000084e0)\n",
      "ingest_csv ERROR on AGE295213, Error msg: MethodError(WordTokenizers.tokenize, (19.7,), 0x00000000000084e0)\n",
      "ingest_csv ERROR on AGE775213, Error msg: MethodError(WordTokenizers.tokenize, (19.7,), 0x00000000000084e0)\n",
      "ingest_csv ERROR on RHI225213, Error msg: MethodError(WordTokenizers.tokenize, (1.2,), 0x00000000000084e0)\n",
      "ingest_csv ERROR on RHI325213, Error msg: MethodError(WordTokenizers.tokenize, (1.2,), 0x00000000000084e0)\n",
      "ingest_csv ERROR on RHI525213, Error msg: MethodError(WordTokenizers.tokenize, (1.2,), 0x00000000000084e0)\n",
      "ingest_csv ERROR on RHI625213, Error msg: MethodError(WordTokenizers.tokenize, (1.7,), 0x00000000000084e0)\n",
      "ingest_csv ERROR on RHI725213, Error msg: MethodError(WordTokenizers.tokenize, (1.2,), 0x00000000000084e0)\n",
      "ingest_csv ERROR on RHI825213, Error msg: MethodError(WordTokenizers.tokenize, (61.8,), 0x00000000000084e0)\n",
      "ingest_csv ERROR on POP715212, Error msg: MethodError(WordTokenizers.tokenize, (89.1,), 0x00000000000084e0)\n",
      "ingest_csv ERROR on POP645212, Error msg: MethodError(WordTokenizers.tokenize, (17.7,), 0x00000000000084e0)\n",
      "ingest_csv ERROR on POP815212, Error msg: MethodError(WordTokenizers.tokenize, (1.2,), 0x00000000000084e0)\n",
      "ingest_csv ERROR on EDU635212, Error msg: MethodError(WordTokenizers.tokenize, (93.8,), 0x00000000000084e0)\n"
     ]
    },
    {
     "name": "stdout",
     "output_type": "stream",
     "text": [
      "ingest_csv ERROR on EDU685212, Error msg: MethodError(WordTokenizers.tokenize, (35.0,), 0x00000000000084e0)\n",
      "ingest_csv ERROR on LFE305212, Error msg: MethodError(WordTokenizers.tokenize, (18.3,), 0x00000000000084e0)\n",
      "ingest_csv ERROR on HSG096212, Error msg: MethodError(WordTokenizers.tokenize, (1.2,), 0x00000000000084e0)\n",
      "ingest_csv ERROR on HSG495212, Error msg: MethodError(WordTokenizers.tokenize, (223900,), 0x00000000000084e0)\n",
      "ingest_csv ERROR on HSD310212, Error msg: MethodError(WordTokenizers.tokenize, (2.47,), 0x00000000000084e0)\n",
      "ingest_csv ERROR on INC910212, Error msg: MethodError(WordTokenizers.tokenize, (23878,), 0x00000000000084e0)\n",
      "ingest_csv ERROR on INC110212, Error msg: MethodError(WordTokenizers.tokenize, (59931,), 0x00000000000084e0)\n",
      "ingest_csv ERROR on PVY020212, Error msg: MethodError(WordTokenizers.tokenize, (20.7,), 0x00000000000084e0)\n"
     ]
    },
    {
     "name": "stdout",
     "output_type": "stream",
     "text": [
      "ingest_csv ERROR on BZA010212, Error msg: MethodError(WordTokenizers.tokenize, (7329,), 0x00000000000084e0)\n",
      "ingest_csv ERROR on BZA110212, Error msg: MethodError(WordTokenizers.tokenize, (30438,), 0x00000000000084e0)\n",
      "ingest_csv ERROR on BZA115212, Error msg: MethodError(WordTokenizers.tokenize, (1.2,), 0x00000000000084e0)\n",
      "ingest_csv ERROR on NES010212, Error msg: MethodError(WordTokenizers.tokenize, (4986,), 0x00000000000084e0)\n",
      "ingest_csv ERROR on SBO315207, Error msg: MethodError(WordTokenizers.tokenize, (17.7,), 0x00000000000084e0)\n",
      "ingest_csv ERROR on SBO115207, Error msg: MethodError(WordTokenizers.tokenize, (1.7,), 0x00000000000084e0)\n",
      "ingest_csv ERROR on SBO215207, Error msg: MethodError(WordTokenizers.tokenize, (1.7,), 0x00000000000084e0)\n",
      "ingest_csv ERROR on SBO515207, Error msg: MethodError(WordTokenizers.tokenize, (0.0,), 0x00000000000084e0)\n",
      "ingest_csv ERROR on SBO415207, Error msg: MethodError(WordTokenizers.tokenize, (1.2,), 0x00000000000084e0)\n"
     ]
    },
    {
     "name": "stdout",
     "output_type": "stream",
     "text": [
      "ingest_csv ERROR on SBO015207, Error msg: MethodError(WordTokenizers.tokenize, (36.7,), 0x00000000000084e0)\n",
      "ingest_csv ERROR on MAN450207, Error msg: MethodError(WordTokenizers.tokenize, (288679,), 0x00000000000084e0)\n",
      "ingest_csv ERROR on WTN220207, Error msg: MethodError(WordTokenizers.tokenize, (39225,), 0x00000000000084e0)\n",
      "ingest_csv ERROR on AFN120207, Error msg: MethodError(WordTokenizers.tokenize, (4700,), 0x00000000000084e0)\n",
      "ingest_csv ERROR on POP060210, Error msg: MethodError(WordTokenizers.tokenize, (36.7,), 0x00000000000084e0)\n",
      "Processed column: 0\n"
     ]
    },
    {
     "name": "stdout",
     "output_type": "stream",
     "text": [
      "Processed column: 3\n"
     ]
    },
    {
     "name": "stdout",
     "output_type": "stream",
     "text": [
      "Processed column: 3\n"
     ]
    },
    {
     "name": "stdout",
     "output_type": "stream",
     "text": [
      "Processed column: 3\n",
      "Processed column: 0\n",
      "Processed column: 0\n"
     ]
    },
    {
     "name": "stdout",
     "output_type": "stream",
     "text": [
      "Processed column: 0\n",
      "Processed column: 0\n"
     ]
    },
    {
     "name": "stdout",
     "output_type": "stream",
     "text": [
      "Processed column: 0\n"
     ]
    },
    {
     "name": "stdout",
     "output_type": "stream",
     "text": [
      "Processed column: 0\n"
     ]
    },
    {
     "name": "stdout",
     "output_type": "stream",
     "text": [
      "Processed column: 0\n",
      "Processed column: 0\n"
     ]
    },
    {
     "name": "stdout",
     "output_type": "stream",
     "text": [
      "Processed column: 2\n"
     ]
    },
    {
     "name": "stdout",
     "output_type": "stream",
     "text": [
      "Processed column: 2\n"
     ]
    }
   ],
   "source": [
    "using UUIDs\n",
    "# parent::String, type::String,processor_id::String, status::String, lock_uuid::String\n",
    "uuid = string(uuid4())\n",
    "df = Graph.set_lock!(db, \"/home/alexmy/JULIA/DEMO/raw/eu\", \"csv\", \"book_file\", \"ingest_csv\", \"waiting\", \"waiting\", uuid; result=true)\n",
    "\n",
    "for row in eachrow(df)\n",
    "    assign = Graph.Assignment(row.id,row.parent, row.item, row.a_type, row.processor_id, row.status, row.lock_uuid)     \n",
    "    col_uuid = string(uuid4())\n",
    "    # db::Graph.DB, file::Graph.Assignment, lock_uuid::String; p::Int=10    \n",
    "    Store.ingest_csv(db, assign, col_uuid; limit=12000, offset=10)\n",
    "end"
   ]
  },
  {
   "cell_type": "code",
   "execution_count": 14,
   "metadata": {},
   "outputs": [
    {
     "name": "stdout",
     "output_type": "stream",
     "text": [
      "props: Dict{String, Any}(\"file_name\" => \"/home/alexmy/JULIA/DEMO/raw/eu/Italy_traffic_weather/damasco_final.csv\", \"file_type\" => \"csv\", \"commit_id\" => \"759fba97-e4e6-48e9-86ab-aa023693a0b1\")String\n",
      "save_node: /759fba97-e4e6-48e9-86ab-aa023693a0b1/nodes/601b1268539c8ff94eda6b555e6a1a3cd3a164c4, _csv_file_\n",
      "props: Dict{String, Any}(\"file_name\" => \"/home/alexmy/JULIA/DEMO/raw/eu/Italy_traffic_weather/stazioni_meteo.csv\", \"file_type\" => \"csv\", \"commit_id\" => \"759fba97-e4e6-48e9-86ab-aa023693a0b1\")String\n",
      "save_node: /759fba97-e4e6-48e9-86ab-aa023693a0b1/nodes/8b9bd1124d2a5c05d5263fa74616076b1adad006, _csv_file_\n",
      "props: Dict{String, Any}(\"file_name\" => \"/home/alexmy/JULIA/DEMO/raw/eu/Italy_traffic_weather/TrFl/SmCtCG_TrFl_Str000_lastMonth.csv\", \"file_type\" => \"csv\", \"commit_id\" => \"759fba97-e4e6-48e9-86ab-aa023693a0b1\")String\n",
      "save_node: /759fba97-e4e6-48e9-86ab-aa023693a0b1/nodes/fd21e67fbcdd68d0e82ea6994f9299a2023f3c78, _csv_file_\n",
      "props: Dict{String, Any}(\"commit_id\" => \"759fba97-e4e6-48e9-86ab-aa023693a0b1\", \"column_name\" => \"Description\", \"file_sha1\" => \"fd21e67fbcdd68d0e82ea6994f9299a2023f3c78\", \"column_type\" => \"String\")String\n",
      "save_node: /759fba97-e4e6-48e9-86ab-aa023693a0b1/nodes/b6bf6c59d0a515e57f0f8fade5a1ba1a5e611b7e, _csv_column_\n",
      "props: Dict{String, Any}(\"file_name\" => \"/home/alexmy/JULIA/DEMO/raw/eu/Italy_traffic_weather/TrFl/SmCtCM_TrFl_Str003_lastMonth.csv\", \"file_type\" => \"csv\", \"commit_id\" => \"759fba97-e4e6-48e9-86ab-aa023693a0b1\")String\n",
      "save_node: /759fba97-e4e6-48e9-86ab-aa023693a0b1/nodes/ea6d633c8f95e16f2a2fd066f59ffef3af797206, _csv_file_\n",
      "props: Dict{String, Any}(\"commit_id\" => \"759fba97-e4e6-48e9-86ab-aa023693a0b1\", \"column_name\" => \"Description\", \"file_sha1\" => \"ea6d633c8f95e16f2a2fd066f59ffef3af797206\", \"column_type\" => \"String\")String\n",
      "save_node: /759fba97-e4e6-48e9-86ab-aa023693a0b1/nodes/862ba5281d601e98b314daa3c9d15da1fb843e88, _csv_column_\n",
      "props: Dict{String, Any}(\"file_name\" => \"/home/alexmy/JULIA/DEMO/raw/eu/Italy_traffic_weather/TrFl/SmCtS2_TrFl_Str002_lastMonth.csv\", \"file_type\" => \"csv\", \"commit_id\" => \"759fba97-e4e6-48e9-86ab-aa023693a0b1\")String\n",
      "save_node: /759fba97-e4e6-48e9-86ab-aa023693a0b1/nodes/a2198d4d216c50945cc7971b0e15349e2e0cdf97, _csv_file_\n",
      "props: Dict{String, Any}(\"commit_id\" => \"759fba97-e4e6-48e9-86ab-aa023693a0b1\", \"column_name\" => \"Name\", \"file_sha1\" => \"a2198d4d216c50945cc7971b0e15349e2e0cdf97\", \"column_type\" => \"String\")"
     ]
    },
    {
     "name": "stdout",
     "output_type": "stream",
     "text": [
      "String\n",
      "save_node: /759fba97-e4e6-48e9-86ab-aa023693a0b1/nodes/26ec3695fabb1aca90467c4c04c3869daafb6d34, _csv_column_\n",
      "props: Dict{String, Any}(\"commit_id\" => \"759fba97-e4e6-48e9-86ab-aa023693a0b1\", \"column_name\" => \"Description\", \"file_sha1\" => \"a2198d4d216c50945cc7971b0e15349e2e0cdf97\", \"column_type\" => \"String\")String\n",
      "save_node: /759fba97-e4e6-48e9-86ab-aa023693a0b1/nodes/c6f372e6a8d1146208e03c527aef0af997c678f7, _csv_column_\n",
      "props: Dict{String, Any}(\"file_name\" => \"/home/alexmy/JULIA/DEMO/raw/eu/cdc/FRPP_GLC_-_United_States.csv\", \"file_type\" => \"csv\", \"commit_id\" => \"759fba97-e4e6-48e9-86ab-aa023693a0b1\")String\n",
      "save_node: /759fba97-e4e6-48e9-86ab-aa023693a0b1/nodes/f5c427f989056400cd03aae2e67793564c81117d, _csv_file_\n",
      "props: Dict{String, Any}(\"file_name\" => \"/home/alexmy/JULIA/DEMO/raw/eu/cdc/NLDAS_daily_precip_by_county_2000_2011.csv\", \"file_type\" => \"csv\", \"commit_id\" => \"759fba97-e4e6-48e9-86ab-aa023693a0b1\")String\n",
      "save_node: /759fba97-e4e6-48e9-86ab-aa023693a0b1/nodes/62d9485b2a003dd4b4291f0ab8ad1ba441b16b90, _csv_file_\n",
      "props: Dict{String, Any}(\"file_name\" => \"/home/alexmy/JULIA/DEMO/raw/eu/cdc/ca_rainfall_by_county.csv\", \"file_type\" => \"csv\", \"commit_id\" => \"759fba97-e4e6-48e9-86ab-aa023693a0b1\")String\n",
      "save_node: /759fba97-e4e6-48e9-86ab-aa023693a0b1/nodes/18099edf630d1eb61e3b279278acf2f9e06f36bb, _csv_file_\n",
      "props: Dict{String, Any}(\"file_name\" => \"/home/alexmy/JULIA/DEMO/raw/eu/cdc/ca_traffic_fatalities_2011.csv\", \"file_type\" => \"csv\", \"commit_id\" => \"759fba97-e4e6-48e9-86ab-aa023693a0b1\")String\n",
      "save_node: /759fba97-e4e6-48e9-86ab-aa023693a0b1/nodes/7c1bc516afe9122d5564a84f2d158233ab647195, _csv_file_\n",
      "props: Dict{String, Any}(\"file_name\" => \"/home/alexmy/JULIA/DEMO/raw/eu/cdc/census_data_county.csv\", \"file_type\" => \"csv\", \"commit_id\" => \"759fba97-e4e6-48e9-86ab-aa023693a0b1\")"
     ]
    },
    {
     "name": "stdout",
     "output_type": "stream",
     "text": [
      "String\n",
      "save_node: /759fba97-e4e6-48e9-86ab-aa023693a0b1/nodes/c792af60a60cf7cf9aa575efd22a396d01addd2e, _csv_file_\n",
      "props: Dict{String, Any}(\"file_name\" => \"/home/alexmy/JULIA/DEMO/raw/eu/data.gov.uk/uk_companies-p1-2.csv\", \"file_type\" => \"csv\", \"commit_id\" => \"759fba97-e4e6-48e9-86ab-aa023693a0b1\")String\n",
      "save_node: /759fba97-e4e6-48e9-86ab-aa023693a0b1/nodes/71cc3f0e1ab964a682f29967d085c0aa45b64acd, _csv_file_\n",
      "props: Dict{String, Any}(\"commit_id\" => \"759fba97-e4e6-48e9-86ab-aa023693a0b1\", \"column_name\" => \"RegAddress.AddressLine1\", \"file_sha1\" => \"71cc3f0e1ab964a682f29967d085c0aa45b64acd\", \"column_type\" => \"String\")String\n",
      "save_node: /759fba97-e4e6-48e9-86ab-aa023693a0b1/nodes/5b899453043e82bd496ad1d81fb8f719ac79207e, _csv_column_\n",
      "props: Dict{String, Any}(\"commit_id\" => \"759fba97-e4e6-48e9-86ab-aa023693a0b1\", \"column_name\" => \"SICCode.SicText_1\", \"file_sha1\" => \"71cc3f0e1ab964a682f29967d085c0aa45b64acd\", \"column_type\" => \"String\")String\n",
      "save_node: /759fba97-e4e6-48e9-86ab-aa023693a0b1/nodes/f7ce156d7df7dbd486cd888c0bd49f4b8bec106d, _csv_column_\n",
      "props: Dict{String, Any}(\"commit_id\" => \"759fba97-e4e6-48e9-86ab-aa023693a0b1\", \"column_name\" => \"URI\", \"file_sha1\" => \"71cc3f0e1ab964a682f29967d085c0aa45b64acd\", \"column_type\" => \"String\")String\n",
      "save_node: /759fba97-e4e6-48e9-86ab-aa023693a0b1/nodes/1ba41353130e36a257fb962eb719d58c9c876814, _csv_column_\n",
      "props: Dict{String, Any}(\"file_name\" => \"/home/alexmy/JULIA/DEMO/raw/eu/data.gov.uk/uk_companies-p2-2.csv\", \"file_type\" => \"csv\", \"commit_id\" => \"759fba97-e4e6-48e9-86ab-aa023693a0b1\")String\n",
      "save_node: /759fba97-e4e6-48e9-86ab-aa023693a0b1/nodes/e72c078757c6e03c12fc996f668ade892b5120c1, _csv_file_\n",
      "props: Dict{String, Any}(\"commit_id\" => \"759fba97-e4e6-48e9-86ab-aa023693a0b1\", \"column_name\" => \"CompanyName\", \"file_sha1\" => \"e72c078757c6e03c12fc996f668ade892b5120c1\", \"column_type\" => \"String\")"
     ]
    },
    {
     "name": "stdout",
     "output_type": "stream",
     "text": [
      "String\n",
      "save_node: /759fba97-e4e6-48e9-86ab-aa023693a0b1/nodes/431428e61541895457ab3d8d2e78ffbcd26248c0, _csv_column_\n",
      "props: Dict{String, Any}(\"commit_id\" => \"759fba97-e4e6-48e9-86ab-aa023693a0b1\", \"column_name\" => \"SICCode.SicText_1\", \"file_sha1\" => \"e72c078757c6e03c12fc996f668ade892b5120c1\", \"column_type\" => \"String\")String\n",
      "save_node: /759fba97-e4e6-48e9-86ab-aa023693a0b1/nodes/34f1d6e161d613918860af5788effbf9c4354d8d, _csv_column_\n",
      "props: Dict{String, Any}(\"commit_id\" => \"759fba97-e4e6-48e9-86ab-aa023693a0b1\", \"column_name\" => \"URI\", \"file_sha1\" => \"e72c078757c6e03c12fc996f668ade892b5120c1\", \"column_type\" => \"String\")String\n",
      "save_node: /759fba97-e4e6-48e9-86ab-aa023693a0b1/nodes/71d778b5485103e21f8bc9a4cca0dd2ce1e62895, _csv_column_\n",
      "props: Dict{String, Any}(\"file_name\" => \"/home/alexmy/JULIA/DEMO/raw/eu/data.gov.uk/uk_companies-p5-2.csv\", \"file_type\" => \"csv\", \"commit_id\" => \"759fba97-e4e6-48e9-86ab-aa023693a0b1\")String\n",
      "save_node: /759fba97-e4e6-48e9-86ab-aa023693a0b1/nodes/3da13fcace26bf7993425973090823e88c394be2, _csv_file_\n",
      "props: Dict{String, Any}(\"commit_id\" => \"759fba97-e4e6-48e9-86ab-aa023693a0b1\", \"column_name\" => \"RegAddress.AddressLine1\", \"file_sha1\" => \"3da13fcace26bf7993425973090823e88c394be2\", \"column_type\" => \"String\")String\n",
      "save_node: /759fba97-e4e6-48e9-86ab-aa023693a0b1/nodes/02b4e972ea698768322c30eff0fab5a64afda302, _csv_column_\n",
      "props: Dict{String, Any}(\"commit_id\" => \"759fba97-e4e6-48e9-86ab-aa023693a0b1\", \"column_name\" => \"SICCode.SicText_1\", \"file_sha1\" => \"3da13fcace26bf7993425973090823e88c394be2\", \"column_type\" => \"String\")String\n",
      "save_node: /759fba97-e4e6-48e9-86ab-aa023693a0b1/nodes/7bb6a94745236688ae32e5f7013745148f9ffb98, _csv_column_\n",
      "props: Dict{String, Any}(\"commit_id\" => \"759fba97-e4e6-48e9-86ab-aa023693a0b1\", \"column_name\" => \"URI\", \"file_sha1\" => \"3da13fcace26bf7993425973090823e88c394be2\", \"column_type\" => \"String\")"
     ]
    },
    {
     "name": "stdout",
     "output_type": "stream",
     "text": [
      "String\n",
      "save_node: /759fba97-e4e6-48e9-86ab-aa023693a0b1/nodes/c3157aee164669eba31fc4d4816fe43a34f34372, _csv_column_\n",
      "props: Dict{String, Any}(\"file_name\" => \"/home/alexmy/JULIA/DEMO/raw/eu/eu_data/firstnames1.csv\", \"file_type\" => \"csv\", \"commit_id\" => \"759fba97-e4e6-48e9-86ab-aa023693a0b1\")String\n",
      "save_node: /759fba97-e4e6-48e9-86ab-aa023693a0b1/nodes/0c3f59ddd3d4e9a33773de121a62f456ac3b5388, _csv_file_\n",
      "props: Dict{String, Any}(\"file_name\" => \"/home/alexmy/JULIA/DEMO/raw/eu/eu_data/netherlands_street.csv\", \"file_type\" => \"csv\", \"commit_id\" => \"759fba97-e4e6-48e9-86ab-aa023693a0b1\")String\n",
      "save_node: /759fba97-e4e6-48e9-86ab-aa023693a0b1/nodes/d335964d70c276ad46ae37d4be6ced8c7550f939, _csv_file_\n",
      "props: Dict{String, Any}(\"file_name\" => \"/home/alexmy/JULIA/DEMO/raw/eu/eu_data/netherlands_street_city_date.csv\", \"file_type\" => \"csv\", \"commit_id\" => \"759fba97-e4e6-48e9-86ab-aa023693a0b1\")String\n",
      "save_node: /759fba97-e4e6-48e9-86ab-aa023693a0b1/nodes/9db34643522cf5341ff34b20bad6324e26326449, _csv_file_\n",
      "props: Dict{String, Any}(\"file_name\" => \"/home/alexmy/JULIA/DEMO/raw/eu/eu_data/uk_census-2001-ks10-borough.csv\", \"file_type\" => \"csv\", \"commit_id\" => \"759fba97-e4e6-48e9-86ab-aa023693a0b1\")String\n",
      "save_node: /759fba97-e4e6-48e9-86ab-aa023693a0b1/nodes/b88b77636dda8f8a4bedceaded5833316039f594, _csv_file_\n",
      "props: Dict{String, Any}(\"file_name\" => \"/home/alexmy/JULIA/DEMO/raw/eu/eu_data/uk_gla-general-elections-votes-party-2010.csv\", \"file_type\" => \"csv\", \"commit_id\" => \"759fba97-e4e6-48e9-86ab-aa023693a0b1\")String\n",
      "save_node: /759fba97-e4e6-48e9-86ab-aa023693a0b1/nodes/e9a65ff4c4936be982dba59e137047be09ae2aa2, _csv_file_\n",
      "props: Dict{String, Any}(\"file_name\" => \"/home/alexmy/JULIA/DEMO/raw/eu/publicdata.eu/uk_census-2001-ks10-borough.csv\", \"file_type\" => \"csv\", \"commit_id\" => \"759fba97-e4e6-48e9-86ab-aa023693a0b1\")"
     ]
    },
    {
     "name": "stdout",
     "output_type": "stream",
     "text": [
      "String\n",
      "save_node: /759fba97-e4e6-48e9-86ab-aa023693a0b1/nodes/2942161ecf436f17202744716925a14562538da4, _csv_file_\n",
      "props: Dict{String, Any}(\"file_name\" => \"/home/alexmy/JULIA/DEMO/raw/eu/publicdata.eu/uk_empty-homes-borough.csv\", \"file_type\" => \"csv\", \"commit_id\" => \"759fba97-e4e6-48e9-86ab-aa023693a0b1\")String\n",
      "save_node: /759fba97-e4e6-48e9-86ab-aa023693a0b1/nodes/da812b23b73aa83512396dbd1aa086b03457feb9, _csv_file_\n",
      "props: Dict{String, Any}(\"file_name\" => \"/home/alexmy/JULIA/DEMO/raw/eu/publicdata.eu/uk_gla-general-elections-votes-party-2010.csv\", \"file_type\" => \"csv\", \"commit_id\" => \"759fba97-e4e6-48e9-86ab-aa023693a0b1\")String\n",
      "save_node: /759fba97-e4e6-48e9-86ab-aa023693a0b1/nodes/77a3b2acbde9e48d49a0c6142f6cc7cd2cf5df8e, _csv_file_\n",
      "props: Dict{String, Any}(\"file_name\" => \"/home/alexmy/JULIA/DEMO/raw/eu/uk_vehicle_casualties/Isc_london-ksi-only-since2010.csv\", \"file_type\" => \"csv\", \"commit_id\" => \"759fba97-e4e6-48e9-86ab-aa023693a0b1\")String\n",
      "save_node: /759fba97-e4e6-48e9-86ab-aa023693a0b1/nodes/1c4c950dda437c3d55ee6ef6a43548484facde02, _csv_file_\n",
      "props: Dict{String, Any}(\"commit_id\" => \"759fba97-e4e6-48e9-86ab-aa023693a0b1\", \"column_name\" => \"Vehicle type\", \"file_sha1\" => \"1c4c950dda437c3d55ee6ef6a43548484facde02\", \"column_type\" => \"String\")String\n",
      "save_node: /759fba97-e4e6-48e9-86ab-aa023693a0b1/nodes/88568fd93f5b196bc5495ff637fcb4ef1dd52a81, _csv_column_\n",
      "props: Dict{String, Any}(\"commit_id\" => \"759fba97-e4e6-48e9-86ab-aa023693a0b1\", \"column_name\" => \"Pedestrian Locality\", \"file_sha1\" => \"1c4c950dda437c3d55ee6ef6a43548484facde02\", \"column_type\" => \"String\")String\n",
      "save_node: /759fba97-e4e6-48e9-86ab-aa023693a0b1/nodes/668d871e8b13df7e378375c676168703761fedd3, _csv_column_\n",
      "props: Dict{String, Any}(\"file_name\" => \"/home/alexmy/JULIA/DEMO/raw/eu/uk_vehicle_casualties/R1o_london-rtc-since2010-lsoa-msoa-ward.csv\", \"file_type\" => \"csv\", \"commit_id\" => \"759fba97-e4e6-48e9-86ab-aa023693a0b1\")"
     ]
    },
    {
     "name": "stdout",
     "output_type": "stream",
     "text": [
      "String\n",
      "save_node: /759fba97-e4e6-48e9-86ab-aa023693a0b1/nodes/4b27d9f46b96aac59fa092b7900c7088bfb29daf, _csv_file_\n",
      "props: Dict{String, Any}(\"commit_id\" => \"759fba97-e4e6-48e9-86ab-aa023693a0b1\", \"column_name\" => \"Vehicle type\", \"file_sha1\" => \"4b27d9f46b96aac59fa092b7900c7088bfb29daf\", \"column_type\" => \"String\")String\n",
      "save_node: /759fba97-e4e6-48e9-86ab-aa023693a0b1/nodes/5e7427de7d1f2566dd382106f209c48a67ed00f2, _csv_column_\n",
      "props: Dict{String, Any}(\"commit_id\" => \"759fba97-e4e6-48e9-86ab-aa023693a0b1\", \"column_name\" => \"Pedestrian Locality\", \"file_sha1\" => \"4b27d9f46b96aac59fa092b7900c7088bfb29daf\", \"column_type\" => \"String\")String\n",
      "save_node: /759fba97-e4e6-48e9-86ab-aa023693a0b1/nodes/e6f25ad5d838dc49f8bddac019f8f6c7bf1f00c7, _csv_column_\n",
      "save_node: /759fba97-e4e6-48e9-86ab-aa023693a0b1/edges/fd21e67fbcdd68d0e82ea6994f9299a2023f3c78/has_column, b6bf6c59d0a515e57f0f8fade5a1ba1a5e611b7e\n",
      "save_node: /759fba97-e4e6-48e9-86ab-aa023693a0b1/edges/ea6d633c8f95e16f2a2fd066f59ffef3af797206/has_column, 862ba5281d601e98b314daa3c9d15da1fb843e88\n",
      "save_node: /759fba97-e4e6-48e9-86ab-aa023693a0b1/edges/a2198d4d216c50945cc7971b0e15349e2e0cdf97/has_column, 26ec3695fabb1aca90467c4c04c3869daafb6d34\n",
      "save_node: /759fba97-e4e6-48e9-86ab-aa023693a0b1/edges/a2198d4d216c50945cc7971b0e15349e2e0cdf97/has_column, c6f372e6a8d1146208e03c527aef0af997c678f7\n",
      "save_node: /759fba97-e4e6-48e9-86ab-aa023693a0b1/edges/71cc3f0e1ab964a682f29967d085c0aa45b64acd/has_column, 5b899453043e82bd496ad1d81fb8f719ac79207e\n"
     ]
    },
    {
     "name": "stdout",
     "output_type": "stream",
     "text": [
      "save_node: /759fba97-e4e6-48e9-86ab-aa023693a0b1/edges/71cc3f0e1ab964a682f29967d085c0aa45b64acd/has_column, f7ce156d7df7dbd486cd888c0bd49f4b8bec106d\n",
      "save_node: /759fba97-e4e6-48e9-86ab-aa023693a0b1/edges/71cc3f0e1ab964a682f29967d085c0aa45b64acd/has_column, 1ba41353130e36a257fb962eb719d58c9c876814\n",
      "save_node: /759fba97-e4e6-48e9-86ab-aa023693a0b1/edges/e72c078757c6e03c12fc996f668ade892b5120c1/has_column, 431428e61541895457ab3d8d2e78ffbcd26248c0\n",
      "save_node: /759fba97-e4e6-48e9-86ab-aa023693a0b1/edges/e72c078757c6e03c12fc996f668ade892b5120c1/has_column, 34f1d6e161d613918860af5788effbf9c4354d8d\n",
      "save_node: /759fba97-e4e6-48e9-86ab-aa023693a0b1/edges/e72c078757c6e03c12fc996f668ade892b5120c1/has_column, 71d778b5485103e21f8bc9a4cca0dd2ce1e62895\n",
      "save_node: /759fba97-e4e6-48e9-86ab-aa023693a0b1/edges/3da13fcace26bf7993425973090823e88c394be2/has_column, 02b4e972ea698768322c30eff0fab5a64afda302\n",
      "save_node: /759fba97-e4e6-48e9-86ab-aa023693a0b1/edges/3da13fcace26bf7993425973090823e88c394be2/has_column, 7bb6a94745236688ae32e5f7013745148f9ffb98\n",
      "save_node: /759fba97-e4e6-48e9-86ab-aa023693a0b1/edges/3da13fcace26bf7993425973090823e88c394be2/has_column, c3157aee164669eba31fc4d4816fe43a34f34372\n",
      "save_node: /759fba97-e4e6-48e9-86ab-aa023693a0b1/edges/1c4c950dda437c3d55ee6ef6a43548484facde02/has_column, 88568fd93f5b196bc5495ff637fcb4ef1dd52a81\n"
     ]
    },
    {
     "name": "stdout",
     "output_type": "stream",
     "text": [
      "save_node: /759fba97-e4e6-48e9-86ab-aa023693a0b1/edges/1c4c950dda437c3d55ee6ef6a43548484facde02/has_column, 668d871e8b13df7e378375c676168703761fedd3\n",
      "save_node: /759fba97-e4e6-48e9-86ab-aa023693a0b1/edges/4b27d9f46b96aac59fa092b7900c7088bfb29daf/has_column, 5e7427de7d1f2566dd382106f209c48a67ed00f2\n",
      "save_node: /759fba97-e4e6-48e9-86ab-aa023693a0b1/edges/4b27d9f46b96aac59fa092b7900c7088bfb29daf/has_column, e6f25ad5d838dc49f8bddac019f8f6c7bf1f00c7\n"
     ]
    }
   ],
   "source": [
    "using EasyConfig\n",
    "Store.commit(db, \"lisa_arch.hdf5\", \"Alex Mylnikov\", \"alexmy@lisa-park.com\", \"commit 2\", Config())"
   ]
  },
  {
   "cell_type": "code",
   "execution_count": 15,
   "metadata": {},
   "outputs": [
    {
     "data": {
      "text/plain": [
       "🗂️ HDF5.File: (read-only) lisa_arch.hdf5\n",
       "└─ 📂 759fba97-e4e6-48e9-86ab-aa023693a0b1\n",
       "   ├─ 📂 edges\n",
       "   │  ├─ 📂 1c4c950dda437c3d55ee6ef6a43548484facde02\n",
       "   │  │  └─ 📂 has_column\n",
       "   │  │     ├─ 🔢 668d871e8b13df7e378375c676168703761fedd3\n",
       "   │  │     │  └─ (5 children)\n",
       "   │  │     └─ 🔢 88568fd93f5b196bc5495ff637fcb4ef1dd52a81\n",
       "   │  │        └─ (5 children)\n",
       "   │  ├─ 📂 3da13fcace26bf7993425973090823e88c394be2\n",
       "   │  │  └─ 📂 has_column\n",
       "   │  │     ├─ 🔢 02b4e972ea698768322c30eff0fab5a64afda302\n",
       "   │  │     │  └─ (5 children)\n",
       "   │  │     ├─ 🔢 7bb6a94745236688ae32e5f7013745148f9ffb98\n",
       "   │  │     │  └─ (5 children)\n",
       "   │  │     └─ 🔢 c3157aee164669eba31fc4d4816fe43a34f34372\n",
       "   │  │        └─ (5 children)\n",
       "   │  ├─ 📂 4b27d9f46b96aac59fa092b7900c7088bfb29daf\n",
       "   │  │  └─ 📂 has_column\n",
       "   │  │     ├─ 🔢 5e7427de7d1f2566dd382106f209c48a67ed00f2\n",
       "   │  │     │  └─ (5 children)\n",
       "   │  │     └─ 🔢 e6f25ad5d838dc49f8bddac019f8f6c7bf1f00c7\n",
       "   │  │        └─ (5 children)\n",
       "   │  ├─ 📂 71cc3f0e1ab964a682f29967d085c0aa45b64acd\n",
       "   │  │  └─ 📂 has_column\n",
       "   │  │     ├─ 🔢 1ba41353130e36a257fb962eb719d58c9c876814\n",
       "   │  │     │  └─ (5 children)\n",
       "   │  │     ├─ 🔢 5b899453043e82bd496ad1d81fb8f719ac79207e\n",
       "   │  │     │  └─ (5 children)\n",
       "   │  │     └─ 🔢 f7ce156d7df7dbd486cd888c0bd49f4b8bec106d\n",
       "   │  │        └─ (5 children)\n",
       "   │  ├─ 📂 a2198d4d216c50945cc7971b0e15349e2e0cdf97\n",
       "   │  │  └─ 📂 has_column\n",
       "   │  │     ├─ 🔢 26ec3695fabb1aca90467c4c04c3869daafb6d34\n",
       "   │  │     │  └─ (5 children)\n",
       "   │  │     └─ 🔢 c6f372e6a8d1146208e03c527aef0af997c678f7\n",
       "   │  │        └─ (5 children)\n",
       "   │  ├─ 📂 e72c078757c6e03c12fc996f668ade892b5120c1\n",
       "   │  │  └─ 📂 has_column\n",
       "   │  │     ├─ 🔢 34f1d6e161d613918860af5788effbf9c4354d8d\n",
       "   │  │     │  └─ (5 children)\n",
       "   │  │     ├─ 🔢 431428e61541895457ab3d8d2e78ffbcd26248c0\n",
       "   │  │     │  └─ (5 children)\n",
       "   │  │     └─ 🔢 71d778b5485103e21f8bc9a4cca0dd2ce1e62895\n",
       "   │  │        └─ (5 children)\n",
       "   │  ├─ 📂 ea6d633c8f95e16f2a2fd066f59ffef3af797206\n",
       "   │  │  └─ 📂 has_column\n",
       "   │  │     └─ 🔢 862ba5281d601e98b314daa3c9d15da1fb843e88\n",
       "   │  │        └─ (5 children)\n",
       "   │  └─ 📂 fd21e67fbcdd68d0e82ea6994f9299a2023f3c78\n",
       "   │     └─ 📂 has_column\n",
       "   │        └─ 🔢 b6bf6c59d0a515e57f0f8fade5a1ba1a5e611b7e\n",
       "   │           └─ (5 children)\n",
       "   └─ 📂 nodes\n",
       "      ├─ 📂 02b4e972ea698768322c30eff0fab5a64afda302\n",
       "      │  └─ 🔢 _csv_column_\n",
       "      │     ├─ 🏷️ column_name\n",
       "      │     ├─ 🏷️ column_type\n",
       "      │     ├─ 🏷️ commit_id\n",
       "      │     └─ 🏷️ file_sha1\n",
       "      ├─ 📂 0c3f59ddd3d4e9a33773de121a62f456ac3b5388\n",
       "      │  └─ 🔢 _csv_file_\n",
       "      │     ├─ 🏷️ commit_id\n",
       "      │     ├─ 🏷️ file_name\n",
       "      │     └─ 🏷️ file_type\n",
       "      ├─ 📂 18099edf630d1eb61e3b279278acf2f9e06f36bb\n",
       "      │  └─ 🔢 _csv_file_\n",
       "      │     ├─ 🏷️ commit_id\n",
       "      │     ├─ 🏷️ file_name\n",
       "      │     └─ 🏷️ file_type\n",
       "      ├─ 📂 1ba41353130e36a257fb962eb719d58c9c876814\n",
       "      │  └─ 🔢 _csv_column_\n",
       "      │     ├─ 🏷️ column_name\n",
       "      │     ├─ 🏷️ column_type\n",
       "      │     ├─ 🏷️ commit_id\n",
       "      │     └─ 🏷️ file_sha1\n",
       "      ├─ 📂 1c4c950dda437c3d55ee6ef6a43548484facde02\n",
       "      │  └─ 🔢 _csv_file_\n",
       "      │     ├─ 🏷️ commit_id\n",
       "      │     ├─ 🏷️ file_name\n",
       "      │     └─ 🏷️ file_type\n",
       "      ├─ 📂 26ec3695fabb1aca90467c4c04c3869daafb6d34\n",
       "      │  └─ 🔢 _csv_column_\n",
       "      │     ├─ 🏷️ column_name\n",
       "      │     ├─ 🏷️ column_type\n",
       "      │     ├─ 🏷️ commit_id\n",
       "      │     └─ 🏷️ file_sha1\n",
       "      ├─ 📂 2942161ecf436f17202744716925a14562538da4\n",
       "      │  └─ 🔢 _csv_file_\n",
       "      │     ├─ 🏷️ commit_id\n",
       "      │     ├─ 🏷️ file_name\n",
       "      │     └─ 🏷️ file_type\n",
       "      ├─ 📂 34f1d6e161d613918860af5788effbf9c4354d8d\n",
       "      │  └─ 🔢 _csv_column_\n",
       "      │     ├─ 🏷️ column_name\n",
       "      │     ├─ 🏷️ column_type\n",
       "      │     ├─ 🏷️ commit_id\n",
       "      │     └─ 🏷️ file_sha1\n",
       "      ├─ 📂 3da13fcace26bf7993425973090823e88c394be2\n",
       "      │  └─ 🔢 _csv_file_\n",
       "      │     ├─ 🏷️ commit_id\n",
       "      │     ├─ 🏷️ file_name\n",
       "      │     └─ 🏷️ file_type\n",
       "      ├─ 📂 431428e61541895457ab3d8d2e78ffbcd26248c0\n",
       "      │  └─ 🔢 _csv_column_\n",
       "      │     ├─ 🏷️ column_name\n",
       "      │     ├─ 🏷️ column_type\n",
       "      │     ├─ 🏷️ commit_id\n",
       "      │     └─ 🏷️ file_sha1\n",
       "      ├─ 📂 4b27d9f46b96aac59fa092b7900c7088bfb29daf\n",
       "      │  └─ 🔢 _csv_file_\n",
       "      │     ├─ 🏷️ commit_id\n",
       "      │     ├─ 🏷️ file_name\n",
       "      │     └─ 🏷️ file_type\n",
       "      ├─ 📂 5b899453043e82bd496ad1d81fb8f719ac79207e\n",
       "      │  └─ 🔢 _csv_column_\n",
       "      │     ├─ 🏷️ column_name\n",
       "      │     ├─ 🏷️ column_type\n",
       "      │     ├─ 🏷️ commit_id\n",
       "      │     └─ 🏷️ file_sha1\n",
       "      ├─ 📂 5e7427de7d1f2566dd382106f209c48a67ed00f2\n",
       "      │  └─ 🔢 _csv_column_\n",
       "      │     ├─ 🏷️ column_name\n",
       "      │     ├─ 🏷️ column_type\n",
       "      │     ├─ 🏷️ commit_id\n",
       "      │     └─ 🏷️ file_sha1\n",
       "      ├─ 📂 601b1268539c8ff94eda6b555e6a1a3cd3a164c4\n",
       "      │  └─ 🔢 _csv_file_\n",
       "      │     ├─ 🏷️ commit_id\n",
       "      │     ├─ 🏷️ file_name\n",
       "      │     └─ 🏷️ file_type\n",
       "      ├─ 📂 62d9485b2a003dd4b4291f0ab8ad1ba441b16b90\n",
       "      │  └─ 🔢 _csv_file_\n",
       "      │     ├─ 🏷️ commit_id\n",
       "      │     ├─ 🏷️ file_name\n",
       "      │     └─ 🏷️ file_type\n",
       "      ├─ 📂 668d871e8b13df7e378375c676168703761fedd3\n",
       "      │  └─ 🔢 _csv_column_\n",
       "      │     ├─ 🏷️ column_name\n",
       "      │     ├─ 🏷️ column_type\n",
       "      │     ├─ 🏷️ commit_id\n",
       "      │     └─ 🏷️ file_sha1\n",
       "      └─ (24 more children)"
      ]
     },
     "metadata": {},
     "output_type": "display_data"
    }
   ],
   "source": [
    "using HDF5\n",
    "arch = h5open(\"lisa_arch.hdf5\")"
   ]
  },
  {
   "cell_type": "code",
   "execution_count": null,
   "metadata": {},
   "outputs": [],
   "source": [
    "close(arch)"
   ]
  },
  {
   "cell_type": "code",
   "execution_count": 17,
   "metadata": {},
   "outputs": [
    {
     "name": "stdout",
     "output_type": "stream",
     "text": [
      "Dict{Any, Any}("
     ]
    },
    {
     "name": "stdout",
     "output_type": "stream",
     "text": [
      "\"f7ce156d7df7dbd486cd888c0bd49f4b8bec106d\" => \"{\\\"source\\\":\\\"/home/alexmy/JULIA/DEMO/raw/eu/data.gov.uk/uk_companies-p1-2.csv\\\",\\\"target\\\":\\\"SICCode.SicText_1\\\",\\\"source_label\\\":\\\"csv_file\\\",\\\"target_label\\\":\\\"csv_column\\\",\\\"commit_id\\\":\\\"759fba97-e4e6-48e9-86ab-aa023693a0b1\\\"}\", \"5b899453043e82bd496ad1d81fb8f719ac79207e\" => \"{\\\"source\\\":\\\"/home/alexmy/JULIA/DEMO/raw/eu/data.gov.uk/uk_companies-p1-2.csv\\\",\\\"target\\\":\\\"RegAddress.AddressLine1\\\",\\\"source_label\\\":\\\"csv_file\\\",\\\"target_label\\\":\\\"csv_column\\\",\\\"commit_id\\\":\\\"759fba97-e4e6-48e9-86ab-aa023693a0b1\\\"}\", \"5e7427de7d1f2566dd382106f209c48a67ed00f2\" => \"{\\\"source\\\":\\\"/home/alexmy/JULIA/DEMO/raw/eu/uk_vehicle_casualties/R1o_london-rtc-since2010-lsoa-msoa-ward.csv\\\",\\\"target\\\":\\\"Vehicle type\\\",\\\"source_label\\\":\\\"csv_file\\\",\\\"target_label\\\":\\\"csv_column\\\",\\\"commit_id\\\":\\\"759fba97-e4e6-48e9-86ab-aa023693a0b1\\\"}\", \"c6f372e6a8d1146208e03c527aef0af997c678f7\" => \"{\\\"source\\\":\\\"/home/alexmy/JULIA/DEMO/raw/eu/Italy_traffic_weather/TrFl/SmCtS2_TrFl_Str002_lastMonth.csv\\\",\\\"target\\\":\\\"Description\\\",\\\"source_label\\\":\\\"csv_file\\\",\\\"target_label\\\":\\\"csv_column\\\",\\\"commit_id\\\":\\\"759fba97-e4e6-48e9-86ab-aa023693a0b1\\\"}\", \"431428e61541895457ab3d8d2e78ffbcd26248c0\" => \"{\\\"source\\\":\\\"/home/alexmy/JULIA/DEMO/raw/eu/data.gov.uk/uk_companies-p2-2.csv\\\",\\\"target\\\":\\\"CompanyName\\\",\\\"source_label\\\":\\\"csv_file\\\",\\\"target_label\\\":\\\"csv_column\\\",\\\"commit_id\\\":\\\"759fba97-e4e6-48e9-86ab-aa023693a0b1\\\"}\", \"02b4e972ea698768322c30eff0fab5a64afda302\" => \"{\\\"source\\\":\\\"/home/alexmy/JULIA/DEMO/raw/eu/data.gov.uk/uk_companies-p5-2.csv\\\",\\\"target\\\":\\\"RegAddress.AddressLine1\\\",\\\"source_label\\\":\\\"csv_file\\\",\\\"target_label\\\":\\\"csv_column\\\",\\\"commit_id\\\":\\\"759fba97-e4e6-48e9-86ab-aa023693a0b1\\\"}\", \"88568fd93f5b196bc5495ff637fcb4ef1dd52a81\" => \"{\\\"source\\\":\\\"/home/alexmy/JULIA/DEMO/raw/eu/uk_vehicle_casualties/Isc_london-ksi-only-since2010.csv\\\",\\\"target\\\":\\\"Vehicle type\\\",\\\"source_label\\\":\\\"csv_file\\\",\\\"target_label\\\":\\\"csv_column\\\",\\\"commit_id\\\":\\\"759fba97-e4e6-48e9-86ab-aa023693a0b1\\\"}\", \"_csv_file_\" => "
     ]
    },
    {
     "name": "stdout",
     "output_type": "stream",
     "text": [
      "[0, 0, 0, 0, 0, 0, 0, 0, 0, 0, 0, 0, 0, 0, 0, 0, 0, 0, 0, 0, 0, 0, 0, 0, 0, 0, 0, 0, 0, 0, 0, 0, 0, 0, 0, 0, 0, 0, 0, 0, 0, 0, 0, 0, 0, 0, 0, 0, 0, 0, 0, 0, 0, 0, 0, 0, 0, 0, 0, 0, 0, 0, 0, 0, 0, 0, 0, 0, 4611686018427387904, 0, 0, 0, 0, 0, 0, 0, 0, 0, 0, 0, 0, 0, 0, 0, 0, 0, 0, 0, 0, 0, 0, 0, 0, 0, 0, 0, 0, 0, 0, 0, 0, 0, 0, 0, 0, 0, 0, 0, 0, 0, 0, 0, 0, 0, 0, 0, 0, 0, 0, 0, 0, 0, 0, 0, 0, 0, 0, 0, 0, 0, 0, 0, 0, 0, 0, 0, 0, 0, 0, 0, 0, 0, 0, 0, 0, 0, 0, 0, 0, 0, 0, 0, 0, 0, 0, 0, 0, 0, 0, 0, 0, 0, 0, 0, 0, 0, 0, 0, 0, 0, 0, 0, 0, 0, 0, 0, 0, 0, 0, 0, 0, 0, 0, 0, 0, 0, 0, 0, 0, 0, 0, 0, 0, 0, 0, 0, 0, 0, 0, 0, 0, 0, 0, 0, 0, 0, 0, 0, 0, 0, 0, 0, 0, 0, 0, 0, 0, 0, 0, 0, 0, 0, 0, 0, 0, 0, 0, 0, 0, 0, 0, 0, 0, 0, 0, 0, 0, 0, 0, 0, 0, 0, 0, 0, 0, 0, 0, 4611686018427387904, 0, 0, 0, 0, 0, 0, 0, 0, 0, 0, 0, 0, 0, 0, 0, 0, 0, 0, 0, 0, 0, 0, 0, 0, 0, 2305843009213693952, 0, 0, 0, 0, 0, 0, 0, 0, 0, 0, 0, 0, 0, 0, 0, 0, 0, 0, 0, 0, 0, 0, 0, 0, 0, 0, 0, 0, 0, 0, 0, 0, 0, 0, 0, 0, 0, 0, 0, 0, 0, 0, 0, 0, 0, 0, 0, 0, 0, 0, 0, 0, 0, 0, 0, 0, 0, 0, 0, 0, 0, 0, 0, 0, 0, 0, 0, 0, 0, 0, 0, 0, 0, 0, 0, 0, 0, 0, 0, 0, 0, 0, 0, 0, 0, 0, 0, 0, 0, 0, 0, 0, 0, 0, 0, 0, 0, 0, 0, 0, 0, 0, 0, 0, 0, 0, 0, 0, 0, 0, 0, 0, 0, 0, 0, 0, 0, 0, 0, 0, 0, 0, 0, 0, 0, 0, 0, 0, 0, 0, 0, 0, 0, 0, 0, 0, 0, 0, 0, 0, 0, 0, 0, 0, 0, 0, 0, 0, 0, 0, 0, 0, 0, 0, 0, 0, 0, 0, 0, 0, 0, 0, 0, 0, 0, 0, 0, 0, 0, 0, 0, 0, 0, 0, 0, 0, 0, 0, 0, 0, 0, 0, 0, 0, 0, 0, 0, 0, 0, 0, 0, 0, 0, 0, 0, 0, 0, 0, 0, 0, 0, 0, 0, 0, 0, 0, 0, 0, 0, 0, 0, 0, 0, 0, 0, 0, 0, 0, 0, 0, 0, 0, 0, 0, 0, 0, 0, 0, 0, 0, 0, 0, 0, 0, 0, 0, 0, 0, 0, 0, 0, 0, 0, 0, 0, 0, 0, 0, 0, 0, 0, 0, 0, 0, 0, 0, 0, 0, 0, 0, 0, 0, 0, 0, 0, 0, 0, 0, 0, 0, 0, 0, 0, 0, 0, 0, 0, 0, 0, 0, 0, 0, 0, 0, 0, 0, 0, 0, 0, 0, 0, 0, 0, 0, 0, 0, 0, 0, 0, 0, 0, 0, 0, 0, 0, 0, 0, 0, 0, 0, 0, 0, 0, 0, 0, 0, 0, 0, 0, 0, 0, 0, 0, 0, 0, 0, 0, 0, 0, 0, 0, 0, 0, 0, 288230376151711744, 0, 0, 0, 0, 0, 0, 0, 0, 0, 0, 0, 0, 0, 0, 0, 0, 0, 0, 0, 0, 0, 0, 0, 0, 0, 0, 0, 0, 0, 0, 0, 0, 0, 0, 0, 0, 0, 0, 0, 0, 2305843009213693952, 0, 0, 0, 0, 0, 0, 0, 0, 0, 0, 0, 0, 0, 0, 0, 0, 0, 0, 0, 0, 0, 0, 0, 0, 0, 0, 0, 0, 0, 0, 0, 0, 0, 0, 4611686018427387904, 0, 0, 0, 0, 0, 0, 0, 0, 0, 0, 0, 0, 0, 0, 0, 0, 0, 0, 0, 0, 0, 0, 0, 0, 0, 0, 0, 0, 0, 0, 0, 0, 0, 0, 0, 0, 0, 0, 0, 0, 0, 0, 0, 0, 0, 0, 0, 0, 0, 0, 0, 0, 0, 0, 0, 0, 0, 0, 0, 0, 0, 0, 0, 0, 0, 0, 0, 0, 0, 0, 0, 0, 0, 0, 0, 0, 0, 0, 0, 0, 0, 0, 0, 0, 0, 0, 0, 0, 0, 0, 0, 0, 0, 0, 0, 0, 0, 0, 0, 0, 0, 0, 0, 0, 0, 0, 0, 0, 0, 0, 0, 0, 0, 0, 0, 0, 0, 0, 0, 0, 0, 0, 0, 0, 0, 0, 0, 0, 0, 0, 0, 0, 0, 0, 0, 0, 0, 0, 0, 0, 0, 0, 0, 0, 0, 0, 0, 0, 0, 0, 0, 0, 0, 0, 0, 0, 0, 0, 0, 0, 0, 0, 0, 0, 0, 0, 0, 0, 0, 0, 0, 0, 0, 0, 0, 0, 0, 0, 0, 0, 0, 0, 0, 0, 0, 0, 0, 0, 0, 0, 0, 0, 0, 0, 0, 0, 0, 0, 0, 0, 0, 0, 0, 0, 0, 0, 0, 0, 0, 0, 0, 0, 0, 0, 0, 0, 0, 0, 0, 0, 0, 0, 0, 0, 0, 0, 0, 0, 0, 0, 0, 0, 0, 0, 0, 0, 0, 0, 0, 0, 0, 0, 0, 0, 0, 0, 0, 0, 0, 0, 0, 0, 0, 0, 0, 0, 0, 0, 0, 0, 0, 0, 0, 0, 0, 0, 0, 0, 0, 0, 0, 0, 0, 0, 0, 0, 0, 0, 0, 0, 0, 0, 0, 0, 0, 0, 0, 0, 0, 0, 0, 0, 0, 0, 0, 0, 0, 0, 0, 0, 0, 0, 0, 0, 0, 0, 0, 0, 0, 0, 0, 0, 0, 0, 0, 0, 0, 0, 0, 0, 0, 0, 0, 0, 0, 0, 0, 0, 0, 0, 0, 0, 0, 0, 0, 0, 0, 0, 0], \"862ba5281d601e98b314daa3c9d15da1fb843e88\" => \"{\\\"source\\\":\\\"/home/alexmy/JULIA/DEMO/raw/eu/Italy_traffic_weather/TrFl/SmCtCM_TrFl_Str003_lastMonth.csv\\\",\\\"target\\\":\\\"Description\\\",\\\"source_label\\\":\\\"csv_file\\\",\\\"target_label\\\":\\\"csv_column\\\",\\\"commit_id\\\":\\\"759fba97-e4e6-48e9-86ab-aa023693a0b1\\\"}\", \"e6f25ad5d838dc49f8bddac019f8f6c7bf1f00c7\" => \"{\\\"source\\\":\\\"/home/alexmy/JULIA/DEMO/raw/eu/uk_vehicle_casualties/R1o_london-rtc-since2010-lsoa-msoa-ward.csv\\\",\\\"target\\\":\\\"Pedestrian Locality\\\",\\\"source_label\\\":\\\"csv_file\\\",\\\"target_label\\\":\\\"csv_column\\\",\\\"commit_id\\\":\\\"759fba97-e4e6-48e9-86ab-aa023693a0b1\\\"}\", \"b6bf6c59d0a515e57f0f8fade5a1ba1a5e611b7e\" => \"{\\\"source\\\":\\\"/home/alexmy/JULIA/DEMO/raw/eu/Italy_traffic_weather/TrFl/SmCtCG_TrFl_Str000_lastMonth.csv\\\",\\\"target\\\":\\\"Description\\\",\\\"source_label\\\":\\\"csv_file\\\",\\\"target_label\\\":\\\"csv_column\\\",\\\"commit_id\\\":\\\"759fba97-e4e6-48e9-86ab-aa023693a0b1\\\"}\", \"c3157aee164669eba31fc4d4816fe43a34f34372\" => \"{\\\"source\\\":\\\"/home/alexmy/JULIA/DEMO/raw/eu/data.gov.uk/uk_companies-p5-2.csv\\\",\\\"target\\\":\\\"URI\\\",\\\"source_label\\\":\\\"csv_file\\\",\\\"target_label\\\":\\\"csv_column\\\",\\\"commit_id\\\":\\\"759fba97-e4e6-48e9-86ab-aa023693a0b1\\\"}\", \"7bb6a94745236688ae32e5f7013745148f9ffb98\" => \"{\\\"source\\\":\\\"/home/alexmy/JULIA/DEMO/raw/eu/data.gov.uk/uk_companies-p5-2.csv\\\",\\\"target\\\":\\\"SICCode.SicText_1\\\",\\\"source_label\\\":\\\"csv_file\\\",\\\"target_label\\\":\\\"csv_column\\\",\\\"commit_id\\\":\\\"759fba97-e4e6-48e9-86ab-aa023693a0b1\\\"}\", \"668d871e8b13df7e378375c676168703761fedd3\" => \"{\\\"source\\\":\\\"/home/alexmy/JULIA/DEMO/raw/eu/uk_vehicle_casualties/Isc_london-ksi-only-since2010.csv\\\",\\\"target\\\":\\\"Pedestrian Locality\\\",\\\"source_label\\\":\\\"csv_file\\\",\\\"target_label\\\":\\\"csv_column\\\",\\\"commit_id\\\":\\\"759fba97-e4e6-48e9-86ab-aa023693a0b1\\\"}\", \"71d778b5485103e21f8bc9a4cca0dd2ce1e62895\" => \"{\\\"source\\\":\\\"/home/alexmy/JULIA/DEMO/raw/eu/data.gov.uk/uk_companies-p2-2.csv\\\",\\\"target\\\":\\\"URI\\\",\\\"source_label\\\":\\\"csv_file\\\",\\\"target_label\\\":\\\"csv_column\\\",\\\"commit_id\\\":\\\"759fba97-e4e6-48e9-86ab-aa023693a0b1\\\"}\", \"1ba41353130e36a257fb962eb719d58c9c876814\" => \"{\\\"source\\\":\\\"/home/alexmy/JULIA/DEMO/raw/eu/data.gov.uk/uk_companies-p1-2.csv\\\",\\\"target\\\":\\\"URI\\\",\\\"source_label\\\":\\\"csv_file\\\",\\\"target_label\\\":\\\"csv_column\\\",\\\"commit_id\\\":\\\"759fba97-e4e6-48e9-86ab-aa023693a0b1\\\"}\", \"34f1d6e161d613918860af5788effbf9c4354d8d\" => \"{\\\"source\\\":\\\"/home/alexmy/JULIA/DEMO/raw/eu/data.gov.uk/uk_companies-p2-2.csv\\\",\\\"target\\\":\\\"SICCode.SicText_1\\\",\\\"source_label\\\":\\\"csv_file\\\",\\\"target_label\\\":\\\"csv_column\\\",\\\"commit_id\\\":\\\"759fba97-e4e6-48e9-86ab-aa023693a0b1\\\"}\", \"_csv_column_\" => [4611686018427387904, 1152921504606846976, 720575940379279360, 2305843009213693952, 0, 2594073385365405696, 0, 0, 0, 0, 0, 0, 6917529027641081856, 0, 0, 0, 4611686018427387904, 0, 0, 4611686018427387904, 0, 4611686018427387904, 288230376151711744, 0, 0, 0, 0, 1152921504606846976, 4611686018427387904, 1152921504606846976, 0, 6917529027641081856, 4611686018427387904, 2305843009213693952, 0, 4611686018427387904, 0, 0, 0, 0, 2305843009213693952, 5764607523034234880, 0, 4611686018427387904, 576460752303423488, 0, 0, 0, 0, 0, 4611686018427387904, 0, 1152921504606846976, 2305843009213693952, 0, 0, 4611686018427387904, 0, 0, 2305843009213693952, 0, 3458764513820540928, 0, 4611686018427387904, 2305843009213693952, 0, 0, 4611686018427387904, 1152921504606846976, 1152921504606846976, 0, 0, 0, 2305843009213693952, 0, 0, 4611686018427387904, 0, 0, 2323857407723175936, 4611686018427387904, 1152921504606846976, 0, 2305843009213693952, 0, 0, 4611686018427387904, 4611686018427387904, 576460752303423488, 2305843009213693952, 4611686018427387904, 1152921504606846976, 0, 4611686018427387904, 4611686018427387904, 0, 4611686018427387904, 4611686018427387904, 4611686018427387904, 0, 4611686018427387904, 0, 0, 4611686018427387904, 6917529027641081856, 8070450532247928832, 0, 6917529027641081856, 4899916394579099648, 0, 0, 4611686018427387904, 4611686018427387904, 576460752303423488, 4611686018427387904, 4611686018427387904, 2305843009213693952, 2305843009213693952, 4611686018427387904, 4611686018427387904, 4611686018427387904, 0, 0, 4611686018427387904, 4611686018427387904, 0, 4611686018427387904, 3458764513820540928, 0, 6917529027641081856, 0, 0, 0, 0, 0, 7205759403792793600, 0, 0, 72057594037927936, 1152921504606846976, 0, 0, 4611686018427387904, 576460752303423488, 4611686018427387904, 0, 0, 0, 6917529027641081856, 0, 0, 0, 4611686018427387904, 0, 0, 1152921504606846976, 2305843009213693952, 2305843009213693952, 0, 2305843009213693952, 4611686018427387904, 6917529027641081856, 4035225266123964416, 0, 576460752303423488, 6917529027641081856, 0, 6917529027641081856, 4611686018427387904, 576460752303423488, 0, 2305843009213693952, 4611686018427387904, 0, 0, 0, 8070450532247928832, 0, 0, 4611686018427387904, 0, 0, 0, 0, 1152921504606846976, 3026418949592973312, 0, 0, 2882303761517117440, 0, 0, 2305843009213693952, 0, 576460752303423488, 576460752303423488, 2305843009213693952, 0, 0, 0, 0, 4611686018427387904, 0, 1152921504606846976, 0, 2305843009213693952, 2305843009213693952, 0, 0, 4503599627370496, 2305843009213693952, 4611686018427387904, 4611686018427387904, 2305843009213693952, 0, 4611686018427387904, 4611686018427387904, 0, 4611686018427387904, 0, 0, 0, 0, 0, 0, 0, 0, 0, 4611686018427387904, 0, 0, 0, 5764607523034234880, 0, 0, 6917529027641081856, 0, 4611686018427387904, 0, 4935945191598063616, 0, 0, 0, 0, 0, 576460752303423488, 4611686018427387904, 2305843009213693952, 1152921504606846976, 4611686018427387904, 36028797018963968, 0, 0, 4611686018427387904, 0, 1152921504606846976, 4611686018427387904, 0, 18014398509481984, 0, 4611686018427387904, 0, 2305843009213693952, 4611686018427387904, 3458764513820540928, 864691128455135232, 4611686018427387904, 0, 0, 0, 0, 4611686018427387904, 0, 2305843009213693952, 6917529027641081856, 2341871806232657920, 4611686018427387904, 4755801206503243776, 0, 6917529027641081856, 0, 0, 1152921504606846976, 0, 4611686018427387904, 0, 0, 4611686018427387904, 0, 0, 1152921504606846976, 0, 2377900603251621888, 4611686018427387904, 0, 4611686018427387904, 2305843009213693952, 4611686018427387904, 4611686018427387904, 6917529027641081856, 1729382256910270464, 0, 0, 0, 0, 0, 4611686018427387904, 5764607523034234880, 2305843009213693952, 5764607523034234880, 2305843009213693952, 0, 4611686018427387904, 4611686018427387904, 4611686018427387904, 0, 4611686018427387904, 0, 1152921504606846976, 0, 2305843009213693952, 0, 0, 0, 0, 4611686018427387904, 5764607523034234880, 0, 0, 0, 6917529027641081856, 4611686018427387904, 3458764513820540928, 0, 0, 4611686018427387904, 0, 0, 5188146770730811392, 4611686018427387904, 1152921504606846976, 0, 2305843009213693952, 0, 2305843009213693952, 4611686018427387904, 4611686018427387904, 4611686018427387904, 4611686018427387904, 4611686018427387904, 4611686018427387904, 0, 4611686018427387904, 0, 0, 4611686018427387904, 0, 0, 0, 4611686018427387904, 1152921504606846976, 4611686018427387904, 4611686018427387904, 2305843009213693952, 0, 4611686018427387904"
     ]
    },
    {
     "name": "stdout",
     "output_type": "stream",
     "text": [
      ", 0, 0, 4611686018427387904, 6917529027641081856, 0, 0, 4611686018427387904, 5764607523034234880, 0, 6917529027641081856, 0, 0, 0, 4611686018427387904, 4611686018427387904, 4647714815446351872, 0, 0, 4611686018427387904, 4611686018427387904, 2305843009213693952, 4611686018427387904, 0, 3458764513820540928, 1152921504606846976, 1152921504606846976, 0, 2305843009213693952, 0, 0, 4611686018427387904, 288230376151711744, 1152921504606846976, 0, 0, 0, 4611686018427387904, 2305843009213693952, 0, 2305843009213693952, 0, 0, 4611686018427387904, 2305843009213693952, 0, 0, 4611686018427387904, 864691128455135232, 0, 2305843009213693952, 0, 0, 0, 0, 0, 576460752303423488, 0, 432345564227567616, 576460752303423488, 0, 4611686018427387904, 0, 0, 2305843009213693952, 0, 2305843009213693952, 0, 0, 0, 576460752303423488, 1152921504606846976, 2882303761517117440, 1152921504606846976, 2305843009213693952, 0, 6917529027641081856, 0, 2305843009213693952, 4611686018427387904, 2305843009213693952, 1152921504606846976, 0, 0, 0, 4611686018427387904, 0, 2305843009213693952, 5836665117072162816, 4611686018427387904, 4611686018427387904, 2882303761517117440, 4899916394579099648, 4611686018427387904, 0, 4611686018427387904, 0, 0, 0, 0, 4611686018427387904, 0, 0, 0, 0, 0, 1729382256910270464, 0, 0, 72057594037927936, 0, 4611686018427387904, 0, 0, 0, 288230376151711744, 6917529027641081856, 0, 0, 0, 0, 0, 0, 0, 288230376151711744, 4611686018427387904, 0, 0, 0, 4611686018427387904, 2305843009213693952, 0, 4611686018427387904, 0, 2882303761517117440, 4611686018427387904, 4611686018427387904, 0, 0, 4611686018427387904, 6917529027641081856, 0, 2305843009213693952, 0, 4611686018427387904, 0, 0, 1729382256910270464, 72057594037927936, 0, 0, 0, 4611686018427387904, 4611686018427387904, 0, 0, 4611686018427387904, 0, 0, 0, 0, 2305843009213693952, 0, 576460752303423488, 0, 4611686018427387904, 0, 0, 0, 0, 0, 0, 4899916394579099648, 0, 0, 4611686018427387904, 0, 0, 0, 0, 0, 4611686018427387904, 0, 4611686018427387904, 0, 0, 288230376151711744, 0, 0, 4611686018427387904, 0, 0, 4611686018427387904, 0, 0, 0, 0, 0, 0, 0, 0, 0, 0, 0, 0, 4611686018427387904, 0, 0, 4611686018427387904, 0, 0, 4611686018427387904, 4611686018427387904, 6917529027641081856, 0, 576460752303423488, 0, 4611686018427387904, 0, 0, 0, 4611686018427387904, 2305843009213693952, 0, 0, 0, 4611686018427387904, 0, 3458764513820540928, 4611686018427387904, 0, 576460752303423488, 1152921504606846976, 0, 0, 0, 0, 4611686018427387904, 2305843009213693952, 0, 0, 4611686018427387904, 2305843009213693952, 0, 0, 0, 0, 0, 0, 0, 0, 0, 0, 0, 0, 144115188075855872, 4611686018427387904, 4611686018427387904, 4611686018427387904, 0, 0, 0, 1152921504606846976, 2305843009213693952, 0, 4611686018427387904, 4611686018427387904, 4611686018427387904, 0, 2305843009213693952, 0, 0, 0, 576460752303423488, 0, 7493989779944505344, 0, 0, 1152921504606846976, 0, 0, 5188146770730811392, 0, 4611686018427387904, 0, 4611686018427387904, 0, 1152921504606846976, 0, 0, 2305843009213693952, 0, 6917529027641081856, 0, 0, 4611686018427387904, 2305843009213693952, 4611686018427387904, 4611686018427387904, 0, 4611686018427387904, 144115188075855872, 0, 576460752303423488, 0, 0, 4611686018427387904, 4611686018427387904, 0, 0, 0, 0, 0, 576460752303423488, 0, 1152921504606846976, 0, 2305843009213693952, 0, 0, 0, 18014398509481984, 6917529027641081856, 2305843009213693952, 0, 0, 0, 0, 0, 0, 0, 0, 2305843009213693952, 0, 0, 0, 0, 0, 4611686018427387904, 0, 0, 4611686018427387904, 2305843009213693952, 0, 4611686018427387904, 0, 4611686018427387904, 4611686018427387904, 2305843009213693952, 4611686018427387904, 288230376151711744, 0, 6917529027641081856, 576460752303423488, 4611686018427387904, 0, 5764607523034234880, 0, 0, 0, 576460752303423488, 4611686018427387904, 4611686018427387904, 0, 576460752303423488, 0, 0, 4611686018427387904, 0, 288230376151711744, 0, 0, 0, 0, 3458764513820540928, 4611686018427387904, 6917529027641081856, 0, 0, 8070450532247928832, 0, 6917529027641081856, 4611686018427387904, 1152921504606846976, 0, 4611686018427387904, 0, 0, 0, 4611686018427387904, 4611686018427387904, 0, 0, 576460752303423488, 4611686018427387904, 2305843009213693952, 0, 0, 4611686018427387904, 72057594037927936, 0, 0, 0, 4611686018427387904, 0, 4611686018427387904, 0, 0, 2305843009213693952, 0, 0, 0, 0, 0, 4611686018427387904, 0, 0, 4611686018427387904, 6917529027641081856, 576460752303423488, 0, 1152921504606846976, 72057594037927936, 0, 4611686018427387904, 4611686018427387904, 0, 0, 5764607523034234880, 0, 0, 0, 0, 0, 2449958197289549824, 2305843009213693952, 0, 3458764513820540928, 1152921504606846976, 36028797018963968, 0, 2305843009213693952, 5332261958806667264, 4611686018427387904, 4611686018427387904, 0, 0, 4611686018427387904, 0, 0, 0, 4611686018427387904, 0, 4611686018427387904, 0, 0, 0, 0, 1152921504606846976, 2305843009213693952, 0, 0, 1152921504606846976, 0, 4611686018427387904, 0, 4611686018427387904, 0, 0, 0, 1152921504606846976, 4616189618054758400, 0, 0, 4611686018427387904, 0, 6917529027641081856, 4611686018427387904, 0, 0, 0, 0, 1152921504606846976, 0, 5764607523034234880, 0, 4611686018427387904, 4683743612465315840, 4503599627370496, 2305843009213693952, 4611686018427387904, 6917529027641081856, 0, 1152921504606846976, 0, 576460752303423488, 2305843009213693952, 0, 0, 1152921504606846976, 0, 0, 0, 0, 0, 2305843009213693952, 0, 144115188075855872, 4611686018427387904, 0, 4611686018427387904, 0, 0, 4611686018427387904, 0, 4611686018427387904, 0, 1152921504606846976, 0, 0, 0, 4611686018427387904, 0, 2305843009213693952, 4611686018427387904, 2305843009213693952, 0, 0, 4611686018427387904, 2305843009213693952, 0, 4611686018427387904, 0, 0, 4611686018427387904, 1152921504606846976, 0, 1152921504606846976, 4611686018427387904, 1152921504606846976, 0, 0, 0, 4611686018427387904, 4611686018427387904, 0, 0, 4611686018427387904, 2305843009213693952, 1152921504606846976, 4611686018427387904, 6917529027641081856, 4611686018427387904, 6917529027641081856, 5188146770730811392, 0, 0, 0, 4611686018427387904, 0, 4611686018427387904, 5764607523034234880, 2305843009213693952, 2377900603251621888, 4611686018427387904, 576460752303423488, 0, 4611686018427387904, 0, 5764607523034234880, 0, 4611686018427387904, 0, 0, 0, 4611686018427387904, 2449958197289549824, 6917529027641081856, 0, 2305843009213693952, 0, 0, 4611686018427387904, 0, 6917529027641081856, 2305843009213693952, 0, 4611686018427387904, 0, 0, 2305843009213693952, 0, 0, 4611686018427387904, 5188146770730811392, 0, 4611686018427387904, 0, 2305843009213693952, 0, 4611686018427387904, 0, 4611686018427387904, 0, 0, 0, 0, 2305843009213693952, 576460752303423488, 0, 0, 0, 0, 1152921504606846976, 0, 2305843009213693952, 0, 0, 0, 4611686018427387904, 0, 0, 4611686018427387904, 0, 6917529027641081856, 0, 0, 0, 0, 0, 0, 0, 6917529027641081856, 0, 0, 0, 4611686018427387904, 1152921504606846976, 5764607523034234880, 4611686018427387904, 0, 0, 4611686018427387904, 0, 0, 0, 5188146770730811392, 2305843009213693952, 288230376151711744, 0, 0, 2305843009213693952, 4611686018427387904, 0, 0, 4611686018427387904, 0, 2305843009213693952, 0, 0], \"26ec3695fabb1aca90467c4c04c3869daafb6d34\" => \"{\\\"source\\\":\\\"/home/alexmy/JULIA/DEMO/raw/eu/Italy_traffic_weather/TrFl/SmCtS2_TrFl_Str002_lastMonth.csv\\\",\\\"target\\\":\\\"Name\\\",\\\"source_label\\\":\\\"csv_file\\\",\\\"target_label\\\":\\\"csv_column\\\",\\\"commit_id\\\":\\\"759fba97-e4e6-48e9-86ab-aa023693a0b1\\\"}\")\n"
     ]
    }
   ],
   "source": [
    "using HDF5\n",
    "\n",
    "file = h5open(\"lisa_arch.hdf5\", \"r\")\n",
    "data_out = Dict()\n",
    "Store.read_datasets(file, data_out, \"/759fba97-e4e6-48e9-86ab-aa023693a0b1/\")\n",
    "println(data_out)\n",
    "# Close the file\n",
    "close(file)"
   ]
  },
  {
   "cell_type": "code",
   "execution_count": null,
   "metadata": {},
   "outputs": [],
   "source": [
    "Graph.unset_lock!(db, :, :)"
   ]
  }
 ],
 "metadata": {
  "kernelspec": {
   "display_name": "Julia 1.9.2",
   "language": "julia",
   "name": "julia-1.9"
  },
  "language_info": {
   "file_extension": ".jl",
   "mimetype": "application/julia",
   "name": "julia",
   "version": "1.9.2"
  }
 },
 "nbformat": 4,
 "nbformat_minor": 2
}
