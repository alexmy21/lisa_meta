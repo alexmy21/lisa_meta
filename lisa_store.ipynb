{
 "cells": [
  {
   "cell_type": "code",
   "execution_count": 1,
   "metadata": {},
   "outputs": [],
   "source": [
    "include(\"src/lisa_store.jl\")\n",
    "\n",
    "using ..Store\n",
    "using SQLite\n",
    "using DBInterface\n",
    "using MurmurHash3\n",
    "using TextAnalysis\n",
    "using JSON3\n",
    "using PooledArrays\n",
    "using UUIDs\n",
    "using HDF5\n",
    "using EasyConfig\n",
    "\n",
    "db = Graph.DB(\"lisa.db\")\n",
    "hll = SetCore.HllSet{10}()\n",
    "\n",
    "# Create an empty HDF5 file. Run it only once, because it will overwrite the file\n",
    "h5open(\"lisa_arch.hdf5\", \"cw\") do f\n",
    "    # The file is now open, but it's empty\n",
    "end"
   ]
  },
  {
   "cell_type": "code",
   "execution_count": 2,
   "metadata": {},
   "outputs": [],
   "source": [
    "p = 10\n",
    "hll = SetCore.HllSet{p}()\n",
    "Store.book_file(db, \"/home/alexmy/JULIA/DEMO/sample/\")"
   ]
  },
  {
   "cell_type": "code",
   "execution_count": 3,
   "metadata": {},
   "outputs": [
    {
     "name": "stdout",
     "output_type": "stream",
     "text": [
      "Processed column: 2\n",
      "Processed column: 2\n"
     ]
    }
   ],
   "source": [
    "uuid = string(uuid4())\n",
    "df = Graph.set_lock!(db, \n",
    "    \"/home/alexmy/JULIA/DEMO/sample\", \n",
    "    \"csv\", \n",
    "    \"book_file\", \n",
    "    \"ingest_csv\", \n",
    "    \"waiting\", \n",
    "    \"waiting\", uuid; result=true)\n",
    "\n",
    "for row in eachrow(df)\n",
    "    assign = Graph.Assignment(row)\n",
    "    col_uuid = string(uuid4())\n",
    "    Store.ingest_csv_by_column(db, assign, col_uuid; limit=100, offset=10)\n",
    "end"
   ]
  },
  {
   "cell_type": "code",
   "execution_count": 4,
   "metadata": {},
   "outputs": [
    {
     "name": "stdout",
     "output_type": "stream",
     "text": [
      "save_edge error: HDF5.API.H5Error(\"Error creating group ///523c6e1b-5203-40ef-974a-e5d5457d8575/edges/0b90b1fee69c77ffa3efe57db7788112ef96dba6/has_column\", 1008806316530991107)\n",
      "save_edge error: HDF5.API.H5Error(\"Error creating group ///523c6e1b-5203-40ef-974a-e5d5457d8575/edges/6be12bee4edf7c96016907e44bb520be80dc9232/has_column\", 1008806316530991108)\n"
     ]
    }
   ],
   "source": [
    "Store.commit(db, \"lisa_arch.hdf5\", \"Alex Mylnikov\", \"alexmy@lisa-park.com\", \"commit 2\", Config())"
   ]
  },
  {
   "cell_type": "code",
   "execution_count": 5,
   "metadata": {},
   "outputs": [
    {
     "data": {
      "text/plain": [
       "🗂️ HDF5.File: (read-only) lisa_arch.hdf5\n",
       "├─ 📂 2da19026-e0ca-4729-86af-d183f5aec3ea\n",
       "│  ├─ 📂 edges\n",
       "│  │  ├─ 📂 0b90b1fee69c77ffa3efe57db7788112ef96dba6\n",
       "│  │  │  └─ 📂 has_column\n",
       "│  │  │     ├─ 🔢 1d29c5326d2292d8717e189a12ca4bd4cbac8b76\n",
       "│  │  │     │  └─ (5 children)\n",
       "│  │  │     ├─ 🔢 3f9526f8d331b9519b8632a11b2d344ab7c647b6\n",
       "│  │  │     │  └─ (5 children)\n",
       "│  │  │     ├─ 🔢 4b925186fe6753be2ed6908976e44e0f7630d40f\n",
       "│  │  │     │  └─ (5 children)\n",
       "│  │  │     ├─ 🔢 4ea0d4a979741fbb57dd4cc9a2c05913a6ee875d\n",
       "│  │  │     │  └─ (5 children)\n",
       "│  │  │     ├─ 🔢 5c6ad737758c030a92351e80c15650712fa06108\n",
       "│  │  │     │  └─ (5 children)\n",
       "│  │  │     ├─ 🔢 8e5610e809bad1efe796848a86ecb9e28e1709b9\n",
       "│  │  │     │  └─ (5 children)\n",
       "│  │  │     ├─ 🔢 d87927e475744f6280feca8fd040dd42d07dba4a\n",
       "│  │  │     │  └─ (5 children)\n",
       "│  │  │     └─ 🔢 de6012ead358304ae31a499f29d380878219a256\n",
       "│  │  │        └─ (5 children)\n",
       "│  │  └─ 📂 6be12bee4edf7c96016907e44bb520be80dc9232\n",
       "│  │     └─ 📂 has_column\n",
       "│  │        ├─ 🔢 0f73a283cd731d2f36ef6b029f24d28458b8fefc\n",
       "│  │        │  └─ (5 children)\n",
       "│  │        ├─ 🔢 2907d275ede98697de7f5a5bfa30a174dc05314c\n",
       "│  │        │  └─ (5 children)\n",
       "│  │        ├─ 🔢 34a7b3a7a81e0f1b7f357c6aad5fb1ed31df950c\n",
       "│  │        │  └─ (5 children)\n",
       "│  │        ├─ 🔢 4081c0ee7a492aa0ffd6494620761a9e760fa400\n",
       "│  │        │  └─ (5 children)\n",
       "│  │        ├─ 🔢 68095ecaf7005e07952f3029a21534c294b55742\n",
       "│  │        │  └─ (5 children)\n",
       "│  │        ├─ 🔢 795c87e41fe35fb6530d609cb6835daa0e5fbc1b\n",
       "│  │        │  └─ (5 children)\n",
       "│  │        ├─ 🔢 7e73ff0d64bb7ceff989c33c395348bc853be10f\n",
       "│  │        │  └─ (5 children)\n",
       "│  │        ├─ 🔢 93399d592fd2eb9e58516784954a6161e4feb27f\n",
       "│  │        │  └─ (5 children)\n",
       "│  │        ├─ 🔢 94de4cde86ec5fa49c6a07f5ce0825125844c329\n",
       "│  │        │  └─ (5 children)\n",
       "│  │        ├─ 🔢 98ff2ded92a7fa7aaef1a4434d7b5e9f08e82c5c\n",
       "│  │        │  └─ (5 children)\n",
       "│  │        └─ (5 more children)\n",
       "│  └─ 📂 nodes\n",
       "│     ├─ 📂 0b90b1fee69c77ffa3efe57db7788112ef96dba6\n",
       "│     │  └─ 🔢 [\"csv_file\"]\n",
       "│     │     ├─ 🏷️ commit_id\n",
       "│     │     ├─ 🏷️ file_name\n",
       "│     │     └─ 🏷️ file_type\n",
       "│     ├─ 📂 0f73a283cd731d2f36ef6b029f24d28458b8fefc\n",
       "│     │  └─ 🔢 [\"csv_column\"]\n",
       "│     │     ├─ 🏷️ column_name\n",
       "│     │     ├─ 🏷️ column_type\n",
       "│     │     ├─ 🏷️ commit_id\n",
       "│     │     └─ 🏷️ file_sha1\n",
       "│     ├─ 📂 1d29c5326d2292d8717e189a12ca4bd4cbac8b76\n",
       "│     │  └─ 🔢 [\"csv_column\"]\n",
       "│     │     ├─ 🏷️ column_name\n",
       "│     │     ├─ 🏷️ column_type\n",
       "│     │     ├─ 🏷️ commit_id\n",
       "│     │     └─ 🏷️ file_sha1\n",
       "│     ├─ 📂 2907d275ede98697de7f5a5bfa30a174dc05314c\n",
       "│     │  └─ 🔢 [\"csv_column\"]\n",
       "│     │     ├─ 🏷️ column_name\n",
       "│     │     ├─ 🏷️ column_type\n",
       "│     │     ├─ 🏷️ commit_id\n",
       "│     │     └─ 🏷️ file_sha1\n",
       "│     ├─ 📂 34a7b3a7a81e0f1b7f357c6aad5fb1ed31df950c\n",
       "│     │  └─ 🔢 [\"csv_column\"]\n",
       "│     │     ├─ 🏷️ column_name\n",
       "│     │     ├─ 🏷️ column_type\n",
       "│     │     ├─ 🏷️ commit_id\n",
       "│     │     └─ 🏷️ file_sha1\n",
       "│     ├─ 📂 3f9526f8d331b9519b8632a11b2d344ab7c647b6\n",
       "│     │  └─ 🔢 [\"csv_column\"]\n",
       "│     │     ├─ 🏷️ column_name\n",
       "│     │     ├─ 🏷️ column_type\n",
       "│     │     ├─ 🏷️ commit_id\n",
       "│     │     └─ 🏷️ file_sha1\n",
       "│     ├─ 📂 4081c0ee7a492aa0ffd6494620761a9e760fa400\n",
       "│     │  └─ 🔢 [\"csv_column\"]\n",
       "│     │     ├─ 🏷️ column_name\n",
       "│     │     ├─ 🏷️ column_type\n",
       "│     │     ├─ 🏷️ commit_id\n",
       "│     │     └─ 🏷️ file_sha1\n",
       "│     ├─ 📂 4b925186fe6753be2ed6908976e44e0f7630d40f\n",
       "│     │  └─ 🔢 [\"csv_column\"]\n",
       "│     │     ├─ 🏷️ column_name\n",
       "│     │     ├─ 🏷️ column_type\n",
       "│     │     ├─ 🏷️ commit_id\n",
       "│     │     └─ 🏷️ file_sha1\n",
       "│     ├─ 📂 4ea0d4a979741fbb57dd4cc9a2c05913a6ee875d\n",
       "│     │  └─ 🔢 [\"csv_column\"]\n",
       "│     │     ├─ 🏷️ column_name\n",
       "│     │     ├─ 🏷️ column_type\n",
       "│     │     ├─ 🏷️ commit_id\n",
       "│     │     └─ 🏷️ file_sha1\n",
       "│     ├─ 📂 5c6ad737758c030a92351e80c15650712fa06108\n",
       "│     │  └─ 🔢 [\"csv_column\"]\n",
       "│     │     ├─ 🏷️ column_name\n",
       "│     │     ├─ 🏷️ column_type\n",
       "│     │     ├─ 🏷️ commit_id\n",
       "│     │     └─ 🏷️ file_sha1\n",
       "│     ├─ 📂 68095ecaf7005e07952f3029a21534c294b55742\n",
       "│     │  └─ 🔢 [\"csv_column\"]\n",
       "│     │     ├─ 🏷️ column_name\n",
       "│     │     ├─ 🏷️ column_type\n",
       "│     │     ├─ 🏷️ commit_id\n",
       "│     │     └─ 🏷️ file_sha1\n",
       "│     ├─ 📂 6be12bee4edf7c96016907e44bb520be80dc9232\n",
       "│     │  └─ 🔢 [\"csv_file\"]\n",
       "│     │     ├─ 🏷️ commit_id\n",
       "│     │     ├─ 🏷️ file_name\n",
       "│     │     └─ 🏷️ file_type\n",
       "│     ├─ 📂 795c87e41fe35fb6530d609cb6835daa0e5fbc1b\n",
       "│     │  └─ 🔢 [\"csv_column\"]\n",
       "│     │     ├─ 🏷️ column_name\n",
       "│     │     ├─ 🏷️ column_type\n",
       "│     │     ├─ 🏷️ commit_id\n",
       "│     │     └─ 🏷️ file_sha1\n",
       "│     ├─ 📂 7e73ff0d64bb7ceff989c33c395348bc853be10f\n",
       "│     │  └─ 🔢 [\"csv_column\"]\n",
       "│     │     ├─ 🏷️ column_name\n",
       "│     │     ├─ 🏷️ column_type\n",
       "│     │     ├─ 🏷️ commit_id\n",
       "│     │     └─ 🏷️ file_sha1\n",
       "│     ├─ 📂 8e5610e809bad1efe796848a86ecb9e28e1709b9\n",
       "│     │  └─ 🔢 [\"csv_column\"]\n",
       "│     │     ├─ 🏷️ column_name\n",
       "│     │     ├─ 🏷️ column_type\n",
       "│     │     ├─ 🏷️ commit_id\n",
       "│     │     └─ 🏷️ file_sha1\n",
       "│     ├─ 📂 93399d592fd2eb9e58516784954a6161e4feb27f\n",
       "│     │  └─ 🔢 [\"csv_column\"]\n",
       "│     │     ├─ 🏷️ column_name\n",
       "│     │     ├─ 🏷️ column_type\n",
       "│     │     ├─ 🏷️ commit_id\n",
       "│     │     └─ 🏷️ file_sha1\n",
       "│     └─ (9 more children)\n",
       "└─ 📂 523c6e1b-5203-40ef-974a-e5d5457d8575\n",
       "   ├─ 📂 edges\n",
       "   │  ├─ 📂 0b90b1fee69c77ffa3efe57db7788112ef96dba6\n",
       "   │  │  └─ 📂 has_column\n",
       "   │  │     └─ 🔢 3f9526f8d331b9519b8632a11b2d344ab7c647b6\n",
       "   │  │        └─ (5 children)\n",
       "   │  └─ 📂 6be12bee4edf7c96016907e44bb520be80dc9232\n",
       "   │     └─ 📂 has_column\n",
       "   │        └─ 🔢 0f73a283cd731d2f36ef6b029f24d28458b8fefc\n",
       "   │           └─ (5 children)\n",
       "   └─ 📂 nodes\n",
       "      ├─ 📂 0f73a283cd731d2f36ef6b029f24d28458b8fefc\n",
       "      │  └─ 🔢 [\"csv_column\"]\n",
       "      │     ├─ 🏷️ column_name\n",
       "      │     ├─ 🏷️ column_type\n",
       "      │     ├─ 🏷️ commit_id\n",
       "      │     └─ 🏷️ file_sha1\n",
       "      ├─ 📂 6be12bee4edf7c96016907e44bb520be80dc9232\n",
       "      │  └─ 🔢 [\"csv_file\"]\n",
       "      │     ├─ 🏷️ commit_id\n",
       "      │     ├─ 🏷️ file_name\n",
       "      │     └─ 🏷️ file_type\n",
       "      └─ 📂 efb126fc68e008b16d03891d7f09ba6b367484bc\n",
       "         └─ 🔢 [\"csv_column\"]\n",
       "            ├─ 🏷️ column_name\n",
       "            ├─ 🏷️ column_type\n",
       "            ├─ 🏷️ commit_id\n",
       "            └─ 🏷️ file_sha1"
      ]
     },
     "execution_count": 5,
     "metadata": {},
     "output_type": "execute_result"
    }
   ],
   "source": [
    "hdf = h5open(\"lisa_arch.hdf5\", \"r\") "
   ]
  },
  {
   "cell_type": "code",
   "execution_count": 7,
   "metadata": {},
   "outputs": [],
   "source": [
    "# Close the file\n",
    "close(hdf)"
   ]
  },
  {
   "cell_type": "code",
   "execution_count": 8,
   "metadata": {},
   "outputs": [
    {
     "data": {
      "text/plain": [
       "Dict{String, Any} with 1 entry:\n",
       "  \"[\\\"csv_file\\\"]\" => [0, 0, 0, 0, 0, 0, 0, 0, 0, 0  …  0, 0, 0, 0, 0, 0, 0, 0,…"
      ]
     },
     "execution_count": 8,
     "metadata": {},
     "output_type": "execute_result"
    }
   ],
   "source": [
    "h5open(\"lisa_arch.hdf5\", \"r\") do h5f\n",
    "    read(h5f[\"/2da19026-e0ca-4729-86af-d183f5aec3ea/nodes/0b90b1fee69c77ffa3efe57db7788112ef96dba6\"])\n",
    "end"
   ]
  }
 ],
 "metadata": {
  "kernelspec": {
   "display_name": "Julia 1.10.3",
   "language": "julia",
   "name": "julia-1.10"
  },
  "language_info": {
   "file_extension": ".jl",
   "mimetype": "application/julia",
   "name": "julia",
   "version": "1.10.3"
  }
 },
 "nbformat": 4,
 "nbformat_minor": 2
}
