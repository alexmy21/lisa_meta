{
 "cells": [
  {
   "cell_type": "code",
   "execution_count": 1,
   "metadata": {},
   "outputs": [],
   "source": [
    "include(\"src/lisa_store.jl\")\n",
    "\n",
    "using ..Store\n",
    "using SQLite\n",
    "using DBInterface\n",
    "using MurmurHash3\n",
    "using TextAnalysis\n",
    "using JSON3\n",
    "using PooledArrays\n",
    "using UUIDs\n",
    "using HDF5\n",
    "using EasyConfig\n",
    "\n",
    "db = Graph.DB(\"lisa.db\")\n",
    "hll = SetCore.HllSet{10}()\n",
    "\n",
    "# Create an empty HDF5 file. Run it only once, because it will overwrite the file\n",
    "h5open(\"lisa_arch.hdf5\", \"cw\") do f\n",
    "    # The file is now open, but it's empty\n",
    "end"
   ]
  },
  {
   "cell_type": "code",
   "execution_count": 2,
   "metadata": {},
   "outputs": [],
   "source": [
    "p = 10\n",
    "hll = SetCore.HllSet{p}()\n",
    "Store.book_file(db, \"/home/alexmy/JULIA/DEMO/sample/\")"
   ]
  },
  {
   "cell_type": "code",
   "execution_count": 3,
   "metadata": {},
   "outputs": [
    {
     "name": "stdout",
     "output_type": "stream",
     "text": [
      "edge: Edge(0b90b1fee69c77ffa3efe57db7788112ef96dba6, 4afe2a681d14669b1148f259f7325220bab8ab2d, \"has_column\"; source=\"/home/alexmy/JULIA/DEMO/sample/Isc_london-ksi-only-since2010.csv\", target=\"Severity of casualty\", source_label=\"csv_file\", target_label=\"csv_column\")\n",
      "edge: Edge(0b90b1fee69c77ffa3efe57db7788112ef96dba6, 48d3028983aa5e6b7c3bedefeda686acacfb1257, \"has_column\"; source=\"/home/alexmy/JULIA/DEMO/sample/Isc_london-ksi-only-since2010.csv\", target=\"Casualty Class\", source_label=\"csv_file\", target_label=\"csv_column\")\n",
      "edge: Edge(0b90b1fee69c77ffa3efe57db7788112ef96dba6, 593c66c6d82d797a818caee475cd32abe120db76, \"has_column\"; source=\"/home/alexmy/JULIA/DEMO/sample/Isc_london-ksi-only-since2010.csv\", target=\"Sex\", source_label=\"csv_file\", target_label=\"csv_column\")\n",
      "edge: Edge(0b90b1fee69c77ffa3efe57db7788112ef96dba6, 5b3f4a68cdaf988b8f353b916ff9cfc9c95466f3, \"has_column\"; source=\"/home/alexmy/JULIA/DEMO/sample/Isc_london-ksi-only-since2010.csv\", target=\"Date\", source_label=\"csv_file\", target_label=\"csv_column\")\n",
      "edge: Edge(0b90b1fee69c77ffa3efe57db7788112ef96dba6, 8ee8a041ff42b775ac295f7e4c25860cbda7c00e, \"has_column\"; source=\"/home/alexmy/JULIA/DEMO/sample/Isc_london-ksi-only-since2010.csv\", target=\"Day of week\", source_label=\"csv_file\", target_label=\"csv_column\")\n",
      "edge: Edge(0b90b1fee69c77ffa3efe57db7788112ef96dba6, edad78a039f8c0975bfda5942d79e4aa35be1ccd, \"has_column\"; source=\"/home/alexmy/JULIA/DEMO/sample/Isc_london-ksi-only-since2010.csv\", target=\"Local authority\", source_label=\"csv_file\", target_label=\"csv_column\")\n",
      "edge: Edge(0b90b1fee69c77ffa3efe57db7788112ef96dba6, 3f9526f8d331b9519b8632a11b2d344ab7c647b6, \"has_column\"; source=\"/home/alexmy/JULIA/DEMO/sample/Isc_london-ksi-only-since2010.csv\", target=\"Vehicle type\", source_label=\"csv_file\", target_label=\"csv_column\")\n",
      "edge: Edge(0b90b1fee69c77ffa3efe57db7788112ef96dba6, 8e5610e809bad1efe796848a86ecb9e28e1709b9, \"has_column\"; source=\"/home/alexmy/JULIA/DEMO/sample/Isc_london-ksi-only-since2010.csv\", target=\"Pedestrian Locality\", source_label=\"csv_file\", target_label=\"csv_column\")\n",
      "Processed column: 8\n",
      "edge: Edge(6be12bee4edf7c96016907e44bb520be80dc9232, 08d00fa7fb80c1af0f00777d3805b4f18f5a9281, \"has_column\"; source=\"/home/alexmy/JULIA/DEMO/sample/R1o_london-rtc-since2010-lsoa-msoa-ward.csv\", target=\"Lower Super Output Area\", source_label=\"csv_file\", target_label=\"csv_column\")\n",
      "edge: Edge(6be12bee4edf7c96016907e44bb520be80dc9232, 18d9d853910a574572553ab24e49045b9c18b5f2, \"has_column\"; source=\"/home/alexmy/JULIA/DEMO/sample/R1o_london-rtc-since2010-lsoa-msoa-ward.csv\", target=\"MSOA11CD\", source_label=\"csv_file\", target_label=\"csv_column\")\n",
      "edge: Edge(6be12bee4edf7c96016907e44bb520be80dc9232, 7699d7cece21e1d66b8deaed5cac93e650367ee6, \"has_column\"; source=\"/home/alexmy/JULIA/DEMO/sample/R1o_london-rtc-since2010-lsoa-msoa-ward.csv\", target=\"Ward code\", source_label=\"csv_file\", target_label=\"csv_column\")\n",
      "edge: Edge(6be12bee4edf7c96016907e44bb520be80dc9232, 97ef61255a8f973052aa48a8db3d4ad57b357966, \"has_column\"; source=\"/home/alexmy/JULIA/DEMO/sample/R1o_london-rtc-since2010-lsoa-msoa-ward.csv\", target=\"Local authority based on Easting/Northing\", source_label=\"csv_file\", target_label=\"csv_column\")\n",
      "edge: Edge(6be12bee4edf7c96016907e44bb520be80dc9232, 83844dc0da738f19adbb5976e272c117fdc0f24c, \"has_column\"; source=\"/home/alexmy/JULIA/DEMO/sample/R1o_london-rtc-since2010-lsoa-msoa-ward.csv\", target=\"Ref\", source_label=\"csv_file\", target_label=\"csv_column\")\n",
      "edge: Edge(6be12bee4edf7c96016907e44bb520be80dc9232, 955d453e0d2df23ac7fb39749079d3c4cff7dad0, \"has_column\"; source=\"/home/alexmy/JULIA/DEMO/sample/R1o_london-rtc-since2010-lsoa-msoa-ward.csv\", target=\"Severity of casualty\", source_label=\"csv_file\", target_label=\"csv_column\")\n",
      "edge: Edge(6be12bee4edf7c96016907e44bb520be80dc9232, 350435b1d320f70f559162149ef1509f4485df47, \"has_column\"; source=\"/home/alexmy/JULIA/DEMO/sample/R1o_london-rtc-since2010-lsoa-msoa-ward.csv\", target=\"Casualty Class\", source_label=\"csv_file\", target_label=\"csv_column\")\n",
      "edge: Edge(6be12bee4edf7c96016907e44bb520be80dc9232, abe1c6f48f6122e051e90390122b74ba87523bf4, \"has_column\"; source=\"/home/alexmy/JULIA/DEMO/sample/R1o_london-rtc-since2010-lsoa-msoa-ward.csv\", target=\"Sex\", source_label=\"csv_file\", target_label=\"csv_column\")\n",
      "edge: Edge(6be12bee4edf7c96016907e44bb520be80dc9232, ffd22aed843e4e7ace8a7777bbb64d84aa128978, \"has_column\"; source=\"/home/alexmy/JULIA/DEMO/sample/R1o_london-rtc-since2010-lsoa-msoa-ward.csv\", target=\"Age\", source_label=\"csv_file\", target_label=\"csv_column\")\n",
      "edge: Edge(6be12bee4edf7c96016907e44bb520be80dc9232, 9313acc90e3c7c9756be08783d4495b18d81b1da, \"has_column\"; source=\"/home/alexmy/JULIA/DEMO/sample/R1o_london-rtc-since2010-lsoa-msoa-ward.csv\", target=\"Month\", source_label=\"csv_file\", target_label=\"csv_column\")\n",
      "edge: Edge(6be12bee4edf7c96016907e44bb520be80dc9232, ae6d29bbcd75fccd4a551926406d17b02cfd26d0, \"has_column\"; source=\"/home/alexmy/JULIA/DEMO/sample/R1o_london-rtc-since2010-lsoa-msoa-ward.csv\", target=\"Date\", source_label=\"csv_file\", target_label=\"csv_column\")\n",
      "edge: Edge(6be12bee4edf7c96016907e44bb520be80dc9232, 7b40c728e157dfb075ac740d480e2ed9ccbb301d, \"has_column\"; source=\"/home/alexmy/JULIA/DEMO/sample/R1o_london-rtc-since2010-lsoa-msoa-ward.csv\", target=\"Day of week\", source_label=\"csv_file\", target_label=\"csv_column\")\n",
      "edge: Edge(6be12bee4edf7c96016907e44bb520be80dc9232, d1041fe7c9d141940b2d1bfb6bfbe332ec4bd700, \"has_column\"; source=\"/home/alexmy/JULIA/DEMO/sample/R1o_london-rtc-since2010-lsoa-msoa-ward.csv\", target=\"Local authority\", source_label=\"csv_file\", target_label=\"csv_column\")\n",
      "edge: Edge(6be12bee4edf7c96016907e44bb520be80dc9232, 0f73a283cd731d2f36ef6b029f24d28458b8fefc, \"has_column\"; source=\"/home/alexmy/JULIA/DEMO/sample/R1o_london-rtc-since2010-lsoa-msoa-ward.csv\", target=\"Vehicle type\", source_label=\"csv_file\", target_label=\"csv_column\")\n",
      "edge: Edge(6be12bee4edf7c96016907e44bb520be80dc9232, efb126fc68e008b16d03891d7f09ba6b367484bc, \"has_column\"; source=\"/home/alexmy/JULIA/DEMO/sample/R1o_london-rtc-since2010-lsoa-msoa-ward.csv\", target=\"Pedestrian Locality\", source_label=\"csv_file\", target_label=\"csv_column\")\n",
      "Processed column: 15\n"
     ]
    }
   ],
   "source": [
    "uuid = string(uuid4())\n",
    "df = Graph.set_lock!(db, \n",
    "    \"/home/alexmy/JULIA/DEMO/sample\", \n",
    "    \"csv\", \n",
    "    \"book_file\", \n",
    "    \"ingest_csv\", \n",
    "    \"waiting\", \n",
    "    \"waiting\", uuid; result=true)\n",
    "\n",
    "for row in eachrow(df)\n",
    "    assign = Graph.Assignment(row)\n",
    "    col_uuid = string(uuid4())\n",
    "    Store.ingest_csv_by_column(db, assign, col_uuid; limit=100, offset=10)\n",
    "end"
   ]
  },
  {
   "cell_type": "code",
   "execution_count": 4,
   "metadata": {},
   "outputs": [
    {
     "name": "stdout",
     "output_type": "stream",
     "text": [
      "Removed Node: 0b90b1fee69c77ffa3efe57db7788112ef96dba6\n",
      "Removed Node: 4afe2a681d14669b1148f259f7325220bab8ab2d\n",
      "Removed Node: 48d3028983aa5e6b7c3bedefeda686acacfb1257\n",
      "Removed Node: 593c66c6d82d797a818caee475cd32abe120db76\n",
      "Removed Node: 5b3f4a68cdaf988b8f353b916ff9cfc9c95466f3\n",
      "Removed Node: 8ee8a041ff42b775ac295f7e4c25860cbda7c00e\n",
      "Removed Node: edad78a039f8c0975bfda5942d79e4aa35be1ccd\n",
      "Removed Node: 3f9526f8d331b9519b8632a11b2d344ab7c647b6\n",
      "Removed Node: 8e5610e809bad1efe796848a86ecb9e28e1709b9\n",
      "Removed Node: 6be12bee4edf7c96016907e44bb520be80dc9232\n",
      "Removed Node: 08d00fa7fb80c1af0f00777d3805b4f18f5a9281\n",
      "Removed Node: 18d9d853910a574572553ab24e49045b9c18b5f2\n",
      "Removed Node: 7699d7cece21e1d66b8deaed5cac93e650367ee6\n",
      "Removed Node: 97ef61255a8f973052aa48a8db3d4ad57b357966\n",
      "Removed Node: 83844dc0da738f19adbb5976e272c117fdc0f24c\n",
      "Removed Node: 955d453e0d2df23ac7fb39749079d3c4cff7dad0\n",
      "Removed Node: 350435b1d320f70f559162149ef1509f4485df47\n",
      "Removed Node: abe1c6f48f6122e051e90390122b74ba87523bf4\n",
      "Removed Node: ffd22aed843e4e7ace8a7777bbb64d84aa128978\n",
      "Removed Node: 9313acc90e3c7c9756be08783d4495b18d81b1da\n",
      "Removed Node: ae6d29bbcd75fccd4a551926406d17b02cfd26d0\n",
      "Removed Node: 7b40c728e157dfb075ac740d480e2ed9ccbb301d\n",
      "Removed Node: d1041fe7c9d141940b2d1bfb6bfbe332ec4bd700\n",
      "Removed Node: 0f73a283cd731d2f36ef6b029f24d28458b8fefc\n",
      "Removed Node: efb126fc68e008b16d03891d7f09ba6b367484bc\n"
     ]
    }
   ],
   "source": [
    "Store.commit(db, \"lisa_arch.hdf5\", \"Alex Mylnikov\", \"alexmy@lisa-park.com\", \"commit 2\", Config())"
   ]
  },
  {
   "cell_type": "code",
   "execution_count": 5,
   "metadata": {},
   "outputs": [
    {
     "data": {
      "text/plain": [
       "🗂️ HDF5.File: (read-only) lisa_arch.hdf5"
      ]
     },
     "execution_count": 5,
     "metadata": {},
     "output_type": "execute_result"
    }
   ],
   "source": [
    "hdf = h5open(\"lisa_arch.hdf5\", \"r\") "
   ]
  },
  {
   "cell_type": "code",
   "execution_count": 6,
   "metadata": {},
   "outputs": [],
   "source": [
    "# Close the file\n",
    "close(hdf)"
   ]
  },
  {
   "cell_type": "code",
   "execution_count": 7,
   "metadata": {},
   "outputs": [
    {
     "name": "stdout",
     "output_type": "stream",
     "text": [
      "KeyError(\"/2da19026-e0ca-4729-86af-d183f5aec3ea/nodes/0b90b1fee69c77ffa3efe57db7788112ef96dba6\")\n"
     ]
    }
   ],
   "source": [
    "h5open(\"lisa_arch.hdf5\", \"r\") do h5f\n",
    "    try\n",
    "        read(h5f[\"/2da19026-e0ca-4729-86af-d183f5aec3ea/nodes/0b90b1fee69c77ffa3efe57db7788112ef96dba6\"])\n",
    "    catch e\n",
    "        println(e)\n",
    "    end\n",
    "end"
   ]
  }
 ],
 "metadata": {
  "kernelspec": {
   "display_name": "Julia 1.10.3",
   "language": "julia",
   "name": "julia-1.10"
  },
  "language_info": {
   "file_extension": ".jl",
   "mimetype": "application/julia",
   "name": "julia",
   "version": "1.10.3"
  }
 },
 "nbformat": 4,
 "nbformat_minor": 2
}
